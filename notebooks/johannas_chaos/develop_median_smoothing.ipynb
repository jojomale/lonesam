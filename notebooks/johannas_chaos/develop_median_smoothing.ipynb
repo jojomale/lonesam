{
 "cells": [
  {
   "cell_type": "code",
   "execution_count": null,
   "id": "81e4e390-7853-4afe-8a70-5afa4806f585",
   "metadata": {},
   "outputs": [],
   "source": []
  },
  {
   "cell_type": "code",
   "execution_count": null,
   "id": "71da86f7-de12-4938-991e-c540dc29d9c8",
   "metadata": {},
   "outputs": [],
   "source": [
    "from importlib import reload\n",
    "from pathlib import Path\n",
    "import os\n",
    "import numpy as np\n",
    "from scipy.signal import medfilt, medfilt2d, get_window\n",
    "from scipy.ndimage import median_filter\n",
    "\n",
    "from obspy.clients.filesystem.sds import Client as SDSClient\n",
    "from obspy.clients.fdsn import RoutingClient\n",
    "from obspy.core import UTCDateTime as UTC, read\n",
    "\n",
    "import matplotlib.pyplot as plt\n",
    "plt.style.use('tableau-colorblind10')\n",
    "\n",
    "from data_quality_control import sds_db, base, util, analysis\n",
    "from data_quality_control.analysis import Analyzer"
   ]
  },
  {
   "cell_type": "code",
   "execution_count": null,
   "id": "1be5b4f5-3651-4dad-b6f0-9e19958d101c",
   "metadata": {},
   "outputs": [],
   "source": [
    "# Only for display in documentation!\n",
    "from IPython.core.display import display, HTML "
   ]
  },
  {
   "cell_type": "code",
   "execution_count": null,
   "id": "f735e489-28ec-4712-82f6-50f1842e6bf9",
   "metadata": {},
   "outputs": [],
   "source": [
    "median_filter()"
   ]
  },
  {
   "cell_type": "code",
   "execution_count": null,
   "id": "e0c23d8f-ed68-4ab9-8566-738a67f0ce49",
   "metadata": {},
   "outputs": [],
   "source": [
    "medfilt2d()"
   ]
  },
  {
   "cell_type": "markdown",
   "id": "18dfde9e-db79-4177-a6a7-2cd57076406f",
   "metadata": {},
   "source": [
    "## Define parameters"
   ]
  },
  {
   "cell_type": "code",
   "execution_count": null,
   "id": "ac9fcad3-253f-4984-ad38-90257fd10894",
   "metadata": {},
   "outputs": [],
   "source": [
    "# NSLC\n",
    "nslc_code = \"GR.BFO..BHZ\"\n",
    "\n",
    "overlap = 60 #3600\n",
    "fmin, fmax = (4, 14)\n",
    "nperseg = 2048\n",
    "winlen_in_s = 3600\n",
    "proclen = 24*3600\n",
    "\n",
    "outdir = 'output'\n",
    "\n",
    "sds_root = os.path.abspath('../../sample_sds/')\n",
    "inventory_routing_type = \"eida-routing\""
   ]
  },
  {
   "cell_type": "code",
   "execution_count": null,
   "id": "25fea36a-070e-4ba2-b1b6-4dd11f0d7fc4",
   "metadata": {},
   "outputs": [],
   "source": [
    "startdate = UTC(\"2020-12-24\")\n",
    "enddate = UTC(\"2021-01-15\")"
   ]
  },
  {
   "cell_type": "code",
   "execution_count": null,
   "id": "ce60caad-f91e-4ac6-93df-681efe8a32e6",
   "metadata": {},
   "outputs": [],
   "source": [
    "P = base.BaseProcessedData().from_file(\"output/GR.BFO..BHZ_2020.hdf5\")"
   ]
  },
  {
   "cell_type": "code",
   "execution_count": null,
   "id": "58346d6f-9441-429a-9530-494078908015",
   "metadata": {},
   "outputs": [],
   "source": [
    "P"
   ]
  },
  {
   "cell_type": "markdown",
   "id": "884c9d53-2ee5-4d55-9574-f01ccf77d5cd",
   "metadata": {},
   "source": [
    "First, we initialize an Analyzer by setting the path to the \n",
    "HDF5-data (`outdir`), a station code and the `fileunit`, i.e.\n",
    "which name format the HDF5-files have, that we want to analyze.\n",
    "\n",
    "The initial object does not have any data yet."
   ]
  },
  {
   "cell_type": "code",
   "execution_count": null,
   "id": "80bba3dd-47ba-4fa6-8713-57f26e5fdc2a",
   "metadata": {},
   "outputs": [],
   "source": [
    "reload(analysis)\n",
    "reload(base)\n",
    "#reload(util)\n",
    "lyza = analysis.Analyzer(outdir, nslc_code,\n",
    "                            fileunit=\"year\")"
   ]
  },
  {
   "cell_type": "code",
   "execution_count": null,
   "id": "1aa8f15e-e940-475c-80ab-15215ad90015",
   "metadata": {},
   "outputs": [],
   "source": [
    "print(lyza)"
   ]
  },
  {
   "cell_type": "markdown",
   "id": "b054cbad-2951-4a9a-944d-3889ca1d86ba",
   "metadata": {},
   "source": [
    "We can inquire which files and time ranges are available for\n",
    "the given code, location and fileunit."
   ]
  },
  {
   "cell_type": "code",
   "execution_count": null,
   "id": "e3bcd298-e60c-4072-ba73-f0ae229511a8",
   "metadata": {},
   "outputs": [],
   "source": [
    "files = lyza.get_available_datafiles()\n",
    "print(files)"
   ]
  },
  {
   "cell_type": "code",
   "execution_count": null,
   "id": "35b76e3f-00cd-441c-a4e9-8393c299434a",
   "metadata": {},
   "outputs": [],
   "source": [
    "lyza.get_available_timerange()"
   ]
  },
  {
   "cell_type": "markdown",
   "id": "b815a350-a457-4bc2-beac-93426e97ec3e",
   "metadata": {},
   "source": [
    "## View data for time range\n",
    "\n",
    "In order to view the data, the amplitudes and spectra are treated differently.\n",
    "Amplitudes are loaded as they are in the HDF5-file. Thus, we obtain an array of\n",
    "shape `N_proclen x N_winlen`. The sample data covers 16 days and we used \n",
    "`proclen_seconds = 86400`, i.e. 1 day, so the first dimension is 16. \n",
    "The `winlen_seconds = 3600`, thus 24 windows per day which gives the second dimension\n",
    "of the amplitude array.\n",
    "\n",
    "For the spectra, there are two options:\n",
    "1. load all spectra within a specific time range\n",
    "2. load spectra for selected times given as list\n",
    "\n",
    "The spectra are stored in the HDF5-files as 3D arrays. The\n",
    "first two dimensions correspond to those of the amplitude\n",
    "array; the third dimension is the frequency axis.\n",
    "In contrast, the Analyzer flattens the first to dimensions,\n",
    "i.e. the resulting array is basically a spectrogram, thus\n",
    "a sequence of spectra over time.\n",
    "\n",
    "This allows to select spectra only for specific times.\n",
    "For example, one may want to select only those hours\n",
    "where the wind speed is in a specific range."
   ]
  },
  {
   "cell_type": "code",
   "execution_count": null,
   "id": "8c9ee4d4-0d77-4a39-a0da-9c3f88f32d12",
   "metadata": {},
   "outputs": [],
   "source": [
    "startdate = UTC(\"2020-12-25\")\n",
    "enddate = UTC(\"2021-01-15\")"
   ]
  },
  {
   "cell_type": "code",
   "execution_count": null,
   "id": "c3a3174b-9541-4ca3-99b5-bdd7db556566",
   "metadata": {},
   "outputs": [],
   "source": [
    "lyza.get_data(startdate, enddate)"
   ]
  },
  {
   "cell_type": "code",
   "execution_count": null,
   "id": "5d202c3a-2692-44f0-b9c5-e86544db6b00",
   "metadata": {},
   "outputs": [],
   "source": [
    "lyza"
   ]
  },
  {
   "cell_type": "code",
   "execution_count": null,
   "id": "ac008363-d48b-45b8-970a-594f890f3064",
   "metadata": {},
   "outputs": [],
   "source": [
    "reload(analysis)\n",
    "reload(base)\n",
    "#reload(util)\n",
    "lyza = analysis.Analyzer(outdir, nslc_code,\n",
    "                            fileunit=\"year\")\n",
    "\n",
    "lyza.get_data(startdate, enddate)"
   ]
  },
  {
   "cell_type": "code",
   "execution_count": null,
   "id": "3ee60669-570c-4cb1-9fdf-1e2a25a7ec77",
   "metadata": {},
   "outputs": [],
   "source": [
    "lyza.trim(UTC(\"2020-12-30\"), UTC(\"2021-01-06\"))"
   ]
  },
  {
   "cell_type": "code",
   "execution_count": null,
   "id": "ef5f4e93-954b-4b82-9b8a-69e1218fe65d",
   "metadata": {},
   "outputs": [],
   "source": [
    "lyza"
   ]
  },
  {
   "cell_type": "code",
   "execution_count": null,
   "id": "f404c617-4656-428b-99e4-fc11799fdcd9",
   "metadata": {},
   "outputs": [],
   "source": [
    "lyza.trim(startdate, enddate)"
   ]
  },
  {
   "cell_type": "code",
   "execution_count": null,
   "id": "94774f28-1d61-4bad-87bb-67e4a76c22aa",
   "metadata": {},
   "outputs": [],
   "source": [
    "lyza.plot_spectrogram();"
   ]
  },
  {
   "cell_type": "code",
   "execution_count": null,
   "id": "022b7a25-298e-404d-a8f3-1b55c3467d63",
   "metadata": {},
   "outputs": [],
   "source": [
    "lyza.trim(startdate, enddate, fill_value=np.nan)"
   ]
  },
  {
   "cell_type": "code",
   "execution_count": null,
   "id": "2bb7e703-04f2-4c62-8270-5d000a99bdda",
   "metadata": {},
   "outputs": [],
   "source": [
    "lyza.plot_spectrogram();"
   ]
  },
  {
   "cell_type": "code",
   "execution_count": null,
   "id": "aedfa8d7-8ef9-4564-a7e4-0d3d5b7e569f",
   "metadata": {},
   "outputs": [],
   "source": [
    "def get_overlapping_frames(x, inc, winlen_samples):\n",
    "    \n",
    "    nf = (x.size-winlen_samples) // inc +1\n",
    "    #print(nf)\n",
    "    \n",
    "    indf = inc * np.arange(nf)\n",
    "    #print(indf)\n",
    "    #print(np.expand_dims(indf, 1) + \n",
    "    #      np.expand_dims(np.arange(winlen_samples), 0))\n",
    "    f = x[np.expand_dims(indf, 1) + \n",
    "          np.expand_dims(np.arange(winlen_samples), 0)]\n",
    "\n",
    "    return f"
   ]
  },
  {
   "cell_type": "code",
   "execution_count": null,
   "id": "7548ecdb-dd19-4de2-a86c-af11323b142f",
   "metadata": {},
   "outputs": [],
   "source": [
    "psds = lyza.psds.copy()\n",
    "psds.shape"
   ]
  },
  {
   "cell_type": "code",
   "execution_count": null,
   "id": "c8f1a446-3572-4273-85b6-f0f77d08dc40",
   "metadata": {},
   "outputs": [],
   "source": [
    "x = psds[:24,0]\n",
    "x.shape"
   ]
  },
  {
   "cell_type": "code",
   "execution_count": null,
   "id": "0a97ff4b-afa2-435d-9868-2881be04ba18",
   "metadata": {},
   "outputs": [],
   "source": [
    "f = get_overlapping_frames(x, 2, 6)\n",
    "f.shape"
   ]
  },
  {
   "cell_type": "code",
   "execution_count": null,
   "id": "3e55b11d-77da-430d-af9a-ed696c8836ec",
   "metadata": {},
   "outputs": [],
   "source": [
    "smoothed = []\n",
    "for psd in psds.T:\n",
    "    #print(psd.shape)\n",
    "    f = get_overlapping_frames(psd, 3, 6)\n",
    "    x = np.nanmedian(f, axis=1)\n",
    "    smoothed.append(x)\n",
    "smoothed = np.array(smoothed).T"
   ]
  },
  {
   "cell_type": "code",
   "execution_count": null,
   "id": "cd016ea0-fdc1-4abb-82d9-b8e8d26baa72",
   "metadata": {},
   "outputs": [],
   "source": [
    "smoothed.shape"
   ]
  },
  {
   "cell_type": "code",
   "execution_count": null,
   "id": "84519d59-3b42-4339-90fa-5ca88a74ca4f",
   "metadata": {},
   "outputs": [],
   "source": [
    "inc = 3\n",
    "winlen = 6\n",
    "smoothed = np.array([np.nanmedian(get_overlapping_frames(x, inc, winlen),axis=1) for x in psds.T]).T\n",
    "\n",
    "smoothed.shape"
   ]
  },
  {
   "cell_type": "code",
   "execution_count": null,
   "id": "d9355747-75d8-48ab-8945-22ea61f75409",
   "metadata": {},
   "outputs": [],
   "source": [
    "plt.imshow(np.log10(smoothed.T), aspect=\"auto\")"
   ]
  },
  {
   "cell_type": "code",
   "execution_count": null,
   "id": "48acfb7e-b380-4338-9248-39efb9338b65",
   "metadata": {},
   "outputs": [],
   "source": [
    "plt.imshow(np.log10(psds.T), aspect=\"auto\")"
   ]
  },
  {
   "cell_type": "markdown",
   "id": "a6ab6e9f-3515-4ce6-b068-9543654a6ef1",
   "metadata": {},
   "source": [
    "class Interpolator():\n",
    "    def __init__(self, datadir, nslc_code, fileunit=\"year\"):\n",
    "        self.stationcode = nslc_code\n",
    "        \n",
    "        self.datadir = datadir\n",
    "        self.fileunit  = fileunit\n",
    "        self.iter_time = util.TIME_ITERATORS[self.fileunit]\n",
    "        \n",
    "        # Get fmtstr of data files\n",
    "        fmtstr_base, sep, fmtstr_time = util.FNAME_FMTS[self.fileunit].rpartition(\"_\")\n",
    "        self.fmtstr = (fmtstr_base.format(\n",
    "                        outdir=self.datadir, **self.nslc_as_dict()) + \n",
    "                        sep + fmtstr_time)\n",
    "        #self.logger = logging.getLogger(module_logger.name+\n",
    "        #                    '.'+\"Analyzer\")\n",
    "        #self.logger.setLevel(logging.DEBUG)\n",
    "     \n",
    "    def nslc_as_dict(self):\n",
    "        d = {k: v for k, v in zip([\"network\", \"station\", \"location\", \"channel\"], \n",
    "                                  self.stationcode.split(\".\"))}\n",
    "        return d\n",
    "        \n",
    "    def interpolate(self):\n",
    "        files =  [str(f) for f in \n",
    "                Path(self.datadir).glob(self.stationcode+\"_\"+util.FNAME_WILDCARD[self.fileunit]+\".hdf5\")]\n",
    "        files.sort()\n",
    "        \n",
    "        for f in files:\n",
    "            data = base.BaseProcessedData().from_file(f)\n",
    "            print(f)\n",
    "            print(data)\n",
    "            print()"
   ]
  },
  {
   "cell_type": "code",
   "execution_count": null,
   "id": "0fe54161-022a-41d3-8bbe-fcedf6f86db2",
   "metadata": {},
   "outputs": [],
   "source": [
    "reload(analysis)\n",
    "reload(base)\n",
    "reload(util)\n",
    "class Interpolator(analysis.Analyzer):\n",
    "    def __init__(self, datadir, nslc_code, fileunit=\"year\"):\n",
    "        super().__init__(datadir, nslc_code, fileunit)\n",
    "    \n",
    "    \n",
    "    def _get_SECONDS_PER_WINDOW(self, TSTA, TEND):\n",
    "        \"\"\"\n",
    "        Read first file in list to get window size in seconds.\n",
    "        \"\"\"\n",
    "        self.logger.debug(\"\\n\\nLooking for window size\")\n",
    "        for tsta, tend in self.iter_time(TSTA, TEND):\n",
    "            self.get_data(tsta, tend)\n",
    "            self.logger.debug(\"Time range to get window size: {} - {}\".format(tsta, tend))\n",
    "            self.logger.info(\"Expecting window size is {:g}s\".format(self.seconds_per_window))\n",
    "            self.SECONDS_PER_WINDOW = self.seconds_per_window\n",
    "            break\n",
    "        \n",
    "    #@property\n",
    "    def _set_check_SECONDS_PER_WINDOW(self):\n",
    "        if not hasattr(self, \"SECONDS_PER_WINDOW\"):\n",
    "            self.logger.info(\"Expecting window size = {:g}s\".format(\n",
    "                self.seconds_per_window))\n",
    "            self.SECONDS_PER_WINDOW = self.seconds_per_window\n",
    "        elif self.SECONDS_PER_WINDOW != self.seconds_per_window:\n",
    "            msg = \"Window size changed\"\n",
    "            self.logger.error(msg)\n",
    "            raise RuntimeError(msg)\n",
    "\n",
    "    def interpolate(self, win, inc=1):\n",
    "        TSTA, TEND = self.get_available_timerange()\n",
    "        \n",
    "        self._get_SECONDS_PER_WINDOW(TSTA, TEND)\n",
    "        \n",
    "        self.logger.debug(\"\\n\\nStarting interpolation\\n\")\n",
    "        for tsta, tend in self.iter_time(TSTA, TEND):\n",
    "            \n",
    "            tsta = tsta\n",
    "            tend = tend + 24*3600 + (win-inc)*self.SECONDS_PER_WINDOW \n",
    "            self.logger.info(\"Interpolating {} - {}\".format( tsta, tend))\n",
    "            self.get_data(tsta, tend)\n",
    "            self.trim(tsta, tend, fill_value=np.nan)\n",
    "            self._set_check_SECONDS_PER_WINDOW()\n",
    "            self.logger.debug(\"{} - {}\".format(self.startdate, self.enddate))\n",
    "            self.logger.debug(\"\\n\")\n",
    "            #self.fill_days()\n",
    "            \n",
    "            "
   ]
  },
  {
   "cell_type": "code",
   "execution_count": null,
   "id": "172bf956-6153-468e-b157-9defdf595e37",
   "metadata": {},
   "outputs": [],
   "source": [
    "reload(analysis)\n",
    "#reload(Analyzer)\n",
    "reload(base)\n",
    "polly = Interpolator(outdir, nslc_code )"
   ]
  },
  {
   "cell_type": "code",
   "execution_count": null,
   "id": "2a41d83d-1ec2-4eb8-b4e1-09af8a16935a",
   "metadata": {},
   "outputs": [],
   "source": [
    "polly.interpolate(6, 3)"
   ]
  },
  {
   "cell_type": "code",
   "execution_count": null,
   "id": "5e438379-4c10-4f3e-8ae5-749f47b80eeb",
   "metadata": {},
   "outputs": [],
   "source": [
    "polly"
   ]
  },
  {
   "cell_type": "code",
   "execution_count": null,
   "id": "41d65af9-c830-4c0d-816d-96b1cdd7687c",
   "metadata": {},
   "outputs": [],
   "source": [
    "polly.__dict__.keys()"
   ]
  },
  {
   "cell_type": "code",
   "execution_count": null,
   "id": "328f495e-62fa-4382-b40a-bef22798a3f5",
   "metadata": {},
   "outputs": [],
   "source": [
    "polly.SECONDS_PER_WINDOW"
   ]
  },
  {
   "cell_type": "code",
   "execution_count": null,
   "id": "bdbe4992-c750-49a3-9962-ace5a18a2a4d",
   "metadata": {},
   "outputs": [],
   "source": [
    "fm = np.nanmedian(f, axis=1)"
   ]
  },
  {
   "cell_type": "markdown",
   "id": "48bd5ce4-87c3-43fc-b111-b5bb35857d17",
   "metadata": {},
   "source": [
    "# Figuring out how my get_overlapping_frames() work"
   ]
  },
  {
   "cell_type": "code",
   "execution_count": null,
   "id": "276bd033-6dad-4194-870c-49e33238c242",
   "metadata": {},
   "outputs": [],
   "source": [
    "sdsclient = Client(sds_root)"
   ]
  },
  {
   "cell_type": "code",
   "execution_count": null,
   "id": "c3750e49-7d57-4041-9ffe-e7d57ce9a268",
   "metadata": {},
   "outputs": [],
   "source": [
    "endtime = startdate+24*3600\n",
    "st = sdsclient.get_waveforms(*nslc_code.split(\".\"), startdate, endtime)\n",
    "st = st.trim(startdate-60, endtime+60, pad=True, fill_value=0)\n",
    "tr = st[0]\n",
    "x = np.arange(1,24+1).repeat(72000)\n",
    "print(x.shape)\n",
    "print(tr.stats.npts)\n",
    "tr.data[60*20+1:-60*20] = x"
   ]
  },
  {
   "cell_type": "code",
   "execution_count": null,
   "id": "9853cb37-66a3-436c-a81f-ad949f7d2f07",
   "metadata": {},
   "outputs": [],
   "source": [
    "tr.data.size % 24 # 74400"
   ]
  },
  {
   "cell_type": "code",
   "execution_count": null,
   "id": "3504f7fb-38e0-4c48-9bd0-318e440acc44",
   "metadata": {},
   "outputs": [],
   "source": [
    "tr.plot(endtime=startdate+600);"
   ]
  },
  {
   "cell_type": "code",
   "execution_count": null,
   "id": "58b0532b-eb9e-4ef2-a4ab-2de9bd68807a",
   "metadata": {},
   "outputs": [],
   "source": [
    "procparams = base.ProcessingParameters()"
   ]
  },
  {
   "cell_type": "code",
   "execution_count": null,
   "id": "e0e1edc9-ee98-4c64-bf40-7dd610d2720b",
   "metadata": {},
   "outputs": [],
   "source": [
    "procparams"
   ]
  },
  {
   "cell_type": "code",
   "execution_count": null,
   "id": "1ba2f897-8fa1-4de6-848d-ef622b16629e",
   "metadata": {},
   "outputs": [],
   "source": [
    "nf = int(procparams.proclen_seconds/\n",
    "        procparams.winlen_seconds)"
   ]
  },
  {
   "cell_type": "code",
   "execution_count": null,
   "id": "9d8624d2-3e21-46c7-9e01-353e018148b4",
   "metadata": {},
   "outputs": [],
   "source": [
    "nf"
   ]
  },
  {
   "cell_type": "code",
   "execution_count": null,
   "id": "5d92dde0-2a30-4ccf-b8f3-5a68f30c349c",
   "metadata": {},
   "outputs": [],
   "source": [
    "f, taps = get_overlapping_tapered_frames(tr, startdate, 24, int(3600*20), 60*20)"
   ]
  },
  {
   "cell_type": "code",
   "execution_count": null,
   "id": "322a4984-3df6-4aa5-8d04-689185d5d5fb",
   "metadata": {},
   "outputs": [],
   "source": [
    "f.shape"
   ]
  },
  {
   "cell_type": "code",
   "execution_count": null,
   "id": "fe13f387-ef65-4122-a367-aaaffa9bf798",
   "metadata": {},
   "outputs": [],
   "source": [
    "plt.imshow(f, aspect=\"auto\")"
   ]
  },
  {
   "cell_type": "code",
   "execution_count": null,
   "id": "9c8ab170-0acb-48fe-b4d2-20d35f967dd5",
   "metadata": {},
   "outputs": [],
   "source": [
    "#plt.plot(f[10,60*20+1:-60*20])\n",
    "plt.plot(f[11,:])\n",
    "#plt.xlim(-1, 10)"
   ]
  },
  {
   "cell_type": "code",
   "execution_count": null,
   "id": "daff8e33-9ebe-49f9-9287-437d485c693d",
   "metadata": {},
   "outputs": [],
   "source": [
    "3600*20"
   ]
  },
  {
   "cell_type": "code",
   "execution_count": null,
   "id": "dd689220-50cd-4bb8-b1cd-d791c66a0914",
   "metadata": {},
   "outputs": [],
   "source": [
    "6*2*100*2"
   ]
  },
  {
   "cell_type": "code",
   "execution_count": null,
   "id": "368bfb56-ed8d-4652-904e-ca32068b81a0",
   "metadata": {},
   "outputs": [],
   "source": [
    "x = np.arange(24).repeat(74400)"
   ]
  },
  {
   "cell_type": "code",
   "execution_count": null,
   "id": "cde9a1e0-a4cd-47da-b68e-afc0c688ca50",
   "metadata": {},
   "outputs": [],
   "source": [
    "x"
   ]
  },
  {
   "cell_type": "code",
   "execution_count": null,
   "id": "d0ebd0cd-196c-48d8-8794-d140246bf6c4",
   "metadata": {},
   "outputs": [],
   "source": [
    "def get_overlapping_tapered_frames(tr, starttime, nf, winlen_samples,\n",
    "                           taper_samples):\n",
    "    sr = tr.stats.sampling_rate\n",
    "    \n",
    "    # Samples in window including tapers\n",
    "    nwin = int(winlen_samples + 2*taper_samples)\n",
    "    \n",
    "    # Total number of samples of trace to process\n",
    "    proclen_samples = int(nf * winlen_samples + 2*taper_samples)\n",
    "    \n",
    "    # Cut out the needed data\n",
    "    x = tr.slice(starttime-taper_samples/sr).data[:proclen_samples]\n",
    "    \n",
    "    # Ratio of tapers to total window size\n",
    "    a =  2*taper_samples / nwin\n",
    "    win = get_window(('tukey', a), nwin, fftbins=False)\n",
    "    \n",
    "    # From obspy.signal.enframe()\n",
    "    #nx = len(x)\n",
    "    #nwin = len(win)\n",
    "    if (len(win) == 1):\n",
    "        length = win\n",
    "    else:\n",
    "        length = nwin\n",
    "    #nf = int(np.fix((nx - length + winlen_samples) // winlen_samples))\n",
    "    # f = np.zeros((nf, length))\n",
    "    indf = winlen_samples * np.arange(nf)\n",
    "    f = x[np.expand_dims(indf, 1) + \n",
    "          np.expand_dims(np.arange(length), 0)]\n",
    "    print(indf)\n",
    "    print(length)\n",
    "    print(np.expand_dims(indf, 1) + \n",
    "          np.expand_dims(np.arange(length), 0))\n",
    "    #f = f * win\n",
    "    #f[np.any(np.isnan(f), axis=1),:] = np.nan\n",
    "    #no_win, _ = f.shape\n",
    "    return f, taper_samples"
   ]
  },
  {
   "cell_type": "code",
   "execution_count": null,
   "id": "9ac41da6-df63-49f4-9a7b-ac7ccce63301",
   "metadata": {},
   "outputs": [],
   "source": [
    "endtime = startdate+24*3600\n",
    "st = sdsclient.get_waveforms(*nslc_code.split(\".\"), startdate, endtime)\n",
    "#st = st.trim(startdate-60, endtime+60, pad=True, fill_value=0)\n",
    "tr = st[0]\n",
    "\n",
    "sr = 0.01\n",
    "x = np.arange(1,24+1).repeat(int(3600*sr))\n",
    "#x = np.insert()\n",
    "print(x.shape)\n",
    "print(x.size/24)\n",
    "\n",
    "tr.data = x\n",
    "tr.stats.sampling_rate = sr\n",
    "tr.stats.starttime = startdate\n",
    "tr = tr.trim(startdate-600, endtime+600, pad=True, fill_value=0)\n",
    "print(tr.stats.npts)"
   ]
  },
  {
   "cell_type": "code",
   "execution_count": null,
   "id": "d088103a-dae4-4b8d-acc3-db99eddba665",
   "metadata": {},
   "outputs": [],
   "source": [
    "tr.stats.starttime, tr.stats.endtime"
   ]
  },
  {
   "cell_type": "code",
   "execution_count": null,
   "id": "9a961e6f-d01d-4661-8ff0-ec3daef77d49",
   "metadata": {},
   "outputs": [],
   "source": [
    "tr.plot();"
   ]
  },
  {
   "cell_type": "code",
   "execution_count": null,
   "id": "f91d0a3e-88d4-4308-8eb1-733671d07956",
   "metadata": {},
   "outputs": [],
   "source": [
    "f, taps = get_overlapping_tapered_frames(tr, startdate, 24, int(3600*sr), 600*sr)"
   ]
  },
  {
   "cell_type": "code",
   "execution_count": null,
   "id": "a0484316-a883-4c2a-8267-3274a2db16b5",
   "metadata": {},
   "outputs": [],
   "source": [
    "f.shape"
   ]
  },
  {
   "cell_type": "code",
   "execution_count": null,
   "id": "54c25a00-d649-4114-be16-c1b2100e3d67",
   "metadata": {},
   "outputs": [],
   "source": [
    "plt.imshow(f, aspect=\"auto\")"
   ]
  },
  {
   "cell_type": "code",
   "execution_count": null,
   "id": "14c5e771-bbc0-4d15-8b6b-e6bb91706aef",
   "metadata": {},
   "outputs": [],
   "source": [
    "f[1,:]"
   ]
  },
  {
   "cell_type": "code",
   "execution_count": null,
   "id": "191d371d-7f96-4434-becd-d9bca22f3ae0",
   "metadata": {},
   "outputs": [],
   "source": [
    "f[0, 6:6+36]"
   ]
  },
  {
   "cell_type": "code",
   "execution_count": null,
   "id": "19d26baa-02ec-43f4-abdb-ce913a85a336",
   "metadata": {},
   "outputs": [],
   "source": []
  },
  {
   "cell_type": "code",
   "execution_count": null,
   "id": "df54ba0d-da7e-4977-b78b-e2c636c906b0",
   "metadata": {},
   "outputs": [],
   "source": [
    "x2 = np.append(x, np.zeros(10))"
   ]
  },
  {
   "cell_type": "code",
   "execution_count": null,
   "id": "d4032cf5-89d0-4744-bdff-6fa8513d19b9",
   "metadata": {},
   "outputs": [],
   "source": [
    "f1 = get_overlapping_frames(x2, 18, 36 )"
   ]
  },
  {
   "cell_type": "code",
   "execution_count": null,
   "id": "af1cf203-7aef-4f3f-8922-b9b1d968be07",
   "metadata": {},
   "outputs": [],
   "source": [
    "f1.shape"
   ]
  },
  {
   "cell_type": "code",
   "execution_count": null,
   "id": "82f11bc7-a68e-4fe9-a7e2-f505cf539567",
   "metadata": {},
   "outputs": [],
   "source": [
    "plt.imshow(f1, aspect=\"auto\")"
   ]
  },
  {
   "cell_type": "code",
   "execution_count": null,
   "id": "0a40ce61-1c9b-4a5b-ae89-d7dbda4887bd",
   "metadata": {},
   "outputs": [],
   "source": [
    "plt.plot(f1[-1,:])"
   ]
  },
  {
   "cell_type": "code",
   "execution_count": null,
   "id": "f324c83e-21fa-46d3-9c5c-08c51de7b6ab",
   "metadata": {},
   "outputs": [],
   "source": []
  },
  {
   "cell_type": "code",
   "execution_count": null,
   "id": "606656af-3141-4adb-af64-8693639a7bac",
   "metadata": {},
   "outputs": [],
   "source": [
    "UTC()-11*3600-24*60 + 3600"
   ]
  },
  {
   "cell_type": "code",
   "execution_count": null,
   "id": "1ba53879-86aa-4b4f-bae4-a89389302684",
   "metadata": {},
   "outputs": [],
   "source": [
    "UTC()"
   ]
  },
  {
   "cell_type": "code",
   "execution_count": null,
   "id": "26056a14-ff64-419b-8afe-099b6d38ca66",
   "metadata": {},
   "outputs": [],
   "source": []
  }
 ],
 "metadata": {
  "language_info": {
   "name": "python",
   "pygments_lexer": "ipython3"
  }
 },
 "nbformat": 4,
 "nbformat_minor": 5
}

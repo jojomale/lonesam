{
 "cells": [
  {
   "cell_type": "code",
   "execution_count": null,
   "id": "81e4e390-7853-4afe-8a70-5afa4806f585",
   "metadata": {},
   "outputs": [],
   "source": []
  },
  {
   "cell_type": "code",
   "execution_count": null,
   "id": "71da86f7-de12-4938-991e-c540dc29d9c8",
   "metadata": {},
   "outputs": [],
   "source": [
    "from importlib import reload\n",
    "from pathlib import Path\n",
    "import os\n",
    "import numpy as np\n",
    "from scipy.signal import medfilt, medfilt2d, get_window\n",
    "from scipy.ndimage import median_filter\n",
    "\n",
    "from obspy.clients.filesystem.sds import Client as SDSClient\n",
    "from obspy.clients.fdsn import RoutingClient\n",
    "from obspy.core import UTCDateTime as UTC, read\n",
    "\n",
    "import matplotlib.pyplot as plt\n",
    "plt.style.use('tableau-colorblind10')\n",
    "\n",
    "from data_quality_control import sds_db, base, util, analysis\n",
    "from data_quality_control.analysis import Analyzer"
   ]
  },
  {
   "cell_type": "code",
   "execution_count": null,
   "id": "1be5b4f5-3651-4dad-b6f0-9e19958d101c",
   "metadata": {},
   "outputs": [],
   "source": [
    "# Only for display in documentation!\n",
    "from IPython.core.display import display, HTML "
   ]
  },
  {
   "cell_type": "markdown",
   "id": "18dfde9e-db79-4177-a6a7-2cd57076406f",
   "metadata": {},
   "source": [
    "## Define parameters"
   ]
  },
  {
   "cell_type": "code",
   "execution_count": null,
   "id": "ac9fcad3-253f-4984-ad38-90257fd10894",
   "metadata": {},
   "outputs": [],
   "source": [
    "# NSLC\n",
    "nslc_code = \"GR.BFO..BHZ\"\n",
    "\n",
    "overlap = 60 #3600\n",
    "fmin, fmax = (4, 14)\n",
    "nperseg = 2048\n",
    "winlen_in_s = 3600\n",
    "proclen = 24*3600\n",
    "\n",
    "outdir = 'output'\n",
    "\n",
    "sds_root = os.path.abspath('../../sample_sds/')\n",
    "inventory_routing_type = \"eida-routing\""
   ]
  },
  {
   "cell_type": "markdown",
   "id": "75b1c124-81fa-43fd-b706-b49f0f14ea96",
   "metadata": {},
   "source": [
    "# Test trimming"
   ]
  },
  {
   "cell_type": "code",
   "execution_count": null,
   "id": "25fea36a-070e-4ba2-b1b6-4dd11f0d7fc4",
   "metadata": {},
   "outputs": [],
   "source": [
    "startdate = UTC(\"2020-12-24\")\n",
    "enddate = UTC(\"2021-01-15\")"
   ]
  },
  {
   "cell_type": "code",
   "execution_count": null,
   "id": "80bba3dd-47ba-4fa6-8713-57f26e5fdc2a",
   "metadata": {},
   "outputs": [],
   "source": [
    "reload(analysis)\n",
    "reload(base)\n",
    "#reload(util)\n",
    "lyza = analysis.Analyzer(outdir, nslc_code,\n",
    "                            fileunit=\"year\")"
   ]
  },
  {
   "cell_type": "code",
   "execution_count": null,
   "id": "1aa8f15e-e940-475c-80ab-15215ad90015",
   "metadata": {},
   "outputs": [],
   "source": [
    "print(lyza)"
   ]
  },
  {
   "cell_type": "markdown",
   "id": "b054cbad-2951-4a9a-944d-3889ca1d86ba",
   "metadata": {},
   "source": [
    "We can inquire which files and time ranges are available for\n",
    "the given code, location and fileunit."
   ]
  },
  {
   "cell_type": "code",
   "execution_count": null,
   "id": "e3bcd298-e60c-4072-ba73-f0ae229511a8",
   "metadata": {},
   "outputs": [],
   "source": [
    "files = lyza.get_available_datafiles()\n",
    "print(files)"
   ]
  },
  {
   "cell_type": "code",
   "execution_count": null,
   "id": "35b76e3f-00cd-441c-a4e9-8393c299434a",
   "metadata": {},
   "outputs": [],
   "source": [
    "lyza.get_available_timerange()"
   ]
  },
  {
   "cell_type": "code",
   "execution_count": null,
   "id": "ac008363-d48b-45b8-970a-594f890f3064",
   "metadata": {},
   "outputs": [],
   "source": [
    "reload(analysis)\n",
    "reload(base)\n",
    "#reload(util)\n",
    "lyza = analysis.Analyzer(outdir, nslc_code,\n",
    "                            fileunit=\"year\")\n",
    "\n",
    "lyza.get_data(startdate, enddate)"
   ]
  },
  {
   "cell_type": "code",
   "execution_count": null,
   "id": "a61b26f6-ce67-4c6e-b422-109903e46d3e",
   "metadata": {},
   "outputs": [],
   "source": [
    "lyza"
   ]
  },
  {
   "cell_type": "code",
   "execution_count": null,
   "id": "3ee60669-570c-4cb1-9fdf-1e2a25a7ec77",
   "metadata": {},
   "outputs": [],
   "source": [
    "lyza.trim(UTC(\"2020-12-30\"), UTC(\"2021-01-06\"))"
   ]
  },
  {
   "cell_type": "code",
   "execution_count": null,
   "id": "ef5f4e93-954b-4b82-9b8a-69e1218fe65d",
   "metadata": {},
   "outputs": [],
   "source": [
    "lyza"
   ]
  },
  {
   "cell_type": "code",
   "execution_count": null,
   "id": "f404c617-4656-428b-99e4-fc11799fdcd9",
   "metadata": {},
   "outputs": [],
   "source": [
    "lyza.trim(startdate, enddate)"
   ]
  },
  {
   "cell_type": "code",
   "execution_count": null,
   "id": "94774f28-1d61-4bad-87bb-67e4a76c22aa",
   "metadata": {},
   "outputs": [],
   "source": [
    "lyza.plot_spectrogram();"
   ]
  },
  {
   "cell_type": "code",
   "execution_count": null,
   "id": "4f2e7bd6-3d9d-41e6-8b3f-a111f8d662a3",
   "metadata": {},
   "outputs": [],
   "source": [
    "lyza.trim(startdate, enddate, fill_value=np.nan)\n",
    "\n",
    "lyza.plot_spectrogram();"
   ]
  },
  {
   "cell_type": "markdown",
   "id": "b1663493-e922-4a88-982f-770c3da87210",
   "metadata": {},
   "source": [
    "# Interpolator"
   ]
  },
  {
   "cell_type": "markdown",
   "id": "9957df8b-e905-4574-96ce-fd39289fcfc3",
   "metadata": {},
   "source": [
    "### Iterator over PSD-array"
   ]
  },
  {
   "cell_type": "code",
   "execution_count": null,
   "id": "7548ecdb-dd19-4de2-a86c-af11323b142f",
   "metadata": {},
   "outputs": [],
   "source": [
    "psds = lyza.psds.copy()\n",
    "psds.shape"
   ]
  },
  {
   "cell_type": "code",
   "execution_count": null,
   "id": "c8f1a446-3572-4273-85b6-f0f77d08dc40",
   "metadata": {},
   "outputs": [],
   "source": [
    "x = psds[:26,0]\n",
    "x.shape"
   ]
  },
  {
   "cell_type": "code",
   "execution_count": null,
   "id": "0a97ff4b-afa2-435d-9868-2881be04ba18",
   "metadata": {},
   "outputs": [],
   "source": [
    "f = util.get_overlapping_frames(x, 2, 6)\n",
    "f.shape"
   ]
  },
  {
   "cell_type": "code",
   "execution_count": null,
   "id": "3e55b11d-77da-430d-af9a-ed696c8836ec",
   "metadata": {},
   "outputs": [],
   "source": [
    "smoothed = []\n",
    "for psd in psds.T:\n",
    "    #print(psd.shape)\n",
    "    f = get_overlapping_frames(psd, 3, 6)\n",
    "    x = np.nanmedian(f, axis=1)\n",
    "    smoothed.append(x)\n",
    "smoothed = np.array(smoothed).T"
   ]
  },
  {
   "cell_type": "code",
   "execution_count": null,
   "id": "92bbaefb-0a9f-44e8-b79a-2989485e9fb8",
   "metadata": {},
   "outputs": [],
   "source": [
    "smoothed.shape"
   ]
  },
  {
   "cell_type": "code",
   "execution_count": null,
   "id": "cd016ea0-fdc1-4abb-82d9-b8e8d26baa72",
   "metadata": {},
   "outputs": [],
   "source": [
    "plt.imshow(np.log10(smoothed), aspect=\"auto\")"
   ]
  },
  {
   "cell_type": "code",
   "execution_count": null,
   "id": "10e3c1d6-72bb-4700-b9f2-f94650a174be",
   "metadata": {},
   "outputs": [],
   "source": []
  },
  {
   "cell_type": "code",
   "execution_count": null,
   "id": "84519d59-3b42-4339-90fa-5ca88a74ca4f",
   "metadata": {},
   "outputs": [],
   "source": [
    "inc = 3\n",
    "winlen = 6\n",
    "smoothed = np.array([np.nanmedian(get_overlapping_frames(x, inc, winlen),axis=1) for x in psds.T]).T\n",
    "\n",
    "smoothed.shape"
   ]
  },
  {
   "cell_type": "code",
   "execution_count": null,
   "id": "d9355747-75d8-48ab-8945-22ea61f75409",
   "metadata": {},
   "outputs": [],
   "source": [
    "plt.imshow(np.log10(smoothed.T), aspect=\"auto\")"
   ]
  },
  {
   "cell_type": "code",
   "execution_count": null,
   "id": "48acfb7e-b380-4338-9248-39efb9338b65",
   "metadata": {},
   "outputs": [],
   "source": [
    "plt.imshow(np.log10(psds.T), aspect=\"auto\")"
   ]
  },
  {
   "cell_type": "markdown",
   "id": "a6ab6e9f-3515-4ce6-b068-9543654a6ef1",
   "metadata": {},
   "source": [
    "class Interpolator():\n",
    "    def __init__(self, datadir, nslc_code, fileunit=\"year\"):\n",
    "        self.stationcode = nslc_code\n",
    "        \n",
    "        self.datadir = datadir\n",
    "        self.fileunit  = fileunit\n",
    "        self.iter_time = util.TIME_ITERATORS[self.fileunit]\n",
    "        \n",
    "        # Get fmtstr of data files\n",
    "        fmtstr_base, sep, fmtstr_time = util.FNAME_FMTS[self.fileunit].rpartition(\"_\")\n",
    "        self.fmtstr = (fmtstr_base.format(\n",
    "                        outdir=self.datadir, **self.nslc_as_dict()) + \n",
    "                        sep + fmtstr_time)\n",
    "        #self.logger = logging.getLogger(module_logger.name+\n",
    "        #                    '.'+\"Analyzer\")\n",
    "        #self.logger.setLevel(logging.DEBUG)\n",
    "     \n",
    "    def nslc_as_dict(self):\n",
    "        d = {k: v for k, v in zip([\"network\", \"station\", \"location\", \"channel\"], \n",
    "                                  self.stationcode.split(\".\"))}\n",
    "        return d\n",
    "        \n",
    "    def interpolate(self):\n",
    "        files =  [str(f) for f in \n",
    "                Path(self.datadir).glob(self.stationcode+\"_\"+util.FNAME_WILDCARD[self.fileunit]+\".hdf5\")]\n",
    "        files.sort()\n",
    "        \n",
    "        for f in files:\n",
    "            data = base.BaseProcessedData().from_file(f)\n",
    "            print(f)\n",
    "            print(data)\n",
    "            print()"
   ]
  },
  {
   "cell_type": "code",
   "execution_count": null,
   "id": "78195295-fc8a-488f-8a56-166f9df50812",
   "metadata": {},
   "outputs": [],
   "source": [
    "lyza.psds.shape"
   ]
  },
  {
   "cell_type": "code",
   "execution_count": null,
   "id": "0fe54161-022a-41d3-8bbe-fcedf6f86db2",
   "metadata": {},
   "outputs": [],
   "source": [
    "reload(analysis)\n",
    "reload(base)\n",
    "reload(util)\n",
    "class Interpolator(analysis.Analyzer):\n",
    "    def __init__(self, datadir, nslc_code, fileunit=\"year\"):\n",
    "        super().__init__(datadir, nslc_code, fileunit)\n",
    "    \n",
    "    \n",
    "    def _get_SECONDS_PER_WINDOW(self, TSTA, TEND):\n",
    "        \"\"\"\n",
    "        Read first file in list to get window size in seconds.\n",
    "        \"\"\"\n",
    "        self.logger.debug(\"\\n\\nLooking for window size\")\n",
    "        for tsta, tend in self.iter_time(TSTA, TEND):\n",
    "            self.get_data(tsta, tend)\n",
    "            self.logger.debug(\"Time range to get window size: {} - {}\".format(tsta, tend))\n",
    "            self.logger.info(\"Expecting window size is {:g}s\".format(self.seconds_per_window))\n",
    "            self.SECONDS_PER_WINDOW = self.seconds_per_window\n",
    "            break\n",
    "        \n",
    "    #@property\n",
    "    def _set_check_SECONDS_PER_WINDOW(self):\n",
    "        if not hasattr(self, \"SECONDS_PER_WINDOW\"):\n",
    "            self.logger.info(\"Expecting window size = {:g}s\".format(\n",
    "                self.seconds_per_window))\n",
    "            self.SECONDS_PER_WINDOW = self.seconds_per_window\n",
    "        elif self.SECONDS_PER_WINDOW != self.seconds_per_window:\n",
    "            msg = \"Window size changed\"\n",
    "            self.logger.error(msg)\n",
    "            raise RuntimeError(msg)\n",
    "\n",
    "            \n",
    "    def _check_framed_shape(self, x, X, kernel_shift, label=\"\"):\n",
    "        \n",
    "        nk, ks = X.shape\n",
    "        ns = (nk-1)*kernel_shift+ks\n",
    "        assert ns == x.size, \\\n",
    "            \"{:d} of {} timeseries remain\".format(x.size-ns, label)\n",
    "    \n",
    "    \n",
    "    \n",
    "    def _interpolate(self, kernel_size, kernel_shift):\n",
    "        \n",
    "        x = self.amplitudes\n",
    "        X = util.get_overlapping_frames(x, \n",
    "                                       kernel_size, kernel_shift)\n",
    "        \n",
    "        print(x.size, X.shape)\n",
    "        self._check_framed_shape(x, X, kernel_shift, \"amplitude\")\n",
    "        amplitudes_ = np.nanmedian(X, axis=1)\n",
    "\n",
    "        x = self.psds[:,0]\n",
    "        X = util.get_overlapping_frames(x, kernel_size, kernel_shift)\n",
    "        print(x.size, X.shape)\n",
    "        self._check_framed_shape(x, X, kernel_shift, \"psd\")\n",
    "        PSD_ = np.array([np.nanmedian(\n",
    "                util.get_overlapping_frames(x, kernel_size, kernel_shift),axis=1) \n",
    "                         for x in self.psds.T]).T\n",
    "        \n",
    "        \n",
    "        return amplitudes_, PSD_\n",
    "    \n",
    "    \n",
    "    def iter_times_kernel(self, tsta, tend, kernel_size, kernel_shift):\n",
    "        \"\"\"\n",
    "        Note\n",
    "        -------\n",
    "        yielded endtime is starttime of last sample plus window size.\n",
    "        \"\"\"\n",
    "        new_tsta = None\n",
    "        new_tend = None\n",
    "        for _tsta, _tend in self.iter_time(tsta, tend):\n",
    "            _tend = _tend + 24*3600\n",
    "            if not new_tsta:\n",
    "                new_tsta = _tsta\n",
    "                #_tend = _tend + 24*3600\n",
    "            \n",
    "            N = int((_tend-new_tsta) / self.SECONDS_PER_WINDOW) \n",
    "            n_kernels, n_left = np.divmod(N, kernel_shift)\n",
    "            #n_left = int(samples_left / self.SECONDS_PER_WINDOW)\n",
    "            print(N, n_kernels, n_left)\n",
    "            \n",
    "            #Nadd = (kernel_size - n_left)\n",
    "            \n",
    "            #tend = tend - n_left*self.SECONDS_PER_WINDOW + kernel_size*self.seconds_per_window\n",
    "            new_tend = _tend + (kernel_size-n_left)*self.SECONDS_PER_WINDOW\n",
    "            self.logger.debug(\"Times adjusted to kernel: {} - {}\".format(\n",
    "                new_tsta, new_tend))\n",
    "            \n",
    "            yield new_tsta, new_tend\n",
    "            \n",
    "            new_tsta = new_tend - kernel_size*self.SECONDS_PER_WINDOW \n",
    "            \n",
    "    \n",
    "    \n",
    "    def interpolate(self, kernel_size, kernel_shift=1, outdir=\".\"):\n",
    "        TSTA, TEND = self.get_available_timerange()\n",
    "        TSTA = UTC(TSTA.date)\n",
    "        TEND = UTC(TEND.date)\n",
    "        print(self.seconds_per_window)\n",
    "        self._get_SECONDS_PER_WINDOW(TSTA, TEND)\n",
    "        \n",
    "        self.logger.debug(\"\\n\\nStarting interpolation\\n\")\n",
    "        for tsta, tend in self.iter_times_kernel(TSTA, TEND, kernel_size, kernel_shift):\n",
    "            \n",
    "            self.logger.debug(\"Yielded {} - {}\".format(tsta, tend))\n",
    "            #tsta = tsta\n",
    "            #tend = tend + 24*3600# + (kernel_size-kernel_shift)*self.SECONDS_PER_WINDOW \n",
    "            self.logger.info(\"Interpolating {:} - {}\".format(tsta, tend))\n",
    "            self.logger.debug(\"Getting data...\")\n",
    "            \n",
    "            self.get_data(tsta, tend)\n",
    "            self.trim(tsta, tend, fill_value=np.nan)\n",
    "            self._set_check_SECONDS_PER_WINDOW()\n",
    "            self.logger.debug(\"Interpolating\")\n",
    "            #self.logger.debug(\"{} - {}\".format(self.startdate, self.enddate))\n",
    "            amplitudes_, psds_ = self._interpolate(kernel_size, kernel_shift)\n",
    "            self.set_data(amplitudes_, psds_, self.frequency_axis)\n",
    "            self.set_time(tsta, tend+(kernel_shift-kernel_size)*self.SECONDS_PER_WINDOW)\n",
    "            self.seconds_per_window = kernel_shift*self.SECONDS_PER_WINDOW\n",
    "            self._check_shape_vs_time()\n",
    "            \n",
    "            self.to_file(outdir)\n",
    "            self.logger.debug(\"\\n\")\n",
    "            #self.fill_days()\n",
    "            \n",
    "            \n",
    "            "
   ]
  },
  {
   "cell_type": "code",
   "execution_count": null,
   "id": "172bf956-6153-468e-b157-9defdf595e37",
   "metadata": {},
   "outputs": [],
   "source": [
    "reload(analysis)\n",
    "#reload(Analyzer)\n",
    "reload(base)\n",
    "reload(util)\n",
    "polly = Interpolator(outdir, nslc_code )"
   ]
  },
  {
   "cell_type": "code",
   "execution_count": null,
   "id": "2a41d83d-1ec2-4eb8-b4e1-09af8a16935a",
   "metadata": {},
   "outputs": [],
   "source": [
    "polly.interpolate(6, 5, \"output/interpolated/\")"
   ]
  },
  {
   "cell_type": "code",
   "execution_count": null,
   "id": "c6ef2197-f106-4fb4-977d-eb4c3f35f8cb",
   "metadata": {},
   "outputs": [],
   "source": [
    "ax = axs[0]"
   ]
  },
  {
   "cell_type": "code",
   "execution_count": null,
   "id": "7f99c09b-9c9f-4ac0-a30f-7b88473a14ab",
   "metadata": {},
   "outputs": [],
   "source": [
    "reload(base)\n",
    "fig, axs = plt.subplots(2,1, figsize=(8, 10))\n",
    "\n",
    "titles = [\"raw\", \"interpolated\"]\n",
    "fpatterns = [ \"*202*hdf5\", \"interpolated/*hdf5\",]\n",
    "\n",
    "for i, fpattern in enumerate(fpatterns):\n",
    "    try: \n",
    "        res = base.BaseProcessedData()\n",
    "        for fname in Path(\"output/\").glob(fpattern):\n",
    "            print(fname)\n",
    "            res.extend_from_file(fname)\n",
    "    except RuntimeWarning:\n",
    "        pass\n",
    "    \n",
    "    ax = axs[i]\n",
    "    res.plot_psds(np.log10, ax=ax)\n",
    "    ax.set_title(titles[i])"
   ]
  },
  {
   "cell_type": "code",
   "execution_count": null,
   "id": "6666f8dc-3c21-432b-bc4a-893c3dbe10de",
   "metadata": {},
   "outputs": [],
   "source": [
    "lyza = analysis.Analyzer(\"output/interpolated/\", nslc_code)\n",
    "lyza.get_data(startdate, enddate)\n",
    "lyza.plot_spectrogram()"
   ]
  },
  {
   "cell_type": "markdown",
   "id": "48bd5ce4-87c3-43fc-b111-b5bb35857d17",
   "metadata": {},
   "source": [
    "# Figuring out how my get_overlapping_frames() work"
   ]
  },
  {
   "cell_type": "code",
   "execution_count": null,
   "id": "276bd033-6dad-4194-870c-49e33238c242",
   "metadata": {},
   "outputs": [],
   "source": [
    "sdsclient = SDSClient(sds_root)"
   ]
  },
  {
   "cell_type": "code",
   "execution_count": null,
   "id": "d1fdc9f5-35c4-4037-bc75-07cec15c2a54",
   "metadata": {},
   "outputs": [],
   "source": [
    "startdate = UTC(\"2020-12-25\")"
   ]
  },
  {
   "cell_type": "code",
   "execution_count": null,
   "id": "c3750e49-7d57-4041-9ffe-e7d57ce9a268",
   "metadata": {},
   "outputs": [],
   "source": [
    "endtime = startdate+24*3600\n",
    "st = sdsclient.get_waveforms(*nslc_code.split(\".\"), startdate, endtime)\n",
    "st = st.trim(startdate-60, endtime+60, pad=True, fill_value=0)\n",
    "tr = st[0]\n",
    "x = np.arange(1,24+1).repeat(72000)\n",
    "print(x.shape)\n",
    "print(tr.stats.npts)\n",
    "tr.data[60*20+1:-60*20] = x"
   ]
  },
  {
   "cell_type": "code",
   "execution_count": null,
   "id": "9853cb37-66a3-436c-a81f-ad949f7d2f07",
   "metadata": {},
   "outputs": [],
   "source": [
    "tr.data.size % 24 # 74400"
   ]
  },
  {
   "cell_type": "code",
   "execution_count": null,
   "id": "3504f7fb-38e0-4c48-9bd0-318e440acc44",
   "metadata": {},
   "outputs": [],
   "source": [
    "tr.plot(endtime=startdate+600);"
   ]
  },
  {
   "cell_type": "code",
   "execution_count": null,
   "id": "58b0532b-eb9e-4ef2-a4ab-2de9bd68807a",
   "metadata": {},
   "outputs": [],
   "source": [
    "procparams = base.ProcessingParameters()"
   ]
  },
  {
   "cell_type": "code",
   "execution_count": null,
   "id": "e0e1edc9-ee98-4c64-bf40-7dd610d2720b",
   "metadata": {},
   "outputs": [],
   "source": [
    "procparams"
   ]
  },
  {
   "cell_type": "code",
   "execution_count": null,
   "id": "1ba2f897-8fa1-4de6-848d-ef622b16629e",
   "metadata": {},
   "outputs": [],
   "source": [
    "nf = int(procparams.proclen_seconds/\n",
    "        procparams.winlen_seconds)"
   ]
  },
  {
   "cell_type": "code",
   "execution_count": null,
   "id": "9d8624d2-3e21-46c7-9e01-353e018148b4",
   "metadata": {},
   "outputs": [],
   "source": [
    "nf"
   ]
  },
  {
   "cell_type": "code",
   "execution_count": null,
   "id": "5d92dde0-2a30-4ccf-b8f3-5a68f30c349c",
   "metadata": {},
   "outputs": [],
   "source": [
    "f, taps = util.get_overlapping_tapered_frames(tr, startdate, 24, int(3600*20), 60*20)"
   ]
  },
  {
   "cell_type": "code",
   "execution_count": null,
   "id": "322a4984-3df6-4aa5-8d04-689185d5d5fb",
   "metadata": {},
   "outputs": [],
   "source": [
    "f.shape"
   ]
  },
  {
   "cell_type": "code",
   "execution_count": null,
   "id": "fe13f387-ef65-4122-a367-aaaffa9bf798",
   "metadata": {},
   "outputs": [],
   "source": [
    "plt.imshow(f, aspect=\"auto\")"
   ]
  },
  {
   "cell_type": "code",
   "execution_count": null,
   "id": "9c8ab170-0acb-48fe-b4d2-20d35f967dd5",
   "metadata": {},
   "outputs": [],
   "source": [
    "#plt.plot(f[10,60*20+1:-60*20])\n",
    "plt.plot(f[3,:])\n",
    "#plt.xlim(-1, 10)"
   ]
  },
  {
   "cell_type": "code",
   "execution_count": null,
   "id": "368bfb56-ed8d-4652-904e-ca32068b81a0",
   "metadata": {},
   "outputs": [],
   "source": [
    "x = np.arange(24).repeat(74400)"
   ]
  },
  {
   "cell_type": "code",
   "execution_count": null,
   "id": "cde9a1e0-a4cd-47da-b68e-afc0c688ca50",
   "metadata": {},
   "outputs": [],
   "source": [
    "x"
   ]
  },
  {
   "cell_type": "code",
   "execution_count": null,
   "id": "d0ebd0cd-196c-48d8-8794-d140246bf6c4",
   "metadata": {},
   "outputs": [],
   "source": [
    "def get_overlapping_tapered_frames(tr, starttime, nf, winlen_samples,\n",
    "                           taper_samples):\n",
    "    sr = tr.stats.sampling_rate\n",
    "    \n",
    "    # Samples in window including tapers\n",
    "    nwin = int(winlen_samples + 2*taper_samples)\n",
    "    \n",
    "    # Total number of samples of trace to process\n",
    "    proclen_samples = int(nf * winlen_samples + 2*taper_samples)\n",
    "    \n",
    "    # Cut out the needed data\n",
    "    x = tr.slice(starttime-taper_samples/sr).data[:proclen_samples]\n",
    "    \n",
    "    # Ratio of tapers to total window size\n",
    "    a =  2*taper_samples / nwin\n",
    "    win = get_window(('tukey', a), nwin, fftbins=False)\n",
    "    \n",
    "    # From obspy.signal.enframe()\n",
    "    #nx = len(x)\n",
    "    #nwin = len(win)\n",
    "    if (len(win) == 1):\n",
    "        length = win\n",
    "    else:\n",
    "        length = nwin\n",
    "    #nf = int(np.fix((nx - length + winlen_samples) // winlen_samples))\n",
    "    # f = np.zeros((nf, length))\n",
    "    indf = winlen_samples * np.arange(nf)\n",
    "    f = x[np.expand_dims(indf, 1) + \n",
    "          np.expand_dims(np.arange(length), 0)]\n",
    "    print(indf)\n",
    "    print(length)\n",
    "    print(np.expand_dims(indf, 1) + \n",
    "          np.expand_dims(np.arange(length), 0))\n",
    "    #f = f * win\n",
    "    #f[np.any(np.isnan(f), axis=1),:] = np.nan\n",
    "    #no_win, _ = f.shape\n",
    "    return f, taper_samples"
   ]
  },
  {
   "cell_type": "code",
   "execution_count": null,
   "id": "e54abddf-6036-4c2b-82b3-d6f805d8e996",
   "metadata": {},
   "outputs": [],
   "source": [
    "st"
   ]
  },
  {
   "cell_type": "code",
   "execution_count": null,
   "id": "faa7b889-31a1-4c9c-834d-d9af3b769685",
   "metadata": {},
   "outputs": [],
   "source": [
    "endtime = startdate+24*3600\n",
    "st = sdsclient.get_waveforms(*nslc_code.split(\".\"), startdate, endtime)\n",
    "#st = st.trim(startdate-60, endtime+60, pad=True, fill_value=0)\n",
    "tr = st[0]"
   ]
  },
  {
   "cell_type": "code",
   "execution_count": null,
   "id": "12207806-63e6-4c04-84a6-844c4abedc33",
   "metadata": {},
   "outputs": [],
   "source": [
    "sr = 0.01\n",
    "x = np.float_(np.arange(1,24+1).repeat(int(3600*sr)))\n",
    "#x = np.insert()\n",
    "print(x.shape)\n",
    "print(x.size/24)\n",
    "plt.plot(x)"
   ]
  },
  {
   "cell_type": "code",
   "execution_count": null,
   "id": "7dc5e098-092b-4da4-acf7-2cce4bb84fff",
   "metadata": {},
   "outputs": [],
   "source": [
    "tr.data = x\n",
    "tr.stats.sampling_rate = sr\n",
    "tr.stats.starttime = startdate\n",
    "tr = tr.trim(startdate-600, endtime+600, pad=True, fill_value=0.1)\n",
    "print(tr.stats.npts)"
   ]
  },
  {
   "cell_type": "code",
   "execution_count": null,
   "id": "d088103a-dae4-4b8d-acc3-db99eddba665",
   "metadata": {},
   "outputs": [],
   "source": [
    "tr.stats.starttime, tr.stats.endtime"
   ]
  },
  {
   "cell_type": "code",
   "execution_count": null,
   "id": "9a961e6f-d01d-4661-8ff0-ec3daef77d49",
   "metadata": {},
   "outputs": [],
   "source": [
    "tr.plot();"
   ]
  },
  {
   "cell_type": "code",
   "execution_count": null,
   "id": "bc2481a9-ba04-470c-ba7b-a0b13a87ccad",
   "metadata": {},
   "outputs": [],
   "source": [
    "reload(util)\n",
    "f, taps = util.get_overlapping_tapered_frames(tr, startdate, 24, int(3600*sr), 600*sr)\n",
    "\n",
    "print(f.shape)\n",
    "\n",
    "plt.imshow(f, aspect=\"auto\")"
   ]
  },
  {
   "cell_type": "code",
   "execution_count": null,
   "id": "db92645f-63a2-4158-9620-461e1b453e31",
   "metadata": {},
   "outputs": [],
   "source": [
    "reload(util)\n",
    "nf = 24\n",
    "winlen_samples = int(3600*sr)\n",
    "taper_samples = int(600*sr)\n",
    "proclen_samples = int(nf * winlen_samples + 2*taper_samples)\n",
    "\n",
    "# Cut out the needed data\n",
    "x = tr.slice(startdate-taper_samples/sr).data[:proclen_samples]\n",
    "\n",
    "f = util.get_overlapping_frames(x, int(winlen_samples + 2*taper_samples), \n",
    "                                     taper_samples)\n",
    "\n",
    "print(f.shape)\n",
    "\n",
    "plt.imshow(f, aspect=\"auto\")"
   ]
  },
  {
   "cell_type": "code",
   "execution_count": null,
   "id": "14c5e771-bbc0-4d15-8b6b-e6bb91706aef",
   "metadata": {},
   "outputs": [],
   "source": [
    "f[-1,:]"
   ]
  },
  {
   "cell_type": "code",
   "execution_count": null,
   "id": "191d371d-7f96-4434-becd-d9bca22f3ae0",
   "metadata": {},
   "outputs": [],
   "source": [
    "f[0, 6:6+36]"
   ]
  },
  {
   "cell_type": "code",
   "execution_count": null,
   "id": "df54ba0d-da7e-4977-b78b-e2c636c906b0",
   "metadata": {},
   "outputs": [],
   "source": [
    "x2 = np.append(x, np.zeros(10))"
   ]
  },
  {
   "cell_type": "code",
   "execution_count": null,
   "id": "7dee5043-1035-44e3-af33-8e928a7094c5",
   "metadata": {},
   "outputs": [],
   "source": [
    "reload(util)"
   ]
  },
  {
   "cell_type": "code",
   "execution_count": null,
   "id": "d4032cf5-89d0-4744-bdff-6fa8513d19b9",
   "metadata": {},
   "outputs": [],
   "source": [
    "f1 = util.get_overlapping_frames(x2, 18, 36 )"
   ]
  },
  {
   "cell_type": "code",
   "execution_count": null,
   "id": "af1cf203-7aef-4f3f-8922-b9b1d968be07",
   "metadata": {},
   "outputs": [],
   "source": [
    "f1.shape"
   ]
  },
  {
   "cell_type": "code",
   "execution_count": null,
   "id": "82f11bc7-a68e-4fe9-a7e2-f505cf539567",
   "metadata": {},
   "outputs": [],
   "source": [
    "plt.imshow(f1, aspect=\"auto\")"
   ]
  },
  {
   "cell_type": "code",
   "execution_count": null,
   "id": "0a40ce61-1c9b-4a5b-ae89-d7dbda4887bd",
   "metadata": {},
   "outputs": [],
   "source": [
    "plt.plot(f1[2,:])"
   ]
  },
  {
   "cell_type": "code",
   "execution_count": null,
   "id": "2dc9229d-dec1-458b-9edf-fb2d2d558a72",
   "metadata": {},
   "outputs": [],
   "source": []
  },
  {
   "cell_type": "code",
   "execution_count": null,
   "id": "3f75ca4d-cde7-4d14-bd44-2de8ca90d34c",
   "metadata": {},
   "outputs": [],
   "source": [
    "x"
   ]
  },
  {
   "cell_type": "markdown",
   "id": "7cb232ea-bf12-4e77-b703-927f4ddf92fd",
   "metadata": {},
   "source": [
    "### Simple test of get_overlapping_frames()"
   ]
  },
  {
   "cell_type": "code",
   "execution_count": null,
   "id": "6ee518eb-36e2-44c2-a25a-45fcf7872c7f",
   "metadata": {},
   "outputs": [],
   "source": [
    "x = np.arange(1,5+1).repeat(3)\n",
    "print(x.shape)\n",
    "print(x)\n",
    "plt.plot(x)"
   ]
  },
  {
   "cell_type": "code",
   "execution_count": null,
   "id": "a2eca398-8e7c-4d7a-88ed-85ab9f3ec9a2",
   "metadata": {},
   "outputs": [],
   "source": [
    "reload(util)\n",
    "\n",
    "f = util.get_overlapping_frames(x, 3, 3)\n",
    "print(f.shape)\n",
    "print(f)\n",
    "plt.imshow(f, aspect=\"auto\")"
   ]
  },
  {
   "cell_type": "code",
   "execution_count": null,
   "id": "5aa1a85a-5efa-447c-88d2-a89bec1f2dc2",
   "metadata": {},
   "outputs": [],
   "source": [
    "nf, fs = f.shape\n",
    "print((nf-1)*3+fs, x.size)"
   ]
  },
  {
   "cell_type": "code",
   "execution_count": null,
   "id": "b458aa98-94b5-4c98-9402-1ddc9a620961",
   "metadata": {},
   "outputs": [],
   "source": [
    "reload(util)\n",
    "\n",
    "f = util.get_overlapping_frames(x, 5, 1)\n",
    "print(f.shape)\n",
    "print(f)\n",
    "plt.imshow(f, aspect=\"auto\")"
   ]
  },
  {
   "cell_type": "code",
   "execution_count": null,
   "id": "2e06bb6b-afcc-42c0-8b76-dd412f71e676",
   "metadata": {},
   "outputs": [],
   "source": [
    "nf, fs = f.shape\n",
    "print((nf-1)*1+fs, x.size)"
   ]
  },
  {
   "cell_type": "code",
   "execution_count": null,
   "id": "c6a64997-7d82-471c-b0c4-b95c441956c8",
   "metadata": {},
   "outputs": [],
   "source": [
    "reload(util)\n",
    "\n",
    "f = util.get_overlapping_frames(x, 4, 3)\n",
    "print(f.shape)\n",
    "print(f)\n",
    "plt.imshow(f, aspect=\"auto\")"
   ]
  },
  {
   "cell_type": "code",
   "execution_count": null,
   "id": "d206a5bd-6d50-4a62-b35d-f4aed9403b70",
   "metadata": {},
   "outputs": [],
   "source": [
    "nf, fs = f.shape\n",
    "print((nf-1)*3+fs, x.size)"
   ]
  },
  {
   "cell_type": "code",
   "execution_count": null,
   "id": "26056a14-ff64-419b-8afe-099b6d38ca66",
   "metadata": {},
   "outputs": [],
   "source": []
  }
 ],
 "metadata": {
  "language_info": {
   "name": "python",
   "pygments_lexer": "ipython3"
  }
 },
 "nbformat": 4,
 "nbformat_minor": 5
}

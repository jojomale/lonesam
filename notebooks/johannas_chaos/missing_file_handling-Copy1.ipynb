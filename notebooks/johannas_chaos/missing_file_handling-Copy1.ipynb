{
 "cells": [
  {
   "cell_type": "markdown",
   "id": "6e6dbca0-2197-4f15-86a0-655dd7d28952",
   "metadata": {},
   "source": [
    "Here, I demonstrate what happens if no files are available for a requested date.\n",
    "\n",
    "We treat 3 cases:\n",
    "\n",
    "1. no data at all for requested time period\n",
    "\n",
    "    In this case, no data can be processed and no HDF5 file is created.\n",
    "    We still iterate through every requested day because we don't check\n",
    "    beforehand if there is data at all. We don't check because such a\n",
    "    check can be quite expansive if the database is large. So it is the\n",
    "    users responsibility to request only reasonable time frames.\n",
    "    \n",
    "1. no files until or after some day within the requested period.\n",
    "\n",
    "    E.g. the database has entries from 2020-Feb-01 to 2020-Oct-01 but we\n",
    "    put a request for 2020-Jan-01 to 2020-Dec-31. Again, the algorithm\n",
    "    needs to try every day we ask for. However, we only save the data\n",
    "    and dates within the available time range. The dates in the filename\n",
    "    and meta data are ajusted accordingly. The missing days are not\n",
    "    filled with Nans in this case.\n",
    "    \n",
    "2. no files within a requested period\n",
    "    \n",
    "    E.g. the database has entries from 2020-Feb-01 to 2020-Oct-01 but\n",
    "    files for 20-March-01 to 20-March-10 are missing. We request data\n",
    "    for 2020-Feb-01 to 2020-Oct-01. In this case, we get a processed\n",
    "    data set with the missing days filled with Nans in the amplitude\n",
    "    and psds data."
   ]
  },
  {
   "cell_type": "code",
   "execution_count": null,
   "id": "0bf2e2ec-f829-4cec-83de-3a5a30a0dbd6",
   "metadata": {},
   "outputs": [],
   "source": [
    "from importlib import reload\n",
    "import os\n",
    "import numpy as np"
   ]
  },
  {
   "cell_type": "code",
   "execution_count": null,
   "id": "7069418b-f80f-46cb-b2d3-5ebacb1bf648",
   "metadata": {},
   "outputs": [],
   "source": [
    "from data_quality_control import processing"
   ]
  },
  {
   "cell_type": "code",
   "execution_count": null,
   "id": "e8fe3682-c738-4040-8ead-85a3e84db0b6",
   "metadata": {},
   "outputs": [],
   "source": [
    "from obspy.clients.filesystem.sds import Client\n",
    "from obspy.clients.fdsn import RoutingClient\n",
    "from obspy.core import UTCDateTime as UTC\n",
    "from obspy.signal import util\n"
   ]
  },
  {
   "cell_type": "code",
   "execution_count": null,
   "id": "846bbcfd-aaeb-4fbf-a398-cc2f746947af",
   "metadata": {},
   "outputs": [],
   "source": [
    "import matplotlib.pyplot as plt\n",
    "plt.style.use('tableau-colorblind10')\n"
   ]
  },
  {
   "cell_type": "code",
   "execution_count": null,
   "id": "93853d36-678b-4f30-ad83-f1996d04e263",
   "metadata": {},
   "outputs": [],
   "source": [
    "network = 'GR'\n",
    "station = 'BFO'\n",
    "location = ''\n",
    "channel = 'HHZ'\n",
    "overlap = 60 #3600\n",
    "\n",
    "fmin, fmax = (4, 14)\n",
    "nperseg = 2048\n",
    "winlen_in_s = 3600\n",
    "proclen = 24*3600\n",
    "\n",
    "sds_root = os.path.abspath('../sample_sds/')\n",
    "inventory_routing_type = \"eida-routing\"\n",
    "\n",
    "sdsclient = Client(sds_root)\n",
    "invclient = RoutingClient(inventory_routing_type)"
   ]
  },
  {
   "cell_type": "code",
   "execution_count": null,
   "id": "8351daef-3a18-42ec-844e-82cb3b6aa3aa",
   "metadata": {},
   "outputs": [],
   "source": [
    "sdsclient.get_all_nslc()"
   ]
  },
  {
   "cell_type": "markdown",
   "id": "102d454a-7d33-4c9b-b336-599d65f7fa9a",
   "metadata": {},
   "source": [
    "### Database content\n",
    "\n",
    "We have the last 6 days of 2021 and the first 9 days of \n",
    "January 2021 for GR.BFO..HHZ"
   ]
  },
  {
   "cell_type": "code",
   "execution_count": null,
   "id": "84696f87-08c1-463f-a3aa-2873572b5048",
   "metadata": {},
   "outputs": [],
   "source": [
    "%ls ../sample_sds/*/*/*/*"
   ]
  },
  {
   "cell_type": "markdown",
   "id": "531aa87a-99db-4d62-b074-d51350866644",
   "metadata": {},
   "source": [
    "Init processor for station code and clients"
   ]
  },
  {
   "cell_type": "code",
   "execution_count": null,
   "id": "6ff406f7-9721-441c-b075-3b99e58f473d",
   "metadata": {},
   "outputs": [],
   "source": [
    "reload(processing)\n",
    "processor = processing.RawDataProcessor2(\n",
    "        sdsclient,\n",
    "        invclient,\n",
    "        network, \n",
    "        station,\n",
    "        location,\n",
    "        channel,\n",
    "        )"
   ]
  },
  {
   "cell_type": "markdown",
   "id": "3d9c2a46-cfd3-40d1-9974-7a6549c3d05b",
   "metadata": {},
   "source": [
    "# Request data entirely outside available time frame\n",
    "\n",
    "We try to process every requested day as usual but since no data is available, \n",
    "no hdf5-files are created. The logger issues a warning."
   ]
  },
  {
   "cell_type": "code",
   "execution_count": null,
   "id": "adb97918-d7ba-4330-a3c0-8c8858601a44",
   "metadata": {},
   "outputs": [],
   "source": [
    "startdate = UTC(\"2018-12-25\")\n",
    "enddate = UTC(\"2019-01-05\")"
   ]
  },
  {
   "cell_type": "code",
   "execution_count": null,
   "id": "80c3caa8-e49a-494a-95d6-16c640ca7905",
   "metadata": {},
   "outputs": [],
   "source": [
    "%%timeit\n",
    "processor.process(startdate, enddate, \n",
    "                        overlap, winlen_in_s,\n",
    "        nperseg, fmin, fmax, '../data/',  proclen)"
   ]
  },
  {
   "cell_type": "markdown",
   "id": "f5c5d416-8773-459c-8ac2-d77254d06886",
   "metadata": {},
   "source": [
    "# Request partially available time frame\n",
    "\n",
    "We request data for 2020-12-20 to 2021-01-15. We expect 2 files, \n",
    "one for the 2020 data and one for 2021. However, this is 5 days \n",
    "more on both ends than available.\n",
    "\n",
    "The algorithm thus starts the first file (the one for 2020)\n",
    "only at 25 December. The second file ends at 9 January rather\n",
    "than 15."
   ]
  },
  {
   "cell_type": "code",
   "execution_count": null,
   "id": "1bb19fe7-4969-472c-926f-98ebd91cc8af",
   "metadata": {},
   "outputs": [],
   "source": [
    "startdate = UTC(\"2020-12-20\")\n",
    "enddate = UTC(\"2021-01-15\")"
   ]
  },
  {
   "cell_type": "code",
   "execution_count": null,
   "id": "4cd17aeb-0cfe-459d-a481-a77647e3d69a",
   "metadata": {},
   "outputs": [],
   "source": [
    "ch = processing.logger.handlers[0]\n",
    "\n",
    "ch.setLevel('INFO')"
   ]
  },
  {
   "cell_type": "code",
   "execution_count": null,
   "id": "83c6db70-7184-4e02-8cfa-d7958197fda6",
   "metadata": {},
   "outputs": [],
   "source": [
    "%%timeit -n1 -r7\n",
    "processor.process(startdate, enddate, \n",
    "                        overlap, winlen_in_s,\n",
    "        nperseg, fmin, fmax, '../data/',  proclen)"
   ]
  },
  {
   "cell_type": "code",
   "execution_count": null,
   "id": "084582fd-0261-4e70-b369-a416fce16d43",
   "metadata": {},
   "outputs": [],
   "source": [
    "%ls -lh ../data"
   ]
  },
  {
   "cell_type": "markdown",
   "id": "39b3f28a-6a0e-4f86-a267-affb0a57bcde",
   "metadata": {},
   "source": [
    "Check if the correct number of days (7 and 9) is also in the files"
   ]
  },
  {
   "cell_type": "code",
   "execution_count": null,
   "id": "683a18ff-1b71-4d41-b27b-3b76976e036d",
   "metadata": {},
   "outputs": [],
   "source": [
    "dat1 = processing.ProcessedData()\n",
    "dat1.from_file('../data/GR.BFO..HHZ_2020-12-25_2020-12-31.hdf5')\n",
    "\n",
    "print(dat1.amplitudes.shape)"
   ]
  },
  {
   "cell_type": "code",
   "execution_count": null,
   "id": "c8f3149e-a2da-499a-9838-d1d39f3e710e",
   "metadata": {},
   "outputs": [],
   "source": [
    "dat2 = processing.ProcessedData()\n",
    "dat2.from_file('../data/GR.BFO..HHZ_2021-01-01_2021-01-09.hdf5')\n",
    "\n",
    "print(dat2.amplitudes.shape)"
   ]
  },
  {
   "cell_type": "markdown",
   "id": "0d7eadf3-e8d8-46e9-86d3-b1df1960d0e9",
   "metadata": {},
   "source": [
    "# Missing files within requested time\n",
    "\n",
    "We remove 2 days (Jan 4-5 2021) of data from the data base.\n",
    "Then we request data for 2021-01-02 to 2021-01-12. We start at \n",
    "2 Jan just to get a different file name from the previous test."
   ]
  },
  {
   "cell_type": "code",
   "execution_count": null,
   "id": "87add533-4420-468d-b97f-2dc7721075fa",
   "metadata": {},
   "outputs": [],
   "source": [
    "%mv ../sample_sds/2021/GR/BFO/HHZ.D/GR.BFO..HHZ.D.2021.00[45]* ../data"
   ]
  },
  {
   "cell_type": "code",
   "execution_count": null,
   "id": "7b85a0bd-1493-4180-a7c6-eba47e576858",
   "metadata": {},
   "outputs": [],
   "source": [
    "%ls ../sample_sds/*/*/*/*"
   ]
  },
  {
   "cell_type": "code",
   "execution_count": null,
   "id": "3ef31d59-9352-4942-b47f-323d448b7053",
   "metadata": {},
   "outputs": [],
   "source": [
    "startdate = UTC(\"2021-01-02\")\n",
    "enddate = UTC(\"2021-01-12\")"
   ]
  },
  {
   "cell_type": "code",
   "execution_count": null,
   "id": "6dad88f2-f8f4-4d4a-bd49-c1a713979446",
   "metadata": {},
   "outputs": [],
   "source": [
    "processor.process(startdate, enddate, \n",
    "                        overlap, winlen_in_s,\n",
    "        nperseg, fmin, fmax, '../data/',  proclen)"
   ]
  },
  {
   "cell_type": "code",
   "execution_count": null,
   "id": "cab0a4dc-1e19-4bac-96b1-37ebc38c65a6",
   "metadata": {},
   "outputs": [],
   "source": [
    "%ls -lh ../data"
   ]
  },
  {
   "cell_type": "markdown",
   "id": "a5812a33-abf0-42ca-8e30-3a38ee619011",
   "metadata": {},
   "source": [
    "Check if the correct number of days is in the file.\n",
    "We now expect 1 day less than for `dat2` which started on 1 Jan \n",
    "instead of 2 Jan."
   ]
  },
  {
   "cell_type": "code",
   "execution_count": null,
   "id": "34708cbf-6efe-4418-b46f-dbe03b1a18d2",
   "metadata": {},
   "outputs": [],
   "source": [
    "dat3 = processing.ProcessedData()\n",
    "dat3.from_file('../data/GR.BFO..HHZ_2021-01-02_2021-01-09.hdf5')\n",
    "\n",
    "print(dat3.amplitudes.shape)"
   ]
  },
  {
   "cell_type": "markdown",
   "id": "c03f527d-3a03-482c-a28f-6150a7587e33",
   "metadata": {},
   "source": [
    "Now we plot the amplitude arrays for the contigous case (where no\n",
    "files were missing in the database) and the one when we removed 2 days.\n",
    "The two missing days appear as Nans (white color).\n",
    "\n",
    "Note that we also get Nans at the edges around the data gap because there\n",
    "is no data to create the overlap between the files."
   ]
  },
  {
   "cell_type": "code",
   "execution_count": null,
   "id": "efb78cda-3b69-4f30-979e-6742f9c5aa1a",
   "metadata": {},
   "outputs": [],
   "source": [
    "fig, axs = plt.subplots(2,1, sharex=True)\n",
    "datalabels = ['contiguous database', 'missing files']\n",
    "for i, (datalabel, _dat) in enumerate(zip(datalabels,[dat2, dat3])):\n",
    "    ax = axs[i]\n",
    "    ax.set_title(datalabel)\n",
    "    cax = ax.imshow(_dat.amplitudes, aspect='auto')\n",
    "    labels = [l.date for l in\n",
    "              np.arange(_dat.startdate, _dat.enddate+24*3600, 24*3600)]\n",
    "    ax.set_yticks(np.arange(len(_dat.amplitudes)))\n",
    "    ax.set_yticklabels(labels=labels);\n",
    "plt.xlabel('hours');"
   ]
  },
  {
   "cell_type": "markdown",
   "id": "66c1b207-4740-4f7e-9231-4b47f3e4862d",
   "metadata": {},
   "source": [
    "However if we request processing for Jan-04-2021 to Jan-12-2021,\n",
    "our output file starts only at Jan-06-2021."
   ]
  },
  {
   "cell_type": "code",
   "execution_count": null,
   "id": "6f573a4a-904e-43ce-ac8e-358dc7d1d0d3",
   "metadata": {},
   "outputs": [],
   "source": [
    "startdate = UTC(\"2021-01-04\")\n",
    "enddate = UTC(\"2021-01-12\")"
   ]
  },
  {
   "cell_type": "code",
   "execution_count": null,
   "id": "4fbb583d-4393-4a95-b2a7-b57ef2d34d57",
   "metadata": {},
   "outputs": [],
   "source": [
    "processor.process(startdate, enddate, \n",
    "                        overlap, winlen_in_s,\n",
    "        nperseg, fmin, fmax, '../data/',  proclen)"
   ]
  },
  {
   "cell_type": "code",
   "execution_count": null,
   "id": "4549b433-9fdd-48e9-bbc3-b8d94fa7ed01",
   "metadata": {},
   "outputs": [],
   "source": [
    "dat4 = processing.ProcessedData()\n",
    "dat4.from_file('../data/GR.BFO..HHZ_2021-01-06_2021-01-09.hdf5')\n",
    "\n",
    "print(dat4.amplitudes.shape)\n",
    "print(dat4.startdate)\n",
    "print(dat4.enddate)"
   ]
  },
  {
   "cell_type": "code",
   "execution_count": null,
   "id": "35619fdf-4f4b-41e6-883e-532896a7bfca",
   "metadata": {},
   "outputs": [],
   "source": [
    "fig, axs = plt.subplots(2,1, sharex=True)\n",
    "datalabels = ['start BEFORE missing files', \n",
    "              'start AT missing files']\n",
    "for i, (datalabel, _dat) in enumerate(zip(datalabels,[dat3, dat4])):\n",
    "    ax = axs[i]\n",
    "    ax.set_title(datalabel)\n",
    "    cax = ax.imshow(_dat.amplitudes, aspect='auto')\n",
    "    labels = [l.date for l in\n",
    "              np.arange(_dat.startdate, _dat.enddate+24*3600, 24*3600)]\n",
    "    ax.set_yticks(np.arange(len(_dat.amplitudes)))\n",
    "    ax.set_yticklabels(labels=labels);\n",
    "plt.xlabel('hours');"
   ]
  },
  {
   "cell_type": "markdown",
   "id": "44182924-2140-4c96-8e9f-4bfa1e466f91",
   "metadata": {},
   "source": [
    "Let's place back those files"
   ]
  },
  {
   "cell_type": "code",
   "execution_count": null,
   "id": "1cd197ff-2a64-4eab-83fd-b860228e8ed2",
   "metadata": {},
   "outputs": [],
   "source": [
    "%mv ../data/GR.BFO..HHZ.D.2021.00[45] ../sample_sds/2021/GR/BFO/HHZ.D/"
   ]
  },
  {
   "cell_type": "code",
   "execution_count": null,
   "id": "a9460b19-22cc-4826-b9cb-0049583c1908",
   "metadata": {},
   "outputs": [],
   "source": [
    "%ls ../sample_sds/*/*/*/*"
   ]
  },
  {
   "cell_type": "code",
   "execution_count": null,
   "id": "06a6996b-ef70-4162-9893-9246f6b84259",
   "metadata": {},
   "outputs": [],
   "source": []
  }
 ],
 "metadata": {
  "language_info": {
   "name": "python",
   "pygments_lexer": "ipython3"
  }
 },
 "nbformat": 4,
 "nbformat_minor": 5
}

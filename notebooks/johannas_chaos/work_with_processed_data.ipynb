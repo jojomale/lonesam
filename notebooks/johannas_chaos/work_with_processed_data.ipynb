{
 "cells": [
  {
   "cell_type": "code",
   "execution_count": null,
   "id": "5247211e-ee12-4219-a2e4-c11dfe692c87",
   "metadata": {},
   "outputs": [],
   "source": [
    "from importlib import reload\n",
    "\n",
    "import numpy as np"
   ]
  },
  {
   "cell_type": "code",
   "execution_count": null,
   "id": "6cf9f370-5c7d-4510-8658-5d542ec541f9",
   "metadata": {},
   "outputs": [],
   "source": [
    "from glob import glob\n",
    "import os\n",
    "from datetime import timedelta\n",
    "from obspy.core import UTCDateTime as UTC"
   ]
  },
  {
   "cell_type": "code",
   "execution_count": null,
   "id": "812d50e8-66d4-42ce-b9e6-86884c0cf2ab",
   "metadata": {},
   "outputs": [],
   "source": [
    "import matplotlib.pyplot as plt\n",
    "plt.style.use('tableau-colorblind10')\n",
    "#%matplotlib widget"
   ]
  },
  {
   "cell_type": "code",
   "execution_count": null,
   "id": "e1d32189-910d-45b6-a2a4-271c104d20e0",
   "metadata": {},
   "outputs": [],
   "source": [
    "from data_quality_control import processing\n",
    "logger = processing.logger"
   ]
  },
  {
   "cell_type": "code",
   "execution_count": null,
   "id": "5dcceeab-b8ae-474a-873e-d8ed4851ae68",
   "metadata": {},
   "outputs": [],
   "source": [
    "import plotly.graph_objects as go"
   ]
  },
  {
   "cell_type": "markdown",
   "id": "91e3361e-f137-45dd-ac4c-b903209b88ba",
   "metadata": {},
   "source": [
    "Load processed data"
   ]
  },
  {
   "cell_type": "code",
   "execution_count": null,
   "id": "10f9dfc8-e3f9-4375-a56d-0cf6e3c51621",
   "metadata": {},
   "outputs": [],
   "source": [
    "fname = '../data/GR.BFO..BHZ_2020-12-25_2020-12-31.hdf5'"
   ]
  },
  {
   "cell_type": "code",
   "execution_count": null,
   "id": "76f5a96a-811b-4aa4-9145-6e20d1fea7c6",
   "metadata": {},
   "outputs": [],
   "source": [
    "reload(processing)\n",
    "data = processing.ProcessedData()\n",
    "data.from_file(fname)"
   ]
  },
  {
   "cell_type": "code",
   "execution_count": null,
   "id": "a1ee0238-fffb-466f-85cb-f8c4a323f48b",
   "metadata": {},
   "outputs": [],
   "source": [
    "print(data.amplitudes.shape)\n",
    "print(data.psds.shape)"
   ]
  },
  {
   "cell_type": "code",
   "execution_count": null,
   "id": "aad23276-8f16-4841-b042-e5c9bb0e9346",
   "metadata": {},
   "outputs": [],
   "source": [
    "class MyProcessedData(processing.ProcessedData):\n",
    "    def __init__(self):\n",
    "        super().__init__()\n",
    "        #pass\n",
    "        \n",
    "    def _init_data(self):\n",
    "        d0 = self.starttime.date\n",
    "        d1 = self.enddate\n",
    "        days = timedelta(\n",
    "            seconds=self.endtime-self.starttime).days+1\n",
    "        \n",
    "    def extend_from_file(self, file):\n",
    "        # If there is no data yet, we can simply read it from file\n",
    "        if (self.amplitudes is None and\n",
    "            self.psds is None):\n",
    "            self.from_file(file)\n",
    "            return\n",
    "        \n",
    "        # If we already have some data, we need to insert the\n",
    "        # new data at the right place and fill potential gaps.\n",
    "        # Read the new data\n",
    "        new = processing.ProcessedData()\n",
    "        new.from_file(file)\n",
    "        self.add(new)\n",
    "        #print(new)\n",
    "        # If data overlap we have a problem\n",
    "        #if ((new.startdate < self.enddate and\n",
    "        #    new.startdate > self.startdate) or\n",
    "        #    (new.enddate > self.startdate and\n",
    "        #     new.enddate < self.enddate)):\n",
    "        #    raise RuntimeError(\"Overlapping data\")\n",
    "        \n",
    "        \n",
    "    def __add__(self, new):\n",
    "        self.add(new)\n",
    "        return self\n",
    "        \n",
    "    def add(self, new):\n",
    "        # Get total number of days to get new array sizes\n",
    "        tmin = min(self.startdate, new.startdate)\n",
    "        tmax = max(self.enddate, new.enddate)\n",
    "        days = timedelta(seconds=tmax-tmin).days+1\n",
    "        \n",
    "        # If shapes are inconsistent, we get an error here\n",
    "        _amps_shp, _psds_shp = self._check_shapes(new)\n",
    "        \n",
    "        # Initialize data containers for merged data\n",
    "        amps_shp, psds_shp = list(_amps_shp), list(_psds_shp)\n",
    "        amps_shp[0] = days\n",
    "        psds_shp[0] = days\n",
    "        \n",
    "        new_amps = np.ones(amps_shp)*np.nan\n",
    "        new_psds = np.ones(psds_shp)*np.nan\n",
    "        \n",
    "        # Insert the data. We ignore overlaps here. New data\n",
    "        # overwrites existing data if they overlap\n",
    "        for d in [self, new]:\n",
    "            i = timedelta(seconds=d.startdate-tmin).days\n",
    "            n = len(d.amplitudes)\n",
    "            new_amps[i:i+n,:] = d.amplitudes\n",
    "            new_psds[i:i+n,:,:] = d.psds\n",
    "            \n",
    "        self.amplitudes = new_amps\n",
    "        self.psds = new_psds\n",
    "        self.startdate = UTC(tmin.date)\n",
    "        self.enddate = UTC(tmax.date)\n",
    "        self.trim_nan()\n",
    "        \n",
    "        \n",
    "            \n",
    "    def _sort_datasets(self, datalist):\n",
    "        sorted_list = [datalist[0]]\n",
    "        pass\n",
    "    \n",
    "        \n",
    "    def _check_shapes(self, new):\n",
    "        amps_shp = self.amplitudes.shape\n",
    "        psds_shp = self.psds.shape\n",
    "        if (amps_shp[-1] == new.amplitudes.shape[-1] and\n",
    "            psds_shp[1:] == new.psds.shape[1:]):\n",
    "            return amps_shp, psds_shp\n",
    "        else:\n",
    "            logger.error(\"Data in files have inconsistent shapes!\")\n",
    "            raise IOError(\"Data in files have inconsistent shapes!\")\n",
    "            #return False, False\n",
    "    \n",
    "    def plot(self):\n",
    "        z = self.amplitudes #np.clip(AMP, None,  a_max=5.5)\n",
    "        sh_0, sh_1 = z.shape\n",
    "        y, x = np.linspace(0, sh_0-1, sh_0), np.linspace(0, sh_1-1, sh_1)\n",
    "        fig = go.Figure(data=[go.Surface(z=z, x=x, y=y, name='amplitude', cmin=2, cmax=None)])\n",
    "        fig.update_layout(title='75%-amplitude', autosize=True,\n",
    "                          width=800, height=500,\n",
    "                          scene=dict(aspectmode='manual', aspectratio=dict(x=1, y=2, z=0.5))\n",
    "                          #margin=dict(l=65, r=50, b=65, t=90)\n",
    "                         )\n",
    "        fig.show()\n",
    "        \n",
    "    \n",
    "    def __repr__(self):\n",
    "        s = \"Starttime: {}\".format(self.startdate.date)\n",
    "        e = \"Enddate: {}\".format(self.enddate.date)\n",
    "        d = \"Days: {:d}\".format(self.amplitudes.shape[0])\n",
    "        shp1 = \"Amplitude shape = {}\".format(self.amplitudes.shape)\n",
    "        shp2 = \"PSD shape = {}\".format(self.psds.shape)\n",
    "        return \"\\n\".join([s,e,d,shp1,shp2])"
   ]
  },
  {
   "cell_type": "code",
   "execution_count": null,
   "id": "4d029a25-df8b-4ad6-9971-02f9b6cce805",
   "metadata": {},
   "outputs": [],
   "source": [
    "fname = '../data/GR.BFO..BHZ_2020-12-25_2020-12-31.hdf5'"
   ]
  },
  {
   "cell_type": "code",
   "execution_count": null,
   "id": "165235b7-a57b-4318-ae83-02988745644e",
   "metadata": {},
   "outputs": [],
   "source": [
    "reload(processing)\n",
    "data = MyProcessedData()\n",
    "data.from_file(fname)\n",
    "\n",
    "print(data)"
   ]
  },
  {
   "cell_type": "code",
   "execution_count": null,
   "id": "c87f056d-ab64-4f54-b185-9ab0d269bb05",
   "metadata": {},
   "outputs": [],
   "source": [
    "fname2 = '../data/GR.BFO..BHZ_2021-01-01_2021-01-09.hdf5'"
   ]
  },
  {
   "cell_type": "code",
   "execution_count": null,
   "id": "035783f2-fd0d-4296-8632-d4ebcd7406ff",
   "metadata": {},
   "outputs": [],
   "source": [
    "data2 = MyProcessedData()\n",
    "data2.from_file(fname2)\n",
    "print(data2)"
   ]
  },
  {
   "cell_type": "code",
   "execution_count": null,
   "id": "9376ceb4-3b54-472b-8793-dd8edc45fe36",
   "metadata": {},
   "outputs": [],
   "source": [
    "data3 = data + data2\n",
    "data3"
   ]
  },
  {
   "cell_type": "code",
   "execution_count": null,
   "id": "40cf7e81-8930-4278-889f-c9d346478d30",
   "metadata": {},
   "outputs": [],
   "source": [
    "data"
   ]
  },
  {
   "cell_type": "code",
   "execution_count": null,
   "id": "45f74efb-edbb-449f-8cad-8cd2808955bb",
   "metadata": {},
   "outputs": [],
   "source": [
    "data.amplitudes = np.delete(data.amplitudes, 0, 0)"
   ]
  },
  {
   "cell_type": "code",
   "execution_count": null,
   "id": "72bfadc2-c981-428a-aea2-34ed1181dd6f",
   "metadata": {},
   "outputs": [],
   "source": [
    "data"
   ]
  },
  {
   "cell_type": "code",
   "execution_count": null,
   "id": "490652c2-eaa9-490f-bb22-2367cacdeb20",
   "metadata": {},
   "outputs": [],
   "source": [
    "data3"
   ]
  },
  {
   "cell_type": "code",
   "execution_count": null,
   "id": "9cb1b0d2-4bb1-482f-b283-423a5ebd5e6d",
   "metadata": {},
   "outputs": [],
   "source": [
    "data.add(data2)"
   ]
  },
  {
   "cell_type": "code",
   "execution_count": null,
   "id": "46a9bada-2c27-4c59-bccc-6d165a8e630a",
   "metadata": {},
   "outputs": [],
   "source": [
    "data"
   ]
  },
  {
   "cell_type": "code",
   "execution_count": null,
   "id": "bde1bd7f-2a7d-4eca-aba6-6a7e59f3cfce",
   "metadata": {},
   "outputs": [],
   "source": [
    "data.extend_from_file(fname2)"
   ]
  },
  {
   "cell_type": "code",
   "execution_count": null,
   "id": "7c209e50-8deb-4f40-b6b3-5c368b8d06d7",
   "metadata": {},
   "outputs": [],
   "source": [
    "print(data.amplitudes.shape)\n",
    "print(data.psds.shape)"
   ]
  },
  {
   "cell_type": "code",
   "execution_count": null,
   "id": "dd20e7db-bb67-4985-bac2-c3c062186e12",
   "metadata": {},
   "outputs": [],
   "source": [
    "a, b = data._check_shapes(data)"
   ]
  },
  {
   "cell_type": "code",
   "execution_count": null,
   "id": "1d82303f-eb92-4a5f-b2ec-36838d9a7097",
   "metadata": {},
   "outputs": [],
   "source": [
    "a = False"
   ]
  },
  {
   "cell_type": "code",
   "execution_count": null,
   "id": "fc55945c-0f9c-45db-85a8-869237a03697",
   "metadata": {},
   "outputs": [],
   "source": [
    "if a and b:\n",
    "    print(\"Hello\")\n",
    "else:\n",
    "    print(\"argh\")"
   ]
  },
  {
   "cell_type": "code",
   "execution_count": null,
   "id": "1c199498-c6e8-460e-b94d-ddcfe118c631",
   "metadata": {},
   "outputs": [],
   "source": [
    "class Analyzer():\n",
    "    def __init__(self, starttime, endtime, \n",
    "                 datadir, stationcode):\n",
    "        self.starttime = UTC(starttime)\n",
    "        self.endtime = UTC(endtime)\n",
    "        self.datadir = datadir\n",
    "        self.stationcode = stationcode\n",
    "        self.get_data()\n",
    "        \n",
    "        \n",
    "    def get_data(self, starttime=None, endtime=None, \n",
    "                 datadir=None, stationcode=None):\n",
    "        if starttime is not None:\n",
    "            self.starttime = UTC(starttime)\n",
    "        if endtime is not None:\n",
    "            self.endtime = UTC(starttime)\n",
    "        if datadir is not None:\n",
    "            self.datadir = datadir\n",
    "        if stationcode is not None:\n",
    "            self.stationcode = stationcode\n",
    "            \n",
    "        files = sorted(self.get_filenames())\n",
    "        if len(files) == 0:\n",
    "            logger.warn(\"No files for %s in %s between %s and %s\" %\n",
    "                        (self.stationcode, self.datadir, \n",
    "                        self.starttime, self.endtime))\n",
    "            return\n",
    "        \n",
    "        # If we found files, a\n",
    "        data = MyProcessedData()\n",
    "        for file in files:\n",
    "            data.extend_from_file(file)\n",
    "        self.data = data\n",
    "            \n",
    "        \n",
    "            \n",
    "    def get_filenames(self):\n",
    "        \n",
    "        filehead = os.path.join(self.datadir, self.stationcode)\n",
    "        fmtstr = filehead + \"_{:04d}*.hdf5\"\n",
    "        logger.info(\"Looking for data file %s\" % fmtstr)\n",
    "        _year = self.starttime.year\n",
    "        files = []\n",
    "        while _year <= self.endtime.year:\n",
    "            searchstr = fmtstr.format(_year)\n",
    "            fnames = glob(searchstr)\n",
    "\n",
    "            if len(fnames) > 1:\n",
    "                files.append(self.select_longest(fnames))\n",
    "            elif len(fnames) == 0:\n",
    "                _year = _year +1\n",
    "                continue\n",
    "            else:\n",
    "                files.append(fnames[0])\n",
    "\n",
    "            # Get end year of latest file\n",
    "            ## Remove file-ext and path\n",
    "            f, ext = os.path.splitext(files[-1])\n",
    "            _endtime = UTC(f.split('_')[-1])\n",
    "            if _endtime.year >= endtime.year:\n",
    "                break\n",
    "            _year = _year + 1\n",
    "        return files\n",
    "\n",
    "    \n",
    "    def select_longest(self, fnames):\n",
    "        logger.debug(\"Found %s files for year.\" % \n",
    "                     str(len(fnames)))\n",
    "        f, ext = os.path.splitext(fnames[0])\n",
    "        print(f.split('_')[-1])\n",
    "        edate = UTC(f.split('_')[-1])\n",
    "        for _f in fnames[1:]:\n",
    "            _f = os.path.split(\n",
    "                    os.path.splitext(\n",
    "                        _f)[0])[-1]\n",
    "            _edate = UTC(_f.split('_')[-1])\n",
    "            if _edate >= edate:\n",
    "                edate = _edate\n",
    "            if edate >= self.endtime:\n",
    "                break\n",
    "        print(f+ext)\n",
    "        return f+ext"
   ]
  },
  {
   "cell_type": "code",
   "execution_count": null,
   "id": "f476f60a-bcfc-4a19-9616-d8cb653a5c95",
   "metadata": {},
   "outputs": [],
   "source": [
    "      \n",
    "\n",
    "def get_filenames(starttime, endtime, datadir, stationcode):\n",
    "    filehead = os.path.join(datadir, stationcode)\n",
    "    fmtstr = filehead + \"_{:04d}*.hdf5\"\n",
    "    print(fmtstr)\n",
    "    _year = starttime.year\n",
    "    files = []\n",
    "    while _year <= endtime.year:\n",
    "        searchstr = fmtstr.format(_year)\n",
    "        #print(searchstr)\n",
    "        fnames = glob(searchstr)\n",
    "        #print(fnames)\n",
    "        \n",
    "        if len(fnames) > 1:\n",
    "            files.append(select_longest(fnames, endtime))\n",
    "        elif len(fnames) == 0:\n",
    "            _year = _year +1\n",
    "            continue\n",
    "        else:\n",
    "            files.append(fnames[0])\n",
    "        \n",
    "        # Get end year of latest file\n",
    "        ## Remove file-ext and path\n",
    "        f, ext = os.path.splitext(files[-1])\n",
    "        _endtime = UTC(f.split('_')[-1])\n",
    "        if _endtime.year >= endtime.year:\n",
    "            break\n",
    "        _year = _year + 1\n",
    "        \n",
    "    return files\n",
    "\n",
    "def select_longest(fnames, endtime):\n",
    "    logger.debug(\"Found %s files for year.\" % str(len(fnames)))\n",
    "    f, ext = os.path.splitext(fnames[0])\n",
    "    print(f.split('_')[-1])\n",
    "    edate = UTC(f.split('_')[-1])\n",
    "    for _f in fnames[1:]:\n",
    "        _f = os.path.split(\n",
    "                os.path.splitext(\n",
    "                    _f)[0])[-1]\n",
    "        _edate = UTC(_f.split('_')[-1])\n",
    "        if _edate >= edate:\n",
    "            edate = _edate\n",
    "        if edate >= endtime:\n",
    "            break\n",
    "    print(f+ext)\n",
    "    return f+ext"
   ]
  },
  {
   "cell_type": "code",
   "execution_count": null,
   "id": "c704da67-1b8a-4f9e-abd2-63b33563a538",
   "metadata": {},
   "outputs": [],
   "source": [
    "network = 'GR'\n",
    "station = 'BFO'\n",
    "location = ''\n",
    "channel = 'BHZ'\n",
    "#datadir = '/home/lehr/sds/processed/'\n",
    "datadir = \"../data/\"\n",
    "stationcode = \"{}.{}.{}.{}\".format(network, station, \n",
    "                                   location, channel)"
   ]
  },
  {
   "cell_type": "code",
   "execution_count": null,
   "id": "c582239e-8f9d-4ac7-be04-f53734e47744",
   "metadata": {},
   "outputs": [],
   "source": [
    "starttime = UTC(\"2018-01-02\")\n",
    "endtime = UTC(\"2021-01-12\")"
   ]
  },
  {
   "cell_type": "code",
   "execution_count": null,
   "id": "c43001e3-793b-4ee4-a400-be4b40118409",
   "metadata": {},
   "outputs": [],
   "source": [
    "analyzer = Analyzer(starttime, endtime, datadir, stationcode)"
   ]
  },
  {
   "cell_type": "code",
   "execution_count": null,
   "id": "ec0e8e8a-6ca6-4fed-b3a6-d0ef347fe003",
   "metadata": {},
   "outputs": [],
   "source": [
    "analyzer.data"
   ]
  },
  {
   "cell_type": "code",
   "execution_count": null,
   "id": "5a115414-6708-44b4-82b6-969a94d4a713",
   "metadata": {},
   "outputs": [],
   "source": []
  },
  {
   "cell_type": "code",
   "execution_count": null,
   "id": "2f299fc2-1908-492c-8aab-174d8d8c3aeb",
   "metadata": {},
   "outputs": [],
   "source": []
  },
  {
   "cell_type": "code",
   "execution_count": null,
   "id": "d3756414-3516-42fd-83d4-56909252dfb3",
   "metadata": {},
   "outputs": [],
   "source": []
  },
  {
   "cell_type": "code",
   "execution_count": null,
   "id": "eff49247-514c-46c2-b863-e20a94565e03",
   "metadata": {},
   "outputs": [],
   "source": [
    "files = get_filenames(starttime, endtime, datadir, stationcode)"
   ]
  },
  {
   "cell_type": "code",
   "execution_count": null,
   "id": "b6d06cab-8366-496a-930c-3a60820cad7e",
   "metadata": {},
   "outputs": [],
   "source": [
    "starttime = UTC(\"2018-01-01\")\n",
    "endtime = UTC(\"2018-12-31\")"
   ]
  },
  {
   "cell_type": "code",
   "execution_count": null,
   "id": "be1ace5e-86a0-4eff-be32-2b5378c75709",
   "metadata": {},
   "outputs": [],
   "source": [
    "dt = timedelta(seconds=endtime-starttime)"
   ]
  },
  {
   "cell_type": "code",
   "execution_count": null,
   "id": "8f492b16-6937-43df-9ea6-310a6e36ba9d",
   "metadata": {},
   "outputs": [],
   "source": [
    "dt.days"
   ]
  },
  {
   "cell_type": "code",
   "execution_count": null,
   "id": "5dee7526-67c8-4cc5-8bf4-78055e530d38",
   "metadata": {},
   "outputs": [],
   "source": [
    "files"
   ]
  },
  {
   "cell_type": "code",
   "execution_count": null,
   "id": "70403273-0dc2-4bda-8655-e81604a06c80",
   "metadata": {},
   "outputs": [],
   "source": [
    "glob(\"/home/lehr/sds/processed/GR.BFO..BHZ_2021-01-02_*.hdf5\")"
   ]
  },
  {
   "cell_type": "code",
   "execution_count": null,
   "id": "4e5972de-bfe1-4219-8482-bbb3d04a89fc",
   "metadata": {},
   "outputs": [],
   "source": [
    "files"
   ]
  },
  {
   "cell_type": "code",
   "execution_count": null,
   "id": "f0ff32ab-a5c3-46fd-970c-1e0c63332f08",
   "metadata": {},
   "outputs": [],
   "source": [
    "data = MyProcessedData()"
   ]
  },
  {
   "cell_type": "code",
   "execution_count": null,
   "id": "c59e21c5-7a48-4964-9295-be32b6577dba",
   "metadata": {},
   "outputs": [],
   "source": [
    "data.from_file(fname)"
   ]
  },
  {
   "cell_type": "code",
   "execution_count": null,
   "id": "0188dbbd-f957-428b-bfd9-50ffefd7def7",
   "metadata": {},
   "outputs": [],
   "source": [
    "data.plot()"
   ]
  },
  {
   "cell_type": "code",
   "execution_count": null,
   "id": "10c9d76f-0078-47c2-b22d-b032d933376e",
   "metadata": {},
   "outputs": [],
   "source": []
  }
 ],
 "metadata": {
  "language_info": {
   "name": "python",
   "pygments_lexer": "ipython3"
  }
 },
 "nbformat": 4,
 "nbformat_minor": 5
}

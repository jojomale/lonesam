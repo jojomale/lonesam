{
 "cells": [
  {
   "cell_type": "code",
   "execution_count": null,
   "id": "47464d40-94f3-45b6-916b-00a6d8c0b433",
   "metadata": {},
   "outputs": [],
   "source": []
  },
  {
   "cell_type": "code",
   "execution_count": null,
   "id": "2b9c54c2-2aac-4be2-8539-d00ef5197b23",
   "metadata": {},
   "outputs": [],
   "source": [
    "from importlib import reload\n",
    "import os\n",
    "\n",
    "from obspy.clients.filesystem.sds import Client as SDSClient\n",
    "from obspy.clients.fdsn import RoutingClient, Client\n",
    "from obspy.core import UTCDateTime as UTC\n",
    "from obspy import read_inventory\n",
    "from obspy.signal import util\n",
    "\n",
    "import matplotlib.pyplot as plt\n",
    "plt.style.use('tableau-colorblind10')\n",
    "\n",
    "from data_quality_control import sds_db, base"
   ]
  },
  {
   "cell_type": "markdown",
   "id": "e589a4a8-fe30-4bba-bf2f-b4090c153d31",
   "metadata": {},
   "source": [
    "## Define parameters"
   ]
  },
  {
   "cell_type": "code",
   "execution_count": null,
   "id": "7031fa2d-2277-49e1-a626-988ac8c40036",
   "metadata": {},
   "outputs": [],
   "source": [
    "nslc_code = \"GR.BFO..BHZ\"\n",
    "\n",
    "overlap = 60 #3600\n",
    "fmin, fmax = (4, 14)\n",
    "nperseg = 2048\n",
    "winlen_in_s = 3600\n",
    "proclen = 24*3600\n",
    "\n",
    "outdir = 'output'\n",
    "\n",
    "sds_root = os.path.abspath('../../sample_sds/')\n",
    "#inventory_routing_type = \"eida-routing\"\n",
    "inventory_routing_type = read_inventory(\"../../sample_sds/GR.BFO..BHZ.xml\")"
   ]
  },
  {
   "cell_type": "code",
   "execution_count": null,
   "id": "68d36167-63d1-4b12-bebe-f09748aec0f8",
   "metadata": {},
   "outputs": [],
   "source": [
    "startdate = UTC(\"2020-12-24\")\n",
    "enddate = UTC(\"2021-01-15\")"
   ]
  },
  {
   "cell_type": "code",
   "execution_count": null,
   "id": "77cc3342-0115-4b9c-85b5-bfc49043b396",
   "metadata": {},
   "outputs": [],
   "source": [
    "reload(sds_db)\n",
    "proc_params = base.ProcessingParameters(proclen_seconds=proclen)\n",
    "sdsp = sds_db.SDSProcessor(nslc_code,\n",
    "                                    inventory_routing_type, sds_root, \n",
    "                                        outdir=outdir, **proc_params.get_dict())"
   ]
  },
  {
   "cell_type": "code",
   "execution_count": null,
   "id": "66df6779-fe39-4ec5-b25f-cfce5b2aaa59",
   "metadata": {},
   "outputs": [],
   "source": [
    "sdsp.invclient"
   ]
  },
  {
   "cell_type": "code",
   "execution_count": null,
   "id": "3e230bac-1eb0-442f-950f-9646d82e933e",
   "metadata": {},
   "outputs": [],
   "source": [
    "sdsp"
   ]
  },
  {
   "cell_type": "code",
   "execution_count": null,
   "id": "be87d4c0-ee21-4b0d-8436-949a75ca3b2b",
   "metadata": {},
   "outputs": [],
   "source": [
    "sdsp.process(startdate, enddate)"
   ]
  },
  {
   "cell_type": "code",
   "execution_count": null,
   "id": "8bcc720c-e9c4-49bb-b6d3-7b6e859b9859",
   "metadata": {},
   "outputs": [],
   "source": []
  }
 ],
 "metadata": {
  "language_info": {
   "name": "python",
   "pygments_lexer": "ipython3"
  }
 },
 "nbformat": 4,
 "nbformat_minor": 5
}

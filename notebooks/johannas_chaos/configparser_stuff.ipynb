{
 "cells": [
  {
   "cell_type": "code",
   "execution_count": null,
   "id": "d7bdf98c-9966-400d-ac4c-bb8708d087e4",
   "metadata": {},
   "outputs": [],
   "source": [
    "import configparser\n",
    "import os"
   ]
  },
  {
   "cell_type": "code",
   "execution_count": null,
   "id": "5f3f74a0-7ca8-4356-8bbb-82795cea2802",
   "metadata": {},
   "outputs": [],
   "source": [
    "from obspy.clients.filesystem.sds import Client\n",
    "from obspy.clients.fdsn import RoutingClient\n",
    "from obspy.core import UTCDateTime as UTC"
   ]
  },
  {
   "cell_type": "code",
   "execution_count": null,
   "id": "b4062ab3-eed6-422c-ada6-94e7a59adbe9",
   "metadata": {},
   "outputs": [],
   "source": [
    "\n",
    "default_settings = dict(network = '*',\n",
    "    station = '*',\n",
    "    location = '',\n",
    "    channel = '*',\n",
    "    overlap = 60,\n",
    "    amplitude_frequencies = (4,14),\n",
    "    nperseg = 2048,\n",
    "    winlen_in_s = 3600,\n",
    "    proclen = 24*3600,\n",
    "    sds_root = os.path.abspath('.'),\n",
    "    inventory_routing_type = \"eida-routing\")\n",
    "\n",
    "\n",
    "class RawDataProcessor():\n",
    "    def __init__(self, **kwargs):\n",
    "        # Set the intended attributes from default_settings\n",
    "        for k, v in default_settings.items():\n",
    "            self.__setattr__(k, v)\n",
    "        \n",
    "        # Override attributes from configfile if given\n",
    "        try:\n",
    "            v = kwargs.pop('configfile')\n",
    "            print('configfile', v)\n",
    "            self.from_config(v)\n",
    "            self.configfile = v\n",
    "        except KeyError:\n",
    "            pass\n",
    "            \n",
    "        # Override attributes directly given as argument\n",
    "        #for k, v in kwargs.items():\n",
    "        #    try:\n",
    "        #        self.__getattribute__(k)\n",
    "        #    except AttributeError:\n",
    "        #        raise AttributeError(\"Unknown keyword {}.\".format(k))\n",
    "        #    self.__setattr__(k, v)\n",
    "        self._check_set_attr(kwargs)\n",
    "        \n",
    "        self.sdsclient = Client(self.sds_root)\n",
    "        self.invclient = RoutingClient(self.inventory_routing_type)\n",
    "        self.processed_codes = set()\n",
    "\n",
    "\n",
    "    def from_config(self, configfile):\n",
    "\n",
    "        if not os.path.isfile(configfile):\n",
    "            raise FileNotFoundError(\"No config-file %s \" % \n",
    "                    configfile)\n",
    "\n",
    "        config = configparser.ConfigParser()\n",
    "        config.read(configfile)\n",
    "        \n",
    "        sec = \"PROCESSING PARAMETERS\"\n",
    "        \n",
    "        # Get strings\n",
    "        str_kws = [k for k, v in default_settings.items() \n",
    "           if isinstance(v, str)]\n",
    "        \n",
    "        for k in str_kws:\n",
    "            v = config[sec].get(k) \n",
    "            self.__setattr__(k, v)\n",
    "        \n",
    "        # Get number parameters (we expect only ints)\n",
    "        num_kws = [k for k,v in default_settings.items()\n",
    "                   if any([isinstance(v, int), \n",
    "                          isinstance(v, float)])]\n",
    "        for k in num_kws:\n",
    "            v = config[sec].getint(k)\n",
    "            self.__setattr__(k, v)\n",
    "        \n",
    "        # Get tuples\n",
    "        k = 'amplitude_frequencies'\n",
    "        v = [float(i) for i in \n",
    "             config[sec][k].split(',')]\n",
    "        self.__setattr__(k, v)\n",
    "        \n",
    "        sec = \"SDS_CLIENT_DICT\"\n",
    "        sds_client_dict = {}\n",
    "        for k in ['sds_type', 'format']:\n",
    "            v = config[sec].get(k)\n",
    "            if v is not None:\n",
    "                sds_client_dict[k] = v\n",
    "        \n",
    "        for k in [\"fileborder_samples\", \"fileborder_seconds\"]:\n",
    "            v = config[sec].getint(k)\n",
    "            if v is not None:\n",
    "                sds_client_dict[k] = v\n",
    "        self.__setattr__('sds_client_dict', sds_client_dict)\n",
    "        return config\n",
    "        \n",
    "        \n",
    "    def show_params(self):\n",
    "        print(self.__dict__)\n",
    "        \n",
    "    \n",
    "    def _check_set_attr(self, kwargs):\n",
    "        # Override attributes directly given as argument\n",
    "        for k, v in kwargs.items():\n",
    "            try:\n",
    "                self.__getattribute__(k)\n",
    "            except AttributeError:\n",
    "                raise AttributeError(\"Unknown keyword {}.\".format(k))\n",
    "            self.__setattr__(k, v)\n"
   ]
  },
  {
   "cell_type": "code",
   "execution_count": null,
   "id": "e2cad40f-920b-4bc5-b5c5-f3e8d1923dd6",
   "metadata": {},
   "outputs": [],
   "source": [
    "proc = RawDataProcessor()\n",
    "\n",
    "proc.show_params()"
   ]
  },
  {
   "cell_type": "code",
   "execution_count": null,
   "id": "be58d028-a312-4a05-8522-196cfd5411c6",
   "metadata": {},
   "outputs": [],
   "source": [
    "config = proc.from_config('config.ini')"
   ]
  },
  {
   "cell_type": "code",
   "execution_count": null,
   "id": "ee520f6c-d6a0-4245-b9c2-9d35a557162f",
   "metadata": {},
   "outputs": [],
   "source": [
    "proc = RawDataProcessor(configfile='config.ini')"
   ]
  },
  {
   "cell_type": "code",
   "execution_count": null,
   "id": "8f762564-c292-4c75-8be2-770b39b2a42f",
   "metadata": {},
   "outputs": [],
   "source": [
    "proc.show_params()"
   ]
  },
  {
   "cell_type": "code",
   "execution_count": null,
   "id": "5a82d3ea-ed27-421a-a204-257a79451949",
   "metadata": {},
   "outputs": [],
   "source": [
    "proc = RawDataProcessor(configfile='config.ini', \n",
    "                        network=\"KL\")"
   ]
  },
  {
   "cell_type": "code",
   "execution_count": null,
   "id": "18be1743-171e-4825-8eb6-f055a60d6509",
   "metadata": {},
   "outputs": [],
   "source": [
    "proc.show_params()"
   ]
  },
  {
   "cell_type": "code",
   "execution_count": null,
   "id": "6b1d1cb8-bb0d-4e2e-abd3-1c6751a677cf",
   "metadata": {},
   "outputs": [],
   "source": [
    "bla = dict(h=1, n=10)"
   ]
  },
  {
   "cell_type": "code",
   "execution_count": null,
   "id": "2225c1f1-5ef8-4d2c-9c2a-c8e6e50b3736",
   "metadata": {},
   "outputs": [],
   "source": [
    "defaults = dict(network = '*',\n",
    "    station = '*',\n",
    "    location = '',\n",
    "    channel = '*',\n",
    "    overlap = 60,\n",
    "    amplitude_frequencies = (4,14),\n",
    "    #fmin = 4,\n",
    "    #fmax = 14,\n",
    "    nperseg = 2048,\n",
    "    winlen_in_s = 3600,\n",
    "    proclen = 24*3600,\n",
    "    sds_root = os.path.abspath('.'),\n",
    "    inventory_routing_type = \"eida-routing\",\n",
    "    sds_client_dict = {})"
   ]
  },
  {
   "cell_type": "code",
   "execution_count": null,
   "id": "fc5ade98-66b2-44be-b55c-dff9616e62ba",
   "metadata": {},
   "outputs": [],
   "source": [
    "config_from_dict = configparser.ConfigParser()\n",
    "\n",
    "sec = \"PROCESSING PARAMETERS\"\n",
    "config_from_dict[sec] = {}\n",
    "for k, v in defaults.items():\n",
    "    print(k, v)\n",
    "    if isinstance(v, str):\n",
    "        v = v\n",
    "    elif isinstance(v, int) or isinstance(v, float):\n",
    "        v = str(v)\n",
    "    elif isinstance(v, list) or isinstance(v, tuple):\n",
    "        v = ','.join([str(vi) for vi in v])\n",
    "    elif isinstance(v, dict):\n",
    "        config_from_dict.read_dict({k.upper(): v})\n",
    "        continue\n",
    "    config_from_dict.set(sec, k, v)\n",
    "    \n",
    "\n",
    "with open('config.ini', 'w') as fp:\n",
    "    config_from_dict.write(fp)"
   ]
  },
  {
   "cell_type": "code",
   "execution_count": null,
   "id": "e404923b-163f-43a6-826e-158b9c1dac24",
   "metadata": {},
   "outputs": [],
   "source": []
  },
  {
   "cell_type": "code",
   "execution_count": null,
   "id": "5dc07e67-9c3b-49b1-a59f-fc33a012ee4f",
   "metadata": {},
   "outputs": [],
   "source": []
  },
  {
   "cell_type": "code",
   "execution_count": null,
   "id": "bcf28de0-8397-45d0-bb58-21c562a40229",
   "metadata": {},
   "outputs": [],
   "source": [
    "cin = configparser.ConfigParser()\n",
    "cin.read('config.ini')"
   ]
  },
  {
   "cell_type": "code",
   "execution_count": null,
   "id": "9caf0dc9-07af-4c9d-95b3-0e70fcde5887",
   "metadata": {},
   "outputs": [],
   "source": [
    "str_kws = [k for k, v in default_settings.items() \n",
    "           if isinstance(v, str)]"
   ]
  },
  {
   "cell_type": "code",
   "execution_count": null,
   "id": "06123f31-ae8c-419a-a249-7455fda52c24",
   "metadata": {},
   "outputs": [],
   "source": [
    "sec = \"PROCESSING PARAMETERS\"\n",
    "\n",
    "for k,v in cin[sec].items():\n",
    "    print(k, v)"
   ]
  },
  {
   "cell_type": "code",
   "execution_count": null,
   "id": "fd813bcf-8fff-4327-ab6d-a5296a212f82",
   "metadata": {},
   "outputs": [],
   "source": [
    "for k in str_kws:\n",
    "    #print(k)\n",
    "    v = cin[sec].get(k) \n",
    "    #self.__setattr__(k, v)\n",
    "    \n",
    "    print(k, v)"
   ]
  },
  {
   "cell_type": "code",
   "execution_count": null,
   "id": "7e911d9f-76c2-4b97-a427-19e7c738bc5d",
   "metadata": {},
   "outputs": [],
   "source": [
    "sec = \"SDS_CLIENT_DICT\""
   ]
  },
  {
   "cell_type": "code",
   "execution_count": null,
   "id": "6e6740e7-3b91-471a-9d6d-6873b61dc253",
   "metadata": {},
   "outputs": [],
   "source": [
    "sds_client_dict = {}\n",
    "for k in ['sds_type', 'format']:\n",
    "    v = cin[sec].get(k)\n",
    "    if v is not None:\n",
    "        sds_client_dict[k] = v\n"
   ]
  },
  {
   "cell_type": "code",
   "execution_count": null,
   "id": "16470335-213d-48a4-bb41-326ff43d59b0",
   "metadata": {},
   "outputs": [],
   "source": [
    "sds_client_dict"
   ]
  },
  {
   "cell_type": "code",
   "execution_count": null,
   "id": "46e5ad35-55fe-4eac-9022-fa424a5c4be3",
   "metadata": {},
   "outputs": [],
   "source": [
    "sdsclient = Client('.', **sds_client_dict)"
   ]
  },
  {
   "cell_type": "code",
   "execution_count": null,
   "id": "e2f1e49e-1235-4d59-8e89-749ef07dee65",
   "metadata": {},
   "outputs": [],
   "source": [
    "sdsclient.__dict__"
   ]
  },
  {
   "cell_type": "code",
   "execution_count": null,
   "id": "8b722d67-91c7-47ad-87c9-49d33cce9dcc",
   "metadata": {},
   "outputs": [],
   "source": [
    "for sec, params in cin.items():\n",
    "    print(sec, params)\n",
    "    for k, v in params.items():\n",
    "        print(k, v)\n",
    "        "
   ]
  },
  {
   "cell_type": "code",
   "execution_count": null,
   "id": "d79d53d6-5a1c-4d3e-b1e0-069466fc32b3",
   "metadata": {},
   "outputs": [],
   "source": []
  },
  {
   "cell_type": "code",
   "execution_count": null,
   "id": "8c229c7a-cca5-400e-9a60-ece27bb7cf4d",
   "metadata": {},
   "outputs": [],
   "source": [
    "params['amplitude_frequencies']"
   ]
  },
  {
   "cell_type": "code",
   "execution_count": null,
   "id": "f0148c4d-ae0b-4319-aa97-d98c100f030d",
   "metadata": {},
   "outputs": [],
   "source": [
    "defaults.update({'configfile':'config.ini'})"
   ]
  },
  {
   "cell_type": "code",
   "execution_count": null,
   "id": "9aa97c78-163c-40b6-a5d6-6c0da04ca859",
   "metadata": {},
   "outputs": [],
   "source": [
    "defaults"
   ]
  },
  {
   "cell_type": "code",
   "execution_count": null,
   "id": "6d5a42b8-4003-484a-b37d-04be59752bd6",
   "metadata": {},
   "outputs": [],
   "source": [
    "network = '*'\n",
    "station = '*'\n",
    "channel = '*'\n",
    "\n",
    "overlap = 60 #3600\n",
    "fmin, fmax = (4, 14)\n",
    "nperseg = 2048\n",
    "winlen_in_s = 3600\n",
    "proclen = 24*3600\n",
    "\n",
    "sds_root = os.path.abspath('../sample_sds/')\n",
    "inventory_routing_type = \"eida-routing\""
   ]
  },
  {
   "cell_type": "code",
   "execution_count": null,
   "id": "388573b4-f16b-42b2-b4f4-771c37a30320",
   "metadata": {},
   "outputs": [],
   "source": [
    "config = configparser.ConfigParser()\n",
    "sec = \"NETWORK\"\n",
    "config[sec] = {}\n",
    "config[sec][\"network\"] = network\n",
    "config[sec][\"station\"] = station\n",
    "config[sec][\"channel\"] = channel\n",
    "\n",
    "sec = \"PROCESSING\"\n",
    "config[sec] = {}\n",
    "config[sec][\"overlap\"] = str(overlap)\n",
    "config[sec][\"fmin\"] = str(fmin)\n",
    "config[sec][\"fmax\"] = str(fmax)\n",
    "config[sec][\"nperseg\"] = str(nperseg)\n",
    "config[sec][\"winlen_in_s\"] = str(winlen_in_s)\n",
    "config[sec][\"proclen\"] = str(proclen)\n",
    "config[sec][\"sds_root\"] = sds_root\n",
    "config[sec][\"inventory_routing_type\"] = inventory_routing_type"
   ]
  },
  {
   "cell_type": "code",
   "execution_count": null,
   "id": "ffaaddc7-b306-4088-ab3c-8d8b273e8391",
   "metadata": {},
   "outputs": [],
   "source": [
    "with open('config.ini', 'w') as fp:\n",
    "    config.write(fp)"
   ]
  },
  {
   "cell_type": "code",
   "execution_count": null,
   "id": "84b75f51-382c-4ad4-a8e2-ee8fceb2f971",
   "metadata": {},
   "outputs": [],
   "source": [
    "sdsclient = Client(sds_root)\n",
    "invclient = RoutingClient(inventory_routing_type)"
   ]
  },
  {
   "cell_type": "code",
   "execution_count": null,
   "id": "38cf2da3-e5a3-448f-b364-7510d9976c8d",
   "metadata": {},
   "outputs": [],
   "source": [
    "from importlib import reload"
   ]
  },
  {
   "cell_type": "code",
   "execution_count": null,
   "id": "2b662fb7-67b2-416c-b819-2739ff90db92",
   "metadata": {},
   "outputs": [],
   "source": [
    "from data_quality_control import processing"
   ]
  },
  {
   "cell_type": "code",
   "execution_count": null,
   "id": "20902125-86a9-49b3-9afd-dfc1c7fdc5f4",
   "metadata": {},
   "outputs": [],
   "source": [
    "reload(processing)"
   ]
  },
  {
   "cell_type": "code",
   "execution_count": null,
   "id": "fd7387f8-0835-4e30-bb36-979286eae76e",
   "metadata": {},
   "outputs": [],
   "source": [
    "c = processing.get_default_settings()"
   ]
  },
  {
   "cell_type": "code",
   "execution_count": null,
   "id": "1a82d312-c0eb-47c7-a1e3-57ad8fb2e647",
   "metadata": {},
   "outputs": [],
   "source": []
  },
  {
   "cell_type": "code",
   "execution_count": null,
   "id": "f638d805-0e9e-42a7-93b2-9358466bed05",
   "metadata": {},
   "outputs": [],
   "source": []
  }
 ],
 "metadata": {
  "language_info": {
   "name": "python",
   "pygments_lexer": "ipython3"
  }
 },
 "nbformat": 4,
 "nbformat_minor": 5
}

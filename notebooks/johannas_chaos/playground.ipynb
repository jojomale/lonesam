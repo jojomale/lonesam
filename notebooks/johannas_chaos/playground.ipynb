{
 "cells": [
  {
   "cell_type": "code",
   "execution_count": null,
   "id": "8b368930-138b-4b65-bd2f-01db47a1ac09",
   "metadata": {},
   "outputs": [],
   "source": [
    "from importlib import reload\n",
    "import os\n",
    "\n",
    "from data_quality_control import processing\n",
    "\n",
    "from obspy.clients.filesystem.sds import Client\n",
    "from obspy.clients.fdsn import RoutingClient\n",
    "from obspy.core import UTCDateTime as UTC\n",
    "from obspy.signal import util\n",
    "\n",
    "\n",
    "import matplotlib.pyplot as plt\n",
    "plt.style.use('tableau-colorblind10')\n"
   ]
  },
  {
   "cell_type": "code",
   "execution_count": null,
   "id": "47526cda-3458-410d-a144-22ab703b89fc",
   "metadata": {},
   "outputs": [],
   "source": [
    "from data"
   ]
  },
  {
   "cell_type": "code",
   "execution_count": null,
   "id": "4d75be8b-7b54-4ee3-9f5f-9d504c4d9a21",
   "metadata": {},
   "outputs": [],
   "source": [
    "network = 'GR'\n",
    "station = 'BFO'\n",
    "location = ''\n",
    "channel = 'HH*'\n",
    "overlap = 60 #3600\n",
    "\n",
    "fmin, fmax = (4, 14)\n",
    "nperseg = 2048\n",
    "winlen_in_s = 3600\n",
    "proclen = 24*3600\n",
    "\n",
    "outdir = '../tmp_data/'\n",
    "\n",
    "sds_root = os.path.abspath('../sample_sds/')\n",
    "inventory_routing_type = \"eida-routing\"\n",
    "\n",
    "sdsclient = Client(sds_root)\n",
    "invclient = RoutingClient(inventory_routing_type)"
   ]
  },
  {
   "cell_type": "markdown",
   "id": "dd34b81f-0702-4397-9b73-65d3e612f26e",
   "metadata": {},
   "source": [
    "# Test new logger settings"
   ]
  },
  {
   "cell_type": "code",
   "execution_count": null,
   "id": "ba978cec-8d02-4f88-a227-77e1df7d1985",
   "metadata": {},
   "outputs": [],
   "source": [
    "processing.logger.setLevel('DEBUG')"
   ]
  },
  {
   "cell_type": "code",
   "execution_count": null,
   "id": "ec84ad07-d8fb-482f-bd50-4e4d2046726e",
   "metadata": {},
   "outputs": [],
   "source": [
    "reload(processing)\n",
    "processor = processing.RawDataProcessor(\n",
    "        network=network, \n",
    "        station=station,\n",
    "        channel=channel,\n",
    "        sds_root=sds_root,\n",
    "        inventory_routing_type=inventory_routing_type,)"
   ]
  },
  {
   "cell_type": "code",
   "execution_count": null,
   "id": "ffc8b161-ab61-4cda-a931-b8ae7982eb2a",
   "metadata": {},
   "outputs": [],
   "source": [
    "startdate = UTC(\"2018-12-25\")\n",
    "enddate = UTC(\"2019-01-05\")"
   ]
  },
  {
   "cell_type": "code",
   "execution_count": null,
   "id": "e4631e51-a31d-44af-8956-3e0c8e789069",
   "metadata": {},
   "outputs": [],
   "source": [
    "%%time\n",
    "#it -n1 -r7\n",
    "processor.process(startdate, enddate, outdir,\n",
    "                        overlap=overlap, \n",
    "            winlen_in_s=winlen_in_s,\n",
    "        nperseg=nperseg, proclen=proclen,\n",
    "                 amplitude_frequencies=(fmin, fmax))"
   ]
  },
  {
   "cell_type": "code",
   "execution_count": null,
   "id": "ccc46856-747b-4d43-8eb2-71c1fd125735",
   "metadata": {},
   "outputs": [],
   "source": [
    "processing.logger.setLevel('INFO')"
   ]
  },
  {
   "cell_type": "code",
   "execution_count": null,
   "id": "fc062d51-0ec8-49c2-89e2-c47a924de7bc",
   "metadata": {},
   "outputs": [],
   "source": [
    "%%time\n",
    "#it -n1 -r7\n",
    "processor.process(startdate, enddate, outdir,\n",
    "                        overlap=overlap, \n",
    "            winlen_in_s=winlen_in_s,\n",
    "        nperseg=nperseg, proclen=proclen,\n",
    "                 amplitude_frequencies=(fmin, fmax))"
   ]
  },
  {
   "cell_type": "code",
   "execution_count": null,
   "id": "223308f6-c038-4edb-94b2-1bbe0d472c27",
   "metadata": {},
   "outputs": [],
   "source": []
  },
  {
   "cell_type": "markdown",
   "id": "72c36787-14db-4b1e-8b7d-c44489018953",
   "metadata": {},
   "source": [
    "# Test print function\n",
    "\n",
    "Introduced new formatting"
   ]
  },
  {
   "cell_type": "code",
   "execution_count": null,
   "id": "a47351b5-a1c5-45d2-b92d-f257ad536f94",
   "metadata": {},
   "outputs": [],
   "source": [
    "reload(processing)\n",
    "processor = processing.RawDataProcessor(\n",
    "        network=network, \n",
    "        station=station,\n",
    "        channel=channel,\n",
    "        sds_root=sds_root,\n",
    "        inventory_routing_type=inventory_routing_type,)"
   ]
  },
  {
   "cell_type": "code",
   "execution_count": null,
   "id": "9b125669-9625-4c98-86cc-02c974d393d7",
   "metadata": {},
   "outputs": [],
   "source": [
    "processor.print()"
   ]
  },
  {
   "cell_type": "code",
   "execution_count": null,
   "id": "e4b0f4b5-62e9-48bf-8e20-3cc88b3d082f",
   "metadata": {},
   "outputs": [],
   "source": []
  },
  {
   "cell_type": "code",
   "execution_count": null,
   "id": "f880733e-bcf1-4192-b641-1aad80aad08a",
   "metadata": {},
   "outputs": [],
   "source": [
    "t = UTC(\"2021-001\")"
   ]
  },
  {
   "cell_type": "code",
   "execution_count": null,
   "id": "353dfeaf-c87f-4115-aae3-a5f05bf1da17",
   "metadata": {},
   "outputs": [],
   "source": [
    "UTC(t)"
   ]
  },
  {
   "cell_type": "code",
   "execution_count": null,
   "id": "c6475e9d-ad11-471a-a603-cca00a1af081",
   "metadata": {},
   "outputs": [],
   "source": [
    "startdate = UTC(\"2021-10-01\")\n",
    "enddate = UTC(\"2021-10-02\")"
   ]
  },
  {
   "cell_type": "code",
   "execution_count": null,
   "id": "b95f3066-001d-4032-98ba-adefb4df3896",
   "metadata": {},
   "outputs": [],
   "source": [
    "class myClass():\n",
    "    def __init__(self, configfile=None, **args):\n",
    "        self.configfile = configfile\n",
    "        self.from_configfile(self.configfile)\n",
    "        self.name = 'my'\n",
    "        self.args = args\n",
    "        \n",
    "        for k, v in args.items():\n",
    "            print(k, v)\n",
    "            self.__setattr__(k, v)\n",
    "        #return args\n",
    "        \n",
    "    def from_configfile(self, configfile):\n",
    "        pass"
   ]
  },
  {
   "cell_type": "code",
   "execution_count": null,
   "id": "1bcd69b9-618d-43d1-a3d1-b58c174bdd3a",
   "metadata": {},
   "outputs": [],
   "source": [
    "x = myClass(network=10, bla='blup')"
   ]
  },
  {
   "cell_type": "code",
   "execution_count": null,
   "id": "bf4ad13a-fe1e-44bc-9421-aa0cc9c22077",
   "metadata": {},
   "outputs": [],
   "source": [
    "x.args"
   ]
  },
  {
   "cell_type": "code",
   "execution_count": null,
   "id": "8b71040d-7cc3-4d7e-8462-b738135cc78b",
   "metadata": {},
   "outputs": [],
   "source": [
    "x.name, x.bla"
   ]
  },
  {
   "cell_type": "code",
   "execution_count": null,
   "id": "beeb8253-165b-42cf-be4d-0718d93f82f7",
   "metadata": {},
   "outputs": [],
   "source": [
    "x.__setattr__("
   ]
  },
  {
   "cell_type": "code",
   "execution_count": null,
   "id": "1c22f12c-4354-4841-86ec-907e51add6b5",
   "metadata": {},
   "outputs": [],
   "source": [
    "if x.__getattribute__('kname'):\n",
    "    print('hi')"
   ]
  },
  {
   "cell_type": "code",
   "execution_count": null,
   "id": "263c6a07-b3fb-4e8f-8ab1-6b31e257bd22",
   "metadata": {},
   "outputs": [],
   "source": []
  },
  {
   "cell_type": "code",
   "execution_count": null,
   "id": "76b77699-24ea-4b70-96a6-45126f918a1c",
   "metadata": {},
   "outputs": [],
   "source": []
  },
  {
   "cell_type": "code",
   "execution_count": null,
   "id": "22328efe-5073-43d9-ad46-d1bfef1f1707",
   "metadata": {},
   "outputs": [],
   "source": [
    "st = sdsclient.get_waveforms(network, station, location,\n",
    "                        channel, startdate, enddate)"
   ]
  },
  {
   "cell_type": "code",
   "execution_count": null,
   "id": "293b0508-d27f-41ac-abae-f65dc46449e4",
   "metadata": {},
   "outputs": [],
   "source": [
    "sdsclient."
   ]
  },
  {
   "cell_type": "code",
   "execution_count": null,
   "id": "61961df7-eabc-418d-8f95-a38155284876",
   "metadata": {},
   "outputs": [],
   "source": [
    "st"
   ]
  },
  {
   "cell_type": "code",
   "execution_count": null,
   "id": "df5ad4e6-ca29-47cb-8036-a43e7b1a4ed3",
   "metadata": {},
   "outputs": [],
   "source": [
    "reload(processing)\n",
    "\n",
    "processor = processing.RawDataProcessor(\n",
    "    sdsclient, invclient, network, station, location, channel)"
   ]
  },
  {
   "cell_type": "code",
   "execution_count": null,
   "id": "04a33932-2d10-4e32-be5b-c0bd51b30635",
   "metadata": {},
   "outputs": [],
   "source": [
    "%%time\n",
    "data = processor.iterate_files(\n",
    "    startdate, enddate, overlap, winlen_in_s,\n",
    "    nperseg, fmin, fmax,  proclen)"
   ]
  },
  {
   "cell_type": "code",
   "execution_count": null,
   "id": "ecc76175-1c14-4738-89c3-81030f28d134",
   "metadata": {},
   "outputs": [],
   "source": [
    "data.amplitudes.shape"
   ]
  },
  {
   "cell_type": "code",
   "execution_count": null,
   "id": "80a5be51-b59b-4edf-a7ee-eeae168b4c9c",
   "metadata": {},
   "outputs": [],
   "source": [
    "data.to_file('../data/')"
   ]
  },
  {
   "cell_type": "code",
   "execution_count": null,
   "id": "e787ca8b-4f51-4bd3-9449-1b2d8fb34d42",
   "metadata": {},
   "outputs": [],
   "source": [
    "starttime = UTC(\"2021-01-01\")\n",
    "endtime = UTC(\"2021-12-31\")\n",
    "sdsclient.get_availability_percentage(network,\n",
    "    station,\n",
    "    location,\n",
    "    channel,\n",
    "    starttime,\n",
    "    endtime,)"
   ]
  },
  {
   "cell_type": "code",
   "execution_count": null,
   "id": "3279ba3d-fcb4-406d-99b5-72f77e849472",
   "metadata": {},
   "outputs": [],
   "source": []
  },
  {
   "cell_type": "code",
   "execution_count": null,
   "id": "7153e95e-939d-4c65-8eb4-def9c6c70bf4",
   "metadata": {},
   "outputs": [],
   "source": [
    "%%time\n",
    "startdate = UTC(\"2019-12-25\")\n",
    "enddate = UTC(\"2020-01-05\")\n",
    "processor.iterate_years(startdate, enddate, \n",
    "                        overlap, winlen_in_s,\n",
    "    nperseg, fmin, fmax, '../data/',  proclen)"
   ]
  },
  {
   "cell_type": "code",
   "execution_count": null,
   "id": "a9d9715f-8b95-4253-aff1-e155e3f0d6ce",
   "metadata": {},
   "outputs": [],
   "source": [
    "data = processor.iterate_files(\n",
    "    startdate, enddate, overlap, winlen_in_s,\n",
    "    nperseg, fmin, fmax,  proclen)"
   ]
  },
  {
   "cell_type": "code",
   "execution_count": null,
   "id": "13344305-643f-4ccb-aabe-f7eed4ece6ff",
   "metadata": {},
   "outputs": [],
   "source": [
    "data.startdate, data.enddate"
   ]
  },
  {
   "cell_type": "code",
   "execution_count": null,
   "id": "06a9ecdc-218a-46de-aec7-a08e8fc0daef",
   "metadata": {},
   "outputs": [],
   "source": [
    "data.amplitudes"
   ]
  },
  {
   "cell_type": "code",
   "execution_count": null,
   "id": "086df90f-543b-4135-a652-2b74b5a27f64",
   "metadata": {},
   "outputs": [],
   "source": [
    "t = UTC(\"2021-01-01T00:00\")"
   ]
  },
  {
   "cell_type": "code",
   "execution_count": null,
   "id": "14b78885-acd4-4074-868e-4df5ec74f705",
   "metadata": {},
   "outputs": [],
   "source": [
    "dat1 = processing.ProcessedData()\n",
    "dat1.from_file('../data/GR.BFO..HHZ_2020-01-01_2020-01-05.hdf5')"
   ]
  },
  {
   "cell_type": "code",
   "execution_count": null,
   "id": "b0313550-1a21-4631-963c-264221791ad0",
   "metadata": {},
   "outputs": [],
   "source": [
    "dat1.__dict__"
   ]
  },
  {
   "cell_type": "code",
   "execution_count": null,
   "id": "7c20053e-2d28-4703-a7e1-36465279c78e",
   "metadata": {},
   "outputs": [],
   "source": [
    "dat1.amplitudes.shape"
   ]
  },
  {
   "cell_type": "code",
   "execution_count": null,
   "id": "1b2bfa1b-91ee-4477-9158-94a73355bebf",
   "metadata": {},
   "outputs": [],
   "source": [
    "dat1.amplitudes"
   ]
  },
  {
   "cell_type": "code",
   "execution_count": null,
   "id": "2b2497b5-ee33-4821-865c-1e2f6c285b5d",
   "metadata": {},
   "outputs": [],
   "source": [
    "plt.plot(dat1.amplitudes.T)"
   ]
  },
  {
   "cell_type": "code",
   "execution_count": null,
   "id": "f0399a78-0423-40e2-a91b-f71579e1c573",
   "metadata": {},
   "outputs": [],
   "source": []
  },
  {
   "cell_type": "code",
   "execution_count": null,
   "id": "bd79f504-93e4-4fd1-9224-0c4932f0e78f",
   "metadata": {},
   "outputs": [],
   "source": [
    "dat2 = processing.ProcessedData()\n",
    "dat2.from_file('../data/GR.BFO..HHZ_2021-01-01_2021-01-05.hdf5')"
   ]
  },
  {
   "cell_type": "code",
   "execution_count": null,
   "id": "e0a7fc5a-0b30-42bf-9615-98588cce9b4d",
   "metadata": {},
   "outputs": [],
   "source": [
    "dat2.amplitudes.shape"
   ]
  },
  {
   "cell_type": "code",
   "execution_count": null,
   "id": "ef12b1fb-f961-47a3-ab49-8ea6c727bc8f",
   "metadata": {},
   "outputs": [],
   "source": [
    "sdsclient.get_all_stations()"
   ]
  },
  {
   "cell_type": "code",
   "execution_count": null,
   "id": "52810599-0dc1-4d03-b5a9-62d016f8a692",
   "metadata": {},
   "outputs": [],
   "source": [
    "import h5py\n",
    "import numpy as np"
   ]
  },
  {
   "cell_type": "code",
   "execution_count": null,
   "id": "7f1677bd-5cb6-4063-9f47-5f9ac145bcbf",
   "metadata": {},
   "outputs": [],
   "source": [
    "f = h5py.File('mytest.hdf5', 'w')"
   ]
  },
  {
   "cell_type": "code",
   "execution_count": null,
   "id": "6389434e-c4e4-412e-b49e-a1a4cd4dfba0",
   "metadata": {},
   "outputs": [],
   "source": [
    "f.clear()"
   ]
  },
  {
   "cell_type": "code",
   "execution_count": null,
   "id": "bc8701d9-8993-4e3b-8982-6e58ac80865a",
   "metadata": {},
   "outputs": [],
   "source": [
    "amp = f.create_dataset('amp', data=data.amplitudes)"
   ]
  },
  {
   "cell_type": "code",
   "execution_count": null,
   "id": "4726d64b-6d4a-423b-a635-5b295a901e7b",
   "metadata": {},
   "outputs": [],
   "source": [
    "f.attrs"
   ]
  },
  {
   "cell_type": "code",
   "execution_count": null,
   "id": "fac55d37-3e96-464b-a21b-71da908d4960",
   "metadata": {},
   "outputs": [],
   "source": [
    "amp = f['amp']"
   ]
  },
  {
   "cell_type": "code",
   "execution_count": null,
   "id": "57fdc4a7-5cf1-4e9f-a262-2a339c752d01",
   "metadata": {},
   "outputs": [],
   "source": [
    "amp.attrs"
   ]
  },
  {
   "cell_type": "code",
   "execution_count": null,
   "id": "d38312c4-2ad8-42b8-a3fa-57eb6977928c",
   "metadata": {},
   "outputs": [],
   "source": [
    "tp = data.startdate.timetuple()\n",
    "tp"
   ]
  },
  {
   "cell_type": "code",
   "execution_count": null,
   "id": "34e6ef2c-3893-4411-86fb-49add1487516",
   "metadata": {},
   "outputs": [],
   "source": [
    "tpa = np.array(tp)"
   ]
  },
  {
   "cell_type": "code",
   "execution_count": null,
   "id": "a8ed9569-48f8-46ce-8b6a-c471c8271c78",
   "metadata": {},
   "outputs": [],
   "source": [
    "tpa"
   ]
  },
  {
   "cell_type": "code",
   "execution_count": null,
   "id": "55286a07-8207-4fd8-973e-2b6c2f48fee6",
   "metadata": {},
   "outputs": [],
   "source": [
    "tpa.dtype"
   ]
  },
  {
   "cell_type": "code",
   "execution_count": null,
   "id": "d9fe95d4-05e7-4dae-871a-4cf79171e9f4",
   "metadata": {},
   "outputs": [],
   "source": [
    "UTC(*tpa[:6])"
   ]
  },
  {
   "cell_type": "code",
   "execution_count": null,
   "id": "b970ef00-9de0-4424-ad2b-047f8a1b9eb0",
   "metadata": {},
   "outputs": [],
   "source": [
    "f.attrs.create('starttime', \n",
    "                 np.array(data.startdate.timetuple()[:6]))"
   ]
  },
  {
   "cell_type": "code",
   "execution_count": null,
   "id": "24de3504-0a27-4712-9b7b-f99bae4f07f5",
   "metadata": {},
   "outputs": [],
   "source": [
    "UTC(*f.attrs['starttime'])"
   ]
  },
  {
   "cell_type": "code",
   "execution_count": null,
   "id": "eb598b5f-abd9-43e1-9128-39aaeb8be1ac",
   "metadata": {},
   "outputs": [],
   "source": [
    "sc = np.array(data.stationcode)"
   ]
  },
  {
   "cell_type": "code",
   "execution_count": null,
   "id": "7aeef529-ad3a-4f6e-92a5-528de3318952",
   "metadata": {},
   "outputs": [],
   "source": [
    "sc"
   ]
  },
  {
   "cell_type": "code",
   "execution_count": null,
   "id": "d261946a-a672-4c3f-ad3b-7d251344bab7",
   "metadata": {},
   "outputs": [],
   "source": [
    "f.attrs.create('stationcode', data.stationcode)"
   ]
  },
  {
   "cell_type": "code",
   "execution_count": null,
   "id": "5f44e4bd-1837-4916-9f74-ae3fa8c46071",
   "metadata": {},
   "outputs": [],
   "source": [
    "f.attrs['stationcode']"
   ]
  },
  {
   "cell_type": "code",
   "execution_count": null,
   "id": "23045135-eec9-4674-a3a6-396f9aaf4230",
   "metadata": {},
   "outputs": [],
   "source": [
    "f.close()"
   ]
  },
  {
   "cell_type": "code",
   "execution_count": null,
   "id": "4d636c4b-d9c1-4f2d-bdd1-5df74857cbb4",
   "metadata": {},
   "outputs": [],
   "source": []
  },
  {
   "cell_type": "code",
   "execution_count": null,
   "id": "d1044899-8870-4874-a402-bb43b6a60441",
   "metadata": {},
   "outputs": [],
   "source": []
  },
  {
   "cell_type": "code",
   "execution_count": null,
   "id": "5b4e96ee-cf65-4c70-b193-54b55b1a2dfc",
   "metadata": {},
   "outputs": [],
   "source": [
    "fname = \"{}_{}_{}.hdf5\".format(data.stationcode, data.startdate.date, \n",
    "                  data.enddate.date)"
   ]
  },
  {
   "cell_type": "code",
   "execution_count": null,
   "id": "5ab80431-55a2-4643-b195-4b43b5ab248f",
   "metadata": {},
   "outputs": [],
   "source": [
    "fname"
   ]
  },
  {
   "cell_type": "code",
   "execution_count": null,
   "id": "e6ba524a-d0a3-469e-87f2-d36251bf4421",
   "metadata": {},
   "outputs": [],
   "source": []
  },
  {
   "cell_type": "code",
   "execution_count": null,
   "id": "c50d829c-f753-4156-8842-666672c1a20c",
   "metadata": {},
   "outputs": [],
   "source": [
    "with h5py.File(fname, 'w') as fout:\n",
    "    fout.create_dataset('amplitudes', data=data.amplitudes)\n",
    "    fout.create_dataset('psds', data=data.psds)\n",
    "    fout.create_dataset('frequency_axis', data=data.frequency_axis)\n",
    "    \n",
    "    fout.attrs.create('stationcode', data.stationcode)\n",
    "    fout.attrs.create('starttime',\n",
    "        np.array(data.startdate.timetuple()[:6]))\n",
    "    fout.attrs.create('endtime',\n",
    "        np.array(data.enddate.timetuple()[:6]))\n",
    "    fout.attrs.create('amplitude_frequencies', \n",
    "                    np.array(data.amplitude_frequencies))\n",
    "    fout.attrs.create('seconds_per_window', \n",
    "                     data.seconds_per_window)"
   ]
  },
  {
   "cell_type": "code",
   "execution_count": null,
   "id": "fe4de585-ab89-432a-9402-e6cab1c8514c",
   "metadata": {},
   "outputs": [],
   "source": [
    "f =  h5py.File('../data/GR.BFO..HHZ_2020-12-25_2021-01-01.hdf5', 'r')"
   ]
  },
  {
   "cell_type": "code",
   "execution_count": null,
   "id": "42c1edd2-3e80-4293-8058-42242f439f0c",
   "metadata": {},
   "outputs": [],
   "source": [
    "f.attrs['stationcode']"
   ]
  },
  {
   "cell_type": "code",
   "execution_count": null,
   "id": "6d3ee6b9-1155-4725-b5d4-528142389335",
   "metadata": {},
   "outputs": [],
   "source": [
    "f.close()"
   ]
  },
  {
   "cell_type": "code",
   "execution_count": null,
   "id": "425a5d34-80fa-44df-be38-0bdbd8a9632e",
   "metadata": {},
   "outputs": [],
   "source": [
    "x = np.arange(10)"
   ]
  },
  {
   "cell_type": "code",
   "execution_count": null,
   "id": "32163fb1-64a0-40a2-838a-c33db75d0972",
   "metadata": {},
   "outputs": [],
   "source": [
    "x = np.random.rand(7, 6)\n",
    "x[0:,:] = np.nan\n",
    "x[5:,:] = np.nan\n",
    "y = x.copy()*3\n",
    "\n",
    "n = 0\n",
    "while len(x) > 0:\n",
    "    if np.all(np.isnan(x[0,:])):\n",
    "        x = np.delete(x, 0, axis=0)\n",
    "        n = n+1\n",
    "    else:\n",
    "        break\n",
    "y = y[n:,:]\n",
    "        \n",
    "m = 0\n",
    "while len(x) > 0:\n",
    "    if np.all(np.isnan(x[-1,:])):\n",
    "        x = np.delete(x, -1, axis=0)\n",
    "        m = m+1\n",
    "    else:\n",
    "        break\n",
    "y = y[:-m,:]"
   ]
  },
  {
   "cell_type": "code",
   "execution_count": null,
   "id": "131111c4-66f2-4cfe-8cb4-02b1fcd27824",
   "metadata": {},
   "outputs": [],
   "source": [
    "y"
   ]
  },
  {
   "cell_type": "code",
   "execution_count": null,
   "id": "5481974f-fe0d-466f-8114-3424d6846cd5",
   "metadata": {},
   "outputs": [],
   "source": [
    "n, m"
   ]
  },
  {
   "cell_type": "code",
   "execution_count": null,
   "id": "32b14853-1e92-48ff-8c6f-1befd68ceaae",
   "metadata": {},
   "outputs": [],
   "source": [
    "len(x), len(y)"
   ]
  },
  {
   "cell_type": "code",
   "execution_count": null,
   "id": "dcf281d5-c7c4-4e97-858c-0448a2eb1c12",
   "metadata": {},
   "outputs": [],
   "source": [
    "data.amplitudes = None"
   ]
  },
  {
   "cell_type": "code",
   "execution_count": null,
   "id": "3b337e86-de80-4c0f-93c2-e72ae3eeb7a4",
   "metadata": {},
   "outputs": [],
   "source": [
    "data.psds = None"
   ]
  },
  {
   "cell_type": "code",
   "execution_count": null,
   "id": "5c0191c0-c802-443b-b072-4f14b542a85f",
   "metadata": {},
   "outputs": [],
   "source": [
    "data.to_file('.')"
   ]
  },
  {
   "cell_type": "code",
   "execution_count": null,
   "id": "df542a44-e11c-4c4b-bcc1-826090caac78",
   "metadata": {},
   "outputs": [],
   "source": [
    "from data_quality_control import cmdline"
   ]
  },
  {
   "cell_type": "code",
   "execution_count": null,
   "id": "3f791f35-1fd6-450b-864e-df5fc213ce01",
   "metadata": {},
   "outputs": [],
   "source": [
    "reload(cmdline)\n",
    "parser = cmdline.parse_argument()"
   ]
  },
  {
   "cell_type": "code",
   "execution_count": null,
   "id": "6b334cc4-a595-4bd1-9668-55e3412ea89b",
   "metadata": {},
   "outputs": [],
   "source": [
    "parser."
   ]
  },
  {
   "cell_type": "code",
   "execution_count": null,
   "id": "bc661e1d-f6d5-44b7-99cf-436df46233b7",
   "metadata": {},
   "outputs": [],
   "source": [
    "import time\n",
    "from datetime import timedelta"
   ]
  },
  {
   "cell_type": "code",
   "execution_count": null,
   "id": "bfcd9c82-357e-4e34-ae27-f20bb7084d9f",
   "metadata": {},
   "outputs": [],
   "source": [
    "t = time.time()\n",
    "for i in range(3):\n",
    "    time.sleep(1)\n",
    "runtime = timedelta(seconds=time.time()-t) \n",
    "print(\"Finished. Took {} h\".format(runtime))"
   ]
  },
  {
   "cell_type": "code",
   "execution_count": null,
   "id": "8a63d1d6-7eda-435e-b782-db3523a4d40d",
   "metadata": {},
   "outputs": [],
   "source": [
    "rt = timedelta(seconds=4000)"
   ]
  },
  {
   "cell_type": "code",
   "execution_count": null,
   "id": "4a5217ff-c1a7-44b9-b7c6-049c13613e74",
   "metadata": {},
   "outputs": [],
   "source": [
    "print(rt)"
   ]
  },
  {
   "cell_type": "code",
   "execution_count": null,
   "id": "7361eec1-37aa-4ba8-90dd-edd0e210817c",
   "metadata": {},
   "outputs": [],
   "source": [
    "d = {'h':None, 'j': 2}"
   ]
  },
  {
   "cell_type": "code",
   "execution_count": null,
   "id": "6c60101c-638b-4ca4-9273-87d3862e10f6",
   "metadata": {},
   "outputs": [],
   "source": [
    "v = d.pop('h')"
   ]
  },
  {
   "cell_type": "code",
   "execution_count": null,
   "id": "9b819052-dd88-4206-a008-8e84c3343ed0",
   "metadata": {},
   "outputs": [],
   "source": [
    "v"
   ]
  },
  {
   "cell_type": "code",
   "execution_count": null,
   "id": "d3ed4736-eff8-42ef-ab6a-fad578cee2bc",
   "metadata": {},
   "outputs": [],
   "source": [
    "30/365*92"
   ]
  },
  {
   "cell_type": "code",
   "execution_count": null,
   "id": "1b50c026-381d-441f-93e7-0d231d89a1eb",
   "metadata": {},
   "outputs": [],
   "source": []
  }
 ],
 "metadata": {
  "language_info": {
   "name": "python",
   "pygments_lexer": "ipython3"
  }
 },
 "nbformat": 4,
 "nbformat_minor": 5
}

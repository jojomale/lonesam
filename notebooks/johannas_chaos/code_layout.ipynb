{
 "cells": [
  {
   "cell_type": "code",
   "execution_count": null,
   "id": "0d53a6fc-54d2-4b62-a199-b72f819cf8b0",
   "metadata": {},
   "outputs": [],
   "source": [
    "import numpy as np\n",
    "\n",
    "from scipy.signal import welch, get_window\n",
    "from obspy.signal.filter import bandpass\n",
    "\n",
    "from obspy.clients.filesystem.sds import Client\n",
    "from obspy.clients.fdsn import RoutingClient\n",
    "from obspy.core import UTCDateTime as UTC\n",
    "from obspy.signal import util\n",
    "\n",
    "import h5py"
   ]
  },
  {
   "cell_type": "code",
   "execution_count": null,
   "id": "941eccdd-ce17-45d3-8235-726009909f14",
   "metadata": {},
   "outputs": [],
   "source": [
    "import logging\n",
    "logger = logging.getLogger('notebook')\n",
    "logger.setLevel(logging.DEBUG)\n",
    "ch = logging.StreamHandler()\n",
    "ch.setLevel(logging.DEBUG)  # set level\n",
    "cformatter = logging.Formatter('%(asctime)s - %(name)s - %(levelname)s - %(message)s',\n",
    "                            datefmt='%y-%m-%d %H:%M:%S')\n",
    "ch.setFormatter(cformatter)\n",
    "logger.addHandler(ch)"
   ]
  },
  {
   "cell_type": "code",
   "execution_count": null,
   "id": "48f53c1d-c3c5-4155-81b2-a43edbda639d",
   "metadata": {},
   "outputs": [],
   "source": [
    "import matplotlib.pyplot as plt\n",
    "plt.style.use('tableau-colorblind10')\n",
    "#%matplotlib widget"
   ]
  },
  {
   "cell_type": "markdown",
   "id": "328ea40e-fb9a-473a-b136-1631915e5a4d",
   "metadata": {},
   "source": [
    "### Processing steps\n",
    "\n",
    "- **remove_sensitivity**: convert from counts to m/s. Also converts data type from `np.int32` to `np.float64`. Wih the latter you can use `np.nan` with facilitates dealing with data gaps.\n",
    "- **merge**: if data contains gaps, the stream consists of multiple traces. We want 1 single trace with gaps represented as np.nan\n",
    "- **trim** with padding: if data don't start/end at requested times, by default, trace is shortened. However, we want traces to be always the exact lenght of the requested interval, so use `pad=True` and `fill_value=np.nan` to fill up the trace.\n",
    "-"
   ]
  },
  {
   "cell_type": "code",
   "execution_count": null,
   "id": "c692cb07-60be-445f-a644-0027696d7389",
   "metadata": {},
   "outputs": [],
   "source": [
    "\n",
    "def process(tr, winlen_in_s, nperseg, fmin, fmax):\n",
    "    \"\"\"Obsolete\"\"\"\n",
    "    \n",
    "    # Convert data into matrix (n_slices, npts)\n",
    "    sr = tr.stats.sampling_rate\n",
    "    nwin = int(winlen_in_s * sr)\n",
    "    \n",
    "    #win = get_window('boxcar', nwin, fftbins=False)\n",
    "    #matrix, nx, ny  = util.enframe(tr.data, win, win.size)\n",
    "    \n",
    "    # Get number of frames\n",
    "    nf = tr.data.size // nwin\n",
    "    nsize = nf*nwin\n",
    "    matrix = np.reshape(tr.data[:nsize], (nf, nwin))\n",
    "    \n",
    "    #matrix = matrix[1:-1]\n",
    "    freq, P = welch(matrix, fs=sr, nperseg=nperseg, axis=1)\n",
    "    \n",
    "    for i, r in enumerate(matrix):\n",
    "        matrix[i,:] = bandpass(r, fmin, fmax, sr)\n",
    "    \n",
    "    prctl = np.nanpercentile(matrix, 75, axis=1)\n",
    "    return prctl, freq, P\n",
    "\n",
    "\n",
    "\n",
    "def get_data(dataclient, starttime, overlap, proclen,\n",
    "            network, station, location, channel, inv):\n",
    "    \n",
    "    starttime = starttime - overlap\n",
    "    endtime = starttime + proclen + 2*overlap\n",
    "    st = dataclient.get_waveforms(network, station, \n",
    "                             location, channel,starttime, endtime)\n",
    "    st.remove_sensitivity(inv)\n",
    "    st.merge(fill_value=np.nan)\n",
    "    st.trim(starttime, endtime, pad=True, fill_value=np.nan, \n",
    "            nearest_sample=False)\n",
    "    if len(st) > 1:\n",
    "        raise RuntimeWarning(\"More than 1 trace in stream!\")\n",
    "    return st[0]    \n",
    "    \n",
    "\n",
    "\n",
    "def iterate_database(dataclient, invclient, network, station, location, \n",
    "                     channel, startdate, enddate, \n",
    "                    overlap, winlen_in_s, nperseg, fmin, fmax,\n",
    "                    proclen=24*3600,):\n",
    "    \"\"\"\n",
    "    Iterate day-wise over data in sds data base.\n",
    "    \"\"\"\n",
    "    AMP = []\n",
    "    PXX = []\n",
    "    starttime = startdate-overlap\n",
    "    inv = invclient.get_stations(network=network, station=station, \n",
    "                                 location=location, starttime=startdate, \n",
    "                                 endtime=enddate, channel=channel, \n",
    "                                 level='response')\n",
    "    while starttime < enddate - overlap:\n",
    "        logger.debug(\"%s\" % starttime)\n",
    "        tr = get_data(dataclient, starttime+overlap, overlap, proclen,\n",
    "                        network, station, location, channel, inv)\n",
    "        \n",
    "        # Demean ignoring gaps\n",
    "        tr.data = tr.data - np.nanmean(tr.data)\n",
    "        \n",
    "        # Get some numbers\n",
    "        sr = tr.stats.sampling_rate\n",
    "        nf = int(proclen/winlen_in_s)\n",
    "        #proclen_samples = proclen * sr\n",
    "        winlen_samples = int(winlen_in_s * sr)\n",
    "        \n",
    "        # Spectra\n",
    "        data = get_adjacent_frames(tr, starttime+overlap, nf, \n",
    "                                   winlen_samples)\n",
    "        freq, P = welch(data, fs=sr, nperseg=nperseg, axis=1)\n",
    "            \n",
    "        # Amplitude\n",
    "        prctl = get_amplitude(tr, starttime+overlap, fmin, fmax,\n",
    "                              overlap, winlen_samples, nf)\n",
    "        \n",
    "        AMP.append(prctl) #amp[1:-1])\n",
    "        PXX.append(P) # pxx[1:-1,:])\n",
    "\n",
    "        starttime = starttime + proclen\n",
    "    \n",
    "    return np.array(AMP), np.array(PXX), freq\n",
    "\n",
    "\n",
    "def get_adjacent_frames(tr, starttime, nf, winlen_samples):\n",
    "    #print(starttime)\n",
    "    #print(tr)\n",
    "    ntot = int(nf*winlen_samples)\n",
    "    data = tr.slice(starttime, endtime=None).data[:ntot]\n",
    "    return data.reshape((nf, winlen_samples))\n",
    "\n",
    "\n",
    "def get_overlapping_tapered_frames(tr, starttime, nf, winlen_samples,\n",
    "                           taper_samples):\n",
    "    \"\"\"\n",
    "    Splits the vector up into (overlapping) Tukey windows.\n",
    "    \n",
    "    Frames containing any Nans are set entirely to Nan.\n",
    "    Loosely based on `obspy.signal.util.enframe`\n",
    "    \"\"\"\n",
    "    sr = tr.stats.sampling_rate\n",
    "    \n",
    "    # Samples in window including tapers\n",
    "    nwin = int(winlen_samples + 2*taper_samples)\n",
    "    \n",
    "    # Total number of samples of trace to process\n",
    "    proclen_samples = int(nf * winlen_samples + 2*taper_samples)\n",
    "    \n",
    "    # Cut out the needed data\n",
    "    x = tr.slice(starttime-taper_samples/sr).data[:proclen_samples]\n",
    "    \n",
    "    # Ratio of tapers to total window size\n",
    "    a =  2*taper_samples / nwin\n",
    "    win = get_window(('tukey', a), nwin, fftbins=False)\n",
    "    \n",
    "    # From obspy.signal.enframe()\n",
    "    #nx = len(x)\n",
    "    #nwin = len(win)\n",
    "    if (len(win) == 1):\n",
    "        length = win\n",
    "    else:\n",
    "        length = nwin\n",
    "    #nf = int(np.fix((nx - length + winlen_samples) // winlen_samples))\n",
    "    # f = np.zeros((nf, length))\n",
    "    indf = winlen_samples * np.arange(nf)\n",
    "    f = x[np.expand_dims(indf, 1) + \n",
    "          np.expand_dims(np.arange(length), 0)]\n",
    "    f = f * win\n",
    "    f[np.any(np.isnan(f), axis=1),:] = np.nan\n",
    "    #no_win, _ = f.shape\n",
    "    return f, taper_samples\n",
    "\n",
    "\n",
    "\n",
    "def get_amplitude(tr, starttime, fmin, fmax, overlap, winlen_samples, nf):\n",
    "    \"\"\"\n",
    "    If trace is free of nans, we can simply filter the whole trace at \n",
    "    once and use reshape to get the windows.\n",
    "    If there are nans, the obspy filter function only filters\n",
    "    the data up to the first nan. Thus you can loose almost the entire\n",
    "    trace because of a single nan in the early part. To avoid this, we\n",
    "    check for nans and if there are some, we filter the data per\n",
    "    window. This means however, we have to ensure again some overlap\n",
    "    and the windowing will be slower.\n",
    "    \"\"\"\n",
    "    sr = tr.stats.sampling_rate\n",
    "    \n",
    "    if np.any(np.isnan(tr.data)):\n",
    "        logger.info('Found nans in %s' % tr)\n",
    "        taper_samples = int(overlap*sr)\n",
    "        \n",
    "        data, taper_samples = get_overlapping_tapered_frames(tr, \n",
    "                            starttime, nf, winlen_samples,\n",
    "                           taper_samples)\n",
    "        data = bandpass(data, fmin, fmax, sr)\n",
    "        data = data[:,taper_samples:-taper_samples]\n",
    "                                    \n",
    "    else:\n",
    "        tr.filter('bandpass', freqmin=fmin, freqmax=fmax)\n",
    "        data = get_windows(tr, starttime+overlap, nf, winlen_samples)\n",
    "        \n",
    "    prctl = np.nanpercentile(data, 75, axis=1)\n",
    "    return prctl"
   ]
  },
  {
   "cell_type": "code",
   "execution_count": null,
   "id": "06da3c0a-93bc-4a57-944f-c7d49844e74b",
   "metadata": {},
   "outputs": [],
   "source": [
    "network = 'GR'\n",
    "station = 'BFO'\n",
    "location = ''\n",
    "channel = 'HHZ'\n",
    "startdate = UTC(\"2020-01-01\")\n",
    "enddate = UTC(\"2020-02-01\")\n",
    "overlap = 300 #3600\n",
    "\n",
    "fmin, fmax = (4, 14)\n",
    "nperseg = 2048\n",
    "winlen_in_s = 3600\n",
    "proclen = 24*3600\n",
    "\n",
    "sdsclient = Client('/home/lehr/sds/data')\n",
    "invclient = RoutingClient('eida-routing')"
   ]
  },
  {
   "cell_type": "code",
   "execution_count": null,
   "id": "4839c5a8-2f35-495d-a6df-c225512180e4",
   "metadata": {},
   "outputs": [],
   "source": [
    "%%time\n",
    "AMP, PXX, freq = iterate_database(sdsclient, invclient,\n",
    "                    network, station, location, channel, startdate, enddate,\n",
    "                    overlap, winlen_in_s, nperseg, fmin, fmax, proclen=proclen)"
   ]
  },
  {
   "cell_type": "code",
   "execution_count": null,
   "id": "160cda0e-3b5b-414f-931f-968ea3ced8d6",
   "metadata": {},
   "outputs": [],
   "source": [
    "inv = invclient.get_stations(network=network, station=station, \n",
    "                                 location=location, starttime=startdate, \n",
    "                                 endtime=enddate, channel=channel, \n",
    "                                 level='response')"
   ]
  },
  {
   "cell_type": "code",
   "execution_count": null,
   "id": "6947b883-52be-4b11-b09b-ccaecff57dcb",
   "metadata": {},
   "outputs": [],
   "source": [
    "starttime = UTC(\"2020-336\")\n",
    "overlap = 600\n",
    "tr = get_data(sdsclient, starttime, overlap, proclen,\n",
    "            network, station, location, channel, inv)"
   ]
  },
  {
   "cell_type": "code",
   "execution_count": null,
   "id": "6fd2f452-20df-4d6a-9947-45f0134b0bc4",
   "metadata": {},
   "outputs": [],
   "source": [
    "tr"
   ]
  },
  {
   "cell_type": "code",
   "execution_count": null,
   "id": "6b393d4f-e657-4e46-82dc-f7eca6eba26d",
   "metadata": {},
   "outputs": [],
   "source": [
    "np.where(np.isnan(tr.data))"
   ]
  },
  {
   "cell_type": "code",
   "execution_count": null,
   "id": "ba3c5b1f-8cd8-402f-89a4-69027a1fdc47",
   "metadata": {},
   "outputs": [],
   "source": [
    "tr.plot(show=False)"
   ]
  },
  {
   "cell_type": "code",
   "execution_count": null,
   "id": "44857ce1-f9d6-4ad3-8d63-0109bfa75244",
   "metadata": {},
   "outputs": [],
   "source": [
    "tr.data = tr.data - np.nanmean(tr.data)\n",
    "# Get some numbers\n",
    "sr = tr.stats.sampling_rate\n",
    "nf = int(proclen/winlen_in_s)\n",
    "#proclen_samples = proclen * sr\n",
    "winlen_samples = int(winlen_in_s * sr)"
   ]
  },
  {
   "cell_type": "code",
   "execution_count": null,
   "id": "91812620-95a7-472a-910e-9b7a9310eb55",
   "metadata": {},
   "outputs": [],
   "source": [
    "# Spectra\n",
    "data = get_windows(tr, starttime+overlap, nf, winlen_samples)"
   ]
  },
  {
   "cell_type": "code",
   "execution_count": null,
   "id": "6ec28f2e-2a51-4551-9f65-1aee00c43e6c",
   "metadata": {},
   "outputs": [],
   "source": [
    "plt.imshow(data, aspect='auto')"
   ]
  },
  {
   "cell_type": "code",
   "execution_count": null,
   "id": "b1688579-9ac8-4504-a310-292d84b3a3e8",
   "metadata": {},
   "outputs": [],
   "source": [
    "scale = 1e6\n",
    "for i, row in enumerate(data):\n",
    "    plt.plot(row*scale + i)"
   ]
  },
  {
   "cell_type": "code",
   "execution_count": null,
   "id": "f537f365-8c09-4d3e-a511-e838ff9f9c41",
   "metadata": {},
   "outputs": [],
   "source": [
    "x = data[:,250000]\n",
    "plt.plot(x, 'o-')\n",
    "print(x)"
   ]
  },
  {
   "cell_type": "code",
   "execution_count": null,
   "id": "07d1456d-9caa-49bb-ae62-517a75b026b6",
   "metadata": {},
   "outputs": [],
   "source": [
    "np.any(np.isnan(data), axis=1)"
   ]
  },
  {
   "cell_type": "code",
   "execution_count": null,
   "id": "bfb82102-0594-4efe-80e3-b9d8569c26cb",
   "metadata": {},
   "outputs": [],
   "source": [
    "freq, P = welch(data, fs=sr, nperseg=nperseg, axis=1)"
   ]
  },
  {
   "cell_type": "code",
   "execution_count": null,
   "id": "251cfc3e-a28f-40ca-b7a2-481ebd4b8884",
   "metadata": {},
   "outputs": [],
   "source": [
    "plt.imshow(np.log(P), aspect='auto')"
   ]
  },
  {
   "cell_type": "code",
   "execution_count": null,
   "id": "f8b67487-deb9-4984-844a-05c0ca3c081a",
   "metadata": {},
   "outputs": [],
   "source": [
    "i, j = np.where(np.isnan(P))\n",
    "print(np.unique(i))"
   ]
  },
  {
   "cell_type": "code",
   "execution_count": null,
   "id": "74836a1c-9907-4bb1-9c5f-76f79f3fa3e3",
   "metadata": {},
   "outputs": [],
   "source": [
    "prctl = get_amplitude(tr, starttime+overlap, fmin, fmax,\n",
    "                              overlap, winlen_samples, nf)"
   ]
  },
  {
   "cell_type": "code",
   "execution_count": null,
   "id": "e2000102-a523-4aa1-b7e0-bd6d065f759d",
   "metadata": {},
   "outputs": [],
   "source": [
    "plt.plot(prctl)"
   ]
  },
  {
   "cell_type": "code",
   "execution_count": null,
   "id": "9be6cbaa-faff-46ee-ab10-96bdacfba575",
   "metadata": {},
   "outputs": [],
   "source": [
    "np.where(np.isnan(prctl))"
   ]
  },
  {
   "cell_type": "code",
   "execution_count": null,
   "id": "03fdd7d3-fe2e-4912-8eb8-dc25a46d746b",
   "metadata": {},
   "outputs": [],
   "source": [
    "x = np.random.rand(1000)\n",
    "x[10] = np.nan\n",
    "f, p = welch(x)"
   ]
  },
  {
   "cell_type": "code",
   "execution_count": null,
   "id": "0fccb07b-1c25-491f-9757-494cc623f9aa",
   "metadata": {},
   "outputs": [],
   "source": [
    "p"
   ]
  },
  {
   "cell_type": "code",
   "execution_count": null,
   "id": "d21354e7-cc72-4daa-bdea-86e31ec0ca47",
   "metadata": {},
   "outputs": [],
   "source": [
    "plt.plot(f, p)"
   ]
  },
  {
   "cell_type": "code",
   "execution_count": null,
   "id": "121c7cc4-fdea-4683-bbc4-fca948ad9e48",
   "metadata": {},
   "outputs": [],
   "source": [
    "for a in [PXX, AMP]:\n",
    "    print(a.__sizeof__()/1e6)"
   ]
  },
  {
   "cell_type": "code",
   "execution_count": null,
   "id": "a14222b0-d0c6-41c8-937a-75fe26231fbe",
   "metadata": {},
   "outputs": [],
   "source": [
    "for i, row in enumerate(AMP):\n",
    "    #print(row.shape)z\n",
    "    if row.shape[0] != 24:\n",
    "        print(UTC(\"2020-{:03d}\".format(i+1)), row.shape)\n",
    "        #AMP[i] = np.append(row, np.nan)"
   ]
  },
  {
   "cell_type": "code",
   "execution_count": null,
   "id": "c536a375-8b26-46fe-841e-01f987b3faf8",
   "metadata": {},
   "outputs": [],
   "source": [
    "AMP = np.asarray(AMP)\n",
    "AMP.shape"
   ]
  },
  {
   "cell_type": "code",
   "execution_count": null,
   "id": "d39ae080-75cd-4b59-b001-348bfde2bd87",
   "metadata": {},
   "outputs": [],
   "source": [
    "plt.matshow(AMP.T)"
   ]
  },
  {
   "cell_type": "code",
   "execution_count": null,
   "id": "1bc506b2-88d8-4ec9-91ce-0228a7e1c96d",
   "metadata": {},
   "outputs": [],
   "source": [
    "np.any(np.isnan(AMP))"
   ]
  },
  {
   "cell_type": "code",
   "execution_count": null,
   "id": "0b7d40f9-a2ca-4d61-936b-d772f7a9c6ba",
   "metadata": {},
   "outputs": [],
   "source": [
    "nanpos_amp = np.where(np.isnan(AMP))"
   ]
  },
  {
   "cell_type": "code",
   "execution_count": null,
   "id": "703ef712-4f51-4ae8-9873-aaefbc8d1e51",
   "metadata": {},
   "outputs": [],
   "source": [
    "nanhours = nanpos_amp[0]*24 + nanpos_amp[1]"
   ]
  },
  {
   "cell_type": "markdown",
   "id": "fffda3dc-fe26-4ea6-9622-7a6d8abe8c62",
   "metadata": {},
   "source": [
    "### Check Spectra"
   ]
  },
  {
   "cell_type": "code",
   "execution_count": null,
   "id": "d14ab412-2d9f-4702-af33-5b0a29adf526",
   "metadata": {},
   "outputs": [],
   "source": [
    "PXX = np.array(PXX)"
   ]
  },
  {
   "cell_type": "code",
   "execution_count": null,
   "id": "2bd77e72-9827-4122-84b6-51b057c8fc03",
   "metadata": {},
   "outputs": [],
   "source": [
    "PXX.shape"
   ]
  },
  {
   "cell_type": "code",
   "execution_count": null,
   "id": "34289a04-5425-47cb-8936-0f51755db9c3",
   "metadata": {},
   "outputs": [],
   "source": [
    "plt.matshow(np.log(PXX.reshape((366*24, 1025))).T)"
   ]
  },
  {
   "cell_type": "code",
   "execution_count": null,
   "id": "ac3d5632-71e2-41a2-8d8e-c3f4d60ceb2b",
   "metadata": {},
   "outputs": [],
   "source": [
    "plt.matshow(np.log(PXX.reshape((366*24, 1025)))[nanhours,:])"
   ]
  },
  {
   "cell_type": "code",
   "execution_count": null,
   "id": "861b1ad7-5c75-4a6d-a00d-99b56e90d953",
   "metadata": {},
   "outputs": [],
   "source": [
    "nanpos_amp"
   ]
  },
  {
   "cell_type": "code",
   "execution_count": null,
   "id": "fb1bcec6-e7df-41ef-945a-5a3604fcb89f",
   "metadata": {},
   "outputs": [],
   "source": [
    "np.where(~np.isnan(PXX.reshape((366*24, 1025))[nanhours,:]))"
   ]
  },
  {
   "cell_type": "code",
   "execution_count": null,
   "id": "74f948cb-ca26-43d2-868e-1ba2b79a65b6",
   "metadata": {},
   "outputs": [],
   "source": [
    "PXX.reshape((366*24, 1025))[nanhours,:][28,:]"
   ]
  },
  {
   "cell_type": "code",
   "execution_count": null,
   "id": "b6b2c9d7-3a41-4f22-b2e7-71d198c3f4de",
   "metadata": {},
   "outputs": [],
   "source": [
    "nanhours"
   ]
  },
  {
   "cell_type": "code",
   "execution_count": null,
   "id": "53d2a99a-7ebb-41c5-accf-8c56f73baeed",
   "metadata": {},
   "outputs": [],
   "source": [
    "nanhours[28] // 24"
   ]
  },
  {
   "cell_type": "code",
   "execution_count": null,
   "id": "51b74646-ea3b-41fd-8149-2ae7a9a4175b",
   "metadata": {},
   "outputs": [],
   "source": [
    "network = 'GR'\n",
    "station = 'BFO'\n",
    "location = ''\n",
    "channel = 'HHZ'\n",
    "startdate = UTC(\"2020-108\")\n",
    "enddate = UTC(\"2020-109\")\n",
    "overlap = 600 #3600\n",
    "\n",
    "fmin, fmax = (4, 14)\n",
    "nperseg = 2048\n",
    "winlen_in_s = 3600\n",
    "proclen = 24*3600\n",
    "\n",
    "dataclient = Client('/home/lehr/sds/data')\n",
    "invclient = RoutingClient('eida-routing')"
   ]
  },
  {
   "cell_type": "code",
   "execution_count": null,
   "id": "599a068a-6d11-40ea-b21d-d18f873f3efd",
   "metadata": {},
   "outputs": [],
   "source": [
    "starttime = startdate-overlap\n",
    "inv = invclient.get_stations(network=network, station=station, \n",
    "                             location=location, starttime=startdate, \n",
    "                             endtime=enddate, channel=channel, \n",
    "                             level='response')\n",
    "while starttime < enddate - overlap:\n",
    "    print(starttime)\n",
    "    endtime = starttime + proclen + 2*overlap\n",
    "    st = dataclient.get_waveforms(network, station, \n",
    "                             location, channel,starttime, endtime)\n",
    "    st.remove_sensitivity(inv)\n",
    "    st.merge(fill_value=np.nan)\n",
    "    if len(st) > 1:\n",
    "        raise RuntimeWarning(\"More than 1 trace in stream!\")\n",
    "    tr = st[0]    \n",
    "\n",
    "    # Demean ignoring gaps\n",
    "    tr.data = tr.data - np.nanmean(tr.data)\n",
    "    \n",
    "    break\n",
    "    # Get some numbers\n",
    "    sr = tr.stats.sampling_rate\n",
    "    nf = int(proclen/winlen_in_s)\n",
    "    #proclen_samples = proclen * sr\n",
    "    winlen_samples = int(winlen_in_s * sr)\n",
    "\n",
    "    # Spectra\n",
    "    data = get_windows(tr, starttime+overlap, nf, winlen_samples)\n",
    "    freq, P = welch(data, fs=sr, nperseg=nperseg, axis=1)\n",
    "\n",
    "    # Amplitude\n",
    "    tr.filter('bandpass', freqmin=fmin, freqmax=fmax)\n",
    "    data = get_windows(tr, starttime+overlap, nf, winlen_samples)\n",
    "    prctl = np.nanpercentile(data, 75, axis=1)\n",
    "\n",
    "    #AMP.append(prctl) #amp[1:-1])\n",
    "    #PXX.append(P) # pxx[1:-1,:])\n",
    "\n",
    "    starttime = starttime + proclen"
   ]
  },
  {
   "cell_type": "code",
   "execution_count": null,
   "id": "fe511f96-3b47-48f3-9729-88e59e122e10",
   "metadata": {},
   "outputs": [],
   "source": [
    "tr.plot(show=False, size=(1500, 200), linewidths=0.5)"
   ]
  },
  {
   "cell_type": "code",
   "execution_count": null,
   "id": "8e37c5f2-70be-4a9d-946e-a98dfe5beeee",
   "metadata": {},
   "outputs": [],
   "source": [
    "scale=1e6\n",
    "plt.figure(figsize=(10, 10))\n",
    "for i, row in enumerate(get_windows(tr, starttime+overlap, nf, winlen_samples)):\n",
    "    plt.plot(row*scale + i, lw=0.5)"
   ]
  },
  {
   "cell_type": "code",
   "execution_count": null,
   "id": "2de05e0b-ce3c-4903-aed7-68d3414d2e7e",
   "metadata": {},
   "outputs": [],
   "source": [
    "np.any(np.isnan(tr.data))"
   ]
  },
  {
   "cell_type": "code",
   "execution_count": null,
   "id": "fc4c87b8-213b-40aa-a037-7166214db559",
   "metadata": {},
   "outputs": [],
   "source": [
    "np.where(np.isnan(tr.data))"
   ]
  },
  {
   "cell_type": "code",
   "execution_count": null,
   "id": "5e4c103e-4fd5-4c6f-8237-bd238513de87",
   "metadata": {},
   "outputs": [],
   "source": [
    "trfilt = tr.copy().filter('bandpass', freqmin=fmin, freqmax=fmax)#.plot(show=False)"
   ]
  },
  {
   "cell_type": "code",
   "execution_count": null,
   "id": "db4f0252-0ab3-460c-aa2c-3b9ef5f28bb7",
   "metadata": {},
   "outputs": [],
   "source": [
    "trfilt"
   ]
  },
  {
   "cell_type": "code",
   "execution_count": null,
   "id": "275928b8-150d-4e11-b5b1-1835dc275eaa",
   "metadata": {},
   "outputs": [],
   "source": [
    "np.where(np.isnan(trfilt.data))"
   ]
  },
  {
   "cell_type": "code",
   "execution_count": null,
   "id": "301e0e7e-ad62-4077-ab9c-2d5958246863",
   "metadata": {},
   "outputs": [],
   "source": [
    "idx = np.where(np.isnan(PXX))"
   ]
  },
  {
   "cell_type": "code",
   "execution_count": null,
   "id": "074a7e87-11ac-4a3a-95fd-afef9e6da329",
   "metadata": {},
   "outputs": [],
   "source": [
    "idx[0].size"
   ]
  },
  {
   "cell_type": "code",
   "execution_count": null,
   "id": "ea022594-0a72-4256-8d1e-a136390f09cb",
   "metadata": {},
   "outputs": [],
   "source": [
    "plt.plot(freq, PXX[0,:,:].T);\n",
    "plt.xlim(0, 1)"
   ]
  },
  {
   "cell_type": "code",
   "execution_count": null,
   "id": "8914b369-3897-433d-8aa2-306a8eb89508",
   "metadata": {},
   "outputs": [],
   "source": [
    "rPXX = PXX.reshape((366*24, 1025))"
   ]
  },
  {
   "cell_type": "code",
   "execution_count": null,
   "id": "2e3d761a-43d1-42dc-b7d1-875eeee5afaa",
   "metadata": {},
   "outputs": [],
   "source": [
    "plt.plot(freq, rPXX[:24,:].T);\n",
    "plt.xlim(0, 1)"
   ]
  },
  {
   "cell_type": "code",
   "execution_count": null,
   "id": "69d18ffb-8201-42be-afd0-eccfaf2b3435",
   "metadata": {},
   "outputs": [],
   "source": [
    "rPXX[:24,:].shape, PXX[0,:,:].shape"
   ]
  },
  {
   "cell_type": "code",
   "execution_count": null,
   "id": "6a386ada-8fd3-41d8-bece-ddad7b4dcad6",
   "metadata": {},
   "outputs": [],
   "source": [
    "np.all(np.isclose(rPXX[:24,:], PXX[0,:,:], equal_nan=True))\n",
    "                      "
   ]
  },
  {
   "cell_type": "code",
   "execution_count": null,
   "id": "f983937e-a97b-4682-8a92-0e2b5e6eedc1",
   "metadata": {},
   "outputs": [],
   "source": [
    "rPXX[:24,:] - PXX[0,:,:]"
   ]
  },
  {
   "cell_type": "markdown",
   "id": "a1b347c2-e062-409d-87c6-02acae8ea3df",
   "metadata": {},
   "source": [
    "### Create HDF5"
   ]
  },
  {
   "cell_type": "code",
   "execution_count": null,
   "id": "046ad889-67e9-49ec-b22a-3d7395c6e5e4",
   "metadata": {},
   "outputs": [],
   "source": [
    "fname = \"data/{}.{}.{}.{}_{}-{}.hdf5\".format(network, station, location, channel, startdate.date, enddate.date)\n",
    "print(fname)"
   ]
  },
  {
   "cell_type": "code",
   "execution_count": null,
   "id": "b090d180-8012-4307-a9ed-ea89ef6c890a",
   "metadata": {},
   "outputs": [],
   "source": [
    "with h5py.File(fname, \"w\") as fout:\n",
    "    for k, v in zip(['PXX', 'AMP', 'freq'],\n",
    "                    [PXX, AMP, freq]):\n",
    "        fout.create_dataset(k, data=v)\n",
    "    "
   ]
  },
  {
   "cell_type": "code",
   "execution_count": null,
   "id": "6eef3d8d-8ebc-4430-8ba8-9084e5653ee9",
   "metadata": {},
   "outputs": [],
   "source": [
    "%ls -lh data/*.hdf5"
   ]
  },
  {
   "cell_type": "markdown",
   "id": "ad6002d9-11da-4528-9423-018ac916072c",
   "metadata": {},
   "source": [
    "# Check missing data"
   ]
  },
  {
   "cell_type": "code",
   "execution_count": null,
   "id": "ed4e8440-94fb-4584-aa69-727efd7b47e8",
   "metadata": {},
   "outputs": [],
   "source": [
    "np.where(np.isnan(AMP))"
   ]
  },
  {
   "cell_type": "code",
   "execution_count": null,
   "id": "ad4860e7-6e50-4e71-a192-dd8f6c3429c2",
   "metadata": {},
   "outputs": [],
   "source": [
    "startdate = UTC(\"2020-009\")\n",
    "enddate = UTC(\"2020-010\")\n",
    "st = sdsclient.get_waveforms(network, station, \n",
    "                                 location, channel,startdate, enddate)"
   ]
  },
  {
   "cell_type": "code",
   "execution_count": null,
   "id": "bcb7651e-511b-4253-b7eb-687a67fb237e",
   "metadata": {},
   "outputs": [],
   "source": [
    "inv = invclient.get_stations(network=network, station=station, \n",
    "                                 location=location, starttime=startdate, \n",
    "                                 endtime=enddate, channel=channel, \n",
    "                                 level='response')"
   ]
  },
  {
   "cell_type": "code",
   "execution_count": null,
   "id": "df90904b-af7f-4510-ad01-16d32e415640",
   "metadata": {},
   "outputs": [],
   "source": [
    "st.remove_sensitivity(inv)"
   ]
  },
  {
   "cell_type": "code",
   "execution_count": null,
   "id": "a29bb2af-95b8-496b-a505-d718ecd88f94",
   "metadata": {},
   "outputs": [],
   "source": [
    "st.plot(show=False)"
   ]
  },
  {
   "cell_type": "code",
   "execution_count": null,
   "id": "26a9557f-86c1-4d24-9b72-b3c495f5fbab",
   "metadata": {},
   "outputs": [],
   "source": [
    "st.merge(fill_value=np.nan)"
   ]
  },
  {
   "cell_type": "code",
   "execution_count": null,
   "id": "7ad616d1-1626-41d7-8f92-05a349f391d7",
   "metadata": {},
   "outputs": [],
   "source": [
    "st.trim(startdate, enddate, pad=True, fill_value=np.nan)"
   ]
  },
  {
   "cell_type": "code",
   "execution_count": null,
   "id": "df14b6ef-067d-40ac-9cc2-226c7fb8c4f2",
   "metadata": {},
   "outputs": [],
   "source": [
    "st.plot(show=False)"
   ]
  },
  {
   "cell_type": "code",
   "execution_count": null,
   "id": "879f299f-3580-47ef-bd4c-aa5b6ccb5ef1",
   "metadata": {},
   "outputs": [],
   "source": [
    "tr = st[0].copy()\n",
    "amp, freq, pxx = process(tr, winlen_in_s, nperseg, fmin, fmax)"
   ]
  },
  {
   "cell_type": "code",
   "execution_count": null,
   "id": "a5f28733-4302-4ec5-b432-c265baf7aa18",
   "metadata": {},
   "outputs": [],
   "source": [
    "amp"
   ]
  },
  {
   "cell_type": "code",
   "execution_count": null,
   "id": "0edb06ba-8c7d-42a7-8b2c-2bdaee010622",
   "metadata": {},
   "outputs": [],
   "source": [
    "amp"
   ]
  },
  {
   "cell_type": "markdown",
   "id": "6196dbba-63dc-49df-b580-b4b3c6bc4866",
   "metadata": {},
   "source": [
    "# Filter without taper"
   ]
  },
  {
   "cell_type": "code",
   "execution_count": null,
   "id": "9d3c2dc7-45a0-40e4-9c74-2f452b698c35",
   "metadata": {},
   "outputs": [],
   "source": [
    "starttime = UTC(\"2020-06-01\")\n",
    "endtime = UTC(\"2020-06-02\")\n",
    "st = sdsclient.get_waveforms(network, station, \n",
    "                                 location, channel,starttime, endtime)"
   ]
  },
  {
   "cell_type": "code",
   "execution_count": null,
   "id": "65320b9d-76d2-4033-8820-ef32d4d06b35",
   "metadata": {},
   "outputs": [],
   "source": [
    "inv = invclient.get_stations(network=network, station=station, \n",
    "                                 location=location, starttime=starttime, \n",
    "                                 endtime=endtime, channel=channel, \n",
    "                                 level='response')"
   ]
  },
  {
   "cell_type": "code",
   "execution_count": null,
   "id": "22410050-194f-4836-9ee2-8dd3dee0815e",
   "metadata": {},
   "outputs": [],
   "source": [
    "st.remove_sensitivity(inv)\n",
    "st.merge(fill_value=np.nan)\n",
    "st.trim(starttime, endtime, pad=True, fill_value=np.nan)"
   ]
  },
  {
   "cell_type": "code",
   "execution_count": null,
   "id": "3a69f561-0f94-4b11-8763-0241874e6e17",
   "metadata": {},
   "outputs": [],
   "source": [
    "tr = st[0].copy()"
   ]
  },
  {
   "cell_type": "code",
   "execution_count": null,
   "id": "59c300f6-2083-4777-a913-31e40e2962b4",
   "metadata": {},
   "outputs": [],
   "source": [
    "sr = tr.stats.sampling_rate\n",
    "nwin = int(winlen_in_s * sr)\n",
    "nf = tr.data.size // nwin # Get number of frames\n",
    "nsize = nf*nwin"
   ]
  },
  {
   "cell_type": "code",
   "execution_count": null,
   "id": "fb6f3d9e-cc86-4dd0-92fc-96fe1737f1dd",
   "metadata": {},
   "outputs": [],
   "source": [
    "matrix = np.reshape(tr.data[:nsize], (nf, nwin))"
   ]
  },
  {
   "cell_type": "code",
   "execution_count": null,
   "id": "b2d07537-bcd6-4476-adce-9448e776b339",
   "metadata": {},
   "outputs": [],
   "source": [
    "plt.figure(figsize=(10, 12))\n",
    "scale = 5e6\n",
    "for i, row in enumerate(matrix):\n",
    "    plt.plot(scale*row + i)\n",
    "    \n",
    "    frow = bandpass(row.copy(), fmin, fmax, sr)\n",
    "    plt.plot(frow*scale +i, 'k', lw=0.5)\n",
    "plt.xlim(-100, 1000)"
   ]
  },
  {
   "cell_type": "code",
   "execution_count": null,
   "id": "3d57caf7-d298-4e0a-bb0c-d764a15565ea",
   "metadata": {},
   "outputs": [],
   "source": [
    "amp, freq, pxx = process(tr, winlen_in_s, nperseg, fmin, fmax)"
   ]
  },
  {
   "cell_type": "markdown",
   "id": "8e19707f-567b-4252-928b-08f23c4cd4b1",
   "metadata": {},
   "source": [
    "# Benchmark windowing\n",
    "`enframe` of obspy.signal is significantly slower than just reshaping. So unless you want overlaps between windows, there is no reason to use enframe."
   ]
  },
  {
   "cell_type": "code",
   "execution_count": null,
   "id": "29eed083-168e-4336-87c2-247c345bfe9b",
   "metadata": {},
   "outputs": [],
   "source": [
    "# %load -n util.enframe\n",
    "#from scipy import fix\n",
    "def enframe(x, win, inc, use_obspy=False):\n",
    "    \"\"\"\n",
    "    Splits the vector up into (overlapping) frames beginning at increments\n",
    "    of inc. Each frame is multiplied by the window win().\n",
    "    The length of the frames is given by the length of the window win().\n",
    "    The centre of frame I is x((I-1)*inc+(length(win)+1)/2) for I=1,2,...\n",
    "\n",
    "    :param x: signal to split in frames\n",
    "    :param win: window multiplied to each frame, length determines frame length\n",
    "    :param inc: increment to shift frames, in samples\n",
    "    :return f: output matrix, each frame occupies one row\n",
    "    :return length, no_win: length of each frame in samples, number of frames\n",
    "    \"\"\"\n",
    "    nx = len(x)\n",
    "    nwin = len(win)\n",
    "    if (nwin == 1):\n",
    "        length = win\n",
    "    else:\n",
    "        # length = next_pow_2(nwin)\n",
    "        length = nwin\n",
    "    nf = int(np.fix((nx - length + inc) // inc))\n",
    "    # f = np.zeros((nf, length))\n",
    "    indf = inc * np.arange(nf)\n",
    "    if use_obspy:\n",
    "        inds = np.arange(length) + 1\n",
    "        f = x[(np.transpose(np.vstack([indf] * length)) +\n",
    "           np.vstack([inds] * nf)) - 1]\n",
    "    else:\n",
    "        f = x[np.expand_dims(indf, 1) + \n",
    "              np.expand_dims(np.arange(length), 0)]\n",
    "    if (nwin > 1):\n",
    "        w = np.transpose(win)\n",
    "        f = f * np.vstack([w] * nf)\n",
    "    #f = signal.detrend(f, type='constant')\n",
    "    no_win, _ = f.shape\n",
    "    return f, length, no_win"
   ]
  },
  {
   "cell_type": "code",
   "execution_count": null,
   "id": "34b7709c-38e2-4cae-890d-cd9dcf98c9b4",
   "metadata": {},
   "outputs": [],
   "source": [
    "network = 'GR'\n",
    "station = 'BFO'\n",
    "location = ''\n",
    "channel = 'HHZ'\n",
    "startdate = UTC(\"2020-001\")\n",
    "enddate = UTC(\"2020-002\")\n",
    "overlap = 0 #3600\n",
    "\n",
    "fmin, fmax = (4, 14)\n",
    "nperseg = 2048\n",
    "winlen_in_s = 3600\n",
    "\n",
    "dataclient = Client('/home/lehr/sds/data')\n",
    "invclient = RoutingClient('eida-routing')"
   ]
  },
  {
   "cell_type": "code",
   "execution_count": null,
   "id": "56ac2753-670b-455b-aea6-3a11167a8560",
   "metadata": {},
   "outputs": [],
   "source": [
    "inv = invclient.get_stations(network=network, station=station, \n",
    "                                 location=location, starttime=startdate, \n",
    "                                 endtime=enddate, channel=channel, \n",
    "                                 level='response')"
   ]
  },
  {
   "cell_type": "code",
   "execution_count": null,
   "id": "4de18940-6572-46e4-862f-f93a22f2438a",
   "metadata": {},
   "outputs": [],
   "source": [
    "starttime = startdate\n",
    "endtime = starttime + 24*3600+2*overlap\n",
    "st = dataclient.get_waveforms(network, station, \n",
    "                         location, channel,starttime, endtime)\n",
    "st.remove_sensitivity(inv)\n",
    "st.merge(fill_value=np.nan)\n",
    "st.trim(starttime, endtime, pad=True, fill_value=np.nan)"
   ]
  },
  {
   "cell_type": "code",
   "execution_count": null,
   "id": "7798840a-ca24-4357-b55d-d5ffdeb55194",
   "metadata": {},
   "outputs": [],
   "source": [
    "tr = st[0]"
   ]
  },
  {
   "cell_type": "code",
   "execution_count": null,
   "id": "33b34932-7b61-4ffe-b42f-e16c257fe3f2",
   "metadata": {},
   "outputs": [],
   "source": [
    "%%timeit \n",
    "sr = tr.stats.sampling_rate\n",
    "nwin = int(winlen_in_s * sr)\n",
    "win = get_window('boxcar', nwin, fftbins=False)\n",
    "\n",
    "matrix, nx, ny  = enframe(tr.data, win, win.size)"
   ]
  },
  {
   "cell_type": "code",
   "execution_count": null,
   "id": "24c5a6b3-decc-46c4-a39b-1be61e5b703c",
   "metadata": {},
   "outputs": [],
   "source": [
    "prctl = np.percentile(matrix, 75, axis=1)\n",
    "\n",
    "plt.plot(prctl)"
   ]
  },
  {
   "cell_type": "code",
   "execution_count": null,
   "id": "69b0d1eb-8ed6-4e0f-b7ae-2e933803635d",
   "metadata": {},
   "outputs": [],
   "source": [
    "%%timeit\n",
    "sr = tr.stats.sampling_rate\n",
    "nwin = int(winlen_in_s * sr)\n",
    "nf = tr.data.size // nwin\n",
    "nsize = nf*nwin\n",
    "matrix = np.reshape(tr.data[:nsize], (nf,nwin))"
   ]
  },
  {
   "cell_type": "code",
   "execution_count": null,
   "id": "d8284a69-eafd-4b0a-9471-a5ec286703a0",
   "metadata": {},
   "outputs": [],
   "source": [
    "prctl = np.percentile(matrix, 75, axis=1)\n",
    "\n",
    "plt.plot(prctl)"
   ]
  },
  {
   "cell_type": "markdown",
   "id": "e05e4e92-1b22-4b5e-b571-3dbc3b980e54",
   "metadata": {},
   "source": [
    "# Using tapered windows"
   ]
  },
  {
   "cell_type": "code",
   "execution_count": null,
   "id": "75149aee-9443-4edb-b2bc-cc2e12f767a3",
   "metadata": {},
   "outputs": [],
   "source": [
    "network = 'GR'\n",
    "station = 'BFO'\n",
    "location = ''\n",
    "channel = 'HHZ'\n",
    "startdate = UTC(\"2020-002\")\n",
    "enddate = UTC(\"2020-003\")\n",
    "overlap = 5*60 #3600\n",
    "\n",
    "fmin, fmax = (4, 14)\n",
    "nperseg = 2048\n",
    "winlen_in_s = 3600 + 2*overlap\n",
    "\n",
    "dataclient = Client('/home/lehr/sds/data')\n",
    "invclient = RoutingClient('eida-routing')"
   ]
  },
  {
   "cell_type": "code",
   "execution_count": null,
   "id": "0a3c3613-669b-41cb-8208-cb2dddfd7faa",
   "metadata": {},
   "outputs": [],
   "source": [
    "starttime = startdate - overlap\n",
    "endtime = starttime + 24*3600+2*overlap\n",
    "st = dataclient.get_waveforms(network, station, \n",
    "                         location, channel,starttime, endtime)\n",
    "inv = invclient.get_stations(network=network, station=station, \n",
    "                                 location=location, starttime=startdate, \n",
    "                                 endtime=enddate, channel=channel, \n",
    "                                 level='response')\n",
    "\n",
    "st.remove_sensitivity(inv)\n",
    "st.merge(fill_value=np.nan)\n",
    "st.trim(starttime, endtime, pad=True, fill_value=np.nan)"
   ]
  },
  {
   "cell_type": "code",
   "execution_count": null,
   "id": "4be7c9a3-f74b-437b-9d69-22a1f7542af0",
   "metadata": {},
   "outputs": [],
   "source": [
    "tr = st[0].copy()"
   ]
  },
  {
   "cell_type": "code",
   "execution_count": null,
   "id": "6d86a3f5-21b4-4bca-a95b-bd32717c65af",
   "metadata": {},
   "outputs": [],
   "source": [
    "#%%timeit \n",
    "sr = tr.stats.sampling_rate\n",
    "winlen_in_s = 3600+600\n",
    "nwin = int(winlen_in_s * sr)\n",
    "a = 600 / winlen_in_s\n",
    "win = get_window(('tukey', a), nwin, fftbins=False)"
   ]
  },
  {
   "cell_type": "code",
   "execution_count": null,
   "id": "ba7794ae-d653-4f65-bda1-5a803f13ca17",
   "metadata": {},
   "outputs": [],
   "source": [
    "tax = np.linspace(-5, 65, nwin) \n",
    "plt.plot(tax, win)\n",
    "#plt.xlim(-1, 61)"
   ]
  },
  {
   "cell_type": "code",
   "execution_count": null,
   "id": "f0e485b7-40d3-4ecb-8355-31b2aef5ca99",
   "metadata": {},
   "outputs": [],
   "source": [
    "%%timeit\n",
    "matrix, nx, ny  = enframe(tr.data, win, int(3600*sr), use_obspy=False)"
   ]
  },
  {
   "cell_type": "code",
   "execution_count": null,
   "id": "cec15849-cee7-48df-b156-f7b565a6b3fa",
   "metadata": {},
   "outputs": [],
   "source": [
    "%%timeit\n",
    "matrix, nx, ny  = enframe(tr.data, win, int(3600*sr), use_obspy=True)"
   ]
  },
  {
   "cell_type": "code",
   "execution_count": null,
   "id": "9a52fbcd-0c84-4a9b-a5a4-352e964de1ba",
   "metadata": {},
   "outputs": [],
   "source": [
    "matrix, nx, ny  = enframe(tr.data, win, int(3600*sr), use_obspy=False)"
   ]
  },
  {
   "cell_type": "code",
   "execution_count": null,
   "id": "32dc60e7-24fc-4d55-983f-76ac4263b2d6",
   "metadata": {},
   "outputs": [],
   "source": [
    "plt.figure(figsize=(10, 12))\n",
    "scale = 1e6\n",
    "for i, row in enumerate(matrix):\n",
    "    plt.plot(scale*row + i)\n",
    "    \n",
    "    #frow = bandpass(row.copy(), fmin, fmax, sr)\n",
    "    #plt.plot(frow*scale +i, 'k', lw=0.5)\n",
    "#plt.xlim(-100, 100000)\n",
    "#plt.xlim(matrix.shape[-1]-100000, None)"
   ]
  },
  {
   "cell_type": "code",
   "execution_count": null,
   "id": "2242b225-14ae-4655-9d72-0f553adc7ce8",
   "metadata": {},
   "outputs": [],
   "source": [
    "plt.figure(figsize=(10, 12))\n",
    "scale = 1e6\n",
    "noverlap = int(overlap*sr)\n",
    "for i, row in enumerate(matrix[:,noverlap:-noverlap]):\n",
    "    plt.plot(scale*row + i)\n",
    "    \n",
    "    #frow = bandpass(row.copy(), fmin, fmax, sr)\n",
    "    #plt.plot(frow*scale +i, 'k', lw=0.5)\n",
    "#plt.xlim(-100, 100000)\n",
    "#plt.xlim(matrix.shape[-1]-100000, None)"
   ]
  },
  {
   "cell_type": "code",
   "execution_count": null,
   "id": "1acf55d8-9bda-4c9b-97e2-447b9c12b33c",
   "metadata": {},
   "outputs": [],
   "source": [
    "x = tr.data.copy()\n",
    "inc = int(3600*sr)"
   ]
  },
  {
   "cell_type": "code",
   "execution_count": null,
   "id": "7b6efce1-ccd2-4232-a796-de33ba46b6b3",
   "metadata": {},
   "outputs": [],
   "source": [
    "nx = len(x)\n",
    "nwin = len(win)\n",
    "if (nwin == 1):\n",
    "    length = win\n",
    "else:\n",
    "    # length = next_pow_2(nwin)\n",
    "    length = nwin"
   ]
  },
  {
   "cell_type": "code",
   "execution_count": null,
   "id": "27f2876f-38b6-4a7d-b22d-2ac3c355d418",
   "metadata": {},
   "outputs": [],
   "source": [
    "length"
   ]
  },
  {
   "cell_type": "code",
   "execution_count": null,
   "id": "898a001e-b00a-4548-99da-52abd1ceef5b",
   "metadata": {},
   "outputs": [],
   "source": [
    "nf = int(np.fix((nx - length + inc) // inc))"
   ]
  },
  {
   "cell_type": "code",
   "execution_count": null,
   "id": "16585b13-5dc9-4d55-8174-da973adf75fd",
   "metadata": {},
   "outputs": [],
   "source": [
    "nf"
   ]
  },
  {
   "cell_type": "code",
   "execution_count": null,
   "id": "1919b26f-934b-40cc-a162-052a7fce646d",
   "metadata": {},
   "outputs": [],
   "source": [
    "nx - length + inc"
   ]
  },
  {
   "cell_type": "code",
   "execution_count": null,
   "id": "01fcf87b-2eeb-431d-a063-d806cf2ff7ec",
   "metadata": {},
   "outputs": [],
   "source": [
    "# f = np.zeros((nf, length))\n",
    "indf = inc * np.arange(nf)\n",
    "print(indf)"
   ]
  },
  {
   "cell_type": "code",
   "execution_count": null,
   "id": "32d8bc8d-7bce-4ce8-a390-7457fb773e40",
   "metadata": {},
   "outputs": [],
   "source": [
    "inds = np.arange(length) + 1\n",
    "inds.size, win.size"
   ]
  },
  {
   "cell_type": "code",
   "execution_count": null,
   "id": "65e4542a-155e-4824-816e-4772c10f7c81",
   "metadata": {},
   "outputs": [],
   "source": [
    "print(len([indf] * length))\n",
    "print(([indf] * length)[1])"
   ]
  },
  {
   "cell_type": "code",
   "execution_count": null,
   "id": "98fa2636-b0be-4bc9-8ab8-0904f4e004c3",
   "metadata": {},
   "outputs": [],
   "source": [
    "idx = (np.transpose(np.vstack([indf] * length)) +\n",
    "       np.vstack([inds] * nf)) - 1"
   ]
  },
  {
   "cell_type": "code",
   "execution_count": null,
   "id": "6e78493d-4bc3-4592-827f-7ec2dcd7da3d",
   "metadata": {},
   "outputs": [],
   "source": [
    "idx.shape"
   ]
  },
  {
   "cell_type": "code",
   "execution_count": null,
   "id": "008e5107-47b1-467f-ba79-30af3ab73e82",
   "metadata": {},
   "outputs": [],
   "source": [
    "idx"
   ]
  },
  {
   "cell_type": "code",
   "execution_count": null,
   "id": "bb8dee41-2f17-42dd-9c7b-daa3555bc672",
   "metadata": {},
   "outputs": [],
   "source": [
    "f = x[(np.transpose(np.vstack([indf] * length)) +\n",
    "       np.vstack([inds] * nf)) - 1]\n",
    "if (nwin > 1):\n",
    "    w = np.transpose(win)\n",
    "    f = f * np.vstack([w] * nf)\n",
    "#f = signal.detrend(f, type='constant')\n",
    "no_win, _ = f.shape"
   ]
  },
  {
   "cell_type": "code",
   "execution_count": null,
   "id": "27e274c7-9c2a-4226-ae82-14865671d79c",
   "metadata": {},
   "outputs": [],
   "source": [
    "length"
   ]
  },
  {
   "cell_type": "code",
   "execution_count": null,
   "id": "0fe5ac00-8c75-4772-913e-06babdc19609",
   "metadata": {},
   "outputs": [],
   "source": [
    "idx = np.expand_dims(indf, 1) + np.expand_dims(np.arange(length), 0)"
   ]
  },
  {
   "cell_type": "code",
   "execution_count": null,
   "id": "1b0b8ffb-e60b-413b-9e09-54150237e9a4",
   "metadata": {},
   "outputs": [],
   "source": [
    "x[idx].shape"
   ]
  },
  {
   "cell_type": "code",
   "execution_count": null,
   "id": "d85e34fc-0c34-4a75-9a40-648bd5a132d4",
   "metadata": {},
   "outputs": [],
   "source": []
  },
  {
   "cell_type": "code",
   "execution_count": null,
   "id": "93920f9b-d4a5-4634-bc38-6cbe7172b13b",
   "metadata": {},
   "outputs": [],
   "source": []
  },
  {
   "cell_type": "code",
   "execution_count": null,
   "id": "e1f43515-39b5-4213-bff0-68cf984d126b",
   "metadata": {},
   "outputs": [],
   "source": [
    "%%timeit -n100\n",
    "view = np.lib.stride_tricks.sliding_window_view(x, length)\n",
    "m = view[::inc,:]*win"
   ]
  },
  {
   "cell_type": "code",
   "execution_count": null,
   "id": "f5cea05e-0198-4f3d-9b76-d0f4b4ea03d9",
   "metadata": {},
   "outputs": [],
   "source": [
    "x.strides"
   ]
  },
  {
   "cell_type": "code",
   "execution_count": null,
   "id": "bf9f9f5d-355c-4f4e-b8c1-ba7aeeca3ea1",
   "metadata": {},
   "outputs": [],
   "source": [
    "view = np.lib.stride_tricks.as_strided(x, (24,420000))"
   ]
  },
  {
   "cell_type": "code",
   "execution_count": null,
   "id": "17ed8717-b8da-4151-8954-c2a35ab47384",
   "metadata": {},
   "outputs": [],
   "source": [
    "view"
   ]
  },
  {
   "cell_type": "code",
   "execution_count": null,
   "id": "027a744a-0223-4fcc-aeb5-aaa27a2c4eb5",
   "metadata": {},
   "outputs": [],
   "source": [
    "m = view*win"
   ]
  },
  {
   "cell_type": "code",
   "execution_count": null,
   "id": "d19d337f-c5a8-41ee-b631-84fe2f49fbed",
   "metadata": {},
   "outputs": [],
   "source": [
    "m"
   ]
  },
  {
   "cell_type": "code",
   "execution_count": null,
   "id": "c21c4a25-ad5c-4e3e-a809-64b42448a0ae",
   "metadata": {},
   "outputs": [],
   "source": [
    "plt.figure(figsize=(10, 12))\n",
    "scale = 1e6\n",
    "for i, row in enumerate(m):\n",
    "    plt.plot(scale*row + i)\n",
    "    \n",
    "    #frow = bandpass(row.copy(), fmin, fmax, sr)\n",
    "    #plt.plot(frow*scale +i, 'k', lw=0.5)\n",
    "plt.xlim(-100, 100000)"
   ]
  },
  {
   "cell_type": "code",
   "execution_count": null,
   "id": "9f59c325-1e2e-4a74-bc7a-a0097616289a",
   "metadata": {},
   "outputs": [],
   "source": []
  },
  {
   "cell_type": "code",
   "execution_count": null,
   "id": "66ed63f5-5450-48ce-81ac-c45337c87273",
   "metadata": {},
   "outputs": [],
   "source": [
    "(fview * win)"
   ]
  },
  {
   "cell_type": "code",
   "execution_count": null,
   "id": "a9dc63d8-c8e6-429a-bc37-06944b1a1cac",
   "metadata": {},
   "outputs": [],
   "source": [
    "inc"
   ]
  },
  {
   "cell_type": "code",
   "execution_count": null,
   "id": "2f71fbf9-753c-4e63-939b-23e6f4bec35d",
   "metadata": {},
   "outputs": [],
   "source": [
    "view[::inc,:].shape"
   ]
  },
  {
   "cell_type": "code",
   "execution_count": null,
   "id": "d7225b64-2941-47c1-a622-ac8e3ce7f4ae",
   "metadata": {},
   "outputs": [],
   "source": []
  },
  {
   "cell_type": "code",
   "execution_count": null,
   "id": "f1993d59-e796-49e9-8ea6-cb01556413dd",
   "metadata": {},
   "outputs": [],
   "source": [
    "\n",
    "def bandpass_matrix(data, freqmin, freqmax, df, corners=4, \n",
    "                    zerophase=False, axis=-1):\n",
    "\n",
    "    \"\"\"\n",
    "    Butterworth-Bandpass Filter.\n",
    "\n",
    "    Filter data from ``freqmin`` to ``freqmax`` using ``corners``\n",
    "    corners.\n",
    "    The filter uses :func:`scipy.signal.iirfilter` (for design)\n",
    "    and :func:`scipy.signal.sosfilt` (for applying the filter).\n",
    "\n",
    "    :type data: numpy.ndarray\n",
    "    :param data: Data to filter.\n",
    "    :param freqmin: Pass band low corner frequency.\n",
    "    :param freqmax: Pass band high corner frequency.\n",
    "    :param df: Sampling rate in Hz.\n",
    "    :param corners: Filter corners / order.\n",
    "    :param zerophase: If True, apply filter once forwards and once backwards.\n",
    "        This results in twice the filter order but zero phase shift in\n",
    "        the resulting filtered trace.\n",
    "    :return: Filtered data.\n",
    "    \"\"\"\n",
    "    fe = 0.5 * df\n",
    "    low = freqmin / fe\n",
    "    high = freqmax / fe\n",
    "    # raise for some bad scenarios\n",
    "    if high - 1.0 > -1e-6:\n",
    "        msg = (\"Selected high corner frequency ({}) of bandpass is at or \"\n",
    "               \"above Nyquist ({}).\").format(\n",
    "            freqmax, fe)\n",
    "        raise ValueError(msg)\n",
    "    if low > 1:\n",
    "        msg = \"Selected low corner frequency is above Nyquist.\"\n",
    "        raise ValueError(msg)\n",
    "        \n",
    "    z, p, k = iirfilter(corners, [low, high], btype='band',\n",
    "                        ftype='butter', output='zpk')\n",
    "    sos = zpk2sos(z, p, k)\n",
    "    if zerophase:\n",
    "        firstpass = sosfilt(sos, data)\n",
    "        return sosfilt(sos, firstpass[::-1])[::-1]\n",
    "    else:\n",
    "        return sosfilt(sos, data)"
   ]
  },
  {
   "cell_type": "code",
   "execution_count": null,
   "id": "d30c44ab-899c-4097-9411-3a9ed3039e46",
   "metadata": {},
   "outputs": [],
   "source": [
    "\n",
    "\n",
    "def get_windows(tr, starttime, nf, winlen_samples,\n",
    "                           taper_samples=0):\n",
    "    \"\"\"\n",
    "    Split trace data into adjacent or overlapping frames\n",
    "    depending whether Nans are present.\n",
    "    \n",
    "    If Nans are present, overlapping frames are created.\n",
    "    The overlap is determined by `taper_samples`. Thus if\n",
    "    you expect Nans in your data and want overlapping frames\n",
    "    give `taper_samples` > 0\n",
    "    \n",
    "    Returns\n",
    "    ----------\n",
    "    data : ndarray\n",
    "        framed data, \n",
    "        shape=(nf, winlen_samples+2*taper_samples)\n",
    "    nontapered : slice\n",
    "        slice object, that gives the slice of the\n",
    "        untapered region in `data`.\n",
    "    \"\"\"\n",
    "    \n",
    "    if np.any(np.isnan(tr.data)):\n",
    "        logger.info('Found nans in %s' % tr)\n",
    "        taper_samples = int(taper_samples)\n",
    "        data, taper_samples = get_overlapping_windows(tr, \n",
    "                            starttime, nf, winlen_samples,\n",
    "                           taper_samples)\n",
    "        nontapered = slice(taper_samples,-taper_samples,None)\n",
    "    else:\n",
    "        data = get_adjacent_windows(tr, starttime, nf, \n",
    "                                    winlen_samples)\n",
    "        nontapered = slice(None,None,None)\n",
    "    return data, nontapered\n",
    "    \n",
    "\n",
    "\n",
    "def get_adjacent_windows(tr, starttime, nf, winlen_samples):\n",
    "    \"\"\"\n",
    "    Reshape vector into frames without overlap\n",
    "    \n",
    "    Uses `np.reshape`.\n",
    "    \"\"\"\n",
    "    #print(starttime)\n",
    "    #print(tr)\n",
    "    ntot = int(nf*winlen_samples)\n",
    "    data = tr.slice(starttime, endtime=None).data[:ntot]\n",
    "    return data.reshape((nf, winlen_samples))\n",
    "\n",
    "\n",
    "def get_overlapping_windows(tr, starttime, nf, winlen_samples,\n",
    "                           taper_samples):\n",
    "    \"\"\"\n",
    "    Splits the vector up into (overlapping) frames \n",
    "    \"\"\"\n",
    "    sr = tr.stats.sampling_rate\n",
    "    \n",
    "    # samples in actual window (without tapers)\n",
    "    #winlen_samples = int(winlen_seconds * sr)\n",
    "    \n",
    "    # samples in one taper\n",
    "    #taper_samples = int(taper_seconds * sr)\n",
    "    \n",
    "    # Samples in window including tapers\n",
    "    nwin = int(winlen_samples + 2*taper_samples)\n",
    "    \n",
    "    # Total number of samples of trace to process\n",
    "    proclen_samples = int(nf * winlen_samples + 2*taper_samples)\n",
    "    \n",
    "    # Ratio of tapers to total window size\n",
    "    a =  2*taper_samples / nwin\n",
    "    win = get_window(('tukey', a), nwin, fftbins=False)\n",
    "    \n",
    "    # Cut out the needed data\n",
    "    x = tr.slice(starttime-taper_samples/sr).data[:proclen_samples]\n",
    "    \n",
    "    # From obspy.signal.enframe()\n",
    "    nx = len(x)\n",
    "    nwin = len(win)\n",
    "    if (nwin == 1):\n",
    "        length = win\n",
    "    else:\n",
    "        # length = next_pow_2(nwin)\n",
    "        length = nwin\n",
    "    nf = int(np.fix((nx - length + winlen_samples) // winlen_samples))\n",
    "    # f = np.zeros((nf, length))\n",
    "    indf = winlen_samples * np.arange(nf)\n",
    "    f = x[np.expand_dims(indf, 1) + \n",
    "          np.expand_dims(np.arange(length), 0)]\n",
    "    f = f * win\n",
    "    f[np.any(np.isnan(f), axis=1),:] = np.nan\n",
    "    #no_win, _ = f.shape\n",
    "    return f, taper_samples\n",
    "\n",
    "\n",
    "\n",
    "def get_amplitude(data, nontapered, fmin, fmax, sr):\n",
    "    \"\"\"\n",
    "    If trace is free of nans, we can simply filter the whole trace at \n",
    "    once and use reshape to get the windows.\n",
    "    If there are nans, the obspy filter function only filters\n",
    "    the data up to the first nan. Thus you can loose almost the entire\n",
    "    trace because of a single nan in the early part. To avoid this, we\n",
    "    check for nans and if there are some, we filter the data per\n",
    "    window. This means however, we have to ensure again some overlap\n",
    "    and the windowing will be slower.\n",
    "    \"\"\"\n",
    "    \n",
    "    data = bandpass(data, fmin, fmax, sr)\n",
    "    data = data[:,nontapered]\n",
    "                                    \n",
    "    else:\n",
    "        tr.filter('bandpass', freqmin=fmin, freqmax=fmax)\n",
    "        data = get_windows(tr, starttime+overlap, nf, winlen_samples)\n",
    "        \n",
    "    prctl = np.nanpercentile(data, 75, axis=1)\n",
    "    return prctl"
   ]
  }
 ],
 "metadata": {
  "language_info": {
   "name": "python",
   "pygments_lexer": "ipython3"
  }
 },
 "nbformat": 4,
 "nbformat_minor": 5
}

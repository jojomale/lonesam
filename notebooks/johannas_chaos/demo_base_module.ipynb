{
 "cells": [
  {
   "cell_type": "markdown",
   "id": "e705fb14-addc-4498-b376-0eb2e7c461e3",
   "metadata": {},
   "source": [
    "# Base module"
   ]
  },
  {
   "cell_type": "code",
   "execution_count": null,
   "id": "85ebbabf-3cdb-423b-915a-34bfcb8f593d",
   "metadata": {},
   "outputs": [],
   "source": [
    "from importlib import reload\n",
    "import os\n",
    "from datetime import timedelta\n",
    "\n",
    "import numpy as np\n",
    "\n",
    "import h5py\n",
    "\n",
    "from obspy.clients.filesystem.sds import Client\n",
    "from obspy.clients.fdsn import RoutingClient\n",
    "from obspy.core import UTCDateTime as UTC\n",
    "from obspy.signal import util\n",
    "\n",
    "import matplotlib.pyplot as plt\n",
    "plt.style.use('tableau-colorblind10')\n",
    "\n",
    "#from data_quality_control import processing\n",
    "from data_quality_control import base"
   ]
  },
  {
   "cell_type": "code",
   "execution_count": null,
   "id": "f064fcfd-bb8d-4ca6-a56a-2942db0ca813",
   "metadata": {},
   "outputs": [],
   "source": [
    "base.logger.setLevel(\"INFO\")"
   ]
  },
  {
   "cell_type": "markdown",
   "id": "386883d2-5727-4fe0-83e9-be902db6aad6",
   "metadata": {},
   "source": [
    "# Create ProcessingParameters\n",
    "\n",
    "Settings for amplitude and psd computation are handled \n",
    "via the ProcessingParamters class.\n",
    "\n",
    "If using a batch processing class, you can either pass a\n",
    "ProcessingParameters object (keyword `procparams`) or set\n",
    "each parameter directly as keyword argument."
   ]
  },
  {
   "cell_type": "markdown",
   "id": "f846c1ae-6dc9-45fb-9199-c2dca5f976ea",
   "metadata": {},
   "source": [
    "## Use default parameters"
   ]
  },
  {
   "cell_type": "code",
   "execution_count": null,
   "id": "c7725b30-2831-4861-9e02-bfde6e29b4dd",
   "metadata": {},
   "outputs": [],
   "source": [
    "#reload(base)\n",
    "pp = base.ProcessingParameters()\n",
    "print(pp)"
   ]
  },
  {
   "cell_type": "markdown",
   "id": "42460781-440c-4473-bf7d-516be69eb6a4",
   "metadata": {},
   "source": [
    "Of course, we can also pass them explicitely."
   ]
  },
  {
   "cell_type": "code",
   "execution_count": null,
   "id": "73e953fd-b53d-4b65-b29d-7be5f8fbdc74",
   "metadata": {},
   "outputs": [],
   "source": [
    "#reload(base)\n",
    "pp = base.ProcessingParameters(**base.default_processing_params)\n",
    "print(pp)"
   ]
  },
  {
   "cell_type": "markdown",
   "id": "3023df65-de08-479b-82e8-63f8d1b40dc2",
   "metadata": {},
   "source": [
    "## Custom parameters"
   ]
  },
  {
   "cell_type": "markdown",
   "id": "1455dc76-9418-4896-be0d-7b0330f15af7",
   "metadata": {},
   "source": [
    "Change all parameters."
   ]
  },
  {
   "cell_type": "code",
   "execution_count": null,
   "id": "9627b635-cbb0-433c-8a5d-8c33b3c18768",
   "metadata": {},
   "outputs": [],
   "source": [
    "#reload(base)\n",
    "pp2 = base.ProcessingParameters(overlap=300, \n",
    "                                     amplitude_frequencies=(1, 10),\n",
    "                                     nperseg=1024,\n",
    "                                     winlen_seconds=1800,\n",
    "                                     proclen_seconds=3600*24)\n",
    "print(pp2)"
   ]
  },
  {
   "cell_type": "markdown",
   "id": "28727238-806b-4fce-9abb-d84f21f90038",
   "metadata": {},
   "source": [
    "If we only want to change some default settings, we only need to\n",
    "specify those."
   ]
  },
  {
   "cell_type": "code",
   "execution_count": null,
   "id": "c658ade4-5da4-425d-98d6-bc1c8d920da1",
   "metadata": {},
   "outputs": [],
   "source": [
    "#reload(base)\n",
    "pp3 = base.ProcessingParameters(overlap=300)\n",
    "print(pp3)"
   ]
  },
  {
   "cell_type": "markdown",
   "id": "bfd2e63e-20f3-4e26-9b2e-6f4cdc471ca0",
   "metadata": {},
   "source": [
    "# NSCProcessing\n",
    "\n",
    "The NSCProcessor is another low-level class. It does the actual \n",
    "work of extracting the amplitude\n",
    "information and computing the power spectral densities from the\n",
    "seismic data.\n",
    "\n",
    "It is usually called by the batch processing classes."
   ]
  },
  {
   "cell_type": "code",
   "execution_count": null,
   "id": "2d38c6fb-d865-4dcb-aaa8-04e9d86b5d90",
   "metadata": {},
   "outputs": [],
   "source": [
    "network = 'GR'\n",
    "station = 'BFO'\n",
    "location = ''\n",
    "channel = 'HHZ'\n",
    "\n",
    "outdir = '.'\n",
    "\n",
    "sds_root = os.path.abspath('../sample_sds/')\n",
    "inventory_routing_type = \"eida-routing\""
   ]
  },
  {
   "cell_type": "code",
   "execution_count": null,
   "id": "ab1e57b9-c340-4027-b297-1c95aeb852aa",
   "metadata": {},
   "outputs": [],
   "source": [
    "sdsclient = Client(sds_root)\n",
    "invclient = RoutingClient(inventory_routing_type)\n",
    "\n",
    "sdsclient.get_all_nslc()"
   ]
  },
  {
   "cell_type": "markdown",
   "id": "eb3ea681-efbf-4ec5-9d61-716d0e93b23a",
   "metadata": {},
   "source": [
    "We need to give network, station, location and channel. These\n",
    "are passed to the `get_waveforms()` and `get_inventory()` methods\n",
    "of the obspy-clients. Here, we use the sds-client for the data\n",
    "and the Eida-RoutingClient for the inventory.\n",
    "The processing parameters are handled in an attributed ProcessingParameter-object. They can be set via the corresponding\n",
    "keywords.\n",
    "\n",
    "If\n",
    "- no keywords are given, default processing parameters are used\n",
    "- with keyword `procparams` a ProcessingParameters-object can be passed\n",
    "- additional keywords override default values of those in `procparams`\n"
   ]
  },
  {
   "cell_type": "code",
   "execution_count": null,
   "id": "d1fe9397-4e9e-45f0-aeb8-714ce8a46ed0",
   "metadata": {},
   "outputs": [],
   "source": [
    "#reload(base)\n",
    "nscp = base.NSCProcessor(network, station, channel,location, \n",
    "                               sdsclient, invclient, procparams=pp,\n",
    "                               overlap=30)\n",
    "print(nscp)"
   ]
  },
  {
   "cell_type": "markdown",
   "id": "c236ec2d-8ad7-41e5-9da6-00e13465287e",
   "metadata": {},
   "source": [
    "The actual processing is started by calling the method `process()`, \n",
    "which needs a start and end time."
   ]
  },
  {
   "cell_type": "code",
   "execution_count": null,
   "id": "c5eed713-963c-4e82-9b74-f51087d566c3",
   "metadata": {},
   "outputs": [],
   "source": [
    "startdate = UTC(\"2020-12-20\")\n",
    "enddate = UTC(\"2021-01-15\")"
   ]
  },
  {
   "cell_type": "code",
   "execution_count": null,
   "id": "1d83a11e-d0d2-4e68-a02c-de7150787e68",
   "metadata": {},
   "outputs": [],
   "source": [
    "output = nscp.process(startdate, enddate)"
   ]
  },
  {
   "cell_type": "markdown",
   "id": "47cc36b0-73a9-4ff1-815c-d397e28d4d90",
   "metadata": {},
   "source": [
    "The result is an object, which bundles the results (amplitudes,\n",
    "spectra, frequency axis) with the time range that was processed\n",
    "and the processing parameters"
   ]
  },
  {
   "cell_type": "code",
   "execution_count": null,
   "id": "8954ba27-bc65-4d07-a58b-6ab815c646d0",
   "metadata": {},
   "outputs": [],
   "source": [
    "print(output)"
   ]
  },
  {
   "cell_type": "code",
   "execution_count": null,
   "id": "f2f02175-91b2-4c68-8bdf-8064efb10a82",
   "metadata": {},
   "outputs": [],
   "source": [
    "output.plot_amplitudes();"
   ]
  },
  {
   "cell_type": "markdown",
   "id": "db1ca40f-095c-407b-8af5-14cea3a36125",
   "metadata": {},
   "source": [
    "From the error log, we can see that there wasn't data for all days.\n",
    "Most of the missing days in the data base at the beginning of the\n",
    "time range were already dismissed from the output automatically. \n",
    "Nevertheless, there is a single empty day at the beginning. This is\n",
    "because due to the small overlap, that we require between processing\n",
    "units (`proclen`, days usually), the algorithm looks for data in a time span, that is slightly larger than the one we aim for. So it finds data from the next processing unit (25-Dec) and therefore the\n",
    "processing is triggered, even though we discard the results in the end.\n",
    "\n",
    "However, once data was successfully processed (even if resulted in \n",
    "Nans only), the algorithm keeps adding data until it reaches the end\n",
    "of the time range. If no data is found, an array of Nans is added in\n",
    "corresponding shape. This is because the algorithm cannot know whether\n",
    "it will eventually be more data or not. \n",
    "\n",
    "We know this only at the end. Then, the method `trim_nan()` can be\n",
    "used to remove empty slices and adjust the start and endtime\n",
    "accordingly."
   ]
  },
  {
   "cell_type": "code",
   "execution_count": null,
   "id": "400c6493-3116-4bc9-881b-eef35985d7a2",
   "metadata": {},
   "outputs": [],
   "source": [
    "output.trim_nan()"
   ]
  },
  {
   "cell_type": "code",
   "execution_count": null,
   "id": "0bd3e105-c510-449e-b0fe-3f1666c13ab9",
   "metadata": {},
   "outputs": [],
   "source": [
    "print(output)"
   ]
  },
  {
   "cell_type": "code",
   "execution_count": null,
   "id": "3b981a1b-c73a-446a-b2b0-1f1e14d76ddc",
   "metadata": {},
   "outputs": [],
   "source": [
    "output.plot_amplitudes();\n",
    "plt.suptitle(\"Amplitude data matrix for trimmed data\");\n",
    "plt.xlabel('windows (here: ~hours)')\n",
    "plt.ylabel('proclen (here ~days)');"
   ]
  },
  {
   "cell_type": "markdown",
   "id": "e9084c0c-bd00-4a4e-8b50-762514c820d7",
   "metadata": {},
   "source": [
    "The output-class can dump its content to an HDF5 file."
   ]
  },
  {
   "cell_type": "code",
   "execution_count": null,
   "id": "419b09d6-5056-465b-ac73-0527f323389f",
   "metadata": {},
   "outputs": [],
   "source": [
    "output.to_file()"
   ]
  },
  {
   "cell_type": "markdown",
   "id": "74667ba7-be8b-415c-87b4-1329e7f39c24",
   "metadata": {},
   "source": [
    "Read the file again from disk."
   ]
  },
  {
   "cell_type": "code",
   "execution_count": null,
   "id": "41e337f5-c8e5-4d78-ac8f-35062663199b",
   "metadata": {},
   "outputs": [],
   "source": [
    "data = base.BaseProcessedData().from_file(\n",
    "    \"GR.BFO..HHZ_2020-12-25_2021-01-09.hdf5\")"
   ]
  },
  {
   "cell_type": "code",
   "execution_count": null,
   "id": "1b0e5aab-22d6-4b6c-8436-12c979e189dd",
   "metadata": {},
   "outputs": [],
   "source": [
    "data"
   ]
  },
  {
   "cell_type": "code",
   "execution_count": null,
   "id": "eeaf4869-3e9d-433b-8e28-d073809d2eb6",
   "metadata": {},
   "outputs": [],
   "source": [
    "data.plot_amplitudes();"
   ]
  },
  {
   "cell_type": "code",
   "execution_count": null,
   "id": "3ebccfb4-0fc7-43aa-a3a9-6c1ac249a036",
   "metadata": {},
   "outputs": [],
   "source": [
    "data.plot_psds(func=np.log);\n",
    "plt.suptitle(\"logarithmic PSDs\");"
   ]
  },
  {
   "cell_type": "markdown",
   "id": "6217df2c-8853-4d9b-b34d-4623cd074404",
   "metadata": {},
   "source": [
    "# Batch processing\n",
    "\n",
    "The GenericProcessing class provides a workflow that processed\n",
    "a large time range of data at once. The results are written to\n",
    "HDF5 files.\n",
    "\n",
    "The GenericProcessing class is intended to provide low-level \n",
    "functionality. It can be customized to different data base\n",
    "layouts and corresponding data clients, e.g. SDS file system.\n",
    "This can result in a simpler interface and a more generic way of\n",
    "providing NSLC information, e.g. using lists or wildcards.\n",
    "\n",
    "At the moment, we take NSCL only as finite strings.\n",
    "\n",
    "Data is processed in batches of years, months, days, or hours\n",
    "(`fileunit`) with one output file per batch."
   ]
  },
  {
   "cell_type": "code",
   "execution_count": null,
   "id": "367d495f-b04e-42da-8481-402081040dbb",
   "metadata": {},
   "outputs": [],
   "source": [
    "overlap = 60 #3600\n",
    "fmin, fmax = (4, 14)\n",
    "nperseg = 2048\n",
    "winlen_in_s = 3600\n",
    "proclen = 24*3600"
   ]
  },
  {
   "cell_type": "code",
   "execution_count": null,
   "id": "c89394dc-f015-4273-b512-e2074286a7b2",
   "metadata": {},
   "outputs": [],
   "source": [
    "#reload(base)\n",
    "pp = base.ProcessingParameters(overlap=overlap, \n",
    "                             amplitude_frequencies=(fmin, fmax),\n",
    "                             nperseg=nperseg,\n",
    "                             winlen_seconds=winlen_in_s,\n",
    "                             proclen_seconds=proclen)\n",
    "print(pp)"
   ]
  },
  {
   "cell_type": "markdown",
   "id": "a1eb8547-8395-48e3-be4e-12f8f860976c",
   "metadata": {},
   "source": [
    "## Year-wise files"
   ]
  },
  {
   "cell_type": "code",
   "execution_count": null,
   "id": "684fa4c1-6ce5-4578-b2b5-28451cad1c07",
   "metadata": {},
   "outputs": [],
   "source": [
    "#reload(base)\n",
    "proc = base.GenericProcessor(network, station, location, channel, \n",
    "                             sdsclient, invclient, fileunit=\"year\",\n",
    "                             procparams=pp)\n",
    "\n",
    "proc"
   ]
  },
  {
   "cell_type": "code",
   "execution_count": null,
   "id": "fe050dec-7248-46d3-b3e1-82db737ce7ad",
   "metadata": {},
   "outputs": [],
   "source": [
    "proc.expand_nslc()\n",
    "print(proc._networks)"
   ]
  },
  {
   "cell_type": "code",
   "execution_count": null,
   "id": "28583d0a-e055-408f-906b-1bebc4ad2516",
   "metadata": {},
   "outputs": [],
   "source": [
    "proc.process(startdate, enddate, force_new_file=True)"
   ]
  },
  {
   "cell_type": "markdown",
   "id": "04ed08fd-e5b6-491d-809d-b9d725bee931",
   "metadata": {},
   "source": [
    "### Results"
   ]
  },
  {
   "cell_type": "code",
   "execution_count": null,
   "id": "59f9f117-3a9c-464a-b7ce-5efdb1015a6e",
   "metadata": {},
   "outputs": [],
   "source": [
    "res = base.BaseProcessedData().from_file(\"GR.BFO..HHZ_2020.hdf5\")\n",
    "\n",
    "res"
   ]
  },
  {
   "cell_type": "code",
   "execution_count": null,
   "id": "9f3d7fba-8a46-40b4-8796-9851d4fdcacf",
   "metadata": {},
   "outputs": [],
   "source": [
    "res.trim_nan()\n",
    "res"
   ]
  },
  {
   "cell_type": "markdown",
   "id": "512ce959-f3cb-40db-bb0e-f7e2d2adfba0",
   "metadata": {},
   "source": [
    "## Monthly\n",
    "\n",
    "First, we use the same processing parameters as before"
   ]
  },
  {
   "cell_type": "code",
   "execution_count": null,
   "id": "5384d211-8323-4c6f-a87b-f5f15ad9c99b",
   "metadata": {},
   "outputs": [],
   "source": [
    "#reload(base)\n",
    "proc = base.GenericProcessor(network, station, location, channel, \n",
    "                             sdsclient, invclient, fileunit=\"month\",\n",
    "                             procparams=pp)\n",
    "\n",
    "proc"
   ]
  },
  {
   "cell_type": "code",
   "execution_count": null,
   "id": "b8c7d3c1-d8d9-4985-b404-01a61691ca2c",
   "metadata": {},
   "outputs": [],
   "source": [
    "proc.process(startdate, enddate, force_new_file=True)"
   ]
  },
  {
   "cell_type": "markdown",
   "id": "5aa7a715-a20f-4c17-907d-1d98dce9c0b2",
   "metadata": {},
   "source": [
    "### Results\n",
    "\n",
    "The shape of the data in the files indicates that there are only\n",
    "31 days of data (the number of days in December).\n",
    "\n",
    "The filename includes the month now."
   ]
  },
  {
   "cell_type": "code",
   "execution_count": null,
   "id": "211a3a69-e1ea-4d12-b4b6-e770ac3a7efd",
   "metadata": {},
   "outputs": [],
   "source": [
    "res = base.BaseProcessedData().from_file(\"GR.BFO..HHZ_2020-12.hdf5\")\n",
    "res"
   ]
  },
  {
   "cell_type": "markdown",
   "id": "b3afa992-7097-426d-b0af-0519f31db461",
   "metadata": {},
   "source": [
    "We can again trim of the Nan data, which results in the same\n",
    "dimensions as for the year-batches because the data base was \n",
    "the same as before. It only contains data for the last 7 days of\n",
    "Dec-2020."
   ]
  },
  {
   "cell_type": "code",
   "execution_count": null,
   "id": "156e9b09-91b2-4d71-9199-c1bf2e4b814f",
   "metadata": {},
   "outputs": [],
   "source": [
    "res.trim_nan()\n",
    "res"
   ]
  },
  {
   "cell_type": "code",
   "execution_count": null,
   "id": "e78a915a-12b7-4d80-b86c-bb7752eb01f7",
   "metadata": {},
   "outputs": [],
   "source": [
    "res.plot_amplitudes();"
   ]
  },
  {
   "cell_type": "markdown",
   "id": "0d0cfdfc-7593-458a-adfe-c40d6e84cf18",
   "metadata": {},
   "source": [
    "# Compare"
   ]
  },
  {
   "cell_type": "code",
   "execution_count": null,
   "id": "9a4f33dd-9a72-43af-9a28-1e90b01bed5b",
   "metadata": {},
   "outputs": [],
   "source": [
    "res1 = base.BaseProcessedData().from_file(\"GR.BFO..HHZ_2020.hdf5\")\n",
    "res1.trim_nan()\n",
    "print(res1)"
   ]
  },
  {
   "cell_type": "code",
   "execution_count": null,
   "id": "48801373-f1ba-4e68-bd7c-62d14f6e8fb3",
   "metadata": {},
   "outputs": [],
   "source": [
    "res2 = base.BaseProcessedData().from_file(\"GR.BFO..HHZ_2020-12.hdf5\")\n",
    "res2.trim_nan()\n",
    "print(res2)"
   ]
  },
  {
   "cell_type": "markdown",
   "id": "2d5261ea-427d-4bb1-9d69-df8be544230a",
   "metadata": {},
   "source": [
    "Compare the data arrays of the two files"
   ]
  },
  {
   "cell_type": "code",
   "execution_count": null,
   "id": "437a0ac9-00f9-4416-b993-57ce545f8aa8",
   "metadata": {},
   "outputs": [],
   "source": [
    "np.all(np.isclose(res2.amplitudes, res1.amplitudes, equal_nan=True))"
   ]
  },
  {
   "cell_type": "code",
   "execution_count": null,
   "id": "378413ee-69c4-4c0e-86f7-1edeaf4d6d92",
   "metadata": {},
   "outputs": [],
   "source": [
    "np.all(np.isclose(res2.psds, res1.psds, equal_nan=True))"
   ]
  },
  {
   "cell_type": "markdown",
   "id": "ff708801-b413-48a5-835d-db1ed1c789dc",
   "metadata": {},
   "source": [
    "## Different window length"
   ]
  },
  {
   "cell_type": "code",
   "execution_count": null,
   "id": "f9cac99a-33f5-4402-b035-4bc77a026487",
   "metadata": {},
   "outputs": [],
   "source": [
    "winlen_in_s = 1800"
   ]
  },
  {
   "cell_type": "code",
   "execution_count": null,
   "id": "10e98072-e900-4cdd-a6c2-c860485876fe",
   "metadata": {},
   "outputs": [],
   "source": [
    "#reload(base)\n",
    "pp = base.ProcessingParameters(overlap=overlap, \n",
    "                             amplitude_frequencies=(fmin, fmax),\n",
    "                             nperseg=nperseg,\n",
    "                             winlen_seconds=winlen_in_s,\n",
    "                             proclen_seconds=proclen)\n",
    "print(pp)"
   ]
  },
  {
   "cell_type": "code",
   "execution_count": null,
   "id": "dde8670e-f0bd-4fcf-8975-a0d214b4265e",
   "metadata": {},
   "outputs": [],
   "source": [
    "#reload(base)\n",
    "proc = base.GenericProcessor(network, station, location, channel, \n",
    "                             sdsclient, invclient, fileunit=\"month\",\n",
    "                             procparams=pp,)\n",
    "\n",
    "proc"
   ]
  },
  {
   "cell_type": "code",
   "execution_count": null,
   "id": "0a4b3498-5c49-4195-b536-99fd6355e830",
   "metadata": {},
   "outputs": [],
   "source": [
    "proc.process(startdate, enddate, force_new_file=True)"
   ]
  },
  {
   "cell_type": "markdown",
   "id": "702a1e1b-9082-4ede-bbb5-427a1e271656",
   "metadata": {},
   "source": [
    "### Results\n",
    "\n",
    "The 2nd axis of the data matrix has now 48 entries because we \n",
    "used half the size of the processing window. The resulting\n",
    "amplitude data look similar in structure than before which is \n",
    "good. "
   ]
  },
  {
   "cell_type": "code",
   "execution_count": null,
   "id": "2f5e2022-da17-434c-a16b-e2afc1708710",
   "metadata": {},
   "outputs": [],
   "source": [
    "res = base.BaseProcessedData().from_file(\"GR.BFO..HHZ_2020-12.hdf5\")\n",
    "res"
   ]
  },
  {
   "cell_type": "code",
   "execution_count": null,
   "id": "dff5b6c7-4494-4898-a6a9-7ff1870a8adb",
   "metadata": {},
   "outputs": [],
   "source": [
    "res.trim_nan()\n",
    "res"
   ]
  },
  {
   "cell_type": "code",
   "execution_count": null,
   "id": "aa4be4a8-08f3-4dfe-ac7a-3a33b88ee505",
   "metadata": {},
   "outputs": [],
   "source": [
    "res.plot_amplitudes();"
   ]
  },
  {
   "cell_type": "markdown",
   "id": "abc4b7a7-650a-456d-951a-bd596cf1be5d",
   "metadata": {},
   "source": [
    "## Different processing length"
   ]
  },
  {
   "cell_type": "code",
   "execution_count": null,
   "id": "7161e9a6-d0b5-4f3f-af55-eb0015a2be60",
   "metadata": {},
   "outputs": [],
   "source": [
    "winlen_in_s = 1800\n",
    "proclen = 12*3600"
   ]
  },
  {
   "cell_type": "code",
   "execution_count": null,
   "id": "9ee669fa-9119-4151-8211-66ffa2ed916c",
   "metadata": {},
   "outputs": [],
   "source": [
    "#reload(base)\n",
    "pp = base.ProcessingParameters(overlap=overlap, \n",
    "                             amplitude_frequencies=(fmin, fmax),\n",
    "                             nperseg=nperseg,\n",
    "                             winlen_seconds=winlen_in_s,\n",
    "                             proclen_seconds=proclen)\n",
    "print(pp)"
   ]
  },
  {
   "cell_type": "code",
   "execution_count": null,
   "id": "6d95fcd2-bb87-4d36-b234-bd1af5e54b77",
   "metadata": {},
   "outputs": [],
   "source": [
    "reload(base)\n",
    "proc = base.GenericProcessor(network, station, location, channel, \n",
    "                             sdsclient, invclient, fileunit=\"month\",\n",
    "                             procparams=pp,)\n",
    "\n",
    "proc"
   ]
  },
  {
   "cell_type": "code",
   "execution_count": null,
   "id": "ae7cb1b0-d84d-4c51-b0b2-38339351a9f4",
   "metadata": {},
   "outputs": [],
   "source": [
    "proc.process(startdate, enddate, force_new_file=True)"
   ]
  },
  {
   "cell_type": "code",
   "execution_count": null,
   "id": "d2b94347-a587-432a-8575-dc0c50237d54",
   "metadata": {},
   "outputs": [],
   "source": [
    "res = base.BaseProcessedData().from_file(\"GR.BFO..HHZ_2020-12.hdf5\")\n",
    "res"
   ]
  },
  {
   "cell_type": "code",
   "execution_count": null,
   "id": "c532cb07-03be-4728-b7bb-853ae3b7f300",
   "metadata": {},
   "outputs": [],
   "source": [
    "res.trim_nan()\n",
    "res"
   ]
  },
  {
   "cell_type": "code",
   "execution_count": null,
   "id": "78bf0f9f-1ae4-442e-bf06-40bb4c156501",
   "metadata": {},
   "outputs": [],
   "source": [
    "res.plot_amplitudes();"
   ]
  },
  {
   "cell_type": "code",
   "execution_count": null,
   "id": "92524efc-6087-4ff7-ae85-51fd76fd103a",
   "metadata": {},
   "outputs": [],
   "source": [
    "res = base.BaseProcessedData().from_file(\"GR.BFO..HHZ_2021-01.hdf5\")\n",
    "res"
   ]
  },
  {
   "cell_type": "code",
   "execution_count": null,
   "id": "098e300f-4316-4d23-a381-bb909e629c2a",
   "metadata": {},
   "outputs": [],
   "source": [
    "res.trim_nan()\n",
    "res"
   ]
  },
  {
   "cell_type": "code",
   "execution_count": null,
   "id": "564705db-5e8e-42d5-8161-6a474bb99514",
   "metadata": {},
   "outputs": [],
   "source": [
    "res.plot_amplitudes();"
   ]
  },
  {
   "cell_type": "code",
   "execution_count": null,
   "id": "c707f6a1-6ffb-4ce1-bf1a-17e88c33d7e0",
   "metadata": {},
   "outputs": [],
   "source": []
  }
 ],
 "metadata": {
  "language_info": {
   "name": "python",
   "pygments_lexer": "ipython3"
  }
 },
 "nbformat": 4,
 "nbformat_minor": 5
}

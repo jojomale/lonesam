{
 "cells": [
  {
   "cell_type": "markdown",
   "id": "aa592ded-292a-40dc-bb24-5c681bd1e5be",
   "metadata": {},
   "source": [
    "# Usage"
   ]
  },
  {
   "cell_type": "code",
   "execution_count": null,
   "id": "86317bc1-2f86-4b1a-b2e0-d4555a3e4895",
   "metadata": {},
   "outputs": [],
   "source": [
    "from importlib import reload\n",
    "import os\n",
    "\n",
    "from obspy.clients.filesystem.sds import Client\n",
    "from obspy.clients.fdsn import RoutingClient\n",
    "from obspy.core import UTCDateTime as UTC\n",
    "from obspy.signal import util\n",
    "\n",
    "import matplotlib.pyplot as plt\n",
    "plt.style.use('tableau-colorblind10')\n",
    "\n",
    "from data_quality_control import processing"
   ]
  },
  {
   "cell_type": "markdown",
   "id": "1c8f1b02-a1d8-4bf2-85a6-c1142289fea3",
   "metadata": {},
   "source": [
    "## Define parameters"
   ]
  },
  {
   "cell_type": "code",
   "execution_count": null,
   "id": "2d9e7ac4-c578-432a-8d0e-89d220a9cb50",
   "metadata": {},
   "outputs": [],
   "source": [
    "network = 'GR'\n",
    "station = 'BFO'\n",
    "location = ''\n",
    "channel = 'HHZ'\n",
    "\n",
    "overlap = 60 #3600\n",
    "fmin, fmax = (4, 14)\n",
    "nperseg = 2048\n",
    "winlen_in_s = 3600\n",
    "proclen = 24*3600\n",
    "\n",
    "outdir = '../sample_output/show_processing/'\n",
    "\n",
    "sds_root = os.path.abspath('../sample_sds/')\n",
    "inventory_routing_type = \"eida-routing\""
   ]
  },
  {
   "cell_type": "markdown",
   "id": "27ca09f2-17a3-4fb4-80c3-79cd4ed46890",
   "metadata": {},
   "source": [
    "You can use the Clients directly to check the content\n",
    "of the database. Note though, that this can take some time\n",
    "if your database is large."
   ]
  },
  {
   "cell_type": "code",
   "execution_count": null,
   "id": "76e6e482-4a0d-4f8d-8101-3f3d6e53c234",
   "metadata": {},
   "outputs": [],
   "source": [
    "sdsclient = Client(sds_root)\n",
    "invclient = RoutingClient(inventory_routing_type)\n",
    "\n",
    "sdsclient.get_all_nslc()"
   ]
  },
  {
   "cell_type": "markdown",
   "id": "09535af1-d8fc-4e63-9604-c3ae69876652",
   "metadata": {},
   "source": [
    "## Process raw data\n",
    "\n",
    "Use the `processing` module to extract amplitudes and\n",
    "power spectral densities (PSD) from the raw seismic data."
   ]
  },
  {
   "cell_type": "code",
   "execution_count": null,
   "id": "9ae3b957-6577-42b3-b71f-196d93858c7e",
   "metadata": {},
   "outputs": [],
   "source": [
    "startdate = UTC(\"2020-12-20\")\n",
    "enddate = UTC(\"2021-01-15\")"
   ]
  },
  {
   "cell_type": "code",
   "execution_count": null,
   "id": "787e57bd-ce07-45b9-8406-e1514deb49d6",
   "metadata": {},
   "outputs": [],
   "source": [
    "reload(processing)\n",
    "proc_params = processing.ProcessingParameters(overlap, \n",
    "                                (fmin, fmax), nperseg,\n",
    "                                winlen_in_s, proclen)\n",
    "sdsp = processing.SDSDataBaseProcessor(network, station, channel, \n",
    "                                    sds_root, inventory_routing_type, \n",
    "                                        outdir, proc_params)"
   ]
  },
  {
   "cell_type": "code",
   "execution_count": null,
   "id": "33405842-0b31-4296-adc3-05535ca90582",
   "metadata": {},
   "outputs": [],
   "source": [
    "sdsp.process(startdate, enddate, outdir=\"../tmp_data/\")"
   ]
  },
  {
   "cell_type": "code",
   "execution_count": null,
   "id": "60525c54-0848-445b-93cf-6ac9934cf200",
   "metadata": {},
   "outputs": [],
   "source": [
    "reload(processing)\n",
    "processor = processing.RawDataProcessor(\n",
    "        network=network, \n",
    "        station=station,\n",
    "        channel=channel,\n",
    "        sds_root=sds_root,\n",
    "        inventory_routing_type=inventory_routing_type,)"
   ]
  },
  {
   "cell_type": "code",
   "execution_count": null,
   "id": "1ec877ab-97d8-4340-869f-bb474a680e4c",
   "metadata": {},
   "outputs": [],
   "source": []
  },
  {
   "cell_type": "code",
   "execution_count": null,
   "id": "14e62977-2260-4d0c-913e-5456f2f00528",
   "metadata": {},
   "outputs": [],
   "source": [
    "%%time\n",
    "#it -n1 -r7\n",
    "processor.process(startdate, enddate, outdir,\n",
    "                        overlap=overlap, \n",
    "            winlen_in_s=winlen_in_s,\n",
    "        nperseg=nperseg, proclen=proclen,\n",
    "                 amplitude_frequencies=(fmin, fmax))"
   ]
  },
  {
   "cell_type": "code",
   "execution_count": null,
   "id": "5c72f28b-dadb-4ef6-a4a0-a11b2b8f76cc",
   "metadata": {},
   "outputs": [],
   "source": []
  },
  {
   "cell_type": "markdown",
   "id": "ced56fc9-70e1-479e-bc8e-3ffdf5679189",
   "metadata": {},
   "source": [
    "## View processed data\n",
    "\n",
    "With the `analysis` module, the processed data can be accessed \n",
    "and visualized."
   ]
  },
  {
   "cell_type": "code",
   "execution_count": null,
   "id": "53135176-c3ab-49a0-9daa-58c735f355ac",
   "metadata": {},
   "outputs": [],
   "source": [
    "from data_quality_control import analysis\n",
    "import numpy as np"
   ]
  },
  {
   "cell_type": "code",
   "execution_count": null,
   "id": "5b0e575a-4edd-4bf6-bc1c-6342d7d9fdc6",
   "metadata": {},
   "outputs": [],
   "source": [
    "from IPython.core.display import display, HTML"
   ]
  },
  {
   "cell_type": "code",
   "execution_count": null,
   "id": "9f1aaedb-688c-4376-9c66-993636effe65",
   "metadata": {},
   "outputs": [],
   "source": [
    "startdate = UTC(\"2020-12-28\")\n",
    "enddate = UTC(\"2021-01-15\")"
   ]
  },
  {
   "cell_type": "code",
   "execution_count": null,
   "id": "656357cf-2582-453d-9631-91df9e9fc5b6",
   "metadata": {},
   "outputs": [],
   "source": [
    "stationcode = \"{}.{}.{}.{}\".format(network, station, \n",
    "                                   location, channel)"
   ]
  },
  {
   "cell_type": "code",
   "execution_count": null,
   "id": "b937e230-c889-4fd4-92a1-ed2c7ab998c4",
   "metadata": {},
   "outputs": [],
   "source": [
    "reload(analysis)\n",
    "analyzer = analysis.Analyzer(startdate, enddate, outdir, stationcode)"
   ]
  },
  {
   "cell_type": "code",
   "execution_count": null,
   "id": "48361f71-1776-4b6f-8a6b-ee66f514ed87",
   "metadata": {},
   "outputs": [],
   "source": [
    "adata = analyzer.get_data([\"amplitudes\", \"psds\"], \n",
    "                         stime=\"00:00\", etime=\"23:00\"\n",
    "                        #stime=\"19:00\", etime=\"05:00\"\n",
    "                         )"
   ]
  },
  {
   "cell_type": "code",
   "execution_count": null,
   "id": "759b0b1b-a3aa-4ff6-a3dc-47ad42f87a6c",
   "metadata": {},
   "outputs": [],
   "source": [
    "fig = analyzer.plot_amplitudes()"
   ]
  },
  {
   "cell_type": "markdown",
   "id": "bf8ae994-dadd-42c6-a826-0417e1af3bb6",
   "metadata": {},
   "source": [
    "In a notebook or script you could simply run:\n",
    "\n",
    "```python\n",
    "fig.show()\n",
    "```"
   ]
  },
  {
   "cell_type": "code",
   "execution_count": null,
   "id": "d0e0e5e8-8cf6-4877-9437-caf208972b71",
   "metadata": {},
   "outputs": [],
   "source": [
    "display(HTML(fig.to_html()))"
   ]
  },
  {
   "cell_type": "code",
   "execution_count": null,
   "id": "e1f48995-54d5-40c1-bf6d-1e5f4620a82d",
   "metadata": {},
   "outputs": [],
   "source": [
    "fig_psd = analyzer.plot_psds(np.log)"
   ]
  },
  {
   "cell_type": "code",
   "execution_count": null,
   "id": "3d7688ba-bab0-4d77-a240-898dd42c595f",
   "metadata": {},
   "outputs": [],
   "source": [
    "display(HTML(fig_psd.to_html()))"
   ]
  },
  {
   "cell_type": "code",
   "execution_count": null,
   "id": "76d775b7-7983-4f29-b6e0-db1aef01c179",
   "metadata": {},
   "outputs": [],
   "source": []
  }
 ],
 "metadata": {
  "language_info": {
   "name": "python",
   "pygments_lexer": "ipython3"
  }
 },
 "nbformat": 4,
 "nbformat_minor": 5
}

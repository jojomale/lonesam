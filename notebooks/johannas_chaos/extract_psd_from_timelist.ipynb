{
 "cells": [
  {
   "cell_type": "code",
   "execution_count": null,
   "id": "3bee6889-6d2a-45c9-95e0-e0331b3dd3f1",
   "metadata": {},
   "outputs": [],
   "source": [
    "from importlib import reload\n",
    "from datetime import timedelta, time\n",
    "from glob import glob\n",
    "from pathlib import Path\n",
    "import numpy as np\n",
    "\n",
    "from obspy.core import UTCDateTime as UTC\n",
    "\n",
    "import plotly.graph_objects as go\n",
    "\n",
    "import h5py\n",
    "\n",
    "#from data_quality_control import processing\n",
    "from data_quality_control import sds_db\n",
    "from data_quality_control import analysis, base, util\n",
    "\n",
    "logger = sds_db.logger\n",
    "\n",
    "# Only for display in documentation!\n",
    "from IPython.core.display import display, HTML \n",
    "\n",
    "import matplotlib.pyplot as plt\n",
    "plt.style.use('tableau-colorblind10')\n",
    "#%matplotlib widget"
   ]
  },
  {
   "cell_type": "code",
   "execution_count": null,
   "id": "b7337ff5-5bf5-411e-ac72-0f141c0b2139",
   "metadata": {},
   "outputs": [],
   "source": [
    "starttime = UTC(\"2020-12-01\")\n",
    "endtime = UTC(\"2021-02-01\")"
   ]
  },
  {
   "cell_type": "markdown",
   "id": "1001ce17-707b-4e71-888f-c2dd34c092f0",
   "metadata": {},
   "source": [
    "# Create random time list"
   ]
  },
  {
   "cell_type": "code",
   "execution_count": null,
   "id": "53f4432a-8f27-4632-8d67-88cfa2be7b38",
   "metadata": {},
   "outputs": [],
   "source": [
    "times = np.arange(str(starttime.date), str(endtime.date),\n",
    "             dtype=\"datetime64[h]\")"
   ]
  },
  {
   "cell_type": "code",
   "execution_count": null,
   "id": "3b38f240-2ba7-4394-9e36-05e9da8ed21c",
   "metadata": {},
   "outputs": [],
   "source": [
    "tlist = np.sort(np.random.choice(times, 100, replace=False))\n",
    "\n",
    "tlist = [UTC(str(t)) for t in tlist]"
   ]
  },
  {
   "cell_type": "markdown",
   "id": "e39866c9-efb2-4419-a5d8-2b7bab4f7ca1",
   "metadata": {},
   "source": [
    "# Read data"
   ]
  },
  {
   "cell_type": "code",
   "execution_count": null,
   "id": "83bf1d0b-20f7-4fe7-b2c9-33c547d8da92",
   "metadata": {},
   "outputs": [],
   "source": [
    "network = 'GR'\n",
    "station = 'BFO'\n",
    "location = ''\n",
    "channel = 'BHZ'\n",
    "#datadir = '/home/lehr/sds/processed/'\n",
    "datadir = \"/home/lehr/Projects/data_quality_control/processed/\"\n",
    "#datadir = \"../data/\"\n",
    "stationcode = \"{}.{}.{}.{}\".format(network, station, \n",
    "                                   location, channel)\n",
    "\n",
    "reload(sds_db)\n",
    "reload(base)\n",
    "reload(analysis)\n",
    "lyza = analysis.Analyzer(datadir, stationcode,\n",
    "                            fileunit=\"year\")"
   ]
  },
  {
   "cell_type": "code",
   "execution_count": null,
   "id": "d2d7a735-5d9e-4e2a-ba93-70c2c4c61900",
   "metadata": {},
   "outputs": [],
   "source": [
    "files = lyza.get_available_datafiles()\n",
    "print(files)"
   ]
  },
  {
   "cell_type": "code",
   "execution_count": null,
   "id": "5320d2ee-15b7-4dcc-abaa-13d13f49dba2",
   "metadata": {},
   "outputs": [],
   "source": [
    "DATA = lyza.get_data(starttime, endtime)"
   ]
  },
  {
   "cell_type": "code",
   "execution_count": null,
   "id": "caf0e4c3-911c-4ad3-acb2-566614f51beb",
   "metadata": {},
   "outputs": [],
   "source": [
    "DATA"
   ]
  },
  {
   "cell_type": "markdown",
   "id": "d822919a-3ff8-4d14-9218-6640f71c608c",
   "metadata": {},
   "source": [
    "## Continuous time"
   ]
  },
  {
   "cell_type": "code",
   "execution_count": null,
   "id": "da4016d3-9a95-43d9-8976-ec5f7d47a6a0",
   "metadata": {},
   "outputs": [],
   "source": [
    "DATA = lyza.get_data(starttime, endtime)\n",
    "\n",
    "print(lyza.starttime, lyza.endtime)\n",
    "print(lyza.amps.shape)\n",
    "print(lyza.psds.shape)"
   ]
  },
  {
   "cell_type": "code",
   "execution_count": null,
   "id": "b3bb9588-3cbf-4319-afe7-941ee9a4fe2e",
   "metadata": {},
   "outputs": [],
   "source": [
    "fig = lyza.plot_spectrogram()"
   ]
  },
  {
   "cell_type": "markdown",
   "id": "2b7c1608-4032-419d-a964-c02d801ea684",
   "metadata": {},
   "source": [
    "## Time list"
   ]
  },
  {
   "cell_type": "code",
   "execution_count": null,
   "id": "3e96bc45-c53e-4df7-a0ab-bfde3eeb3e4c",
   "metadata": {},
   "outputs": [],
   "source": [
    "DATA = lyza.get_data(tlist)\n",
    "\n",
    "print(lyza.starttime, lyza.endtime)\n",
    "print(lyza.amps.shape)\n",
    "print(\"PSD shape:\", lyza.psds.shape)\n",
    "print(\"len(tlist):\", len(tlist))"
   ]
  },
  {
   "cell_type": "code",
   "execution_count": null,
   "id": "f341e461-57ee-4a55-85e2-fdd9aab6c0ad",
   "metadata": {},
   "outputs": [],
   "source": [
    "fig = lyza.plot_spectrogram()"
   ]
  },
  {
   "cell_type": "markdown",
   "id": "c98463d2-f239-4267-97dd-59757c1d28fb",
   "metadata": {},
   "source": [
    "# Different data base"
   ]
  },
  {
   "cell_type": "code",
   "execution_count": null,
   "id": "a7326ef9-e9d3-4e31-9279-125a320e81ed",
   "metadata": {},
   "outputs": [],
   "source": [
    "starttime = UTC(\"2021-01-16\")\n",
    "endtime = UTC(\"2021-01-26\")\n",
    "\n",
    "#starttime = UTC(\"2021-01-10\")\n",
    "#endtime = UTC(\"2021-01-20\")"
   ]
  },
  {
   "cell_type": "code",
   "execution_count": null,
   "id": "80415fe5-f4f4-4ad8-9853-597a780a6883",
   "metadata": {},
   "outputs": [],
   "source": [
    "network = 'GR'\n",
    "station = 'BFO'\n",
    "location = ''\n",
    "channel = 'BHZ'\n",
    "#datadir = '/home/lehr/sds/processed/'\n",
    "datadir = \"../../testing/output/\"\n",
    "#datadir = \"../data/\"\n",
    "stationcode = \"{}.{}.{}.{}\".format(network, station, \n",
    "                                   location, channel)\n",
    "\n",
    "reload(sds_db)\n",
    "reload(base)\n",
    "reload(analysis)\n",
    "reload(util)\n",
    "lyza2 = analysis.Analyzer(datadir, stationcode,\n",
    "                            fileunit=\"year\")"
   ]
  },
  {
   "cell_type": "code",
   "execution_count": null,
   "id": "eb08e60e-fce2-446a-b3e8-9ec43b8e514b",
   "metadata": {},
   "outputs": [],
   "source": [
    "files = lyza2.get_available_datafiles()\n",
    "print(files)"
   ]
  },
  {
   "cell_type": "code",
   "execution_count": null,
   "id": "badceba4-9169-4ab1-b2dc-796920023043",
   "metadata": {},
   "outputs": [],
   "source": [
    "DATA2 = lyza2.get_data(starttime, endtime)\n",
    "print(lyza2.starttime, lyza2.endtime)\n",
    "print(lyza2.amps.shape)\n",
    "print(lyza2.psds.shape)"
   ]
  },
  {
   "cell_type": "code",
   "execution_count": null,
   "id": "a9982878-b1d1-4ae8-b17c-ec517fb18f0a",
   "metadata": {},
   "outputs": [],
   "source": [
    "print(DATA2)\n",
    "print(lyza2.starttime, lyza2.endtime)"
   ]
  },
  {
   "cell_type": "code",
   "execution_count": null,
   "id": "4511f58b-c0dd-4d67-9276-b6fe5101a2cb",
   "metadata": {},
   "outputs": [],
   "source": [
    "fig2 = lyza2.plot_spectrogram()"
   ]
  },
  {
   "cell_type": "code",
   "execution_count": null,
   "id": "c2a092a3-eb80-42ae-a08d-b60186254a9e",
   "metadata": {},
   "outputs": [],
   "source": []
  },
  {
   "cell_type": "code",
   "execution_count": null,
   "id": "0b56ee2a-fe56-45cd-a5cc-7c8d90bd427c",
   "metadata": {},
   "outputs": [],
   "source": [
    "DATA = lyza.get_data(starttime, endtime)\n",
    "\n",
    "print(lyza.starttime, lyza.endtime)\n",
    "print(lyza.amps.shape)\n",
    "print(lyza.psds.shape)"
   ]
  },
  {
   "cell_type": "code",
   "execution_count": null,
   "id": "d06b9f7a-ff85-4add-8de6-5c8d96b7c4f3",
   "metadata": {},
   "outputs": [],
   "source": [
    "psds = lyza.psds"
   ]
  },
  {
   "cell_type": "code",
   "execution_count": null,
   "id": "0a54c242-7583-4996-8a62-3a0207fbae57",
   "metadata": {},
   "outputs": [],
   "source": [
    "M, N = psds.shape"
   ]
  },
  {
   "cell_type": "code",
   "execution_count": null,
   "id": "8ad84ab7-bb97-456b-84fb-ae35e213de5c",
   "metadata": {},
   "outputs": [],
   "source": [
    "M, N"
   ]
  },
  {
   "cell_type": "code",
   "execution_count": null,
   "id": "29dbd403-fb19-42cb-aef3-474629f90a01",
   "metadata": {},
   "outputs": [],
   "source": [
    "tax = np.arange(M)*lyza.winlen_seconds / (24*3600)"
   ]
  },
  {
   "cell_type": "code",
   "execution_count": null,
   "id": "d161ae52-906a-4152-9162-d03be18aade1",
   "metadata": {},
   "outputs": [],
   "source": [
    "lyza.starttime.__class__"
   ]
  },
  {
   "cell_type": "code",
   "execution_count": null,
   "id": "5431b898-68cb-4ca2-a33f-10352cdccec0",
   "metadata": {},
   "outputs": [],
   "source": [
    "np.datetime64(lyza.starttime)"
   ]
  },
  {
   "cell_type": "code",
   "execution_count": null,
   "id": "b0aea119-d0ba-4e53-aa66-2757e73361e7",
   "metadata": {},
   "outputs": [],
   "source": [
    "tax = np.arange(lyza.starttime, lyza.endtime, dtype=\"datetime64[h]\")"
   ]
  },
  {
   "cell_type": "code",
   "execution_count": null,
   "id": "f814cf3a-f255-475d-8e66-11c88549cc32",
   "metadata": {},
   "outputs": [],
   "source": [
    "fig = plt.figure()\n",
    "plt.pcolormesh(lyza.timeax_psd, lyza.freqax, \n",
    "               np.log10(psds.T*1e9**2),\n",
    "               #np.log10(psds.T)*10, \n",
    "               shading=\"auto\", cmap=plt.cm.afmhot)\n",
    "fig.autofmt_xdate()\n",
    "plt.colorbar()\n",
    "plt.ylim(0.9, 8)"
   ]
  },
  {
   "cell_type": "code",
   "execution_count": null,
   "id": "d4e0d263-d4d0-4dd5-b8a5-1984e42128e6",
   "metadata": {},
   "outputs": [],
   "source": [
    "ax.set_xticklabels"
   ]
  },
  {
   "cell_type": "code",
   "execution_count": null,
   "id": "d71c7510-d810-4b7d-9958-79733b8d3214",
   "metadata": {},
   "outputs": [],
   "source": [
    "fig, ax = plt.subplots(1,1)\n",
    "pmesh = ax.pcolormesh(np.arange(lyza.timeax_psd.size), lyza.freqax, \n",
    "               np.log10(psds.T*1e9**2),\n",
    "               #np.log10(psds.T)*10, \n",
    "               shading=\"auto\", cmap=plt.cm.afmhot)\n",
    "ax.set_xticklabels(lyza.timeax_psd)\n",
    "fig.autofmt_xdate()\n",
    "plt.colorbar(pmesh)\n",
    "plt.ylim(0.9, 8)"
   ]
  },
  {
   "cell_type": "code",
   "execution_count": null,
   "id": "dda0fbab-cbbb-4233-b8e0-10fe5ec22288",
   "metadata": {},
   "outputs": [],
   "source": [
    "lyza.psds.shape"
   ]
  },
  {
   "cell_type": "code",
   "execution_count": null,
   "id": "c23d6055-e3da-41ee-84b3-abf2e7eca335",
   "metadata": {},
   "outputs": [],
   "source": []
  },
  {
   "cell_type": "code",
   "execution_count": null,
   "id": "e30e6a03-5038-412e-846a-e848ca0028fa",
   "metadata": {},
   "outputs": [],
   "source": [
    "def plot_spectrogram(lyza, ax=None):\n",
    "    if ax is None:\n",
    "        fig, ax = plt.subplots(1,1)\n",
    "    else:\n",
    "        fig = ax.get_figure()\n",
    "    \n",
    "    "
   ]
  },
  {
   "cell_type": "code",
   "execution_count": null,
   "id": "2fec9223-d23b-44fb-a4ae-95d27237d06b",
   "metadata": {},
   "outputs": [],
   "source": [
    "16*24"
   ]
  },
  {
   "cell_type": "code",
   "execution_count": null,
   "id": "f0cfa98e-9094-4993-ab39-3bf2a6143813",
   "metadata": {},
   "outputs": [],
   "source": [
    "starttime, endtime"
   ]
  },
  {
   "cell_type": "code",
   "execution_count": null,
   "id": "4857438d-f108-403e-af37-09031e117127",
   "metadata": {},
   "outputs": [],
   "source": [
    "starttime <= endtime"
   ]
  },
  {
   "cell_type": "code",
   "execution_count": null,
   "id": "b6311013-6728-415c-a14c-eb057e9f1c32",
   "metadata": {},
   "outputs": [],
   "source": []
  }
 ],
 "metadata": {
  "language_info": {
   "name": "python",
   "pygments_lexer": "ipython3"
  }
 },
 "nbformat": 4,
 "nbformat_minor": 5
}

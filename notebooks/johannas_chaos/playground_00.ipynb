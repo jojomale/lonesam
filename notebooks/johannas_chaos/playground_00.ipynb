{
 "cells": [
  {
   "cell_type": "code",
   "execution_count": null,
   "metadata": {},
   "outputs": [],
   "source": [
    "638*3*70*30 / 1e3"
   ]
  },
  {
   "cell_type": "code",
   "execution_count": null,
   "metadata": {},
   "outputs": [],
   "source": [
    "import numpy as np\n",
    "import matplotlib.pyplot as plt\n",
    "plt.style.use('tableau-colorblind10')\n",
    "#%matplotlib widget"
   ]
  },
  {
   "cell_type": "code",
   "execution_count": null,
   "metadata": {},
   "outputs": [],
   "source": [
    "from scipy.signal import welch, get_window\n",
    "from obspy.signal.filter import bandpass\n",
    "\n",
    "from obspy.clients.filesystem.sds import Client\n",
    "from obspy.clients.fdsn import RoutingClient\n",
    "from obspy.core import UTCDateTime as UTC\n",
    "from obspy.signal import util"
   ]
  },
  {
   "cell_type": "code",
   "execution_count": null,
   "metadata": {},
   "outputs": [],
   "source": [
    "import obspy"
   ]
  },
  {
   "cell_type": "code",
   "execution_count": null,
   "metadata": {},
   "outputs": [],
   "source": [
    "obspy.__version__"
   ]
  },
  {
   "cell_type": "code",
   "execution_count": null,
   "metadata": {},
   "outputs": [],
   "source": [
    "plt.style.available"
   ]
  },
  {
   "cell_type": "code",
   "execution_count": null,
   "metadata": {},
   "outputs": [],
   "source": [
    "now = UTC()"
   ]
  },
  {
   "cell_type": "code",
   "execution_count": null,
   "metadata": {},
   "outputs": [],
   "source": [
    "now.julday"
   ]
  },
  {
   "cell_type": "code",
   "execution_count": null,
   "metadata": {},
   "outputs": [],
   "source": [
    "sdsclient = Client('/home/lehr/sds/data')"
   ]
  },
  {
   "cell_type": "code",
   "execution_count": null,
   "metadata": {},
   "outputs": [],
   "source": [
    "sdsclient.get_all_stations()"
   ]
  },
  {
   "cell_type": "code",
   "execution_count": null,
   "metadata": {},
   "outputs": [],
   "source": [
    "sdsclient.get_all_nslc()"
   ]
  },
  {
   "cell_type": "code",
   "execution_count": null,
   "metadata": {},
   "outputs": [],
   "source": [
    "for net, sta, loc, cha in sdsclient.get_all_nslc():\n",
    "    print(net, sta, loc, cha)"
   ]
  },
  {
   "cell_type": "code",
   "execution_count": null,
   "metadata": {},
   "outputs": [],
   "source": [
    "network = 'GR'\n",
    "station = 'BFO'\n",
    "location = ''\n",
    "channel = 'HHZ'\n",
    "date = UTC(\"2020-04-17\")\n",
    "starttime = date-3600\n",
    "endtime = starttime + 26*3600\n",
    "st = sdsclient.get_waveforms(network, station, location, channel,starttime, endtime)"
   ]
  },
  {
   "cell_type": "code",
   "execution_count": null,
   "metadata": {},
   "outputs": [],
   "source": [
    "%matplotlib widget\n",
    "st.plot(show=False)"
   ]
  },
  {
   "cell_type": "code",
   "execution_count": null,
   "metadata": {},
   "outputs": [],
   "source": [
    "st.merge()"
   ]
  },
  {
   "cell_type": "code",
   "execution_count": null,
   "metadata": {},
   "outputs": [],
   "source": [
    "st[0].stats"
   ]
  },
  {
   "cell_type": "code",
   "execution_count": null,
   "metadata": {},
   "outputs": [],
   "source": [
    "rc = RoutingClient('eida-routing')"
   ]
  },
  {
   "cell_type": "code",
   "execution_count": null,
   "metadata": {},
   "outputs": [],
   "source": [
    "network = 'GR'\n",
    "station = 'BFO'\n",
    "location = ''\n",
    "channel = '*Z'\n",
    "starttime = UTC(\"2020-01-01\")\n",
    "endtime = UTC(\"2021-01-01\")\n",
    "level = \"response\"\n",
    "inv = rc.get_stations(network=network, station=station, location=location, starttime=starttime, endtime=endtime, channel=channel, level=level)"
   ]
  },
  {
   "cell_type": "code",
   "execution_count": null,
   "metadata": {},
   "outputs": [],
   "source": [
    "inv.get_contents()"
   ]
  },
  {
   "cell_type": "code",
   "execution_count": null,
   "metadata": {},
   "outputs": [],
   "source": [
    "seedid = 'GR.BFO..HHZ'"
   ]
  },
  {
   "cell_type": "code",
   "execution_count": null,
   "metadata": {},
   "outputs": [],
   "source": [
    "inv.get_channel_metadata(seedid)"
   ]
  },
  {
   "cell_type": "code",
   "execution_count": null,
   "metadata": {},
   "outputs": [],
   "source": [
    "inv.get_response(seedid, starttime)"
   ]
  },
  {
   "cell_type": "code",
   "execution_count": null,
   "metadata": {},
   "outputs": [],
   "source": [
    "st = rc.get_waveforms(network=network, station=station, location=location, starttime=starttime, endtime=endtime, channel=channel)"
   ]
  },
  {
   "cell_type": "code",
   "execution_count": null,
   "metadata": {},
   "outputs": [],
   "source": [
    "%matplotlib widget\n",
    "st.plot(show=False)"
   ]
  },
  {
   "cell_type": "markdown",
   "metadata": {},
   "source": [
    "# Processing"
   ]
  },
  {
   "cell_type": "code",
   "execution_count": null,
   "metadata": {},
   "outputs": [],
   "source": [
    "st.taper(0.1, max_length=2700)"
   ]
  },
  {
   "cell_type": "code",
   "execution_count": null,
   "metadata": {},
   "outputs": [],
   "source": [
    "st.plot(show=False)"
   ]
  },
  {
   "cell_type": "markdown",
   "metadata": {},
   "source": [
    "## Spectrum over whole day"
   ]
  },
  {
   "cell_type": "code",
   "execution_count": null,
   "metadata": {},
   "outputs": [],
   "source": [
    "#tr = st[0]\n",
    "lw = 4.\n",
    "plt.figure(figsize=(10, 5))\n",
    "N = 2048\n",
    "for tr in st:\n",
    "    #for N in [512,1024, 2048]:\n",
    "    freq, P = welch(tr.data, tr.stats.sampling_rate, nperseg=N, nfft=1*N)\n",
    "    plt.plot(freq, P, lw=lw, alpha=0.95)\n",
    "    #lw-=1\n",
    "    #plt.xlim(2, 9)\n",
    "#plt.xlim(4, 14)\n",
    "plt.yscale('log')"
   ]
  },
  {
   "cell_type": "code",
   "execution_count": null,
   "metadata": {},
   "outputs": [],
   "source": [
    "st.filter('bandpass', freqmin=4, freqmax=14)"
   ]
  },
  {
   "cell_type": "code",
   "execution_count": null,
   "metadata": {},
   "outputs": [],
   "source": [
    "st.plot(show=False)"
   ]
  },
  {
   "cell_type": "markdown",
   "metadata": {},
   "source": [
    "# Noise level"
   ]
  },
  {
   "cell_type": "code",
   "execution_count": null,
   "metadata": {},
   "outputs": [],
   "source": [
    "tr = st[0]"
   ]
  },
  {
   "cell_type": "code",
   "execution_count": null,
   "metadata": {},
   "outputs": [],
   "source": [
    "tr"
   ]
  },
  {
   "cell_type": "code",
   "execution_count": null,
   "metadata": {},
   "outputs": [],
   "source": [
    "T = 3600\n",
    "sr = tr.stats.sampling_rate\n",
    "nwin = int(T * sr)\n",
    "win = get_window('boxcar', nwin, fftbins=False)"
   ]
  },
  {
   "cell_type": "code",
   "execution_count": null,
   "metadata": {},
   "outputs": [],
   "source": [
    "tr.data.size, nwin"
   ]
  },
  {
   "cell_type": "code",
   "execution_count": null,
   "metadata": {},
   "outputs": [],
   "source": [
    "matrix, nx, ny  = util.enframe(tr.data, win, win.size)\n",
    "matrix = matrix[1:-1]"
   ]
  },
  {
   "cell_type": "code",
   "execution_count": null,
   "metadata": {},
   "outputs": [],
   "source": [
    "matrix.shape, ny, nx"
   ]
  },
  {
   "cell_type": "code",
   "execution_count": null,
   "metadata": {},
   "outputs": [],
   "source": [
    "prctl = np.percentile(matrix, 75, axis=1)"
   ]
  },
  {
   "cell_type": "code",
   "execution_count": null,
   "metadata": {},
   "outputs": [],
   "source": [
    "prctl.shape"
   ]
  },
  {
   "cell_type": "code",
   "execution_count": null,
   "metadata": {},
   "outputs": [],
   "source": [
    "plt.plot(prctl)"
   ]
  },
  {
   "cell_type": "code",
   "execution_count": null,
   "metadata": {},
   "outputs": [],
   "source": [
    "prctl_man = []\n",
    "for r in matrix:\n",
    "    r = np.sort(r.copy())\n",
    "    i = int(r.size*0.75)\n",
    "    prctl_man.append(r[i+1])\n",
    "    \n",
    "plt.plot(prctl_man)\n",
    "plt.plot(prctl)\n",
    "    "
   ]
  },
  {
   "cell_type": "code",
   "execution_count": null,
   "metadata": {},
   "outputs": [],
   "source": []
  },
  {
   "cell_type": "markdown",
   "metadata": {},
   "source": [
    "## Spectrum"
   ]
  },
  {
   "cell_type": "code",
   "execution_count": null,
   "metadata": {},
   "outputs": [],
   "source": [
    "freq, P = welch(matrix, fs=sr, nperseg=2048, axis=1)"
   ]
  },
  {
   "cell_type": "code",
   "execution_count": null,
   "metadata": {},
   "outputs": [],
   "source": [
    "P.shape, freq.shape"
   ]
  },
  {
   "cell_type": "code",
   "execution_count": null,
   "metadata": {},
   "outputs": [],
   "source": [
    "plt.pcolor(freq, np.arange(24), P)"
   ]
  },
  {
   "cell_type": "markdown",
   "metadata": {},
   "source": [
    "# Instrument response"
   ]
  },
  {
   "cell_type": "code",
   "execution_count": null,
   "metadata": {},
   "outputs": [],
   "source": []
  },
  {
   "cell_type": "code",
   "execution_count": null,
   "metadata": {},
   "outputs": [],
   "source": [
    "network = 'GR'\n",
    "station = 'BFO'\n",
    "location = ''\n",
    "channel = '*Z'\n",
    "starttime = UTC(\"2020-01-01\")\n",
    "endtime = UTC(\"2021-01-01\")\n"
   ]
  },
  {
   "cell_type": "code",
   "execution_count": null,
   "metadata": {},
   "outputs": [],
   "source": [
    "level = \"response\"\n",
    "rc = RoutingClient('eida-routing')\n",
    "inv = rc.get_stations(network=network, station=station, location=location, starttime=starttime, endtime=endtime, channel=channel, level=level)"
   ]
  },
  {
   "cell_type": "code",
   "execution_count": null,
   "metadata": {},
   "outputs": [],
   "source": [
    "seedid = 'GR.BFO..HHZ'"
   ]
  },
  {
   "cell_type": "code",
   "execution_count": null,
   "metadata": {},
   "outputs": [],
   "source": [
    "resp = inv.get_response(seedid, starttime)"
   ]
  },
  {
   "cell_type": "code",
   "execution_count": null,
   "metadata": {},
   "outputs": [],
   "source": [
    "resp.instrument_sensitivity.value"
   ]
  },
  {
   "cell_type": "code",
   "execution_count": null,
   "metadata": {},
   "outputs": [],
   "source": [
    "#starttime = startdate\n",
    "endtime = starttime + 24*3600\n",
    "print(starttime, endtime)\n",
    "st = sdsclient.get_waveforms(network, station, \n",
    "                         location, channel,starttime, endtime)"
   ]
  },
  {
   "cell_type": "code",
   "execution_count": null,
   "metadata": {},
   "outputs": [],
   "source": [
    "st.plot(show=False)"
   ]
  },
  {
   "cell_type": "code",
   "execution_count": null,
   "metadata": {},
   "outputs": [],
   "source": [
    "st.remove_sensitivity(inv)"
   ]
  },
  {
   "cell_type": "code",
   "execution_count": null,
   "metadata": {},
   "outputs": [],
   "source": [
    "st.plot(show=False)"
   ]
  },
  {
   "cell_type": "code",
   "execution_count": null,
   "metadata": {},
   "outputs": [],
   "source": [
    "st.detrend('constant')"
   ]
  },
  {
   "cell_type": "code",
   "execution_count": null,
   "metadata": {},
   "outputs": [],
   "source": [
    "st.plot(show=False)"
   ]
  },
  {
   "cell_type": "markdown",
   "metadata": {},
   "source": [
    "# Mass production"
   ]
  },
  {
   "cell_type": "code",
   "execution_count": null,
   "metadata": {},
   "outputs": [],
   "source": [
    "def process(tr, winlen_in_s, nperseg, fmin, fmax):\n",
    "    \n",
    "    # Convert data into matrix (n_slices, npts)\n",
    "    sr = tr.stats.sampling_rate\n",
    "    nwin = int(winlen_in_s * sr)\n",
    "    win = get_window('boxcar', nwin, fftbins=False)\n",
    "    \n",
    "    matrix, nx, ny  = enframe(tr.data, win, win.size)\n",
    "    #matrix[matrix==-99999] = np.nan\n",
    "    print(matrix.argmin(), matrix.min(), matrix.dtype)\n",
    "    if np.nan in matrix:\n",
    "        print(\"Found nans\")\n",
    "    #matrix = matrix[1:-1]\n",
    "    freq, P = welch(matrix, fs=sr, nperseg=nperseg, axis=1)\n",
    "    \n",
    "    for i, r in enumerate(matrix):\n",
    "        matrix[i,:] = bandpass(r, fmin, fmax, sr)\n",
    "    \n",
    "    prctl = np.nanpercentile(matrix, 25, axis=1)\n",
    "    \n",
    "    \n",
    "    return prctl, freq, P"
   ]
  },
  {
   "cell_type": "code",
   "execution_count": null,
   "metadata": {},
   "outputs": [],
   "source": [
    "network = 'GR'\n",
    "station = 'BFO'\n",
    "location = ''\n",
    "channel = 'HHZ'\n",
    "startdate = UTC(\"2020-04-16\")\n",
    "enddate = UTC(\"2020-04-19\")\n",
    "overlap = 0 #3600\n",
    "\n",
    "fmin, fmax = (4, 14)\n",
    "nperseg = 2048\n",
    "winlen_in_s = 3600\n",
    "\n",
    "AMP = []\n",
    "PXX = []\n",
    "starttime = startdate-overlap\n",
    "inv = rc.get_stations(network=network, station=station, \n",
    "                     location=location, starttime=startdate, \n",
    "                     endtime=enddate, channel=channel, \n",
    "                     level='response')\n",
    "while starttime < enddate - overlap:\n",
    "    \n",
    "    endtime = starttime + 24*3600+2*overlap\n",
    "    print(starttime, endtime)\n",
    "    st = sdsclient.get_waveforms(network, station, \n",
    "                             location, channel,starttime, endtime)\n",
    "    st.remove_sensitivity(inv)\n",
    "    #st.detrend('constant')\n",
    "    st.merge(fill_value=np.nan)\n",
    "    print(st[0])\n",
    "    st.trim(starttime, endtime, pad=True, fill_value=np.nan)\n",
    "   \n",
    "    if len(st) > 1:\n",
    "        raise RuntimeWarning(\"More than 1 trace in stream!\")\n",
    "    tr = st[0]\n",
    "    #if np.any(np.isnan(tr.data)):\n",
    "    #    break\n",
    "    print(tr)\n",
    "    amp, freq, pxx = process(tr, winlen_in_s, nperseg, fmin, fmax)\n",
    "    print(amp.shape, pxx.shape)\n",
    "    if -99999 in tr.data or amp.size != 24:\n",
    "        break\n",
    "    AMP.append(amp[1:-1])\n",
    "    PXX.append(pxx[1:-1,:])\n",
    "    \n",
    "    starttime = starttime + 24*3600\n",
    "    "
   ]
  },
  {
   "cell_type": "code",
   "execution_count": null,
   "metadata": {},
   "outputs": [],
   "source": [
    "AMP"
   ]
  },
  {
   "cell_type": "code",
   "execution_count": null,
   "metadata": {},
   "outputs": [],
   "source": [
    "AMP"
   ]
  },
  {
   "cell_type": "code",
   "execution_count": null,
   "metadata": {},
   "outputs": [],
   "source": [
    "st = sdsclient.get_waveforms(network, station, \n",
    "                             location, channel,starttime, endtime)"
   ]
  },
  {
   "cell_type": "code",
   "execution_count": null,
   "metadata": {},
   "outputs": [],
   "source": [
    "st.remove_sensitivity(inv)"
   ]
  },
  {
   "cell_type": "code",
   "execution_count": null,
   "metadata": {},
   "outputs": [],
   "source": [
    "st.plot(show=False)"
   ]
  },
  {
   "cell_type": "code",
   "execution_count": null,
   "metadata": {},
   "outputs": [],
   "source": [
    "st.merge(fill_value=np.nan)"
   ]
  },
  {
   "cell_type": "code",
   "execution_count": null,
   "metadata": {},
   "outputs": [],
   "source": [
    "st.plot(show=False)"
   ]
  },
  {
   "cell_type": "code",
   "execution_count": null,
   "metadata": {},
   "outputs": [],
   "source": [
    "st.trim(starttime, endtime, pad=True, fill_value=np.nan)"
   ]
  },
  {
   "cell_type": "code",
   "execution_count": null,
   "metadata": {},
   "outputs": [],
   "source": [
    "st.plot(show=False)"
   ]
  },
  {
   "cell_type": "code",
   "execution_count": null,
   "metadata": {},
   "outputs": [],
   "source": [
    "st.detrend('constant')"
   ]
  },
  {
   "cell_type": "code",
   "execution_count": null,
   "metadata": {},
   "outputs": [],
   "source": [
    "st.plot(show=False)"
   ]
  },
  {
   "cell_type": "code",
   "execution_count": null,
   "metadata": {},
   "outputs": [],
   "source": [
    "sr = tr.stats.sampling_rate\n",
    "nwin = int(winlen_in_s * sr)\n",
    "win = get_window('boxcar', nwin, fftbins=False)\n",
    "#win = np.asarray(win, dtype=np.int32)\n",
    "matrix, nx, ny  = enframe(tr.data, win, win.size)"
   ]
  },
  {
   "cell_type": "code",
   "execution_count": null,
   "metadata": {},
   "outputs": [],
   "source": [
    "matrix.argmin(), matrix.min(), matrix.dtype"
   ]
  },
  {
   "cell_type": "markdown",
   "metadata": {},
   "source": [
    "Why is the minimum not -99999? Boxcar not a proper boxcar?"
   ]
  },
  {
   "cell_type": "code",
   "execution_count": null,
   "metadata": {},
   "outputs": [],
   "source": [
    "matrix[matrix==-99999]"
   ]
  },
  {
   "cell_type": "code",
   "execution_count": null,
   "metadata": {},
   "outputs": [],
   "source": [
    "x = np.int32(-99999)"
   ]
  },
  {
   "cell_type": "code",
   "execution_count": null,
   "metadata": {},
   "outputs": [],
   "source": [
    "np.float64(x)"
   ]
  },
  {
   "cell_type": "code",
   "execution_count": null,
   "metadata": {},
   "outputs": [],
   "source": [
    "tr.data.dtype"
   ]
  },
  {
   "cell_type": "code",
   "execution_count": null,
   "metadata": {},
   "outputs": [],
   "source": [
    "matrix.shape"
   ]
  },
  {
   "cell_type": "code",
   "execution_count": null,
   "metadata": {},
   "outputs": [],
   "source": [
    "matrix.dtype"
   ]
  },
  {
   "cell_type": "code",
   "execution_count": null,
   "metadata": {},
   "outputs": [],
   "source": [
    "tr.plot(show=False, starttime=UTC(\"2020-04-15T23:59\"), endtime=UTC(\"2020-04-16T00:01\"))"
   ]
  },
  {
   "cell_type": "code",
   "execution_count": null,
   "metadata": {},
   "outputs": [],
   "source": [
    "# %load -n util.enframe\n",
    "#from scipy import fix\n",
    "def enframe(x, win, inc):\n",
    "    \"\"\"\n",
    "    Splits the vector up into (overlapping) frames beginning at increments\n",
    "    of inc. Each frame is multiplied by the window win().\n",
    "    The length of the frames is given by the length of the window win().\n",
    "    The centre of frame I is x((I-1)*inc+(length(win)+1)/2) for I=1,2,...\n",
    "\n",
    "    :param x: signal to split in frames\n",
    "    :param win: window multiplied to each frame, length determines frame length\n",
    "    :param inc: increment to shift frames, in samples\n",
    "    :return f: output matrix, each frame occupies one row\n",
    "    :return length, no_win: length of each frame in samples, number of frames\n",
    "    \"\"\"\n",
    "    nx = len(x)\n",
    "    nwin = len(win)\n",
    "    if (nwin == 1):\n",
    "        length = win\n",
    "    else:\n",
    "        # length = next_pow_2(nwin)\n",
    "        length = nwin\n",
    "    nf = int(np.fix((nx - length + inc) // inc))\n",
    "    # f = np.zeros((nf, length))\n",
    "    indf = inc * np.arange(nf)\n",
    "    inds = np.arange(length) + 1\n",
    "    f = x[(np.transpose(np.vstack([indf] * length)) +\n",
    "           np.vstack([inds] * nf)) - 1]\n",
    "    if (nwin > 1):\n",
    "        w = np.transpose(win)\n",
    "        f = f * np.vstack([w] * nf)\n",
    "    #f = signal.detrend(f, type='constant')\n",
    "    no_win, _ = f.shape\n",
    "    return f, length, no_win"
   ]
  },
  {
   "cell_type": "code",
   "execution_count": null,
   "metadata": {},
   "outputs": [],
   "source": [
    "AMP = np.array(AMP)\n",
    "PXX = np.array(PXX)"
   ]
  },
  {
   "cell_type": "code",
   "execution_count": null,
   "metadata": {},
   "outputs": [],
   "source": [
    "startdate.format_seedlink()"
   ]
  },
  {
   "cell_type": "code",
   "execution_count": null,
   "metadata": {},
   "outputs": [],
   "source": [
    "\"data/{}.{}.{}.{}_{}-{}_AMP.npy\".format(network, station, location, channel, startdate.date, enddate.date)"
   ]
  },
  {
   "cell_type": "code",
   "execution_count": null,
   "metadata": {},
   "outputs": [],
   "source": [
    "np.save(\"data/{}.{}.{}.{}_{}_{}_AMP.npy\".format(network, station, location, channel, startdate, enddate), AMP)"
   ]
  },
  {
   "cell_type": "code",
   "execution_count": null,
   "metadata": {},
   "outputs": [],
   "source": [
    "np.save(\"data/{}.{}.{}.{}_{}_{}_PXX.npy\".format(network, station, location, channel, startdate, enddate), PXX)"
   ]
  },
  {
   "cell_type": "code",
   "execution_count": null,
   "metadata": {},
   "outputs": [],
   "source": [
    "import plotly.graph_objects as go"
   ]
  },
  {
   "cell_type": "code",
   "execution_count": null,
   "metadata": {},
   "outputs": [],
   "source": [
    "z = AMP #np.clip(AMP, None,  a_max=5.5)\n",
    "sh_0, sh_1 = z.shape\n",
    "y, x = np.linspace(0, sh_0-1, sh_0), np.linspace(0, sh_1-1, sh_1)\n",
    "fig = go.Figure(data=[go.Surface(z=z, x=x, y=y, name='amplitude', cmin=2, cmax=None)])\n",
    "fig.update_layout(title='75%-amplitude', autosize=True,\n",
    "                  width=800, height=500,\n",
    "                  scene=dict(aspectmode='manual', aspectratio=dict(x=1, y=2, z=0.5))\n",
    "                  #margin=dict(l=65, r=50, b=65, t=90)\n",
    "                 )\n",
    "fig.show()"
   ]
  },
  {
   "cell_type": "code",
   "execution_count": null,
   "metadata": {},
   "outputs": [],
   "source": [
    "0.75*39"
   ]
  },
  {
   "cell_type": "code",
   "execution_count": null,
   "metadata": {},
   "outputs": [],
   "source": [
    "from matplotlib import cbook\n",
    "from matplotlib import cm\n",
    "from matplotlib.colors import LightSource"
   ]
  },
  {
   "cell_type": "code",
   "execution_count": null,
   "metadata": {},
   "outputs": [],
   "source": [
    "z = AMP.copy()\n",
    "\n",
    "nrows, ncols = z.shape\n",
    "x = np.linspace(0, 23, ncols)\n",
    "y = np.linspace(0, nrows-1, nrows)\n",
    "x, y = np.meshgrid(x, y)\n",
    "\n",
    "region = np.s_[5:50, 5:50]\n",
    "x, y, z = x[region], y[region], z[region]\n",
    "\n",
    "# Set up plot\n",
    "fig, ax = plt.subplots(subplot_kw=dict(projection='3d'))\n",
    "\n",
    "ls = LightSource(270, 45)\n",
    "# To use a custom hillshading mode, override the built-in shading and pass\n",
    "# in the rgb colors of the shaded surface calculated from \"shade\".\n",
    "rgb = ls.shade(z, cmap=cm.inferno, vert_exag=5, blend_mode='soft')\n",
    "surf = ax.plot_surface(x, y, z, rstride=1, cstride=1, facecolors=rgb,\n",
    "                       linewidth=0, antialiased=False, shade=False)\n"
   ]
  },
  {
   "cell_type": "code",
   "execution_count": null,
   "metadata": {},
   "outputs": [],
   "source": [
    "%%time?"
   ]
  },
  {
   "cell_type": "code",
   "execution_count": null,
   "metadata": {},
   "outputs": [],
   "source": []
  }
 ],
 "metadata": {
  "language_info": {
   "name": "python",
   "pygments_lexer": "ipython3"
  }
 },
 "nbformat": 4,
 "nbformat_minor": 4
}

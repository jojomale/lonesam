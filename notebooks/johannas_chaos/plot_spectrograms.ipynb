{
 "cells": [
  {
   "cell_type": "code",
   "execution_count": null,
   "id": "3bee6889-6d2a-45c9-95e0-e0331b3dd3f1",
   "metadata": {},
   "outputs": [],
   "source": [
    "from importlib import reload\n",
    "from datetime import timedelta, time\n",
    "from glob import glob\n",
    "from pathlib import Path\n",
    "import numpy as np\n",
    "\n",
    "from obspy.core import UTCDateTime as UTC\n",
    "\n",
    "import plotly.graph_objects as go\n",
    "\n",
    "import h5py\n",
    "\n",
    "#from data_quality_control import processing\n",
    "from data_quality_control import sds_db\n",
    "from data_quality_control import analysis, base, util\n",
    "\n",
    "logger = sds_db.logger\n",
    "\n",
    "# Only for display in documentation!\n",
    "from IPython.core.display import display, HTML \n",
    "\n",
    "import matplotlib.pyplot as plt\n",
    "plt.style.use('tableau-colorblind10')\n",
    "#%matplotlib widget"
   ]
  },
  {
   "cell_type": "code",
   "execution_count": null,
   "id": "b7337ff5-5bf5-411e-ac72-0f141c0b2139",
   "metadata": {},
   "outputs": [],
   "source": [
    "starttime = UTC(\"2020-12-15\")\n",
    "endtime = UTC(\"2021-01-01\")"
   ]
  },
  {
   "cell_type": "markdown",
   "id": "1001ce17-707b-4e71-888f-c2dd34c092f0",
   "metadata": {},
   "source": [
    "# Create random time list"
   ]
  },
  {
   "cell_type": "code",
   "execution_count": null,
   "id": "53f4432a-8f27-4632-8d67-88cfa2be7b38",
   "metadata": {},
   "outputs": [],
   "source": [
    "times = np.arange(str(starttime.date), str(endtime.date),\n",
    "             dtype=\"datetime64[h]\")"
   ]
  },
  {
   "cell_type": "code",
   "execution_count": null,
   "id": "3b38f240-2ba7-4394-9e36-05e9da8ed21c",
   "metadata": {},
   "outputs": [],
   "source": [
    "tlist = np.sort(np.random.choice(times, 25, replace=False))\n",
    "\n",
    "tlist = [UTC(str(t)) for t in tlist]"
   ]
  },
  {
   "cell_type": "markdown",
   "id": "e39866c9-efb2-4419-a5d8-2b7bab4f7ca1",
   "metadata": {},
   "source": [
    "# Data"
   ]
  },
  {
   "cell_type": "code",
   "execution_count": null,
   "id": "048c3fda-e013-4cb1-9b7b-c7f9e190f145",
   "metadata": {},
   "outputs": [],
   "source": [
    "network = 'GR'\n",
    "station = 'BFO'\n",
    "location = ''\n",
    "channel = 'BHZ'\n",
    "#datadir = '/home/lehr/sds/processed/'\n",
    "datadir = \"/home/lehr/Projects/data_quality_control/processed/\"\n",
    "#datadir = \"../data/\"\n",
    "stationcode = \"{}.{}.{}.{}\".format(network, station, \n",
    "                                   location, channel)"
   ]
  },
  {
   "cell_type": "markdown",
   "id": "d822919a-3ff8-4d14-9218-6640f71c608c",
   "metadata": {},
   "source": [
    "## Continuous time"
   ]
  },
  {
   "cell_type": "code",
   "execution_count": null,
   "id": "a3edfcac-4fce-46d8-8d78-6a67d0b63789",
   "metadata": {},
   "outputs": [],
   "source": [
    "reload(sds_db)\n",
    "reload(base)\n",
    "reload(analysis)\n",
    "lyza = analysis.Analyzer(datadir, stationcode,\n",
    "                            fileunit=\"year\")\n",
    "\n",
    "DATA = lyza.get_data(starttime, endtime)\n",
    "\n",
    "fig = lyza.plot_spectrogram()"
   ]
  },
  {
   "cell_type": "markdown",
   "id": "2b7c1608-4032-419d-a964-c02d801ea684",
   "metadata": {},
   "source": [
    "## Time list"
   ]
  },
  {
   "cell_type": "code",
   "execution_count": null,
   "id": "c0f3dca1-24c3-4f44-b5cf-223c85b31f71",
   "metadata": {},
   "outputs": [],
   "source": [
    "reload(sds_db)\n",
    "reload(base)\n",
    "reload(analysis)\n",
    "lyza = analysis.Analyzer(datadir, stationcode,\n",
    "                            fileunit=\"year\")\n",
    "\n",
    "DATA = lyza.get_data(tlist)\n",
    "\n",
    "print(lyza.starttime, lyza.endtime)\n",
    "print(lyza.amps.shape)\n",
    "print(\"PSD shape:\", lyza.psds.shape)\n",
    "print(\"len(tlist):\", len(tlist))\n",
    "\n",
    "fig = lyza.plot_spectrogram()"
   ]
  },
  {
   "cell_type": "code",
   "execution_count": null,
   "id": "7fdeca93-410d-40aa-9085-38e08a0f43ee",
   "metadata": {},
   "outputs": [],
   "source": [
    "fig, ax = plt.subplots(1,1)\n",
    "\n",
    "Z = np.log10(lyza.psds.T*1e9**2)\n",
    "pmesh = plt.pcolormesh(lyza.timeax_psd, lyza.freqax, Z,\n",
    "               vmax=np.nanmax(Z)*0.9,\n",
    "               #np.log10(psds.T)*10, \n",
    "               shading=\"auto\", cmap=plt.cm.afmhot)\n",
    "fig.autofmt_xdate()\n",
    "plt.colorbar(pmesh, ax=ax, \n",
    "        label=r'power spectral density, dB($\\frac{m^2}{s^2\\cdot Hz}$)'\n",
    "        #label=colorbarlabel\n",
    "        )        \n",
    "#plt.colorbar()\n",
    "#plt.ylim(0.9, 8)"
   ]
  },
  {
   "cell_type": "code",
   "execution_count": null,
   "id": "53db4981-9d49-4e5c-bc2a-1b9d0ac5e303",
   "metadata": {},
   "outputs": [],
   "source": [
    "fig, ax = plt.subplots(1,1)\n",
    "Z = np.log10(lyza.psds.T*1e9**2)\n",
    "x = np.arange(lyza.timeax_psd.size)\n",
    "pmesh = plt.pcolormesh(x, lyza.freqax, Z,\n",
    "               vmax=np.nanmax(Z)*0.9,\n",
    "               #np.log10(psds.T)*10, \n",
    "               shading=\"auto\", cmap=plt.cm.afmhot)\n",
    "fig.autofmt_xdate()\n",
    "plt.colorbar(pmesh, ax=ax, \n",
    "        label=r'power spectral density, dB($\\frac{m^2}{s^2\\cdot Hz}$)'\n",
    "        #label=colorbarlabel\n",
    "        )  \n",
    "#plt.ylim(0.9, 8)"
   ]
  },
  {
   "cell_type": "code",
   "execution_count": null,
   "id": "aaf38c66-6c99-4af7-b32d-4ab4637b25a2",
   "metadata": {},
   "outputs": [],
   "source": [
    "lyza.timeax_psd"
   ]
  },
  {
   "cell_type": "code",
   "execution_count": null,
   "id": "8836d5ed-a672-495d-b0b7-c968b2ba2231",
   "metadata": {},
   "outputs": [],
   "source": []
  }
 ],
 "metadata": {
  "language_info": {
   "name": "python",
   "pygments_lexer": "ipython3"
  }
 },
 "nbformat": 4,
 "nbformat_minor": 5
}

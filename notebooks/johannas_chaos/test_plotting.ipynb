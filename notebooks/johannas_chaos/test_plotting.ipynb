{
 "cells": [
  {
   "cell_type": "code",
   "execution_count": null,
   "id": "ffe0e2a1-a005-4427-aa2a-8d49b902070a",
   "metadata": {},
   "outputs": [],
   "source": [
    "from importlib import reload\n",
    "from pathlib import Path\n",
    "import os\n",
    "import numpy as np\n",
    "\n",
    "from obspy.clients.filesystem.sds import Client as SDSClient\n",
    "from obspy.clients.fdsn import RoutingClient\n",
    "from obspy.core import UTCDateTime as UTC, read\n",
    "\n",
    "import matplotlib.pyplot as plt\n",
    "plt.style.use('tableau-colorblind10')\n",
    "\n",
    "from data_quality_control import sds_db, base, util, analysis, dqclogging\n",
    "from data_quality_control.analysis import Analyzer"
   ]
  },
  {
   "cell_type": "code",
   "execution_count": null,
   "id": "d333ed5e-bb95-4528-9ee3-47899177d5da",
   "metadata": {},
   "outputs": [],
   "source": [
    "import pandas as pd"
   ]
  },
  {
   "cell_type": "code",
   "execution_count": null,
   "id": "e44fdf9e-afc5-4c0f-ae5e-438ed795c098",
   "metadata": {},
   "outputs": [],
   "source": [
    "\n",
    "import plotly.graph_objects as go"
   ]
  },
  {
   "cell_type": "code",
   "execution_count": null,
   "id": "4dee5778-b7a0-4087-b7e8-fcc5a4f6d869",
   "metadata": {},
   "outputs": [],
   "source": [
    "from IPython.core.display import display, HTML"
   ]
  },
  {
   "cell_type": "code",
   "execution_count": null,
   "id": "40dd5d29-810a-412e-b2cd-c6cef7096b39",
   "metadata": {},
   "outputs": [],
   "source": [
    "#reload(dqclogging)\n",
    "dqclogging.configure_handlers(\"DEBUG\", \"INFO\", \"devtest_ProcessedDataIO.log\", True)"
   ]
  },
  {
   "cell_type": "code",
   "execution_count": null,
   "id": "c20b565d-41dd-49f6-98e1-a167e2e184a4",
   "metadata": {},
   "outputs": [],
   "source": [
    "# NSLC\n",
    "nslc_code = \"GR.BFO..BHZ\"\n",
    "\n",
    "overlap = 60 #3600\n",
    "fmin, fmax = (4, 14)\n",
    "nperseg = 2048\n",
    "winlen_in_s = 3600\n",
    "proclen = 24*3600\n",
    "sampling_rate = 20\n",
    "\n",
    "outdir = 'output'\n",
    "\n",
    "sds_root = os.path.abspath('../../sample_sds/')\n",
    "inventory_routing_type = \"eida-routing\""
   ]
  },
  {
   "cell_type": "code",
   "execution_count": null,
   "id": "de319a5e-2af0-4078-94f8-28215502c9f1",
   "metadata": {},
   "outputs": [],
   "source": [
    "startdate = UTC(\"2020-12-24\")\n",
    "enddate = UTC(\"2021-01-15\")"
   ]
  },
  {
   "cell_type": "code",
   "execution_count": null,
   "id": "59ded481-299f-4704-9502-15d0cc9c0d1e",
   "metadata": {},
   "outputs": [],
   "source": [
    "reload(analysis)\n",
    "reload(base)\n",
    "#reload(util)\n",
    "lyza = analysis.Analyzer(outdir, nslc_code,\n",
    "                            fileunit=\"year\")\n",
    "\n",
    "lyza.get_data(startdate, enddate)"
   ]
  },
  {
   "cell_type": "code",
   "execution_count": null,
   "id": "14d4c529-deff-4b63-a2a8-d5465fd06fb9",
   "metadata": {},
   "outputs": [],
   "source": [
    "fig = lyza.plot_spectrogram(freqs=(5, 9), log_freq_ax=True)\n",
    "#plt.ylim(1, 10)\n",
    "#plt.yscale(\"log\")\n"
   ]
  },
  {
   "cell_type": "markdown",
   "id": "c1a1bb90-333a-4cff-9ed3-1466b846b405",
   "metadata": {},
   "source": [
    "# 3D-spectrograms"
   ]
  },
  {
   "cell_type": "code",
   "execution_count": null,
   "id": "430c325f-a1b2-4a78-bfa6-c582409be5cb",
   "metadata": {},
   "outputs": [],
   "source": [
    "reload(analysis)\n",
    "reload(base)\n",
    "#reload(util)\n",
    "lyza = analysis.Analyzer(outdir, nslc_code,\n",
    "                            fileunit=\"year\")\n",
    "\n",
    "lyza.get_data(startdate, enddate)"
   ]
  },
  {
   "cell_type": "code",
   "execution_count": null,
   "id": "49a79ac7-9fe6-40da-8d8c-f3a11b9c84a1",
   "metadata": {},
   "outputs": [],
   "source": [
    "fig_psd = lyza.plot3d_psds(freqs=(1, None), log_freq_ax=True)"
   ]
  },
  {
   "cell_type": "code",
   "execution_count": null,
   "id": "ce554289-9be5-4a65-ae5c-ddceb8bfa451",
   "metadata": {},
   "outputs": [],
   "source": [
    "display(HTML(fig_psd.to_html()))"
   ]
  },
  {
   "cell_type": "markdown",
   "id": "c559b602-0751-416f-ae7e-b6742302050a",
   "metadata": {},
   "source": [
    "# Create random time list"
   ]
  },
  {
   "cell_type": "code",
   "execution_count": null,
   "id": "2222f29d-099d-4947-b809-5a36f07f0ed6",
   "metadata": {},
   "outputs": [],
   "source": [
    "times = np.arange(str(startdate.date), str(enddate.date),\n",
    "             dtype=\"datetime64[h]\")"
   ]
  },
  {
   "cell_type": "code",
   "execution_count": null,
   "id": "9c656a9f-20c0-4400-aa5d-8fce5255fbfd",
   "metadata": {},
   "outputs": [],
   "source": [
    "tlist = np.sort(np.random.choice(times, 50, replace=False))\n",
    "\n",
    "tlist = [UTC(str(t)) for t in tlist]"
   ]
  },
  {
   "cell_type": "code",
   "execution_count": null,
   "id": "4df99b64-9410-4c6e-a8fc-6b0a74f3b1dc",
   "metadata": {},
   "outputs": [],
   "source": [
    "reload(analysis)\n",
    "lyza = analysis.Analyzer(outdir, nslc_code,\n",
    "                            fileunit=\"year\")\n",
    "\n",
    "lyza.get_data(tlist)"
   ]
  },
  {
   "cell_type": "code",
   "execution_count": null,
   "id": "fcbc9d60-40ff-4bc8-aac0-75323e8ac16b",
   "metadata": {},
   "outputs": [],
   "source": [
    "fig_psd = lyza.plot3d_psds(freqs=(1, None)) #freqs=(1, None), log_freq_ax=True"
   ]
  },
  {
   "cell_type": "code",
   "execution_count": null,
   "id": "4416a503-5be6-4c51-9ab8-f9aa7654cef8",
   "metadata": {},
   "outputs": [],
   "source": [
    "fig_psd.show()"
   ]
  },
  {
   "cell_type": "code",
   "execution_count": null,
   "id": "860b6b5d-8d27-4d1a-9b52-2c1dab822550",
   "metadata": {},
   "outputs": [],
   "source": [
    "display(HTML(fig_psd.to_html()))"
   ]
  },
  {
   "cell_type": "code",
   "execution_count": null,
   "id": "4780706f-3c15-461e-904a-b2a70c32f6fd",
   "metadata": {},
   "outputs": [],
   "source": [
    "fig = lyza.plot_spectrogram()"
   ]
  },
  {
   "cell_type": "code",
   "execution_count": null,
   "id": "fb56fb30-b4de-4740-9b31-67046470ac9e",
   "metadata": {},
   "outputs": [],
   "source": [
    "freqs = (None, None)\n",
    "func = None\n",
    "colorbarlabel = None\n",
    "tax, fax, Z, xticks, xticklabels = lyza._prep_psds_for_plot(\n",
    "                                    freqs, func, colorbarlabel)"
   ]
  },
  {
   "cell_type": "code",
   "execution_count": null,
   "id": "ff8d487c-bc49-4978-9e43-b1a7de589276",
   "metadata": {},
   "outputs": [],
   "source": [
    "x = fax\n",
    "y = tax\n",
    "z = Z.T\n",
    "name = \"psd\"\n",
    "cmin = None\n",
    "cmax = 0.9*np.nanmax(Z)"
   ]
  },
  {
   "cell_type": "code",
   "execution_count": null,
   "id": "1ee7e2cc-07fd-4b50-884b-c1a445f1f6e5",
   "metadata": {},
   "outputs": [],
   "source": [
    "t = lyza.timeax_psd[0]"
   ]
  },
  {
   "cell_type": "code",
   "execution_count": null,
   "id": "805e9154-baa9-4eec-992f-112f1ae6dc25",
   "metadata": {},
   "outputs": [],
   "source": [
    "str(t)"
   ]
  },
  {
   "cell_type": "code",
   "execution_count": null,
   "id": "f6645186-2fa4-4a21-b22c-181053d45ee9",
   "metadata": {},
   "outputs": [],
   "source": [
    "UTC(str(t))"
   ]
  },
  {
   "cell_type": "code",
   "execution_count": null,
   "id": "70f96693-60b7-4305-a08f-b8b5e5fab15d",
   "metadata": {},
   "outputs": [],
   "source": [
    "timelabels_ = [t for t in lyza.timeax_psd]\n",
    "timelabels = [timelabels_ for i in range(len(x)) ]"
   ]
  },
  {
   "cell_type": "code",
   "execution_count": null,
   "id": "a37696f8-fdd5-4ee1-b491-39c781a689c9",
   "metadata": {},
   "outputs": [],
   "source": [
    "fig = go.Figure(data=[go.Surface(z=z, x=x, y=y, name=name, \n",
    "                                cmin=cmin, cmax=cmax,\n",
    "                                customdata=timelabels,\n",
    "                                # xhoverformat=\"Time: %{x}\",\n",
    "                                hovertemplate=\"<br>\".join([\n",
    "                                    \"Time: %{customdata}\",\n",
    "                                    \"Frequency: %{x} Hz\",\n",
    "                                    \"PSD: %{z}\"\n",
    "                                ]))])\n",
    "fig.update_layout(autosize=True,\n",
    "                  width=800, height=500,\n",
    "                  scene=dict(aspectmode='manual',\n",
    "                             aspectratio=dict(x=1, y=2, z=0.5),\n",
    "                yaxis=dict(tickvals=None, ticktext=None))\n",
    "                  #margin=dict(l=65, r=50, b=65, t=90)\n",
    "                 );\n",
    "#fig.update_xaxes(tickvals=xticks, ticktext=xticklabels);"
   ]
  },
  {
   "cell_type": "code",
   "execution_count": null,
   "id": "95bb813c-5b58-4241-b9b0-ece087d77202",
   "metadata": {},
   "outputs": [],
   "source": [
    "fig.update_scenes()"
   ]
  },
  {
   "cell_type": "code",
   "execution_count": null,
   "id": "8afa5161-40b8-4043-9327-dd7d9571d79d",
   "metadata": {},
   "outputs": [],
   "source": [
    "fig"
   ]
  },
  {
   "cell_type": "code",
   "execution_count": null,
   "id": "5c30d8c9-510d-4f9f-930c-eb37fa2e0233",
   "metadata": {},
   "outputs": [],
   "source": [
    "display(HTML(fig.to_html()))"
   ]
  },
  {
   "cell_type": "code",
   "execution_count": null,
   "id": "989f7aa6-d8de-46c4-bdc0-27eb97bc048e",
   "metadata": {},
   "outputs": [],
   "source": [
    "fig = go.Figure(data=[go.Surface(z=z, x=x, y=lyza.timeax_psd, name=name, \n",
    "                                            cmin=cmin, cmax=cmax)])\n",
    "fig.update_layout(autosize=True,\n",
    "                  width=800, height=500,\n",
    "                  scene=dict(aspectmode='manual',\n",
    "                             aspectratio=dict(x=1, y=2, z=0.5),\n",
    "                #yaxis=dict(tickvals=xticks, ticktext=xticklabels)\n",
    "                            )\n",
    "                  #margin=dict(l=65, r=50, b=65, t=90)\n",
    "                 );\n",
    "#fig.update_xaxes(tickvals=xticks, ticktext=xticklabels);"
   ]
  },
  {
   "cell_type": "code",
   "execution_count": null,
   "id": "25c615cb-3ac7-40af-864b-182e47d3d26b",
   "metadata": {},
   "outputs": [],
   "source": [
    "display(HTML(fig.to_html()))"
   ]
  },
  {
   "cell_type": "code",
   "execution_count": null,
   "id": "2985189e-e7e2-4948-9316-3cc3635a58f0",
   "metadata": {},
   "outputs": [],
   "source": []
  },
  {
   "cell_type": "code",
   "execution_count": null,
   "id": "efabefdb-ae5f-4e25-a5bc-b5f8771acf86",
   "metadata": {},
   "outputs": [],
   "source": []
  },
  {
   "cell_type": "code",
   "execution_count": null,
   "id": "c8b6d9e3-089d-4484-9701-9aa8a7631879",
   "metadata": {},
   "outputs": [],
   "source": []
  },
  {
   "cell_type": "code",
   "execution_count": null,
   "id": "e9e9de23-a08f-4a8b-b9dc-4e391b71ee5f",
   "metadata": {},
   "outputs": [],
   "source": []
  },
  {
   "cell_type": "code",
   "execution_count": null,
   "id": "78486618-0580-4947-a796-2e8f64c1aa80",
   "metadata": {},
   "outputs": [],
   "source": [
    "freqs = (1, None)"
   ]
  },
  {
   "cell_type": "code",
   "execution_count": null,
   "id": "6b665a5f-3ee2-4d99-a5d4-3de6c9613fcd",
   "metadata": {},
   "outputs": [],
   "source": [
    "any(freqs)"
   ]
  },
  {
   "cell_type": "code",
   "execution_count": null,
   "id": "720902ec-b2dc-4a97-8d2e-a2d29431f2ca",
   "metadata": {},
   "outputs": [],
   "source": [
    "fax = lyza.frequency_axis"
   ]
  },
  {
   "cell_type": "code",
   "execution_count": null,
   "id": "a050f268-3340-47e0-8159-a9f684aca2c3",
   "metadata": {},
   "outputs": [],
   "source": [
    "np.where(np.logical_and(fax>freqs[0], fax<freqs[1]))"
   ]
  },
  {
   "cell_type": "code",
   "execution_count": null,
   "id": "f9adf351-6138-4f9b-9543-f7a91c9fc19b",
   "metadata": {},
   "outputs": [],
   "source": [
    "lyza.startdate.strftime(\"%Y-%m-%dT%H\")"
   ]
  },
  {
   "cell_type": "code",
   "execution_count": null,
   "id": "50bf9b52-24eb-47f4-ad7c-bc14d080c6d6",
   "metadata": {},
   "outputs": [],
   "source": [
    "s = \"3d\""
   ]
  },
  {
   "cell_type": "code",
   "execution_count": null,
   "id": "5a7d223b-2cd5-4868-b2ce-bc3790dc1ade",
   "metadata": {},
   "outputs": [],
   "source": [
    "if s == [\"3d\", \"both\"]:\n",
    "    print(\"Hello\")"
   ]
  },
  {
   "cell_type": "code",
   "execution_count": null,
   "id": "8b843226-bab8-436e-ae0f-dedeac19fd53",
   "metadata": {},
   "outputs": [],
   "source": []
  }
 ],
 "metadata": {
  "language_info": {
   "name": "python",
   "pygments_lexer": "ipython3"
  }
 },
 "nbformat": 4,
 "nbformat_minor": 5
}

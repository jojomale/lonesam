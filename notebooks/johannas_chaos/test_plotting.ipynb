{
 "cells": [
  {
   "cell_type": "code",
   "execution_count": null,
   "id": "ffe0e2a1-a005-4427-aa2a-8d49b902070a",
   "metadata": {},
   "outputs": [],
   "source": [
    "from importlib import reload\n",
    "from pathlib import Path\n",
    "import os\n",
    "import numpy as np\n",
    "\n",
    "from obspy.clients.filesystem.sds import Client as SDSClient\n",
    "from obspy.clients.fdsn import RoutingClient\n",
    "from obspy.core import UTCDateTime as UTC, read\n",
    "\n",
    "import matplotlib.pyplot as plt\n",
    "plt.style.use('tableau-colorblind10')\n",
    "\n",
    "from data_quality_control import sds_db, base, util, analysis, dqclogging\n",
    "from data_quality_control.analysis import Analyzer"
   ]
  },
  {
   "cell_type": "code",
   "execution_count": null,
   "id": "40dd5d29-810a-412e-b2cd-c6cef7096b39",
   "metadata": {},
   "outputs": [],
   "source": [
    "#reload(dqclogging)\n",
    "dqclogging.configure_handlers(\"DEBUG\", \"INFO\", \"devtest_ProcessedDataIO.log\", True)"
   ]
  },
  {
   "cell_type": "code",
   "execution_count": null,
   "id": "c20b565d-41dd-49f6-98e1-a167e2e184a4",
   "metadata": {},
   "outputs": [],
   "source": [
    "# NSLC\n",
    "nslc_code = \"GR.BFO..BHZ\"\n",
    "\n",
    "overlap = 60 #3600\n",
    "fmin, fmax = (4, 14)\n",
    "nperseg = 2048\n",
    "winlen_in_s = 3600\n",
    "proclen = 24*3600\n",
    "sampling_rate = 20\n",
    "\n",
    "outdir = 'output'\n",
    "\n",
    "sds_root = os.path.abspath('../../sample_sds/')\n",
    "inventory_routing_type = \"eida-routing\""
   ]
  },
  {
   "cell_type": "code",
   "execution_count": null,
   "id": "de319a5e-2af0-4078-94f8-28215502c9f1",
   "metadata": {},
   "outputs": [],
   "source": [
    "startdate = UTC(\"2020-12-24\")\n",
    "enddate = UTC(\"2021-01-15\")"
   ]
  },
  {
   "cell_type": "code",
   "execution_count": null,
   "id": "59ded481-299f-4704-9502-15d0cc9c0d1e",
   "metadata": {},
   "outputs": [],
   "source": [
    "reload(analysis)\n",
    "reload(base)\n",
    "#reload(util)\n",
    "lyza = analysis.Analyzer(outdir, nslc_code,\n",
    "                            fileunit=\"year\")\n",
    "\n",
    "lyza.get_data(startdate, enddate)"
   ]
  },
  {
   "cell_type": "code",
   "execution_count": null,
   "id": "14d4c529-deff-4b63-a2a8-d5465fd06fb9",
   "metadata": {},
   "outputs": [],
   "source": [
    "fig = lyza.plot_spectrogram(freqs=(5, 9), log_freq_ax=True)\n",
    "#plt.ylim(1, 10)\n",
    "#plt.yscale(\"log\")\n"
   ]
  },
  {
   "cell_type": "code",
   "execution_count": null,
   "id": "4780706f-3c15-461e-904a-b2a70c32f6fd",
   "metadata": {},
   "outputs": [],
   "source": [
    "fig = lyza.plot_spectrogram()\n",
    "plt.ylim(0.1, 10)"
   ]
  },
  {
   "cell_type": "code",
   "execution_count": null,
   "id": "78486618-0580-4947-a796-2e8f64c1aa80",
   "metadata": {},
   "outputs": [],
   "source": [
    "freqs = (1, None)"
   ]
  },
  {
   "cell_type": "code",
   "execution_count": null,
   "id": "6b665a5f-3ee2-4d99-a5d4-3de6c9613fcd",
   "metadata": {},
   "outputs": [],
   "source": [
    "any(freqs)"
   ]
  },
  {
   "cell_type": "code",
   "execution_count": null,
   "id": "720902ec-b2dc-4a97-8d2e-a2d29431f2ca",
   "metadata": {},
   "outputs": [],
   "source": [
    "fax = lyza.frequency_axis"
   ]
  },
  {
   "cell_type": "code",
   "execution_count": null,
   "id": "a050f268-3340-47e0-8159-a9f684aca2c3",
   "metadata": {},
   "outputs": [],
   "source": [
    "np.where(np.logical_and(fax>freqs[0], fax<freqs[1]))"
   ]
  },
  {
   "cell_type": "code",
   "execution_count": null,
   "id": "f9adf351-6138-4f9b-9543-f7a91c9fc19b",
   "metadata": {},
   "outputs": [],
   "source": [
    "lyza.startdate.strftime(\"%Y-%m-%dT%H\")"
   ]
  },
  {
   "cell_type": "code",
   "execution_count": null,
   "id": "50bf9b52-24eb-47f4-ad7c-bc14d080c6d6",
   "metadata": {},
   "outputs": [],
   "source": []
  }
 ],
 "metadata": {
  "language_info": {
   "name": "python",
   "pygments_lexer": "ipython3"
  }
 },
 "nbformat": 4,
 "nbformat_minor": 5
}

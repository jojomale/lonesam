{
 "cells": [
  {
   "cell_type": "code",
   "execution_count": null,
   "id": "c4cbe220-3b35-407c-b6ff-063797c9655c",
   "metadata": {},
   "outputs": [],
   "source": []
  },
  {
   "cell_type": "code",
   "execution_count": null,
   "id": "7c55b3d9-6f79-42f0-809e-fa1fa436174b",
   "metadata": {},
   "outputs": [],
   "source": [
    "import numpy as np\n",
    "import matplotlib.pyplot as plt\n",
    "plt.style.use('tableau-colorblind10')\n",
    "#%matplotlib widget"
   ]
  },
  {
   "cell_type": "code",
   "execution_count": null,
   "id": "dddd7ac2-1e4f-4302-888a-d2f57e23a240",
   "metadata": {},
   "outputs": [],
   "source": [
    "from scipy.signal import welch, get_window\n",
    "from obspy.signal.filter import bandpass\n",
    "\n",
    "from obspy.clients.filesystem.sds import Client\n",
    "from obspy.clients.fdsn import RoutingClient\n",
    "from obspy.core import UTCDateTime as UTC\n",
    "from obspy.signal import util"
   ]
  },
  {
   "cell_type": "code",
   "execution_count": null,
   "id": "f469c19a-3373-4677-b69a-94bf0a757bc6",
   "metadata": {},
   "outputs": [],
   "source": [
    "import h5py"
   ]
  },
  {
   "cell_type": "markdown",
   "id": "0b4e6596-0f3f-4f5f-a611-9f536fbe7ffd",
   "metadata": {},
   "source": [
    "### Partial read of HDF5"
   ]
  },
  {
   "cell_type": "code",
   "execution_count": null,
   "id": "b933c7ad-3082-4cda-be66-22b432ea38ec",
   "metadata": {},
   "outputs": [],
   "source": [
    "fname1 = 'data/GR.BFO..HHZ_2020-12-25_2020-12-31.hdf5'\n",
    "fname2 = 'data/GR.BFO..HHZ_2021-01-01_2021-01-09.hdf5'"
   ]
  },
  {
   "cell_type": "code",
   "execution_count": null,
   "id": "b0cd2b0c-6d48-4f97-864c-96181a217210",
   "metadata": {},
   "outputs": [],
   "source": [
    "fin = h5py.File(fname1, 'r')"
   ]
  },
  {
   "cell_type": "code",
   "execution_count": null,
   "id": "33d94279-9d10-4392-b7b5-1f9f530812c5",
   "metadata": {},
   "outputs": [],
   "source": [
    "fin.__sizeof__()"
   ]
  },
  {
   "cell_type": "code",
   "execution_count": null,
   "id": "8405aa1e-c207-4971-bcfd-4905383ef23f",
   "metadata": {},
   "outputs": [],
   "source": [
    "amps = fin['amplitudes']"
   ]
  },
  {
   "cell_type": "code",
   "execution_count": null,
   "id": "5e160943-1361-44bf-b299-88609bb0666c",
   "metadata": {},
   "outputs": [],
   "source": [
    "amps.shape"
   ]
  },
  {
   "cell_type": "code",
   "execution_count": null,
   "id": "248139b2-152e-4922-9fe3-b56a9d12210d",
   "metadata": {},
   "outputs": [],
   "source": [
    "l1 = [i for i in range(10)]\n",
    "print(l1.__sizeof__())"
   ]
  },
  {
   "cell_type": "code",
   "execution_count": null,
   "id": "a59d8eff-308c-4506-919c-452ba225a2ea",
   "metadata": {},
   "outputs": [],
   "source": [
    "l2 = [i for i in range(100)]\n",
    "print(l2.__sizeof__())"
   ]
  },
  {
   "cell_type": "code",
   "execution_count": null,
   "id": "021a541d-82cc-43c3-92c1-4368eb63fd29",
   "metadata": {},
   "outputs": [],
   "source": [
    "x = 10\n",
    "x.__sizeof__()"
   ]
  },
  {
   "cell_type": "markdown",
   "id": "ac1eeff0-bbc5-40c8-8d11-aeb325a53097",
   "metadata": {},
   "source": [
    "Get numpy-arrays"
   ]
  },
  {
   "cell_type": "code",
   "execution_count": null,
   "id": "329efc8b-6b74-415a-b81e-7edb44e9b139",
   "metadata": {},
   "outputs": [],
   "source": [
    "PXX = np.load(\"data/GR.BFO..HHZ_2021-07-20T00:00:00.000000Z_2021-10-25T00:00:00.000000Z_PXX.npy\")\n",
    "AMP = np.load(\"data/GR.BFO..HHZ_2021-07-20T00:00:00.000000Z_2021-10-25T00:00:00.000000Z_AMP.npy\")"
   ]
  },
  {
   "cell_type": "code",
   "execution_count": null,
   "id": "ff237e2c-ff14-4ea4-9f3b-81d39f119820",
   "metadata": {},
   "outputs": [],
   "source": [
    "print(PXX.shape, PXX.size)\n",
    "print(AMP.shape, AMP.size)"
   ]
  },
  {
   "cell_type": "markdown",
   "id": "debf6ebc-ddb7-4726-8b25-5e0a1d8eb18b",
   "metadata": {},
   "source": [
    "Check file sizes of numpy data"
   ]
  },
  {
   "cell_type": "code",
   "execution_count": null,
   "id": "2dca312c-e226-43a9-ab26-4b2106aab476",
   "metadata": {},
   "outputs": [],
   "source": [
    "%ls -lh data/*.npy"
   ]
  },
  {
   "cell_type": "markdown",
   "id": "83c442c1-a1a3-4a7f-8a6f-5d8681d0ab9f",
   "metadata": {},
   "source": [
    "#### HPF5"
   ]
  },
  {
   "cell_type": "code",
   "execution_count": null,
   "id": "c0dd64df-0970-4d77-9ba3-d3d4df50d233",
   "metadata": {},
   "outputs": [],
   "source": [
    "f = h5py.File('mmytest.hdf5', 'w')"
   ]
  },
  {
   "cell_type": "code",
   "execution_count": null,
   "id": "85884338-363b-4086-a67b-5ec6eafa58a5",
   "metadata": {},
   "outputs": [],
   "source": [
    "f.create_dataset('amp', data=AMP)"
   ]
  },
  {
   "cell_type": "code",
   "execution_count": null,
   "id": "7b29be09-613b-41e4-a96b-95d455f906a2",
   "metadata": {},
   "outputs": [],
   "source": [
    "for k, v in f.items():\n",
    "    print(k, v.name)\n"
   ]
  },
  {
   "cell_type": "code",
   "execution_count": null,
   "id": "f63ecea4-95b0-4b9c-8c4f-b292be6f3a64",
   "metadata": {},
   "outputs": [],
   "source": [
    "print(type(f['amp']))"
   ]
  },
  {
   "cell_type": "markdown",
   "id": "1f41dc87-3905-4f97-82bf-9afdca12eebf",
   "metadata": {},
   "source": [
    "To convert hdf5-dataset into numpy array, simply use `np.array()` on it."
   ]
  },
  {
   "cell_type": "code",
   "execution_count": null,
   "id": "b2e435a8-3949-4067-82a0-ce9d4578ebe2",
   "metadata": {},
   "outputs": [],
   "source": [
    "x = np.array(v)\n",
    "\n",
    "print(type(x))"
   ]
  },
  {
   "cell_type": "code",
   "execution_count": null,
   "id": "f0e24ce3-255b-4325-9be9-3b4252d63744",
   "metadata": {},
   "outputs": [],
   "source": []
  },
  {
   "cell_type": "markdown",
   "id": "4451cfe7-9e3e-4861-9477-03c3d727e79b",
   "metadata": {},
   "source": [
    "Put each numpy-array in hdf5 and check file size"
   ]
  },
  {
   "cell_type": "code",
   "execution_count": null,
   "id": "dea2e0ba-f207-4426-bac0-b3a7772023f8",
   "metadata": {},
   "outputs": [],
   "source": [
    "with h5py.File(\"data/GR.BFO..HHZ_PXX.hdf5\", \"w\") as fout:\n",
    "    fout.create_dataset('pxx', data=PXX, compression=1)"
   ]
  },
  {
   "cell_type": "code",
   "execution_count": null,
   "id": "c326f9dc-1754-4785-86af-945e370f0a2b",
   "metadata": {},
   "outputs": [],
   "source": [
    "with h5py.File(\"data/GR.BFO..HHZ_AMP.hdf5\", \"w\") as fout:\n",
    "    fout.create_dataset('amp', data=AMP)"
   ]
  },
  {
   "cell_type": "code",
   "execution_count": null,
   "id": "b74030ce-97bb-4988-9463-3519448d4fdf",
   "metadata": {},
   "outputs": [],
   "source": [
    "%ls -lh data/*.hdf5"
   ]
  },
  {
   "cell_type": "markdown",
   "id": "47cc52ef-e380-4eda-bbff-d779689a7017",
   "metadata": {},
   "source": [
    "Clear all items from FileObject"
   ]
  },
  {
   "cell_type": "code",
   "execution_count": null,
   "id": "d7d829ba-bd22-4167-b1d5-460b20fd070a",
   "metadata": {},
   "outputs": [],
   "source": [
    "f.clear()"
   ]
  },
  {
   "cell_type": "markdown",
   "id": "d07310dd-0979-4eda-a228-924b024210fb",
   "metadata": {},
   "source": [
    "### How to put data into HDF5 row by row?"
   ]
  },
  {
   "cell_type": "code",
   "execution_count": null,
   "id": "cc7960ca-269c-4bba-b63d-49fec1c72a85",
   "metadata": {},
   "outputs": [],
   "source": [
    "PXX.shape"
   ]
  },
  {
   "cell_type": "code",
   "execution_count": null,
   "id": "cdafd253-a003-46f9-9046-19923c1ff8a9",
   "metadata": {},
   "outputs": [],
   "source": [
    "fname = \"data/GR.BFO..HHZ_PXX.hdf5\""
   ]
  },
  {
   "cell_type": "markdown",
   "id": "0b6c0cf3-a771-446f-9e9a-b809be857fc3",
   "metadata": {},
   "source": [
    "Initialize file with some shape (years later) and max shape (leap year)."
   ]
  },
  {
   "cell_type": "code",
   "execution_count": null,
   "id": "034bbcec-2579-458e-b87b-7e5a16091429",
   "metadata": {},
   "outputs": [],
   "source": [
    "with h5py.File(fname, \"w\") as fout:\n",
    "    fout.create_dataset('pxx', shape=(97,24,1025), maxshape=(98, 24, 1025))"
   ]
  },
  {
   "cell_type": "code",
   "execution_count": null,
   "id": "93a36f57-84af-4a9a-93e3-56f32df99249",
   "metadata": {},
   "outputs": [],
   "source": [
    "for i, row in enumerate(PXX):\n",
    "    #print(row.shape)\n",
    "    with h5py.File(fname, \"a\") as fout:\n",
    "        fout['pxx'][i,:,:] = row"
   ]
  },
  {
   "cell_type": "markdown",
   "id": "23722b35-ad61-4484-94ea-78f816be98c4",
   "metadata": {},
   "source": [
    "Now let's add last row again into next row."
   ]
  },
  {
   "cell_type": "code",
   "execution_count": null,
   "id": "b103781e-fe71-4ab5-af2d-9448b1cbb910",
   "metadata": {},
   "outputs": [],
   "source": [
    "with h5py.File(fname, \"a\") as fout:\n",
    "    try:\n",
    "        fout['pxx'][i+1,:,:] = row\n",
    "    except IndexError:\n",
    "        fout['pxx'].resize(i+2, axis=0)\n",
    "        fout['pxx'][i+1,:,:] = row"
   ]
  },
  {
   "cell_type": "markdown",
   "id": "67c03193-449e-4fc9-9756-34eff1709e9e",
   "metadata": {},
   "source": [
    "And again with increase `i`. Hopefully this does not work."
   ]
  },
  {
   "cell_type": "code",
   "execution_count": null,
   "id": "50660db0-6475-4d81-bfff-732479557156",
   "metadata": {},
   "outputs": [],
   "source": [
    "i = i+1\n",
    "with h5py.File(fname, \"a\") as fout:\n",
    "    try:\n",
    "        fout['pxx'][i+1,:,:] = row\n",
    "    except IndexError:\n",
    "        fout['pxx'].resize(98, axis=0)\n",
    "        fout['pxx'][i+1,:,:] = row"
   ]
  },
  {
   "cell_type": "markdown",
   "id": "c81f9348-8781-49ed-916b-74bbc2e489a4",
   "metadata": {},
   "source": [
    "No, it does not. Returns `IndexError`."
   ]
  },
  {
   "cell_type": "code",
   "execution_count": null,
   "id": "f4ba4c10-fc36-41dd-9f86-e9dad3541ea4",
   "metadata": {},
   "outputs": [],
   "source": [
    "fout.close()"
   ]
  },
  {
   "cell_type": "code",
   "execution_count": null,
   "id": "fc06529a-e19a-4c6c-8ed5-86a44741eb29",
   "metadata": {},
   "outputs": [],
   "source": []
  },
  {
   "cell_type": "code",
   "execution_count": null,
   "id": "4c433e13-dfa7-4a52-a300-66bb47bc189d",
   "metadata": {},
   "outputs": [],
   "source": [
    "fname = \"data/GR.BFO..HHZ.hdf5\""
   ]
  },
  {
   "cell_type": "code",
   "execution_count": null,
   "id": "ea605124-8f4b-40f0-bed3-e0348c8828f5",
   "metadata": {},
   "outputs": [],
   "source": [
    "with h5py.File(fname, \"a\") as fout:\n",
    "    fout.create_dataset('PXX', data=PXX)\n",
    "    fout.create_dataset('AMP', data=AMP)"
   ]
  },
  {
   "cell_type": "code",
   "execution_count": null,
   "id": "f9df8de0-c5e5-4f65-831d-4094794003ed",
   "metadata": {},
   "outputs": [],
   "source": []
  },
  {
   "cell_type": "markdown",
   "id": "4690223c-b080-4d51-b49e-8885d2ef2000",
   "metadata": {},
   "source": [
    "### Runtime of IO\n",
    "\n",
    "Which one is faster? \n",
    "\n",
    "- Open and close the file every time we add a row (simulate daily update)\n",
    "- Opening it once and add all the rows one by one, then close (simulate batch processing of existing data)\n",
    "\n",
    "Unsurprisingly, the latter is faster, although the difference is smaller than expected. Probably, looping over the array alone already costs a lot of time."
   ]
  },
  {
   "cell_type": "code",
   "execution_count": null,
   "id": "9bb6f3a0-066f-4c91-ad37-3b153ae4714f",
   "metadata": {},
   "outputs": [],
   "source": [
    "%%timeit -r 20 -n 20\n",
    "with h5py.File(fname, \"w\") as fout:\n",
    "    fout.create_dataset('pxx', shape=(97,24,1025), maxshape=(98, 24, 1025))\n",
    "    \n",
    "for i, row in enumerate(PXX):\n",
    "    #print(row.shape)\n",
    "    with h5py.File(fname, \"a\") as fout:\n",
    "        fout['pxx'][i,:,:] = row"
   ]
  },
  {
   "cell_type": "code",
   "execution_count": null,
   "id": "7f142218-93ae-4e37-91ea-b76aa5f61d80",
   "metadata": {},
   "outputs": [],
   "source": [
    "%%timeit -r 20 -n 20\n",
    "with h5py.File(fname, \"w\") as fout:\n",
    "    fout.create_dataset('pxx', shape=(97,24,1025), maxshape=(98, 24, 1025))\n",
    "    \n",
    "with h5py.File(fname, \"a\") as fout:\n",
    "    for i, row in enumerate(PXX):\n",
    "    #print(row.shape)\n",
    "        fout['pxx'][i,:,:] = row"
   ]
  },
  {
   "cell_type": "code",
   "execution_count": null,
   "id": "da776c50-6b9a-44cf-9d4d-918f12462912",
   "metadata": {},
   "outputs": [],
   "source": [
    "%ls -lh data/*.hdf5"
   ]
  },
  {
   "cell_type": "code",
   "execution_count": null,
   "id": "64a92261-09da-49d7-9c33-35012e2b327b",
   "metadata": {},
   "outputs": [],
   "source": [
    "with h5py.File(fname, \"r\") as f:\n",
    "    print(f['pxx'].shape)\n",
    "    dataset = f['pxx']\n",
    "    data = np.array(f['pxx'])"
   ]
  },
  {
   "cell_type": "code",
   "execution_count": null,
   "id": "7c9eb264-d45e-465c-bdd6-8d0b2bc94e0e",
   "metadata": {},
   "outputs": [],
   "source": [
    "dataset.resize()"
   ]
  },
  {
   "cell_type": "code",
   "execution_count": null,
   "id": "44efaf52-f05f-4501-bd57-c30e7869af34",
   "metadata": {},
   "outputs": [],
   "source": [
    "%lsmagic"
   ]
  },
  {
   "cell_type": "code",
   "execution_count": null,
   "id": "143849e8-3c5a-4773-a395-2170daf5354d",
   "metadata": {},
   "outputs": [],
   "source": [
    "\n",
    "PXX.__sizeof__()"
   ]
  },
  {
   "cell_type": "code",
   "execution_count": null,
   "id": "d2ca22f3-d64d-471c-94a0-b1e5813bd8ca",
   "metadata": {},
   "outputs": [],
   "source": []
  }
 ],
 "metadata": {
  "language_info": {
   "name": "python",
   "pygments_lexer": "ipython3"
  }
 },
 "nbformat": 4,
 "nbformat_minor": 5
}

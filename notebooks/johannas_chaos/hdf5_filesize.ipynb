{
 "cells": [
  {
   "cell_type": "markdown",
   "id": "79921ef6-a394-4c82-8fbe-dedf15b60636",
   "metadata": {},
   "source": [
    "# How is size of HDF5 files affected by the way data is assigned?\n",
    "\n",
    "Main outcome: If data is added during `create_dataset`, the \n",
    "resulting files are twice as large than when first assigning \n",
    "the shape and then adding the data."
   ]
  },
  {
   "cell_type": "code",
   "execution_count": null,
   "id": "c6e851ff-6b34-4f12-b958-de3d4f80b229",
   "metadata": {},
   "outputs": [],
   "source": [
    "import os\n",
    "import h5py\n",
    "import numpy as np"
   ]
  },
  {
   "cell_type": "code",
   "execution_count": null,
   "id": "c1da1d7a-808d-4cd0-961e-1d78222188ef",
   "metadata": {},
   "outputs": [],
   "source": [
    "def print_filesize(i):\n",
    "    s = os.path.getsize(fnm.format(i))\n",
    "    print(fnm.format(i), s, \"Bytes\")"
   ]
  },
  {
   "cell_type": "markdown",
   "id": "3767f63e-3dd6-4c5a-8ab3-5b4fa3aeaa05",
   "metadata": {},
   "source": [
    "## Define shape but assign no data\n",
    "\n",
    "This results in a very small file. So presumably, the file\n",
    "\"knows\" it has no data."
   ]
  },
  {
   "cell_type": "code",
   "execution_count": null,
   "id": "5954d4dc-83b9-41ad-829e-1fd0b5fd48aa",
   "metadata": {},
   "outputs": [],
   "source": [
    "shape = (10000, 10)\n",
    "data = np.random.rand(*shape)"
   ]
  },
  {
   "cell_type": "code",
   "execution_count": null,
   "id": "48fac577-511f-4f21-8e93-beb2ea550a97",
   "metadata": {},
   "outputs": [],
   "source": [
    "fnm = \"hdf5size_{:d}.hdf5\""
   ]
  },
  {
   "cell_type": "code",
   "execution_count": null,
   "id": "01c5ee5c-da35-485f-98c8-cbcb56bec638",
   "metadata": {},
   "outputs": [],
   "source": [
    "i = 1\n",
    "\n",
    "with h5py.File(fnm.format(1), 'w') as f:\n",
    "\n",
    "    f.create_dataset('data', shape=shape, fillvalue=np.nan)\n",
    "\n",
    "print_filesize(i)"
   ]
  },
  {
   "cell_type": "markdown",
   "id": "fea7653c-a515-447d-8990-5acd14143eaa",
   "metadata": {},
   "source": [
    "## Define shape and assign data\n",
    "\n",
    "This results in much larger file."
   ]
  },
  {
   "cell_type": "code",
   "execution_count": null,
   "id": "94da35a4-395f-40fa-9fb3-d76ddb654c13",
   "metadata": {},
   "outputs": [],
   "source": [
    "i = 2\n",
    "\n",
    "with h5py.File(fnm.format(i), 'w') as f:\n",
    "\n",
    "    f.create_dataset('data', shape=shape, fillvalue=np.nan)\n",
    "    f['data'][:] = data\n",
    "\n",
    "print_filesize(i)"
   ]
  },
  {
   "cell_type": "markdown",
   "id": "02d2e41a-a57b-481c-bfd6-1305189262b1",
   "metadata": {},
   "source": [
    "## Define shape and partially assign data\n",
    "\n",
    "Yields same size as if filled completely"
   ]
  },
  {
   "cell_type": "code",
   "execution_count": null,
   "id": "fa89cf0c-9d50-4bd8-8b4b-8dd0f95fcdfb",
   "metadata": {},
   "outputs": [],
   "source": [
    "i = 3\n",
    "\n",
    "with h5py.File(fnm.format(i), 'w') as f:\n",
    "\n",
    "    f.create_dataset('data', shape=shape, fillvalue=np.nan)\n",
    "    f['data'][:100] = data[:100,:]\n",
    "    print_filesize(i)"
   ]
  },
  {
   "cell_type": "markdown",
   "id": "a3c274b2-d341-4df4-a1b8-5b4678d20d78",
   "metadata": {},
   "source": [
    "## Assign data during creation\n",
    "\n",
    "This yields **twice the file size** as if we first only define \n",
    "the shape and then assign the data."
   ]
  },
  {
   "cell_type": "code",
   "execution_count": null,
   "id": "397509e4-9aa4-44d9-b7b0-fae8f21fde56",
   "metadata": {},
   "outputs": [],
   "source": [
    "i = 4\n",
    "\n",
    "with h5py.File(fnm.format(i), 'w') as f:\n",
    "    f.create_dataset('data', data=data, fillvalue=np.nan)\n",
    "    print_filesize(i)"
   ]
  },
  {
   "cell_type": "markdown",
   "id": "db6afb2d-b221-44bb-a678-7d39854588f4",
   "metadata": {},
   "source": [
    "### Are the data identical?"
   ]
  },
  {
   "cell_type": "code",
   "execution_count": null,
   "id": "2e97328f-3e4e-478e-90a4-82adb8437208",
   "metadata": {},
   "outputs": [],
   "source": [
    "res = {}\n",
    "\n",
    "for i in [2, 4]: \n",
    "\n",
    "    with h5py.File(fnm.format(i), 'r') as f:\n",
    "        res[str(i)] = f[\"data\"][:]"
   ]
  },
  {
   "cell_type": "markdown",
   "id": "962cce42-ccf0-4463-9a09-d8b6da5695a3",
   "metadata": {},
   "source": [
    "Are they equal? --> NO"
   ]
  },
  {
   "cell_type": "code",
   "execution_count": null,
   "id": "1a10cc16-cec8-4f5e-a843-89a77750f971",
   "metadata": {},
   "outputs": [],
   "source": [
    "np.all(np.equal(res[\"2\"], res[\"4\"]))"
   ]
  },
  {
   "cell_type": "markdown",
   "id": "2a654200-0eb8-4263-8771-51179e9a13ce",
   "metadata": {},
   "source": [
    "Are they almost equal? --> YES"
   ]
  },
  {
   "cell_type": "code",
   "execution_count": null,
   "id": "d4f35fa5-ac06-41e1-a030-8b8ff60478f2",
   "metadata": {},
   "outputs": [],
   "source": [
    "np.all(np.isclose(res[\"2\"], res[\"4\"]))"
   ]
  },
  {
   "cell_type": "markdown",
   "id": "99cacc12-fd17-401e-9fda-356f3387862b",
   "metadata": {},
   "source": [
    "So what's the difference? --> Standard data type for h5py is \n",
    "32-byte floats, not 64. Apparantly, is added in two steps, data are\n",
    "converted whereas assigning directly uses the original dtype."
   ]
  },
  {
   "cell_type": "code",
   "execution_count": null,
   "id": "68737af3-e7ca-4e53-9e57-28ec9be4c012",
   "metadata": {},
   "outputs": [],
   "source": [
    "for k, v in res.items():\n",
    "    print(k, v.dtype)"
   ]
  },
  {
   "cell_type": "code",
   "execution_count": null,
   "id": "18b3d2cb-64e1-4bd7-8374-940d8a8576eb",
   "metadata": {},
   "outputs": [],
   "source": [
    "print(data.dtype)"
   ]
  },
  {
   "cell_type": "markdown",
   "id": "da68598a-9c12-4fc1-ac27-d32600f79c1d",
   "metadata": {},
   "source": [
    "## Clean up the files."
   ]
  },
  {
   "cell_type": "code",
   "execution_count": null,
   "id": "ece500a6-02b5-4b2a-b1bf-5afff41aaa1a",
   "metadata": {},
   "outputs": [],
   "source": [
    "%rm hdf5size*.hdf5"
   ]
  },
  {
   "cell_type": "code",
   "execution_count": null,
   "id": "25897b06-1a21-4888-aaa9-c1796a4674c5",
   "metadata": {},
   "outputs": [],
   "source": []
  }
 ],
 "metadata": {
  "language_info": {
   "name": "python",
   "pygments_lexer": "ipython3"
  }
 },
 "nbformat": 4,
 "nbformat_minor": 5
}

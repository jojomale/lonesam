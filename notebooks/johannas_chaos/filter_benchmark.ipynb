{
 "cells": [
  {
   "cell_type": "code",
   "execution_count": null,
   "id": "c406cf58-bd7c-49c9-996e-ea288f5a2c35",
   "metadata": {},
   "outputs": [],
   "source": []
  },
  {
   "cell_type": "code",
   "execution_count": null,
   "id": "c3399c17-0c6a-4bfe-ab45-f93d55cfaa78",
   "metadata": {},
   "outputs": [],
   "source": [
    "import numpy as np\n",
    "\n",
    "from scipy.signal import welch, get_window\n",
    "from obspy.signal.filter import bandpass\n",
    "\n",
    "from obspy.clients.filesystem.sds import Client\n",
    "from obspy.clients.fdsn import RoutingClient\n",
    "from obspy.core import UTCDateTime as UTC\n",
    "from obspy.signal import util\n",
    "\n",
    "import h5py"
   ]
  },
  {
   "cell_type": "code",
   "execution_count": null,
   "id": "7bf080ae-5987-462f-8000-1124ad0a8f98",
   "metadata": {},
   "outputs": [],
   "source": [
    "import matplotlib.pyplot as plt\n",
    "plt.style.use('tableau-colorblind10')\n",
    "#%matplotlib widget"
   ]
  },
  {
   "cell_type": "code",
   "execution_count": null,
   "id": "77ac8a59-0b1c-4a1d-a111-45a7f31597b8",
   "metadata": {},
   "outputs": [],
   "source": [
    "def get_windows(tr, starttime, nwin, winlen_samples):\n",
    "    ntot = int(nwin*winlen_samples)\n",
    "    data = tr.slice(starttime, endtime=None).data[:ntot]\n",
    "    return data.reshape((nwin, winlen_samples))"
   ]
  },
  {
   "cell_type": "code",
   "execution_count": null,
   "id": "e6e638d1-1195-47c1-90e1-28658f65dcfb",
   "metadata": {},
   "outputs": [],
   "source": [
    "network = 'GR'\n",
    "station = 'BFO'\n",
    "location = ''\n",
    "channel = 'BHZ'\n",
    "startdate = UTC(\"2020-107\")\n",
    "#enddate = UTC(\"2020-109\")\n",
    "overlap = 600 #3600\n",
    "\n",
    "fmin, fmax = (4, 14)\n",
    "nperseg = 2048\n",
    "winlen_in_s = 3600\n",
    "proclen = 24*3600\n",
    "\n",
    "dataclient = Client('/home/lehr/sds/data')\n",
    "invclient = RoutingClient('eida-routing')"
   ]
  },
  {
   "cell_type": "code",
   "execution_count": null,
   "id": "c66f0056-0859-441e-94f5-4a163fa47cf5",
   "metadata": {},
   "outputs": [],
   "source": [
    "starttime = startdate-overlap\n",
    "endtime = starttime + proclen + 2*overlap\n",
    "inv = invclient.get_stations(network=network, station=station, \n",
    "                             location=location, starttime=startdate, \n",
    "                             endtime=endtime, channel=channel, \n",
    "                             level='response')\n",
    "\n",
    "st = dataclient.get_waveforms(network, station, \n",
    "                             location, channel,starttime, endtime)\n",
    "st.remove_sensitivity(inv)\n",
    "st.merge(fill_value=np.nan)\n",
    "tr = st[0]    \n",
    "\n",
    "# Demean ignoring gaps\n",
    "tr.data = tr.data - np.nanmean(tr.data)"
   ]
  },
  {
   "cell_type": "markdown",
   "id": "fc4d88b0-09f1-4723-a0c4-c454e3e3e003",
   "metadata": {},
   "source": [
    "# Apply filter once"
   ]
  },
  {
   "cell_type": "code",
   "execution_count": null,
   "id": "80142e87-c46d-4b8b-834b-499e1c9a49f5",
   "metadata": {},
   "outputs": [],
   "source": [
    "trfilt = tr.copy().filter('bandpass', freqmin=fmin, freqmax=fmax)"
   ]
  },
  {
   "cell_type": "code",
   "execution_count": null,
   "id": "b82fee52-2f3c-4fdb-95a0-ac96b010cf36",
   "metadata": {},
   "outputs": [],
   "source": [
    "%%timeit -n100\n",
    "trfilt = tr.copy().filter('bandpass', freqmin=fmin, freqmax=fmax)"
   ]
  },
  {
   "cell_type": "markdown",
   "id": "f9e0d16d-9531-4f36-9e15-a7eff2b06761",
   "metadata": {},
   "source": [
    "# Filtering blockwise"
   ]
  },
  {
   "cell_type": "code",
   "execution_count": null,
   "id": "c61c6258-f8e4-4d09-9534-4a4f576df414",
   "metadata": {},
   "outputs": [],
   "source": [
    "sr = tr.stats.sampling_rate\n",
    "nwin = int(proclen/winlen_in_s)\n",
    "#proclen_samples = proclen * sr\n",
    "winlen_samples = int(winlen_in_s * sr)\n",
    "data = get_windows(tr, starttime+overlap, nwin, winlen_samples)"
   ]
  },
  {
   "cell_type": "code",
   "execution_count": null,
   "id": "3d62c4cd-1b9b-44e8-8c66-aba67d20d15b",
   "metadata": {},
   "outputs": [],
   "source": [
    "%%timeit -n100\n",
    "\n",
    "matrix = data.copy()\n",
    "for i, r in enumerate(matrix):\n",
    "    matrix[i,:] = bandpass(r, fmin, fmax, sr)\n",
    "    "
   ]
  },
  {
   "cell_type": "code",
   "execution_count": null,
   "id": "1cd3e484-c941-434f-8d21-eb05084ac23e",
   "metadata": {},
   "outputs": [],
   "source": [
    "while starttime < enddate - overlap:\n",
    "    print(starttime)\n",
    "    endtime = starttime + proclen + 2*overlap\n",
    "    st = dataclient.get_waveforms(network, station, \n",
    "                             location, channel,starttime, endtime)\n",
    "    st.remove_sensitivity(inv)\n",
    "    st.merge(fill_value=np.nan)\n",
    "    if len(st) > 1:\n",
    "        raise RuntimeWarning(\"More than 1 trace in stream!\")\n",
    "    tr = st[0]    \n",
    "\n",
    "    # Demean ignoring gaps\n",
    "    tr.data = tr.data - np.nanmean(tr.data)\n",
    "    \n",
    "    break\n",
    "    # Get some numbers\n",
    "    sr = tr.stats.sampling_rate\n",
    "    nwin = int(proclen/winlen_in_s)\n",
    "    #proclen_samples = proclen * sr\n",
    "    winlen_samples = int(winlen_in_s * sr)\n",
    "\n",
    "    # Spectra\n",
    "    data = get_windows(tr, starttime+overlap, nwin, winlen_samples)\n",
    "    freq, P = welch(data, fs=sr, nperseg=nperseg, axis=1)\n",
    "\n",
    "    # Amplitude\n",
    "    tr.filter('bandpass', freqmin=fmin, freqmax=fmax)\n",
    "    data = get_windows(tr, starttime+overlap, nwin, winlen_samples)\n",
    "    prctl = np.nanpercentile(data, 75, axis=1)\n",
    "\n",
    "    #AMP.append(prctl) #amp[1:-1])\n",
    "    #PXX.append(P) # pxx[1:-1,:])\n",
    "\n",
    "    starttime = starttime + proclen"
   ]
  }
 ],
 "metadata": {
  "language_info": {
   "name": "python",
   "pygments_lexer": "ipython3"
  }
 },
 "nbformat": 4,
 "nbformat_minor": 5
}

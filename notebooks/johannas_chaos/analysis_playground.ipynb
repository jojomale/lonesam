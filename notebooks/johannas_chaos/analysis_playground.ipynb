{
 "cells": [
  {
   "cell_type": "code",
   "execution_count": null,
   "id": "f1548bb5-bc90-45bc-b752-5e8ee1515982",
   "metadata": {},
   "outputs": [],
   "source": [
    "from importlib import reload\n",
    "from datetime import timedelta, time\n",
    "from glob import glob\n",
    "import os.path\n",
    "import numpy as np\n",
    "\n",
    "#from scipy.signal import welch, get_window\n",
    "\n",
    "#from obspy.signal.filter import bandpass\n",
    "#from obspy.clients.filesystem.sds import Client\n",
    "#from obspy.clients.fdsn import RoutingClient\n",
    "from obspy.core import UTCDateTime as UTC\n",
    "# from obspy.signal import util\n",
    "\n",
    "import plotly.graph_objects as go\n",
    "\n",
    "import h5py\n",
    "\n",
    "#from data_quality_control import processing\n",
    "from data_quality_control import sds_db\n",
    "from data_quality_control import analysis, base\n",
    "\n",
    "logger = sds_db.logger\n"
   ]
  },
  {
   "cell_type": "code",
   "execution_count": null,
   "id": "f21a1999-9fef-4faf-9d71-0451aea9721f",
   "metadata": {},
   "outputs": [],
   "source": [
    "# Only for display in documentation!\n",
    "from IPython.core.display import display, HTML "
   ]
  },
  {
   "cell_type": "code",
   "execution_count": null,
   "id": "a276ee0c-5c69-4316-803c-4ade8c000350",
   "metadata": {},
   "outputs": [],
   "source": [
    "import matplotlib.pyplot as plt\n",
    "plt.style.use('tableau-colorblind10')\n",
    "#%matplotlib widget"
   ]
  },
  {
   "cell_type": "code",
   "execution_count": null,
   "id": "72228fab-2b41-499b-84d5-8e9a19caee11",
   "metadata": {},
   "outputs": [],
   "source": [
    "network = 'GR'\n",
    "station = 'BFO'\n",
    "location = ''\n",
    "channel = 'HHZ'\n",
    "#datadir = '/home/lehr/sds/processed/'\n",
    "datadir = \"/home/lehr/Projects/data_quality_control/processed/\"\n",
    "#datadir = \"../data/\"\n",
    "stationcode = \"{}.{}.{}.{}\".format(network, station, \n",
    "                                   location, channel)"
   ]
  },
  {
   "cell_type": "code",
   "execution_count": null,
   "id": "5892c2a4-be3d-4d0b-8987-1018e3dfdd7d",
   "metadata": {},
   "outputs": [],
   "source": [
    "starttime = UTC(\"2020-12-15\")\n",
    "endtime = UTC(\"2021-01-15\")"
   ]
  },
  {
   "cell_type": "code",
   "execution_count": null,
   "id": "90dc4a2e-dca1-46ed-8fae-85961449a326",
   "metadata": {},
   "outputs": [],
   "source": [
    "reload(sds_db)\n",
    "reload(base)\n",
    "analyzer = sds_db.SDSDataBaseAnalyzer(starttime, endtime, datadir, stationcode,\n",
    "                                     fileunit=\"year\")"
   ]
  },
  {
   "cell_type": "code",
   "execution_count": null,
   "id": "5320d2ee-15b7-4dcc-abaa-13d13f49dba2",
   "metadata": {},
   "outputs": [],
   "source": [
    "files = analyzer.get_filenames()"
   ]
  },
  {
   "cell_type": "code",
   "execution_count": null,
   "id": "7e9a986d-63e6-4d71-a088-f67786a3a1f1",
   "metadata": {},
   "outputs": [],
   "source": [
    "files"
   ]
  },
  {
   "cell_type": "code",
   "execution_count": null,
   "id": "dbb29c9a-2d7f-42fc-bf44-3257a22f5b5c",
   "metadata": {},
   "outputs": [],
   "source": [
    "f2 = None\n",
    "for f in analyzer.iter_files():\n",
    "    print(f2)\n",
    "    print(f)\n",
    "    #raise RuntimeError\n",
    "    f2 = f\n",
    "print(f)"
   ]
  },
  {
   "cell_type": "code",
   "execution_count": null,
   "id": "4701b745-0650-4aae-af89-29e5af2da800",
   "metadata": {},
   "outputs": [],
   "source": [
    "DATA = analyzer.get_data()#, stime=\"18:00\", etime=\"05:00\")"
   ]
  },
  {
   "cell_type": "code",
   "execution_count": null,
   "id": "c1c304cd-7283-4d81-b42f-b0fbdcbc54a9",
   "metadata": {},
   "outputs": [],
   "source": [
    "DATA"
   ]
  },
  {
   "cell_type": "code",
   "execution_count": null,
   "id": "9154b688-027e-4584-986e-64d18ea188cc",
   "metadata": {},
   "outputs": [],
   "source": [
    "analyzer.amps.shape"
   ]
  },
  {
   "cell_type": "code",
   "execution_count": null,
   "id": "3c294fa9-dcce-4bd9-9ebe-39a9ba950224",
   "metadata": {},
   "outputs": [],
   "source": [
    "analyzer.starttime"
   ]
  },
  {
   "cell_type": "code",
   "execution_count": null,
   "id": "3e875428-627c-4dd7-a26c-172b347ddae3",
   "metadata": {},
   "outputs": [],
   "source": [
    "2*365"
   ]
  },
  {
   "cell_type": "code",
   "execution_count": null,
   "id": "6b25cd20-1935-4dfa-a4a4-e14060867b49",
   "metadata": {},
   "outputs": [],
   "source": [
    "fig_amps, fig_psds = analyzer.plot()\n",
    "\n",
    "display(HTML(fig_amps.to_html()))"
   ]
  },
  {
   "cell_type": "code",
   "execution_count": null,
   "id": "f95e986f-8266-4c6c-8e76-c7cdc2065a94",
   "metadata": {},
   "outputs": [],
   "source": [
    "DATA = analyzer.get_data(stime=\"09:00\", etime=\"15:00\")"
   ]
  },
  {
   "cell_type": "code",
   "execution_count": null,
   "id": "990f9a01-d760-433d-8616-1dab6d3ac917",
   "metadata": {},
   "outputs": [],
   "source": [
    "analyzer.starttime"
   ]
  },
  {
   "cell_type": "code",
   "execution_count": null,
   "id": "989e5870-aaf5-4e40-b738-64fef802dc15",
   "metadata": {},
   "outputs": [],
   "source": [
    "DATA.amplitudes.shape"
   ]
  },
  {
   "cell_type": "code",
   "execution_count": null,
   "id": "e86d120d-2dba-4f22-9ab6-f1e7e9d183ed",
   "metadata": {},
   "outputs": [],
   "source": [
    "analyzer.amps.shape"
   ]
  },
  {
   "cell_type": "code",
   "execution_count": null,
   "id": "62c06fb8-c4b6-4e45-b3e0-950c9e068f40",
   "metadata": {},
   "outputs": [],
   "source": [
    "fig_amps, fig_psds = analyzer.plot()\n",
    "\n",
    "display(HTML(fig_amps.to_html()))"
   ]
  },
  {
   "cell_type": "code",
   "execution_count": null,
   "id": "45e2319c-61a1-4296-9d7f-de0d401201c2",
   "metadata": {},
   "outputs": [],
   "source": [
    "DATA.plot_psds()"
   ]
  },
  {
   "cell_type": "code",
   "execution_count": null,
   "id": "8fddefe2-2553-4ed5-a425-bfc1d0c912e9",
   "metadata": {},
   "outputs": [],
   "source": [
    "i = int((analyzer.starttime - DATA.startdate) / \n",
    "                    DATA.proclen_seconds)\n",
    "j = int((analyzer.endtime + DATA.proclen_seconds - DATA.startdate) / \n",
    "                DATA.proclen_seconds)\n",
    "\n",
    "i, j"
   ]
  },
  {
   "cell_type": "code",
   "execution_count": null,
   "id": "87857704-7ed7-4a97-b50c-390b5448e90c",
   "metadata": {},
   "outputs": [],
   "source": [
    "analyzer.psds.shape"
   ]
  },
  {
   "cell_type": "code",
   "execution_count": null,
   "id": "8b3162ac-c0d3-4da5-8c18-eac3b0257f87",
   "metadata": {},
   "outputs": [],
   "source": [
    "A = analyzer.psds.reshape((32*24, 1025))"
   ]
  },
  {
   "cell_type": "code",
   "execution_count": null,
   "id": "6558c8f6-1fc3-44dc-ad8f-a6163e1d2a99",
   "metadata": {},
   "outputs": [],
   "source": [
    "z = analyzer.psds\n",
    "z = z.reshape((z.shape[0]*z.shape[1], z.shape[2]))\n",
    "dateax, timeax = analyzer._get_time_axis()\n",
    "datetimeax = dateax[:,None] + timeax[None,:]\n",
    "y = datetimeax.ravel()\n",
    "x = analyzer.freqax"
   ]
  },
  {
   "cell_type": "code",
   "execution_count": null,
   "id": "72e5668c-4a57-4660-8c7c-0a8a693f9ce9",
   "metadata": {},
   "outputs": [],
   "source": [
    "plt.pcolormesh(y, x, np.log(z.T), shading=\"auto\")"
   ]
  },
  {
   "cell_type": "code",
   "execution_count": null,
   "id": "32ee04e7-852d-408a-8209-41e1d8165994",
   "metadata": {},
   "outputs": [],
   "source": [
    "plt.imshow(np.log(z.T))"
   ]
  },
  {
   "cell_type": "code",
   "execution_count": null,
   "id": "908afc40-1abd-40e8-b9bf-f198a6144fe7",
   "metadata": {},
   "outputs": [],
   "source": [
    "z.shape"
   ]
  },
  {
   "cell_type": "code",
   "execution_count": null,
   "id": "6b4c56a1-3a09-49d9-9f16-01c510e81b6e",
   "metadata": {},
   "outputs": [],
   "source": [
    "t = UTC(\"2020-12-24T02:00\") "
   ]
  },
  {
   "cell_type": "code",
   "execution_count": null,
   "id": "7bbff984-5976-4b43-a08f-8a54b010097e",
   "metadata": {},
   "outputs": [],
   "source": [
    "rav_idx = (t-analyzer.starttime) / analyzer.winlen_seconds"
   ]
  },
  {
   "cell_type": "code",
   "execution_count": null,
   "id": "429f4dd4-e709-4de1-93c9-2652a1879fd5",
   "metadata": {},
   "outputs": [],
   "source": [
    "np.unravel_index(int(rav_idx), analyzer.psds[:,:,0].shape)"
   ]
  },
  {
   "cell_type": "code",
   "execution_count": null,
   "id": "45fc55c9-922e-4c90-b474-33442efe3f65",
   "metadata": {},
   "outputs": [],
   "source": [
    "analyzer.psds.flat[::100]"
   ]
  },
  {
   "cell_type": "code",
   "execution_count": null,
   "id": "645c0b02-3c0d-4601-9387-ee072e159ebd",
   "metadata": {},
   "outputs": [],
   "source": [
    "DATA"
   ]
  },
  {
   "cell_type": "code",
   "execution_count": null,
   "id": "04cd25fb-16b1-4bd4-b795-3cf10a8c0fc7",
   "metadata": {},
   "outputs": [],
   "source": [
    "analyzer.starttime"
   ]
  },
  {
   "cell_type": "code",
   "execution_count": null,
   "id": "cb219217-eec4-4569-8ee2-64a3697fa20e",
   "metadata": {},
   "outputs": [],
   "source": [
    "DATA.startdate"
   ]
  },
  {
   "cell_type": "code",
   "execution_count": null,
   "id": "2d27aeb4-8777-4838-a76c-27af6980a747",
   "metadata": {},
   "outputs": [],
   "source": [
    "z.shape"
   ]
  },
  {
   "cell_type": "code",
   "execution_count": null,
   "id": "19225840-854c-4a16-932c-f0c7fba2e1e6",
   "metadata": {},
   "outputs": [],
   "source": [
    "A.shape"
   ]
  },
  {
   "cell_type": "code",
   "execution_count": null,
   "id": "7ac60c4f-6ecc-48f6-9866-0c488f1a266a",
   "metadata": {},
   "outputs": [],
   "source": [
    "plt.pcolormesh(analyzer. analyzer.psds.reshape((None, 1025)))"
   ]
  },
  {
   "cell_type": "code",
   "execution_count": null,
   "id": "26e5c673-017b-45d5-b9fd-b348c547b932",
   "metadata": {},
   "outputs": [],
   "source": []
  },
  {
   "cell_type": "code",
   "execution_count": null,
   "id": "92b0a939-cda7-43a5-8476-7b3e839de862",
   "metadata": {},
   "outputs": [],
   "source": [
    "analyzer.__class__"
   ]
  },
  {
   "cell_type": "code",
   "execution_count": null,
   "id": "4def2fdf-c58b-47ab-9c5a-df83412f5cb8",
   "metadata": {},
   "outputs": [],
   "source": [
    "DATA = analyzer.get_selected_timerange(stime=\"06:00\", etime=\"18:59\")"
   ]
  },
  {
   "cell_type": "code",
   "execution_count": null,
   "id": "56527898-64d2-4b3f-bd0f-a03f49dbaf19",
   "metadata": {},
   "outputs": [],
   "source": [
    "DATA[\"amplitudes\"].shape"
   ]
  },
  {
   "cell_type": "code",
   "execution_count": null,
   "id": "f5ba79b0-07e6-460f-a63d-e78ee81bf0b2",
   "metadata": {},
   "outputs": [],
   "source": [
    "DATA[\"psds\"].shape"
   ]
  },
  {
   "cell_type": "code",
   "execution_count": null,
   "id": "f65519ec-928c-4c10-a632-19fe32bb666d",
   "metadata": {},
   "outputs": [],
   "source": [
    "i = int((analyzer.starttime - UTC(analyzer.sdate)) / \n",
    "                    analyzer.winlen_seconds)\n",
    "j = int((analyzer.endtime - UTC(analyzer.edate)) / \n",
    "               analyzer.winlen_seconds)\n",
    "print(i, j)"
   ]
  },
  {
   "cell_type": "code",
   "execution_count": null,
   "id": "d55df1ce-bea8-454a-8735-3b572396e021",
   "metadata": {},
   "outputs": [],
   "source": [
    "(analyzer.endtime - UTC(analyzer.edate)) - (analyzer.starttime - UTC(analyzer.sdate))"
   ]
  },
  {
   "cell_type": "code",
   "execution_count": null,
   "id": "2aa3be12-0721-48e7-ad84-68bd29e92c2b",
   "metadata": {},
   "outputs": [],
   "source": [
    "analyzer.starttime, DATA.startdate, analyzer.sdate, analyzer.stime"
   ]
  },
  {
   "cell_type": "code",
   "execution_count": null,
   "id": "28523843-483e-4b5c-acb1-d14d93df8bc0",
   "metadata": {},
   "outputs": [],
   "source": []
  },
  {
   "cell_type": "code",
   "execution_count": null,
   "id": "e1e68034-5413-45cc-ad5a-9b853560f688",
   "metadata": {},
   "outputs": [],
   "source": [
    "DATA"
   ]
  },
  {
   "cell_type": "code",
   "execution_count": null,
   "id": "24818604-ff49-4be6-8cd9-8f948178787b",
   "metadata": {},
   "outputs": [],
   "source": [
    "analyzer.amps.shape"
   ]
  },
  {
   "cell_type": "code",
   "execution_count": null,
   "id": "a32fa6f5-975e-49fd-b0f2-acb3f713e9a7",
   "metadata": {},
   "outputs": [],
   "source": [
    "data.amplitudes[]"
   ]
  },
  {
   "cell_type": "code",
   "execution_count": null,
   "id": "486b7995-93a5-44b9-9b8b-6d49da6f2aff",
   "metadata": {},
   "outputs": [],
   "source": [
    "fig, ax = plt.subplots(1,1, figsize=(10,10), )\n",
    "ax = DATA.plot_amplitudes(ax=ax, timeincfmt=(\"D\", 2))"
   ]
  },
  {
   "cell_type": "code",
   "execution_count": null,
   "id": "18e00518-2227-4849-9d2d-afa77f18adc3",
   "metadata": {},
   "outputs": [],
   "source": [
    "analyzer.plot_amplitudes()"
   ]
  },
  {
   "cell_type": "code",
   "execution_count": null,
   "id": "49faeeda-4dbb-4edb-9ea6-eaac0f86451d",
   "metadata": {},
   "outputs": [],
   "source": [
    "fnames = [\"asdafsa\", \"asfs\", \"adafga\"]\n",
    "lens = [len(fn) for fn in fnames]"
   ]
  },
  {
   "cell_type": "code",
   "execution_count": null,
   "id": "bc84269e-33b2-4241-b67e-3225473255d1",
   "metadata": {},
   "outputs": [],
   "source": [
    "lens"
   ]
  },
  {
   "cell_type": "code",
   "execution_count": null,
   "id": "0a6b649f-b5b3-45ca-8b4d-f75b934a3234",
   "metadata": {},
   "outputs": [],
   "source": [
    "lens.index(max(lens))"
   ]
  },
  {
   "cell_type": "markdown",
   "id": "3ddb1c1b-78ee-483b-bdad-bac25fbbd135",
   "metadata": {},
   "source": [
    "# Try old version\n",
    "\n",
    "mainly, check if selection of partial time range still works.\n",
    "\n",
    "Result: I don't know."
   ]
  },
  {
   "cell_type": "code",
   "execution_count": null,
   "id": "ce7be333-5a51-49ca-8256-323f0ac5f425",
   "metadata": {},
   "outputs": [],
   "source": [
    "stationcode"
   ]
  },
  {
   "cell_type": "code",
   "execution_count": null,
   "id": "b41cb119-c32b-4063-8225-ba867148e7bf",
   "metadata": {},
   "outputs": [],
   "source": [
    "reload(analysis)\n",
    "analyzer = analysis.Analyzer_old_adapted(starttime, endtime, datadir, stationcode, \n",
    "                                 stime=\"19:00\", etime=\"06:00\")"
   ]
  },
  {
   "cell_type": "code",
   "execution_count": null,
   "id": "14c390c8-f72f-420a-a727-5a4110ffbd54",
   "metadata": {},
   "outputs": [],
   "source": [
    "analyzer.files"
   ]
  },
  {
   "cell_type": "code",
   "execution_count": null,
   "id": "eb17fffd-ac01-44cc-8c74-bd93fa8b607a",
   "metadata": {},
   "outputs": [],
   "source": [
    "DATA = analyzer.get_data()"
   ]
  },
  {
   "cell_type": "code",
   "execution_count": null,
   "id": "64e5638d-cb76-44a7-af4d-803eb0368d17",
   "metadata": {},
   "outputs": [],
   "source": [
    "fig = analyzer.plot_amplitudes()\n",
    "\n",
    "fig.show()"
   ]
  },
  {
   "cell_type": "code",
   "execution_count": null,
   "id": "4fa1003f-4e8e-474f-90c0-26726c6407c4",
   "metadata": {},
   "outputs": [],
   "source": []
  },
  {
   "cell_type": "code",
   "execution_count": null,
   "id": "953f33dd-858c-4f0a-a02c-749ffd7f601e",
   "metadata": {},
   "outputs": [],
   "source": []
  },
  {
   "cell_type": "code",
   "execution_count": null,
   "id": "b52eec37-25f9-4247-b18d-10250acbc300",
   "metadata": {},
   "outputs": [],
   "source": []
  },
  {
   "cell_type": "code",
   "execution_count": null,
   "id": "9af188fa-7410-4dbd-9d29-9907826a1886",
   "metadata": {},
   "outputs": [],
   "source": []
  },
  {
   "cell_type": "markdown",
   "id": "0be0dd02-1b83-4816-aa29-b4fb4136d279",
   "metadata": {},
   "source": [
    "# Old stuff"
   ]
  },
  {
   "cell_type": "code",
   "execution_count": null,
   "id": "0a5936d9-0dcb-450e-b1a9-619d32be7347",
   "metadata": {},
   "outputs": [],
   "source": [
    "amps = np.vstack(analyzer.get_data(dataset='amplitudes'))\n",
    "psds = np.vstack(analyzer.get_data(dataset='psds'))"
   ]
  },
  {
   "cell_type": "code",
   "execution_count": null,
   "id": "b04f5c56-92ad-41f6-8e8f-e030ea06e7ad",
   "metadata": {},
   "outputs": [],
   "source": [
    "hours = (4, 10)\n",
    "hours = list(hours)\n",
    "h1, h2 = hours\n",
    "\n",
    "if hours[0] is None:\n",
    "    hours[0] = 0\n",
    "if hours[1] is None or hours[1] > 23 or hours[1]==0:\n",
    "    hours[1] = 24\n",
    "print(hours)"
   ]
  },
  {
   "cell_type": "code",
   "execution_count": null,
   "id": "e61d2046-e4a7-4cad-8983-51905e124a91",
   "metadata": {},
   "outputs": [],
   "source": [
    "for data in [amps, psds]:\n",
    "    print(data[:,hours[0]:hours[1]].shape)"
   ]
  },
  {
   "cell_type": "code",
   "execution_count": null,
   "id": "0970a810-33f6-4c8a-94e1-5b60e4c2552d",
   "metadata": {},
   "outputs": [],
   "source": [
    "data = np.vstack(DATA)"
   ]
  },
  {
   "cell_type": "code",
   "execution_count": null,
   "id": "8e8c328a-33d0-473f-90e4-c912d897406c",
   "metadata": {},
   "outputs": [],
   "source": [
    "data.shape"
   ]
  },
  {
   "cell_type": "code",
   "execution_count": null,
   "id": "4366cd24-d914-42ed-a1f2-28891fc2eefd",
   "metadata": {},
   "outputs": [],
   "source": [
    "plt.matshow(np.vstack(DATA)[:,0,:])"
   ]
  },
  {
   "cell_type": "code",
   "execution_count": null,
   "id": "282fe902-cc15-439d-b3fa-d078173ebc99",
   "metadata": {},
   "outputs": [],
   "source": [
    "amps = []\n",
    "for f in analyzer.iter_files():\n",
    "    amps.append(f[\"amplitudes\"])"
   ]
  },
  {
   "cell_type": "code",
   "execution_count": null,
   "id": "5f9cfe5b-aac1-434d-be8a-32f798c1c364",
   "metadata": {},
   "outputs": [],
   "source": [
    "iterator = analyzer.iter_files()"
   ]
  },
  {
   "cell_type": "code",
   "execution_count": null,
   "id": "652fe2b9-5b7c-497c-a8d3-b0a7127fd930",
   "metadata": {},
   "outputs": [],
   "source": [
    "f = next(iterator)"
   ]
  },
  {
   "cell_type": "code",
   "execution_count": null,
   "id": "543aefec-0941-4e88-a381-403cfe920d25",
   "metadata": {},
   "outputs": [],
   "source": [
    "amp = f[\"amplitudes\"]#[:,:]"
   ]
  },
  {
   "cell_type": "code",
   "execution_count": null,
   "id": "ab9cf853-be5f-4df6-9c00-15fe499dd791",
   "metadata": {},
   "outputs": [],
   "source": [
    "\"shape of %s is %s\" % (\"ampls\", amp.shape)"
   ]
  },
  {
   "cell_type": "code",
   "execution_count": null,
   "id": "b00cb81e-7dbc-4351-a0c0-a9908ef0c7a3",
   "metadata": {},
   "outputs": [],
   "source": [
    ".shape"
   ]
  },
  {
   "cell_type": "code",
   "execution_count": null,
   "id": "92ddf0d6-ec20-492b-9f12-e177c54230c1",
   "metadata": {},
   "outputs": [],
   "source": [
    "UTC(*f.attrs['starttime'])"
   ]
  },
  {
   "cell_type": "code",
   "execution_count": null,
   "id": "4c965837-93ed-4ccf-af89-b91f4728305d",
   "metadata": {},
   "outputs": [],
   "source": [
    "x = np.arange(10)\n",
    "y = np.arange(5)\n",
    "x[8:] = y"
   ]
  },
  {
   "cell_type": "code",
   "execution_count": null,
   "id": "80e97297-88a2-482f-b544-7d39b707d35c",
   "metadata": {},
   "outputs": [],
   "source": [
    "for k, v in f.attrs.items():\n",
    "    print(k, v)"
   ]
  },
  {
   "cell_type": "code",
   "execution_count": null,
   "id": "16c5ef3e-1341-4cab-bae4-b94e4629e1d4",
   "metadata": {},
   "outputs": [],
   "source": [
    "f[\"psds\"]"
   ]
  },
  {
   "cell_type": "code",
   "execution_count": null,
   "id": "68caf7fd-db9f-4bf6-a0c3-efdccb0daa15",
   "metadata": {},
   "outputs": [],
   "source": [
    "f2 = None\n",
    "for f in analyzer.iter_files2():\n",
    "    print(f2)\n",
    "    print(f)\n",
    "    raise RuntimeError\n",
    "    f2 = f\n",
    "print(f)"
   ]
  },
  {
   "cell_type": "code",
   "execution_count": null,
   "id": "89dfb4ff-c61f-45fb-bbd7-76babd30dda5",
   "metadata": {},
   "outputs": [],
   "source": [
    "f"
   ]
  },
  {
   "cell_type": "code",
   "execution_count": null,
   "id": "619ddbab-b594-4661-805d-5d4521ee02cb",
   "metadata": {},
   "outputs": [],
   "source": [
    "f.close()"
   ]
  },
  {
   "cell_type": "code",
   "execution_count": null,
   "id": "a444c0f4-f1ac-4d15-b6d4-ec476e6e16a5",
   "metadata": {},
   "outputs": [],
   "source": [
    "def counter(maximum):\n",
    "    i = 0\n",
    "    while i < maximum:\n",
    "        val = (yield i)\n",
    "        # If value provided, change counter\n",
    "        if val is not None:\n",
    "            i = val\n",
    "        else:\n",
    "            i += 1"
   ]
  },
  {
   "cell_type": "code",
   "execution_count": null,
   "id": "74ca5e33-6a0d-4b68-9a4f-6b8b674bfd2f",
   "metadata": {},
   "outputs": [],
   "source": [
    "for i in counter(10):\n",
    "    print(i)"
   ]
  },
  {
   "cell_type": "code",
   "execution_count": null,
   "id": "77e41911-25e0-4889-8737-65ac3f897c3f",
   "metadata": {},
   "outputs": [],
   "source": [
    "it = counter(10)  \n",
    "next(it)  "
   ]
  },
  {
   "cell_type": "code",
   "execution_count": null,
   "id": "13793f0b-d0c6-4899-badf-1f42a94726f0",
   "metadata": {},
   "outputs": [],
   "source": [
    "next(it)  "
   ]
  },
  {
   "cell_type": "code",
   "execution_count": null,
   "id": "03f1c9c8-f0f9-4285-8685-dcbae22e12ef",
   "metadata": {},
   "outputs": [],
   "source": [
    "it.send(8)  "
   ]
  },
  {
   "cell_type": "code",
   "execution_count": null,
   "id": "285466ba-ff1b-4ac8-abc2-2ed6e8759952",
   "metadata": {},
   "outputs": [],
   "source": [
    "next(it)  "
   ]
  },
  {
   "cell_type": "code",
   "execution_count": null,
   "id": "e329bfbe-5ac1-4826-9d47-e9b61cd7aa44",
   "metadata": {},
   "outputs": [],
   "source": [
    "next(it) "
   ]
  },
  {
   "cell_type": "code",
   "execution_count": null,
   "id": "b208234a-a0a8-4b14-a6d4-5bf88d95adfd",
   "metadata": {},
   "outputs": [],
   "source": []
  },
  {
   "cell_type": "code",
   "execution_count": null,
   "id": "430aafad-3c3c-4084-a0a8-03854d2729c3",
   "metadata": {},
   "outputs": [],
   "source": [
    "from data_quality_control import analysis\n",
    "from importlib import reload"
   ]
  },
  {
   "cell_type": "code",
   "execution_count": null,
   "id": "b3128540-ab6b-4777-8002-079af2ff209c",
   "metadata": {},
   "outputs": [],
   "source": [
    "network = 'GR'\n",
    "station = 'BFO'\n",
    "location = ''\n",
    "channel = 'HHZ'\n",
    "datadir = '/home/lehr/sds/processed/'\n",
    "#datadir = \"../data/\"\n",
    "stationcode = \"{}.{}.{}.{}\".format(network, station, \n",
    "                                   location, channel)"
   ]
  },
  {
   "cell_type": "code",
   "execution_count": null,
   "id": "54fe968d-68ee-42f5-b50f-66bfc311f355",
   "metadata": {},
   "outputs": [],
   "source": [
    "starttime = UTC(\"2020-12-28\")\n",
    "endtime = UTC(\"2021-01-05\")"
   ]
  },
  {
   "cell_type": "code",
   "execution_count": null,
   "id": "a5c3a508-7c7e-4726-b44f-d9dc1de0a05e",
   "metadata": {},
   "outputs": [],
   "source": [
    "reload(analysis)\n",
    "analyzer = analysis.Analyzer(starttime, endtime, datadir, stationcode)"
   ]
  },
  {
   "cell_type": "code",
   "execution_count": null,
   "id": "d9dfc1dd-9a97-472f-a8f3-ce8ef5a2802b",
   "metadata": {},
   "outputs": [],
   "source": [
    "adata = analyzer.get_data([\"amplitudes\", \"psds\"], \n",
    "                        # stime=\"00:00\", etime=\"23:00\"\n",
    "                        stime=\"19:00\", etime=\"05:00\")"
   ]
  },
  {
   "cell_type": "code",
   "execution_count": null,
   "id": "c6c4c2cc-d349-402d-8433-e6bae84d2dc9",
   "metadata": {},
   "outputs": [],
   "source": [
    "analyzer.plot_amplitudes()"
   ]
  },
  {
   "cell_type": "code",
   "execution_count": null,
   "id": "54a19faa-6326-4556-81ca-ed4b5316ec9f",
   "metadata": {},
   "outputs": [],
   "source": [
    "analyzer.plot_psds(np.log)"
   ]
  },
  {
   "cell_type": "code",
   "execution_count": null,
   "id": "21d8c2f5-754d-4b2c-ac86-885c38249f83",
   "metadata": {},
   "outputs": [],
   "source": [
    "z = analyzer.psds\n",
    "z = z.reshape((z.shape[0]*z.shape[1], z.shape[2]))\n",
    "name = 'amplitudes'\n",
    "title = name\n",
    "z.shape"
   ]
  },
  {
   "cell_type": "code",
   "execution_count": null,
   "id": "1f0fe3cc-2ad9-4dfa-bc3f-95cca8c041ba",
   "metadata": {},
   "outputs": [],
   "source": [
    "sdate = np.datetime64(analyzer.sdate, 'h')\n",
    "edate = np.datetime64(analyzer.edate, 'h') + np.timedelta64(1, \"D\")\n",
    "dateax = np.arange(sdate, edate, np.timedelta64(1, \"D\"), dtype='datetime64')#.repeat(3)\n",
    "\n",
    "dur = analyzer.etime.hour - analyzer.stime.hour\n",
    "if dur <= 0:\n",
    "    dur = dur + 24\n",
    "\n",
    "timeax = np.arange(dur+1, dtype=np.timedelta64) + analyzer.stime.hour"
   ]
  },
  {
   "cell_type": "code",
   "execution_count": null,
   "id": "e1598b51-7268-4d88-a18d-4ddcc2ef95b7",
   "metadata": {},
   "outputs": [],
   "source": [
    "datetimeax = dateax[:,None] + timeax[None,:] \n",
    "datetimeax.shape"
   ]
  },
  {
   "cell_type": "code",
   "execution_count": null,
   "id": "25839892-ff73-4b62-a9f6-8b33638b29d9",
   "metadata": {},
   "outputs": [],
   "source": [
    "datetimeax[:,0]"
   ]
  },
  {
   "cell_type": "code",
   "execution_count": null,
   "id": "9d8d771d-4f2f-4a59-b25e-d94d3e28ec24",
   "metadata": {},
   "outputs": [],
   "source": [
    "datetimeax[0]"
   ]
  },
  {
   "cell_type": "code",
   "execution_count": null,
   "id": "4e1a5298-e5c3-44b9-acb3-f16100a45459",
   "metadata": {},
   "outputs": [],
   "source": [
    "np.mod(np.asarray(timeax, dtype=int), 24)"
   ]
  },
  {
   "cell_type": "code",
   "execution_count": null,
   "id": "f42ad301-4e05-4061-acbf-7edccff59e68",
   "metadata": {},
   "outputs": [],
   "source": [
    "go.Layout.xaxis("
   ]
  },
  {
   "cell_type": "code",
   "execution_count": null,
   "id": "4e4ffcc9-cc9d-4cc9-9c93-c973872628d9",
   "metadata": {},
   "outputs": [],
   "source": [
    "[\"{:02d}:00\".format(int(s) % 24) for s in timeax]"
   ]
  },
  {
   "cell_type": "code",
   "execution_count": null,
   "id": "052e5468-1129-49c1-8bdb-f2b46f0a356e",
   "metadata": {},
   "outputs": [],
   "source": [
    "\"\"\"Spectral plot\"\"\"\n",
    "sh_0, sh_1 = z.shape\n",
    "y = datetimeax.ravel()# np.linspace(0, sh_0-1, sh_0)\n",
    "x = analyzer.freqax\n",
    "#xticks = np.mod(np.asarray(timeax, dtype=int), 24)\n",
    "#xticks = [\"{:02d}:00\".format(s) for s in xticks]\n",
    "fig = go.Figure(data=go.Surface(z=np.log(z), x=x, y=y, name=None, cmin=None, cmax=None))\n",
    "fig.update_layout(title=title, autosize=True,\n",
    "                  width=800, height=500,\n",
    "                  scene=dict(aspectmode='manual', aspectratio=dict(x=1, y=2, z=0.5),\n",
    "                            xaxis=dict(title='Frequency')#,ticktext=xticks, tickvals=x)\n",
    "                            ),\n",
    "                  #margin=dict(l=65, r=50, b=65, t=90)\n",
    "                  #xaxis=dict(ticktext=xticks, tickvals=x, )\n",
    "                 )\n",
    "#fig.update_xaxes(ticktext=xticks, type=\"date\", ticklabelmode=\"period\", title=\"Hour\")\n",
    "#fig.update_yaxes(ticklabelmode=\"instant\")\n",
    "fig.show()"
   ]
  },
  {
   "cell_type": "code",
   "execution_count": null,
   "id": "e646dd6f-0b01-4f2a-afc3-7941984b6888",
   "metadata": {},
   "outputs": [],
   "source": [
    "\"\"\"Amplitude plot\"\"\"\n",
    "sh_0, sh_1 = z.shape\n",
    "y = dateax# np.linspace(0, sh_0-1, sh_0)\n",
    "x = np.linspace(0, sh_1-1, sh_1)\n",
    "xticks = np.mod(np.asarray(timeax, dtype=int), 24)\n",
    "xticks = [\"{:02d}:00\".format(s) for s in xticks]\n",
    "fig = go.Figure(data=go.Surface(z=z, x=x, y=y, name=None, cmin=None, cmax=None))\n",
    "fig.update_layout(title=title, autosize=True,\n",
    "                  width=800, height=500,\n",
    "                  scene=dict(aspectmode='manual', aspectratio=dict(x=1, y=2, z=0.5),\n",
    "                            xaxis=dict(title='Hour',ticktext=xticks, tickvals=x)\n",
    "                            ),\n",
    "                  #margin=dict(l=65, r=50, b=65, t=90)\n",
    "                  #xaxis=dict(ticktext=xticks, tickvals=x, )\n",
    "                 )\n",
    "#fig.update_xaxes(ticktext=xticks, type=\"date\", ticklabelmode=\"period\", title=\"Hour\")\n",
    "#fig.update_yaxes(ticklabelmode=\"instant\")\n",
    "fig.show()"
   ]
  },
  {
   "cell_type": "code",
   "execution_count": null,
   "id": "a1617f2e-9888-4468-86aa-5edb68582a69",
   "metadata": {},
   "outputs": [],
   "source": [
    "sh_0, sh_1 = z.shape\n",
    "y = dateax# np.linspace(0, sh_0-1, sh_0)\n",
    "x = np.linspace(0, sh_1-1, sh_1)\n",
    "xticks = np.mod(np.asarray(timeax, dtype=int), 24)\n",
    "xticks = [\"{:02d}:00\".format(s) for s in xticks]\n",
    "fig = go.Figure(data=go.Surface(z=z, x=xticks, y=y, name=name, cmin=2, cmax=None))\n",
    "fig.update_layout(title=title, autosize=True,\n",
    "                  width=800, height=500,\n",
    "                  scene=dict(aspectmode='manual', aspectratio=dict(x=1, y=2, z=0.5)),\n",
    "                  #margin=dict(l=65, r=50, b=65, t=90)\n",
    "                  #xaxis=dict(ticktext=xticks, tickvals=x, )\n",
    "                 )\n",
    "fig.update_xaxes(ticktext=xticks, type=\"date\", ticklabelmode=\"period\")\n",
    "fig.update_yaxes(ticklabelmode=\"period\")\n",
    "fig.show()"
   ]
  },
  {
   "cell_type": "code",
   "execution_count": null,
   "id": "90372d55-697e-4c28-9e47-e5e86dc5458b",
   "metadata": {},
   "outputs": [],
   "source": [
    "plt.matshow(z)"
   ]
  },
  {
   "cell_type": "code",
   "execution_count": null,
   "id": "9e7202af-f81d-471a-8de6-6f9019fd373f",
   "metadata": {},
   "outputs": [],
   "source": []
  }
 ],
 "metadata": {
  "language_info": {
   "name": "python",
   "pygments_lexer": "ipython3"
  }
 },
 "nbformat": 4,
 "nbformat_minor": 5
}

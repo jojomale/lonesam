{
 "cells": [
  {
   "cell_type": "code",
   "execution_count": null,
   "id": "1f6ec621-ac6e-4317-81a9-9a367f49b6fa",
   "metadata": {},
   "outputs": [],
   "source": []
  },
  {
   "cell_type": "code",
   "execution_count": null,
   "id": "e4051f1c-adea-4639-9614-00cd90a608e7",
   "metadata": {},
   "outputs": [],
   "source": [
    "from importlib import reload\n",
    "from pathlib import Path\n",
    "import os\n",
    "import numpy as np\n",
    "\n",
    "from obspy.clients.filesystem.sds import Client as SDSClient\n",
    "from obspy.clients.fdsn import RoutingClient\n",
    "from obspy.core import UTCDateTime as UTC, read\n",
    "\n",
    "import matplotlib.pyplot as plt\n",
    "plt.style.use('tableau-colorblind10')\n",
    "\n",
    "from data_quality_control import sds_db, base, util, analysis\n",
    "from data_quality_control.analysis import Analyzer"
   ]
  },
  {
   "cell_type": "markdown",
   "id": "a568e569-d7b6-432d-ac66-2e4a80f4a662",
   "metadata": {},
   "source": [
    "## Define parameters"
   ]
  },
  {
   "cell_type": "code",
   "execution_count": null,
   "id": "8291e23a-7f88-445d-a6ad-22dab8ed85a5",
   "metadata": {},
   "outputs": [],
   "source": [
    "# NSLC\n",
    "nslc_code = \"GR.BFO..BHZ\"\n",
    "\n",
    "overlap = 60 #3600\n",
    "fmin, fmax = (4, 14)\n",
    "nperseg = 2048\n",
    "winlen_in_s = 3600\n",
    "proclen = 24*3600\n",
    "sampling_rate = 20\n",
    "\n",
    "outdir = 'output'\n",
    "\n",
    "sds_root = os.path.abspath('../../sample_sds/')\n",
    "inventory_routing_type = \"eida-routing\""
   ]
  },
  {
   "cell_type": "code",
   "execution_count": null,
   "id": "58e2d3ca-323a-48a9-aa2e-5475ac593ff4",
   "metadata": {},
   "outputs": [],
   "source": [
    "startdate = UTC(\"2020-12-24\")\n",
    "enddate = UTC(\"2021-01-15\")"
   ]
  },
  {
   "cell_type": "code",
   "execution_count": null,
   "id": "3441cbc5-4067-47af-9098-74c5c99aca68",
   "metadata": {},
   "outputs": [],
   "source": [
    "reload( sds_db)\n",
    "reload(base)\n",
    "processor = sds_db.SDSProcessor(\n",
    "        nslc_code,\n",
    "        inventory_routing_type, \n",
    "        sds_root, outdir=outdir, \n",
    "        overlap=overlap, nperseg=nperseg, \n",
    "        winlen_seconds=winlen_in_s, \n",
    "        proclen_seconds=proclen,\n",
    "        amplitude_frequencies=(fmin, fmax),\n",
    "        sampling_rate=sampling_rate)\n",
    "\n",
    "print(processor)\n",
    "\n",
    "processor.process(startdate, enddate, force_new_file=True)"
   ]
  },
  {
   "cell_type": "code",
   "execution_count": null,
   "id": "817dde79-e66e-4590-9f09-76c98614f952",
   "metadata": {},
   "outputs": [],
   "source": [
    "reload(analysis)\n",
    "reload(base)\n",
    "#reload(util)\n",
    "lyza = analysis.Analyzer(outdir, nslc_code,\n",
    "                            fileunit=\"year\")\n",
    "\n",
    "lyza.get_data(startdate, enddate)"
   ]
  },
  {
   "cell_type": "code",
   "execution_count": null,
   "id": "662afa8c-4702-4e53-9854-e6ec80041859",
   "metadata": {},
   "outputs": [],
   "source": [
    "lyza.plot_spectrogram();"
   ]
  },
  {
   "cell_type": "code",
   "execution_count": null,
   "id": "5caa9773-2edd-4e93-9b07-6fe1609920a8",
   "metadata": {},
   "outputs": [],
   "source": []
  }
 ],
 "metadata": {
  "language_info": {
   "name": "python",
   "pygments_lexer": "ipython3"
  }
 },
 "nbformat": 4,
 "nbformat_minor": 5
}

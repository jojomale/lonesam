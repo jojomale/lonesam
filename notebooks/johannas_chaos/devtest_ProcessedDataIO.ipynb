{
 "cells": [
  {
   "cell_type": "code",
   "execution_count": null,
   "id": "1f6ec621-ac6e-4317-81a9-9a367f49b6fa",
   "metadata": {},
   "outputs": [],
   "source": []
  },
  {
   "cell_type": "code",
   "execution_count": null,
   "id": "e4051f1c-adea-4639-9614-00cd90a608e7",
   "metadata": {},
   "outputs": [],
   "source": [
    "from importlib import reload\n",
    "from pathlib import Path\n",
    "import os\n",
    "import numpy as np\n",
    "\n",
    "from obspy.clients.filesystem.sds import Client as SDSClient\n",
    "from obspy.clients.fdsn import RoutingClient\n",
    "from obspy.core import UTCDateTime as UTC, read\n",
    "\n",
    "import matplotlib.pyplot as plt\n",
    "plt.style.use('tableau-colorblind10')\n",
    "\n",
    "from data_quality_control import sds_db, base, util, analysis, dqclogging\n",
    "from data_quality_control.analysis import Analyzer"
   ]
  },
  {
   "cell_type": "markdown",
   "id": "a568e569-d7b6-432d-ac66-2e4a80f4a662",
   "metadata": {},
   "source": [
    "## Define parameters"
   ]
  },
  {
   "cell_type": "code",
   "execution_count": null,
   "id": "8291e23a-7f88-445d-a6ad-22dab8ed85a5",
   "metadata": {},
   "outputs": [],
   "source": [
    "# NSLC\n",
    "nslc_code = \"GR.BFO..BHZ\"\n",
    "\n",
    "overlap = 60 #3600\n",
    "fmin, fmax = (4, 14)\n",
    "nperseg = 2048\n",
    "winlen_in_s = 3600\n",
    "proclen = 24*3600\n",
    "sampling_rate = 20\n",
    "\n",
    "outdir = 'output'\n",
    "\n",
    "sds_root = os.path.abspath('../../sample_sds/')\n",
    "inventory_routing_type = \"eida-routing\""
   ]
  },
  {
   "cell_type": "code",
   "execution_count": null,
   "id": "58e2d3ca-323a-48a9-aa2e-5475ac593ff4",
   "metadata": {},
   "outputs": [],
   "source": [
    "startdate = UTC(\"2020-12-24\")\n",
    "enddate = UTC(\"2021-01-15\")"
   ]
  },
  {
   "cell_type": "code",
   "execution_count": null,
   "id": "3441cbc5-4067-47af-9098-74c5c99aca68",
   "metadata": {},
   "outputs": [],
   "source": [
    "reload( sds_db)\n",
    "reload(base)\n",
    "reload(util)\n",
    "processor = sds_db.SDSProcessor(\n",
    "        nslc_code,\n",
    "        inventory_routing_type, \n",
    "        sds_root, outdir=outdir, \n",
    "        overlap=overlap, nperseg=nperseg, \n",
    "        winlen_seconds=winlen_in_s, \n",
    "        proclen_seconds=proclen,\n",
    "        amplitude_frequencies=(fmin, fmax),\n",
    "        sampling_rate=sampling_rate)\n",
    "\n",
    "print(processor)\n",
    "\n",
    "processor.process(startdate, enddate, force_new_file=True)"
   ]
  },
  {
   "cell_type": "code",
   "execution_count": null,
   "id": "817dde79-e66e-4590-9f09-76c98614f952",
   "metadata": {},
   "outputs": [],
   "source": [
    "reload(analysis)\n",
    "reload(base)\n",
    "#reload(util)\n",
    "lyza = analysis.Analyzer(outdir, nslc_code,\n",
    "                            fileunit=\"year\")\n",
    "\n",
    "lyza.get_data(startdate, enddate)"
   ]
  },
  {
   "cell_type": "code",
   "execution_count": null,
   "id": "662afa8c-4702-4e53-9854-e6ec80041859",
   "metadata": {},
   "outputs": [],
   "source": [
    "lyza.plot_spectrogram();"
   ]
  },
  {
   "cell_type": "code",
   "execution_count": null,
   "id": "fef2ff9a-69cb-4041-b756-4c0c6902ead3",
   "metadata": {},
   "outputs": [],
   "source": [
    "reload(base)\n",
    "reload(util)\n",
    "reload(analysis)\n",
    "polly = analysis.Interpolator(outdir, nslc_code )\n",
    "dqclogging.configure_handlers(polly.logger, \"INFO\", \"INFO\", \"output/polly.log\", True)\n",
    "polly.interpolate(6, 3, \"output/interpolated/\", force_new_file=True,\n",
    "                 #starttime=startdate, endtime=enddate\n",
    "                 )"
   ]
  },
  {
   "cell_type": "code",
   "execution_count": null,
   "id": "5caa9773-2edd-4e93-9b07-6fe1609920a8",
   "metadata": {},
   "outputs": [],
   "source": [
    "print(polly)"
   ]
  },
  {
   "cell_type": "code",
   "execution_count": null,
   "id": "db11f2c1-3fd5-4718-89f2-1e9b115d44de",
   "metadata": {},
   "outputs": [],
   "source": [
    "reload(analysis)\n",
    "reload(base)\n",
    "#reload(util)\n",
    "lyza = analysis.Analyzer(Path(\"output/interpolated/\"), nslc_code,\n",
    "                            fileunit=\"year\")\n",
    "\n",
    "lyza.get_data(startdate, enddate)"
   ]
  },
  {
   "cell_type": "code",
   "execution_count": null,
   "id": "db2686f8-f22c-4135-ab8a-0d23f47121d1",
   "metadata": {},
   "outputs": [],
   "source": [
    "print(lyza)"
   ]
  },
  {
   "cell_type": "code",
   "execution_count": null,
   "id": "07b112cb-ca66-41ae-b5dc-0db0665d953b",
   "metadata": {},
   "outputs": [],
   "source": [
    "lyza.plot_spectrogram();"
   ]
  },
  {
   "cell_type": "markdown",
   "id": "e2feac66-3975-4f62-89d8-8ccf22ea1acc",
   "metadata": {},
   "source": [
    "# Decorator experiments"
   ]
  },
  {
   "cell_type": "code",
   "execution_count": null,
   "id": "4f0279ba-81ef-4538-b2f8-9dabea36bdd8",
   "metadata": {},
   "outputs": [],
   "source": [
    "winlen_in_seconds = 8*3600\n",
    "fileunit = \"year\"\n",
    "if fileunit==\"year\":\n",
    "    #for i in [365, 366]:\n",
    "        #r = 24*3600*i % winlen_in_seconds\n",
    "        \n",
    "    if not all([(24*3600*i % winlen_in_seconds) == 0 \n",
    "                for i in [365, 366]]):\n",
    "\n",
    "        raise UserWarning(\"Illegal winlen\")"
   ]
  },
  {
   "cell_type": "code",
   "execution_count": null,
   "id": "48bc948f-b621-42e5-8b1d-33b16d49710a",
   "metadata": {},
   "outputs": [],
   "source": [
    "winlen_in_seconds = 8*3600\n",
    "fileunit = \"month\"\n",
    "if fileunit==\"month\":\n",
    "    #for i in [365, 366]:\n",
    "        #r = 24*3600*i % winlen_in_seconds\n",
    "        \n",
    "    if not all([(24*3600*i % winlen_in_seconds) == 0 \n",
    "                for i in [28, 30, 31]]):\n",
    "\n",
    "        raise UserWarning(\"Illegal winlen\")"
   ]
  },
  {
   "cell_type": "code",
   "execution_count": null,
   "id": "47e69035-48f5-4644-a910-4c8f9e5c5149",
   "metadata": {},
   "outputs": [],
   "source": [
    "winlen_in_seconds = 2*3600\n",
    "fileunit = \"day\"\n",
    "if fileunit==\"day\":\n",
    "        \n",
    "    if not all([(24*3600*i % winlen_in_seconds) == 0 \n",
    "                for i in [1]]):\n",
    "\n",
    "        raise UserWarning(\"Illegal winlen\")"
   ]
  },
  {
   "cell_type": "code",
   "execution_count": null,
   "id": "1d71000a-c958-4db2-b2ea-c86ab5e854d5",
   "metadata": {},
   "outputs": [],
   "source": [
    "winlen_in_seconds = 150 #1*3600\n",
    "fileunit = \"hour\"\n",
    "if fileunit==\"hour\":\n",
    "        \n",
    "    if not all([(24*3600*i % winlen_in_seconds) == 0 \n",
    "                for i in [1/24]]):\n",
    "\n",
    "        raise UserWarning(\"Illegal winlen\")"
   ]
  },
  {
   "cell_type": "code",
   "execution_count": null,
   "id": "0cb924e6-2b45-4de9-912a-9e07fa1cee48",
   "metadata": {},
   "outputs": [],
   "source": [
    "def assert_integer_quotient_of_winlen_for_fileunit(fileunit):\n",
    "    possible_durs = {\"year\": [365, 366],\n",
    "                    \"month\": [28, 30, 31],\n",
    "                    \"day\": [1],\n",
    "                    \"hour\": [1/24]}\n",
    "    possible_durs = {k: [24*3600*i for i in v] \n",
    "                     for k, v in possible_durs.items()}\n",
    "    if not all([(dur % winlen_seconds) == 0 for \n",
    "                dur in possible_durs[fileunit]]):\n",
    "        raise UserWarning(\"Illegal winlen\")\n",
    "    "
   ]
  },
  {
   "cell_type": "code",
   "execution_count": null,
   "id": "d61f879a-5f81-4f83-a765-fc9a6d373db2",
   "metadata": {},
   "outputs": [],
   "source": [
    "\n",
    "def assert_integer_quotient_of_winlen_for_fileunit(func):\n",
    "    def wrapper(x, fileunit, winlen_seconds):\n",
    "        func(x, fileunit, winlen_seconds)\n",
    "        possible_durs = {\"year\": [365, 366],\n",
    "                        \"month\": [28, 30, 31],\n",
    "                        \"day\": [1],\n",
    "                        \"hour\": [1/24]}\n",
    "        possible_durs = {k: [24*3600*i for i in v] \n",
    "                         for k, v in possible_durs.items()}\n",
    "        if not all([(dur % winlen_seconds) == 0 for \n",
    "                    dur in possible_durs[fileunit]]):\n",
    "            raise UserWarning(\"Illegal winlen\")\n",
    "    return wrapper"
   ]
  },
  {
   "cell_type": "code",
   "execution_count": null,
   "id": "da6aa272-d3fd-4b81-b8d2-05fd7191a011",
   "metadata": {},
   "outputs": [],
   "source": [
    "class DecorationTest():\n",
    "    def __init__(self, win, fileunit):\n",
    "        self.set_value(fileunit, win)\n",
    "    \n",
    "    @assert_integer_quotient_of_winlen_for_fileunit\n",
    "    def set_value(self, val1, val2):\n",
    "        self.val1 = val1\n",
    "        self.val2 = val2"
   ]
  },
  {
   "cell_type": "code",
   "execution_count": null,
   "id": "6e39a367-a39b-4d91-a1ca-683bd3edcc64",
   "metadata": {},
   "outputs": [],
   "source": [
    "x = DecorationTest(5*3600, \"year\")"
   ]
  },
  {
   "cell_type": "code",
   "execution_count": null,
   "id": "7f2ff5c3-2815-438d-a66f-b72fa96c1cfb",
   "metadata": {},
   "outputs": [],
   "source": [
    "def assert_integer_quotient_of_winlen_for_fileunit(func):\n",
    "    def wrapper(xclass, *args, **kwargs):\n",
    "        func(xclass, *args, *kwargs)\n",
    "        possible_durs = {\"year\": [365, 366],\n",
    "                        \"month\": [28, 30, 31],\n",
    "                        \"day\": [1],\n",
    "                        \"hour\": [1/24]}\n",
    "        possible_durs = {k: [24*3600*i for i in v] \n",
    "                         for k, v in possible_durs.items()}\n",
    "        if not all([(dur % xclass.winlen_seconds) == 0 for \n",
    "                    dur in possible_durs[xclass.fileunit]]):\n",
    "            raise UserWarning(\"Illegal winlen\")\n",
    "    return wrapper"
   ]
  },
  {
   "cell_type": "code",
   "execution_count": null,
   "id": "e4ff60d2-e695-49dd-b5f5-6ecd8846a257",
   "metadata": {},
   "outputs": [],
   "source": [
    "class DecorationTest():\n",
    "    @assert_integer_quotient_of_winlen_for_fileunit\n",
    "    def __init__(self, win, fileunit):\n",
    "        self.winlen_seconds = win\n",
    "        self.fileunit = fileunit\n",
    "        \n",
    "    \n",
    "    @assert_integer_quotient_of_winlen_for_fileunit\n",
    "    def set_value(self, val1, val2):\n",
    "        self.val1 = val1\n",
    "        self.val2 = val2"
   ]
  },
  {
   "cell_type": "code",
   "execution_count": null,
   "id": "9ebe8446-6eb8-4037-a419-34997e99399c",
   "metadata": {},
   "outputs": [],
   "source": [
    "x = DecorationTest(2*3600, \"year\")"
   ]
  },
  {
   "cell_type": "code",
   "execution_count": null,
   "id": "65b77a83-5ae7-4549-aaaa-47daac5ef81a",
   "metadata": {},
   "outputs": [],
   "source": [
    "reload(util)\n",
    "def assert_integer_quotient_of_wins_per_fileunit(winlen_seconds, fileunit):\n",
    "    intquot = all([(dur % winlen_seconds) == 0 for \n",
    "                   dur in util.possible_durations_per_fileunit[fileunit]])\n",
    "    if not intquot:\n",
    "        raise UserWarning(\"Illegal winlen\")\n",
    "    \n",
    "\n",
    "def decorator_assert_integer_quotient_of_wins_per_fileunit(func):\n",
    "    def wrapper(*args, **kwargs):\n",
    "        func(*args, **kwargs)\n",
    "        print(kwargs)\n",
    "        winlen_seconds = kwargs[\"winlen_seconds\"]\n",
    "        fileunit = kwargs[\"fileunit\"]\n",
    "        return assert_integer_quotient_of_wins_per_fileunit(\n",
    "            winlen_seconds, fileunit)\n",
    "    return wrapper"
   ]
  },
  {
   "cell_type": "code",
   "execution_count": null,
   "id": "cfab9e70-d5d2-44fe-810d-fca9cf6f12e9",
   "metadata": {},
   "outputs": [],
   "source": [
    "class DecorationTest():\n",
    "    @decorator_assert_integer_quotient_of_wins_per_fileunit\n",
    "    def __init__(self, winlen_seconds=None, fileunit=None):\n",
    "        self.winlen_seconds = winlen_seconds\n",
    "        self.fileunit = fileunit\n",
    "        \n",
    "    \n",
    "    @assert_integer_quotient_of_winlen_for_fileunit\n",
    "    def set_value(self, val1, val2):\n",
    "        self.val1 = val1\n",
    "        self.val2 = val2"
   ]
  },
  {
   "cell_type": "code",
   "execution_count": null,
   "id": "ad6f708d-15c3-48b0-8c0d-8b00472b4025",
   "metadata": {},
   "outputs": [],
   "source": [
    "x = DecorationTest(winlen_seconds=1*3600, fileunit=\"year\")\n",
    "x = DecorationTest(winlen_seconds=5*3600, fileunit=\"year\")"
   ]
  },
  {
   "cell_type": "markdown",
   "id": "add9cadd-3cc7-49d8-9370-0e5a90c34383",
   "metadata": {},
   "source": [
    "### pass class attribute as arg in decorator on class method"
   ]
  },
  {
   "cell_type": "code",
   "execution_count": null,
   "id": "9b3f047a-02b2-4ea7-abb1-a85e3c2ad9c7",
   "metadata": {},
   "outputs": [],
   "source": [
    "\n",
    "def assert_integer_quotient_of_winlen_for_fileunit(func):\n",
    "    def wrapper(fileunit, winlen_seconds, *args, **kwargs):\n",
    "        func(*args, **kwargs)\n",
    "        possible_durs = {\"year\": [365, 366],\n",
    "                        \"month\": [28, 30, 31],\n",
    "                        \"day\": [1],\n",
    "                        \"hour\": [1/24]}\n",
    "        possible_durs = {k: [24*3600*i for i in v] \n",
    "                         for k, v in possible_durs.items()}\n",
    "        if not all([(dur % winlen_seconds) == 0 for \n",
    "                    dur in possible_durs[fileunit]]):\n",
    "            raise UserWarning(\"Illegal winlen\")\n",
    "    return wrapper"
   ]
  },
  {
   "cell_type": "code",
   "execution_count": null,
   "id": "81114730-d115-44d6-9431-3cd96b5e59cb",
   "metadata": {},
   "outputs": [],
   "source": [
    "class DecorationTest():\n",
    "    def __init__(self, win, fileunit):\n",
    "        self.set_value(fileunit, win)\n",
    "    \n",
    "    @assert_integer_quotient_of_winlen_for_fileunit(self.fileunit, self.winlen_seconds)\n",
    "    def set_value(self, val1, val2):\n",
    "        self.fileunit = val1\n",
    "        self.winlen_seconds = val2"
   ]
  },
  {
   "cell_type": "code",
   "execution_count": null,
   "id": "af0432bf-fe9d-44f6-b481-d741264c7021",
   "metadata": {},
   "outputs": [],
   "source": [
    "x = DecorationTest(5*3600, \"year\")"
   ]
  }
 ],
 "metadata": {
  "language_info": {
   "name": "python",
   "pygments_lexer": "ipython3"
  }
 },
 "nbformat": 4,
 "nbformat_minor": 5
}

{
 "cells": [
  {
   "cell_type": "markdown",
   "id": "41b7a6f7-0582-4975-935a-cc93fc5c07aa",
   "metadata": {},
   "source": [
    "# Daily update of processed data\n",
    "\n",
    "New data is continuously fed into the data base. To keep the processed \n",
    "data up-to-date, we need to continuously update it. \n",
    "\n",
    "Since data is provided as 1 file per day, a reasonable \n",
    "update interval would be every 24h, i.e. after 1 raw \n",
    "data file is completed.\n",
    "\n",
    "So the RawDataProcessor needs to be able to\n",
    "- process a single (or more) new files\n",
    "- write results to an existing HDF5-file\n",
    "\n",
    "This update could then be run as cron job.\n",
    "\n",
    "\n",
    "## Simulation layout\n",
    "\n",
    "For testing we pass the raw data files to the sds-directory\n",
    "one by one and run processing after each addition.\n",
    "\n",
    "- should we distinguish between updating only latest additions and full?\n",
    "    - *latest* would only check for newer data \n",
    "    - *full* could check for any new files in the database\n",
    "```\n",
    "def RawDataProcessor.update():\n",
    "    # check if\n",
    "```"
   ]
  },
  {
   "cell_type": "code",
   "execution_count": null,
   "id": "1cf47d6d-127b-4691-85b5-a442d95e91e0",
   "metadata": {},
   "outputs": [],
   "source": [
    "from importlib import reload\n",
    "import os\n",
    "\n",
    "from obspy.clients.filesystem.sds import Client\n",
    "from obspy.clients.fdsn import RoutingClient\n",
    "from obspy.core import UTCDateTime as UTC\n",
    "from obspy.signal import util\n",
    "\n",
    "import numpy as np\n",
    "\n",
    "import matplotlib.pyplot as plt\n",
    "plt.style.use('tableau-colorblind10')\n",
    "\n",
    "import h5py\n",
    "\n",
    "from data_quality_control import processing"
   ]
  },
  {
   "cell_type": "code",
   "execution_count": null,
   "id": "82a039a8-1f05-4dee-8e4e-a29f49f5d3d5",
   "metadata": {},
   "outputs": [],
   "source": [
    "network = 'GR'\n",
    "station = 'BFO'\n",
    "location = ''\n",
    "channel = 'HHZ'\n",
    "overlap = 60 #3600\n",
    "\n",
    "fmin, fmax = (4, 14)\n",
    "nperseg = 2048\n",
    "winlen_in_s = 3600\n",
    "proclen = 24*3600\n",
    "\n",
    "outdir = '../sample_output/show_processing/'\n",
    "\n",
    "sds_root = os.path.abspath('../sample_sds/')\n",
    "inventory_routing_type = \"eida-routing\""
   ]
  },
  {
   "cell_type": "code",
   "execution_count": null,
   "id": "6478b343-21eb-49c6-bbec-44f329ee852a",
   "metadata": {},
   "outputs": [],
   "source": [
    "reload(processing)\n",
    "processor = processing.RawDataProcessor(\n",
    "        network=network, \n",
    "        station=station,\n",
    "        channel=channel,\n",
    "        sds_root=sds_root,\n",
    "        inventory_routing_type=inventory_routing_type,)"
   ]
  },
  {
   "cell_type": "code",
   "execution_count": null,
   "id": "52c5ad21-2f44-4b08-a85e-7c13027a9760",
   "metadata": {},
   "outputs": [],
   "source": [
    "startdate = UTC(\"2020-12-25\")\n",
    "enddate = UTC(\"2021-01-03\")"
   ]
  },
  {
   "cell_type": "code",
   "execution_count": null,
   "id": "d2110298-a778-494c-bb18-6e06c04bfae1",
   "metadata": {},
   "outputs": [],
   "source": [
    "output = processor.process_nsc(startdate, enddate, \n",
    "                               network, station, channel)"
   ]
  },
  {
   "cell_type": "code",
   "execution_count": null,
   "id": "9cf5d870-b4d5-42d4-bc51-fd8115b60d75",
   "metadata": {},
   "outputs": [],
   "source": [
    "output"
   ]
  },
  {
   "cell_type": "code",
   "execution_count": null,
   "id": "ff5ec851-d79f-4135-b956-86534555e727",
   "metadata": {},
   "outputs": [],
   "source": [
    "f.close()"
   ]
  },
  {
   "cell_type": "code",
   "execution_count": null,
   "id": "74980f7a-814f-4cc6-be18-d6092eb78e0a",
   "metadata": {},
   "outputs": [],
   "source": [
    "f =  h5py.File(\"tmp3.hdf5\", 'w')"
   ]
  },
  {
   "cell_type": "code",
   "execution_count": null,
   "id": "bcb0551e-5c28-4a9d-a566-3162309ec49e",
   "metadata": {},
   "outputs": [],
   "source": [
    "f.create_dataset('amp', shape=(1000000, 24), fillvalue=np.nan )"
   ]
  },
  {
   "cell_type": "code",
   "execution_count": null,
   "id": "7e70f607-14ad-471b-95b8-aaf08a54912b",
   "metadata": {},
   "outputs": [],
   "source": [
    "f.create_dataset('freq', shape=(100,), fillvalue=np.nan)"
   ]
  },
  {
   "cell_type": "code",
   "execution_count": null,
   "id": "02571b20-b40e-4a5b-8e65-8601ff9a4082",
   "metadata": {},
   "outputs": [],
   "source": [
    "f['freq'][:] = np.arange(100)"
   ]
  },
  {
   "cell_type": "code",
   "execution_count": null,
   "id": "fea3fac8-0c22-41ee-a8a6-376076b8885a",
   "metadata": {},
   "outputs": [],
   "source": [
    "with f:\n",
    "    X = np.vstack([np.ones_like(output.amplitudes)*np.nan for i in range(1000)])\n",
    "    X.shape\n",
    "    f['amp'][:X.shape[0],:] = X"
   ]
  },
  {
   "cell_type": "code",
   "execution_count": null,
   "id": "d53465c8-6bf3-4afd-a9c9-e0e9ee3616dc",
   "metadata": {},
   "outputs": [],
   "source": [
    "with f:\n",
    "    X = np.vstack([output.amplitudes for i in range(1000)])\n",
    "    X.shape\n",
    "    f['amp'][:X.shape[0],:] = X"
   ]
  },
  {
   "cell_type": "code",
   "execution_count": null,
   "id": "7f0f4a39-d5ad-4950-aa2f-72c20b8e7a1e",
   "metadata": {},
   "outputs": [],
   "source": [
    "X.shape"
   ]
  },
  {
   "cell_type": "code",
   "execution_count": null,
   "id": "4aa912be-945b-494c-a889-1efa38a027c3",
   "metadata": {},
   "outputs": [],
   "source": [
    "f =  h5py.File(\"tmp3.hdf5\", 'r+')"
   ]
  },
  {
   "cell_type": "code",
   "execution_count": null,
   "id": "b9b48b4c-9d0e-422b-b7ac-ec85192729d1",
   "metadata": {},
   "outputs": [],
   "source": [
    "np.all(np.isnan(f[\"amp\"]))"
   ]
  },
  {
   "cell_type": "code",
   "execution_count": null,
   "id": "c4ce872a-efcf-46fd-9975-5739e9d689d3",
   "metadata": {},
   "outputs": [],
   "source": [
    "a"
   ]
  },
  {
   "cell_type": "code",
   "execution_count": null,
   "id": "cfe5dde4-f1ca-4813-8666-bf1ca8a3136b",
   "metadata": {},
   "outputs": [],
   "source": [
    "amp = f['amp']"
   ]
  },
  {
   "cell_type": "code",
   "execution_count": null,
   "id": "dbc9953c-fec5-4557-a07d-d7ad2767884e",
   "metadata": {},
   "outputs": [],
   "source": [
    "amp[0]"
   ]
  },
  {
   "cell_type": "code",
   "execution_count": null,
   "id": "9711f717-fe89-400d-847c-c039bd1ba9a2",
   "metadata": {},
   "outputs": [],
   "source": [
    "f.close()"
   ]
  },
  {
   "cell_type": "code",
   "execution_count": null,
   "id": "e35e8a75-7e95-427b-9a18-75778b082e31",
   "metadata": {},
   "outputs": [],
   "source": [
    "f =  h5py.File(\"tmp3.hdf5\", 'r+')"
   ]
  },
  {
   "cell_type": "code",
   "execution_count": null,
   "id": "809d09a2-7e40-4da2-851d-da39d28130b2",
   "metadata": {},
   "outputs": [],
   "source": [
    "X = np.vstack([output.amplitudes for i in range(1000)])\n",
    "X.shape"
   ]
  },
  {
   "cell_type": "code",
   "execution_count": null,
   "id": "c3d0af0a-fe99-43fb-bab5-ba0a679b1eae",
   "metadata": {},
   "outputs": [],
   "source": [
    "f['amp'][:X.shape[0],:] = X"
   ]
  },
  {
   "cell_type": "code",
   "execution_count": null,
   "id": "1f3538ff-ea6f-4252-a37a-f32436cff532",
   "metadata": {},
   "outputs": [],
   "source": [
    "amp = f['amp']"
   ]
  },
  {
   "cell_type": "code",
   "execution_count": null,
   "id": "7e4a7476-5146-41ca-b7b5-4e3d26d66d8b",
   "metadata": {},
   "outputs": [],
   "source": [
    "amp."
   ]
  },
  {
   "cell_type": "code",
   "execution_count": null,
   "id": "184dcf9b-800a-467d-ae46-557467c0264b",
   "metadata": {},
   "outputs": [],
   "source": [
    "f.close()"
   ]
  },
  {
   "cell_type": "code",
   "execution_count": null,
   "id": "a738f433-bcaa-4464-92dc-89de77a34d31",
   "metadata": {},
   "outputs": [],
   "source": [
    "f =  h5py.File(\"tmp2.hdf5\", 'w')"
   ]
  },
  {
   "cell_type": "code",
   "execution_count": null,
   "id": "64f570da-c044-44a7-838a-719dbabbc97f",
   "metadata": {},
   "outputs": [],
   "source": [
    "f.create_dataset('amp', shape=(100, 24))"
   ]
  },
  {
   "cell_type": "code",
   "execution_count": null,
   "id": "e110e192-2c28-4759-aff3-272a1c5b8199",
   "metadata": {},
   "outputs": [],
   "source": [
    "f['amp'][:10,:] = output.amplitudes"
   ]
  },
  {
   "cell_type": "code",
   "execution_count": null,
   "id": "dbebc3f5-d861-4fe3-9a74-241746beb524",
   "metadata": {},
   "outputs": [],
   "source": [
    "plt.matshow(f['amp'])"
   ]
  },
  {
   "cell_type": "code",
   "execution_count": null,
   "id": "145064a8-074d-44c7-b2e5-19c1393c8575",
   "metadata": {},
   "outputs": [],
   "source": [
    "f.close()"
   ]
  },
  {
   "cell_type": "code",
   "execution_count": null,
   "id": "07e703f3-83cd-4451-b2a7-ec9a2bf077f8",
   "metadata": {},
   "outputs": [],
   "source": [
    "f =  h5py.File(\"tmp2.hdf5\", 'r+')"
   ]
  },
  {
   "cell_type": "code",
   "execution_count": null,
   "id": "3b6f9910-09c8-4530-99c2-fdab7d91d38c",
   "metadata": {},
   "outputs": [],
   "source": [
    "f['amp'][-10:,:] = output.amplitudes"
   ]
  },
  {
   "cell_type": "code",
   "execution_count": null,
   "id": "e0b63031-06c6-46eb-83c4-0341101375db",
   "metadata": {},
   "outputs": [],
   "source": [
    "plt.matshow(f['amp'])"
   ]
  },
  {
   "cell_type": "code",
   "execution_count": null,
   "id": "f38fcb7d-aa01-42e5-817b-8e538144941e",
   "metadata": {},
   "outputs": [],
   "source": [
    "f.close()"
   ]
  },
  {
   "cell_type": "code",
   "execution_count": null,
   "id": "21ae077f-8100-40e1-8105-38b3a9fc9fc6",
   "metadata": {},
   "outputs": [],
   "source": [
    "f =  h5py.File(\"tmp2.hdf5\", 'r+')"
   ]
  },
  {
   "cell_type": "code",
   "execution_count": null,
   "id": "b1853a53-1682-4062-aea6-0c82d26b859b",
   "metadata": {},
   "outputs": [],
   "source": [
    "plt.matshow(f['amp'])"
   ]
  },
  {
   "cell_type": "code",
   "execution_count": null,
   "id": "c36a29ee-0005-4639-9ad8-94650717eb68",
   "metadata": {},
   "outputs": [],
   "source": [
    "f.close()"
   ]
  },
  {
   "cell_type": "code",
   "execution_count": null,
   "id": "50a39a1e-8104-42a1-b48f-168de06f2e44",
   "metadata": {},
   "outputs": [],
   "source": [
    "f =  h5py.File(\"tmp.hdf5\", 'r+')"
   ]
  },
  {
   "cell_type": "code",
   "execution_count": null,
   "id": "e472746c-a1a3-4301-a660-47ffa95d043e",
   "metadata": {},
   "outputs": [],
   "source": [
    "X = output.amplitudes.copy()\n",
    "np.random.shuffle(X)"
   ]
  },
  {
   "cell_type": "code",
   "execution_count": null,
   "id": "37c01403-87c6-4f19-9eff-31d10dcc7976",
   "metadata": {},
   "outputs": [],
   "source": [
    "X.shape"
   ]
  },
  {
   "cell_type": "code",
   "execution_count": null,
   "id": "03987e07-dd81-49f7-b05a-598d5107d3b7",
   "metadata": {},
   "outputs": [],
   "source": [
    "f['amp'][-10:,:] = X"
   ]
  },
  {
   "cell_type": "code",
   "execution_count": null,
   "id": "fed9146c-19f8-4c7d-9be3-61493b003398",
   "metadata": {},
   "outputs": [],
   "source": [
    "plt.matshow(f['amp'])"
   ]
  },
  {
   "cell_type": "code",
   "execution_count": null,
   "id": "48b6c1a1-6937-49e5-a714-ecf03f18c3fd",
   "metadata": {},
   "outputs": [],
   "source": [
    "f.close()"
   ]
  },
  {
   "cell_type": "code",
   "execution_count": null,
   "id": "9965b88e-84e2-4b8a-bc24-ff7b436198a8",
   "metadata": {},
   "outputs": [],
   "source": []
  },
  {
   "cell_type": "code",
   "execution_count": null,
   "id": "767f0ae9-f882-4d7e-a446-d7a58dcb96fb",
   "metadata": {},
   "outputs": [],
   "source": [
    "f =  h5py.File(\"tmp.hdf5\", 'a')"
   ]
  },
  {
   "cell_type": "code",
   "execution_count": null,
   "id": "cd81b81a-1d7f-4d4f-85b4-43949f38f1fd",
   "metadata": {},
   "outputs": [],
   "source": [
    "f.create_dataset('amp', shape=(100, 24))"
   ]
  },
  {
   "cell_type": "code",
   "execution_count": null,
   "id": "b8cdd6ce-b981-428b-8c59-4bddb8dff093",
   "metadata": {},
   "outputs": [],
   "source": [
    "f.close()"
   ]
  },
  {
   "cell_type": "code",
   "execution_count": null,
   "id": "6755d20b-93ea-4793-b858-c8661c8e260d",
   "metadata": {},
   "outputs": [],
   "source": []
  },
  {
   "cell_type": "code",
   "execution_count": null,
   "id": "e4b07b7d-92aa-4723-bad9-39f0fcca050b",
   "metadata": {},
   "outputs": [],
   "source": [
    "f =  h5py.File(\"tmp2.hdf5\", 'r+')"
   ]
  },
  {
   "cell_type": "code",
   "execution_count": null,
   "id": "a5c183a0-8251-42c2-ba09-917e4d8ee560",
   "metadata": {},
   "outputs": [],
   "source": [
    "f.close()"
   ]
  },
  {
   "cell_type": "code",
   "execution_count": null,
   "id": "3b62d76a-fd97-4936-ab77-9e5d62436225",
   "metadata": {},
   "outputs": [],
   "source": []
  }
 ],
 "metadata": {
  "language_info": {
   "name": "python",
   "pygments_lexer": "ipython3"
  }
 },
 "nbformat": 4,
 "nbformat_minor": 5
}

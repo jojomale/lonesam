{
 "cells": [
  {
   "cell_type": "markdown",
   "id": "8e2d4e90-e0d3-43bb-9310-5bc96697d767",
   "metadata": {},
   "source": [
    "By default, we process and store data by years. This may be\n",
    "over the top in some cases, especially for short time ranges across turn of the year. In this case, you may set\n",
    "`ignore_years=True`. Below is an example.\n",
    "\n",
    "Note however, that this can be very costly if data is only\n",
    "available for few wildcarded nsc and if time range is too \n",
    "generous."
   ]
  },
  {
   "cell_type": "code",
   "execution_count": null,
   "id": "a6d8f156-3967-490a-9484-567fc6807e5d",
   "metadata": {},
   "outputs": [],
   "source": [
    "from glob import glob\n",
    "from datetime import datetime, timezone\n",
    "import os\n",
    "import numpy as np\n",
    "\n",
    "from obspy.clients.filesystem.sds import Client\n",
    "from obspy.clients.fdsn import RoutingClient\n",
    "from obspy.core import UTCDateTime as UTC\n",
    "from obspy.signal import util"
   ]
  },
  {
   "cell_type": "code",
   "execution_count": null,
   "id": "fedb6b36-5b39-4d62-9f0c-d98d93489f0a",
   "metadata": {},
   "outputs": [],
   "source": [
    "from data_quality_control import processing"
   ]
  },
  {
   "cell_type": "code",
   "execution_count": null,
   "id": "9313bb7b-f9ee-404f-81bf-f8f44b2dc911",
   "metadata": {},
   "outputs": [],
   "source": [
    "from importlib import reload"
   ]
  },
  {
   "cell_type": "code",
   "execution_count": null,
   "id": "d672ce73-56fc-4792-b6ce-78b89d0798e8",
   "metadata": {},
   "outputs": [],
   "source": [
    "network = 'G*'\n",
    "station = 'BF*'\n",
    "channel = 'HHZ'\n",
    "\n",
    "overlap = 60 #3600\n",
    "\n",
    "fmin, fmax = (4, 14)\n",
    "nperseg = 2048\n",
    "winlen_in_s = 3600\n",
    "proclen = 24*3600\n",
    "sds_root = os.path.abspath('../sample_sds/')\n",
    "inventory_routing_type = \"eida-routing\"\n",
    "\n",
    "outdir = '../data/'\n",
    "\n",
    "sdsclient = Client(sds_root)\n",
    "invclient = RoutingClient('eida-routing')"
   ]
  },
  {
   "cell_type": "code",
   "execution_count": null,
   "id": "2850b46d-fb23-4c81-95f7-32587d10b646",
   "metadata": {},
   "outputs": [],
   "source": [
    "reload(processing)\n",
    "processor = processing.RawDataProcessor(\n",
    "        network=network, \n",
    "        station=station,\n",
    "        channel=channel,\n",
    "        sds_root=sds_root,\n",
    "        inventory_routing_type=inventory_routing_type,)"
   ]
  },
  {
   "cell_type": "code",
   "execution_count": null,
   "id": "20c0c0b8-5a95-4f43-8dd9-168b064ddb11",
   "metadata": {},
   "outputs": [],
   "source": [
    "startdate = UTC(\"2020-12-20\")\n",
    "enddate = UTC(\"2021-01-15\")"
   ]
  },
  {
   "cell_type": "code",
   "execution_count": null,
   "id": "53edc456-57b0-42c3-a3cd-903f5782068f",
   "metadata": {},
   "outputs": [],
   "source": [
    "%%time\n",
    "#it -n1 -r7\n",
    "processor.process(startdate, enddate, outdir,\n",
    "                  ignore_years=True,\n",
    "                        overlap=overlap, \n",
    "            winlen_in_s=winlen_in_s,\n",
    "        nperseg=nperseg, proclen=proclen,\n",
    "                 amplitude_frequencies=(fmin, fmax))\n",
    "print(\"Time of execution:\", datetime.now())"
   ]
  },
  {
   "cell_type": "code",
   "execution_count": null,
   "id": "ce1db023-9beb-48e2-aca2-a3b960980035",
   "metadata": {},
   "outputs": [],
   "source": [
    "%ls -lh ../data/GR.BFO..HHZ_2020-12-25_2021-01-09.hdf5"
   ]
  },
  {
   "cell_type": "code",
   "execution_count": null,
   "id": "ef5da55c-6094-46c3-b563-5c72f5456350",
   "metadata": {},
   "outputs": [],
   "source": []
  }
 ],
 "metadata": {
  "language_info": {
   "name": "python",
   "pygments_lexer": "ipython3"
  }
 },
 "nbformat": 4,
 "nbformat_minor": 5
}

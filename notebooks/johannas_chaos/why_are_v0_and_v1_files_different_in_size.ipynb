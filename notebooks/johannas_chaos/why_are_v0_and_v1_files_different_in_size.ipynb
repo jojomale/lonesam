{
 "cells": [
  {
   "cell_type": "markdown",
   "id": "78533bb3-0920-4f46-96c8-baac0ae41cf4",
   "metadata": {},
   "source": [
    "Sizes of the hdf5 output file in the very first version were \n",
    "twice as large as those from later versions.\n",
    "\n",
    "This is because the original version assigned the data\n",
    "directly to the h5py.File object which preserves the dtype \n",
    "(which is usually for numpy float64).\n",
    "\n",
    "If you instead first allocate the data set by giving only the shape\n",
    "and later adding the data, the data gets converted to float32.\n",
    "\n",
    "If you don't want this behavior, you could probably set the \n",
    "dtype during allocation."
   ]
  },
  {
   "cell_type": "code",
   "execution_count": null,
   "id": "cf044808-c720-4a81-a67d-9f08338d594c",
   "metadata": {},
   "outputs": [],
   "source": [
    "from importlib import reload\n",
    "import os\n",
    "from datetime import timedelta\n",
    "\n",
    "import numpy as np\n",
    "\n",
    "import h5py\n",
    "\n",
    "from obspy.clients.filesystem.sds import Client\n",
    "from obspy.clients.fdsn import RoutingClient\n",
    "from obspy.core import UTCDateTime as UTC\n",
    "from obspy.signal import util\n",
    "\n",
    "import matplotlib.pyplot as plt\n",
    "plt.style.use('tableau-colorblind10')\n",
    "\n",
    "from data_quality_control import processing\n",
    "from data_quality_control import base"
   ]
  },
  {
   "cell_type": "code",
   "execution_count": null,
   "id": "275f28f7-b396-437c-81ff-7ce9b933636d",
   "metadata": {},
   "outputs": [],
   "source": []
  },
  {
   "cell_type": "code",
   "execution_count": null,
   "id": "5f420051-9f79-43fe-ac8c-b95ddbff1135",
   "metadata": {},
   "outputs": [],
   "source": [
    "res1 = base.BaseProcessedData().from_file(\"/home/lehr/sds/processed/GR.BFO..HHZ_2020-01-01_2020-12-31.hdf5\")\n",
    "\n",
    "res1"
   ]
  },
  {
   "cell_type": "code",
   "execution_count": null,
   "id": "6debb126-1c4f-49d8-8e77-1a7398b0f951",
   "metadata": {},
   "outputs": [],
   "source": [
    "res2 = base.BaseProcessedData().from_file(\"/home/lehr/sds/processed/GR.BFO.HHZ_2020.hdf5\")\n",
    "\n",
    "res2"
   ]
  },
  {
   "cell_type": "code",
   "execution_count": null,
   "id": "d229c47a-ed4a-45e9-a046-db991898ba4d",
   "metadata": {},
   "outputs": [],
   "source": [
    "np.all(np.isclose(res2.amplitudes, res1.amplitudes, equal_nan=True))"
   ]
  },
  {
   "cell_type": "code",
   "execution_count": null,
   "id": "6c67c41b-fdb5-4f8f-a813-55b596e2a2b7",
   "metadata": {},
   "outputs": [],
   "source": [
    "np.all(np.isclose(res2.psds, res1.psds, equal_nan=True))"
   ]
  },
  {
   "cell_type": "code",
   "execution_count": null,
   "id": "22a2e386-1372-4283-b475-ff58c9b7c982",
   "metadata": {},
   "outputs": [],
   "source": [
    "np.all(np.isclose(res2.frequency_axis, \n",
    "                  res1.frequency_axis, equal_nan=True))"
   ]
  },
  {
   "cell_type": "code",
   "execution_count": null,
   "id": "ad950453-99fe-4f88-9c8d-5d2ce6bf1be4",
   "metadata": {},
   "outputs": [],
   "source": [
    "a1 = res1.amplitudes\n",
    "a1[np.isnan(a1)] = 0\n",
    "a2 = res2.amplitudes\n",
    "a2[np.isnan(a2)] = 0\n"
   ]
  },
  {
   "cell_type": "code",
   "execution_count": null,
   "id": "42b5325f-c2da-454b-9a93-0fa9d1d927f2",
   "metadata": {},
   "outputs": [],
   "source": [
    "np.all(np.equal(a1, a2))"
   ]
  },
  {
   "cell_type": "code",
   "execution_count": null,
   "id": "8acdd564-2850-43ca-a6ae-8fb22edc2586",
   "metadata": {},
   "outputs": [],
   "source": [
    "a1.dtype, a2.dtype"
   ]
  },
  {
   "cell_type": "code",
   "execution_count": null,
   "id": "8d4b0687-da87-4123-8032-4f93d5bbc480",
   "metadata": {},
   "outputs": [],
   "source": []
  }
 ],
 "metadata": {
  "language_info": {
   "name": "python",
   "pygments_lexer": "ipython3"
  }
 },
 "nbformat": 4,
 "nbformat_minor": 5
}

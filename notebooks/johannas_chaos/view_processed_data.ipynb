{
 "cells": [
  {
   "cell_type": "code",
   "execution_count": null,
   "id": "91dd6514-8086-4daf-8cca-f3fdd063fa7a",
   "metadata": {},
   "outputs": [],
   "source": [
    "from obspy.core import UTCDateTime as UTC"
   ]
  },
  {
   "cell_type": "code",
   "execution_count": null,
   "id": "8c2aecb0-8e78-4fa4-8c15-1e9b9261a640",
   "metadata": {},
   "outputs": [],
   "source": [
    "from data_quality_control import analysis"
   ]
  },
  {
   "cell_type": "code",
   "execution_count": null,
   "id": "6c04751e-8d24-4ce8-9182-6e379b73bd42",
   "metadata": {},
   "outputs": [],
   "source": [
    "from importlib import reload"
   ]
  },
  {
   "cell_type": "code",
   "execution_count": null,
   "id": "0734e466-5d95-408f-8d5f-a9e9eb11bd79",
   "metadata": {},
   "outputs": [],
   "source": [
    "network = 'GR'\n",
    "station = 'BFO'\n",
    "location = ''\n",
    "channel = 'HHZ'\n",
    "datadir = '/home/lehr/sds/processed/'\n",
    "#datadir = \"../data/\"\n",
    "stationcode = \"{}.{}.{}.{}\".format(network, station, \n",
    "                                   location, channel)"
   ]
  },
  {
   "cell_type": "code",
   "execution_count": null,
   "id": "79bb5eb8-7f79-41b9-b658-0537b426bbb5",
   "metadata": {},
   "outputs": [],
   "source": [
    "starttime = UTC(\"2020-12-28\")\n",
    "endtime = UTC(\"2021-01-05\")"
   ]
  },
  {
   "cell_type": "code",
   "execution_count": null,
   "id": "e008b41d-0d0d-40d4-85e0-0c79c300a0aa",
   "metadata": {},
   "outputs": [],
   "source": [
    "reload(analysis)\n",
    "analyzer = analysis.Analyzer(starttime, endtime, datadir, stationcode)"
   ]
  },
  {
   "cell_type": "code",
   "execution_count": null,
   "id": "8941a997-eaf0-41ee-b8c2-b31326c1138c",
   "metadata": {},
   "outputs": [],
   "source": [
    "adata = analyzer.get_data([\"amplitudes\", \"psds\"], \n",
    "                        # stime=\"00:00\", etime=\"23:00\"\n",
    "                        stime=\"19:00\", etime=\"05:00\")"
   ]
  },
  {
   "cell_type": "code",
   "execution_count": null,
   "id": "141d1da7-ac69-45e5-9ecc-05dc6c96a67b",
   "metadata": {},
   "outputs": [],
   "source": [
    "analyzer.plot_amplitudes()"
   ]
  },
  {
   "cell_type": "code",
   "execution_count": null,
   "id": "80e25fdd-8253-46af-b3f6-ed2bff06e336",
   "metadata": {},
   "outputs": [],
   "source": [
    "analyzer.plot_psds(np.log)"
   ]
  },
  {
   "cell_type": "code",
   "execution_count": null,
   "id": "e2908c7b-0e57-4fbb-80e2-e8c34a556db5",
   "metadata": {},
   "outputs": [],
   "source": []
  }
 ],
 "metadata": {
  "language_info": {
   "name": "python",
   "pygments_lexer": "ipython3"
  }
 },
 "nbformat": 4,
 "nbformat_minor": 5
}

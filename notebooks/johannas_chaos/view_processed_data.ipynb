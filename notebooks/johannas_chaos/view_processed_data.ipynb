{
 "cells": [
  {
   "cell_type": "code",
   "execution_count": null,
   "id": "eb5a3d24-f4ac-4eff-99dd-9c28b335e595",
   "metadata": {},
   "outputs": [],
   "source": [
    "import numpy as np\n",
    "from obspy.core import UTCDateTime as UTC\n",
    "\n",
    "from data_quality_control import analysis, util\n",
    "\n",
    "from importlib import reload\n",
    "\n",
    "# Only for display in documentation!\n",
    "from IPython.core.display import display, HTML "
   ]
  },
  {
   "cell_type": "code",
   "execution_count": null,
   "id": "0734e466-5d95-408f-8d5f-a9e9eb11bd79",
   "metadata": {},
   "outputs": [],
   "source": [
    "network = 'GR'\n",
    "station = 'BFO'\n",
    "location = ''\n",
    "channel = 'BHZ'\n",
    "#datadir = '/home/lehr/sds/processed/'\n",
    "#datadir = \"../data/\"\n",
    "stationcode = \"{}.{}.{}.{}\".format(network, station, \n",
    "                                   location, channel)\n",
    "outdir = '../../sample_output/show_processing/'\n",
    "fileunit = \"year\" # period to store in 1 file"
   ]
  },
  {
   "cell_type": "code",
   "execution_count": null,
   "id": "79bb5eb8-7f79-41b9-b658-0537b426bbb5",
   "metadata": {},
   "outputs": [],
   "source": [
    "starttime = UTC(\"2020-12-28\")\n",
    "endtime = UTC(\"2021-01-05\")"
   ]
  },
  {
   "cell_type": "code",
   "execution_count": null,
   "id": "fa9d3593-fcbc-4d58-8c33-dbc8aec229c0",
   "metadata": {},
   "outputs": [],
   "source": [
    "reload(analysis)\n",
    "reload(util)\n",
    "lyza = analysis.Analyzer(outdir, stationcode)\n",
    "#analyzer = analysis.Analyzer(starttime, endtime, datadir, stationcode)\n",
    "\n",
    "lyza"
   ]
  },
  {
   "cell_type": "code",
   "execution_count": null,
   "id": "b0029305-b44b-41d7-a142-a076a123b0e2",
   "metadata": {},
   "outputs": [],
   "source": [
    "files = lyza.get_available_datafiles()\n",
    "print(files)"
   ]
  },
  {
   "cell_type": "code",
   "execution_count": null,
   "id": "4520aa78-1dfe-4c0b-972a-577ba8819738",
   "metadata": {},
   "outputs": [],
   "source": [
    "lyza.get_available_timerange()"
   ]
  },
  {
   "cell_type": "code",
   "execution_count": null,
   "id": "a8508a6f-531e-4c9a-a412-75d8df861f82",
   "metadata": {},
   "outputs": [],
   "source": [
    "DATA = lyza.get_data(starttime, endtime)"
   ]
  },
  {
   "cell_type": "code",
   "execution_count": null,
   "id": "cb75fecf-d22c-4249-8876-4aaa93ca1f59",
   "metadata": {},
   "outputs": [],
   "source": [
    "fig_psd = lyza.plot3d_psds(lambda x: np.log10(x * 1e9**2))\n",
    "display(HTML(fig_psd.to_html()))"
   ]
  },
  {
   "cell_type": "code",
   "execution_count": null,
   "id": "08259b32-1152-4488-b9f0-1154599b0dd6",
   "metadata": {},
   "outputs": [],
   "source": [
    "title = r'$\\frac{\\alpha^2}{\\beta}$'\n",
    "fig_psd = fig_psd.update_layout(title=title, \n",
    "                scene=dict(\n",
    "                    xaxis=dict(title='Frequency, Hz'),\n",
    "                    yaxis=dict(title='Datetime'),\n",
    "                    #zaxis=dict(title=zlabel#\"psd, {}m^2/s^2/Hz{}\".format(*funcname)\n",
    "                    #            )\n",
    "                        )\n",
    "                    )"
   ]
  },
  {
   "cell_type": "code",
   "execution_count": null,
   "id": "59265efe-fbb8-4ccf-a022-2c3e78743d01",
   "metadata": {},
   "outputs": [],
   "source": [
    "display(HTML(fig_psd.to_html(include_mathjax=\"cdn\")))"
   ]
  },
  {
   "cell_type": "code",
   "execution_count": null,
   "id": "91ed1148-2f2e-4c27-bc52-9dcc0ed3a7bb",
   "metadata": {},
   "outputs": [],
   "source": [
    "DATA.startdate, "
   ]
  },
  {
   "cell_type": "code",
   "execution_count": null,
   "id": "1cbb86ff-d724-449b-9a2a-14938fa48480",
   "metadata": {},
   "outputs": [],
   "source": [
    "fig = lyza.plot3d_amplitudes()"
   ]
  },
  {
   "cell_type": "code",
   "execution_count": null,
   "id": "d4189453-965a-4480-817d-b88cbb6d2367",
   "metadata": {},
   "outputs": [],
   "source": [
    "display(HTML(fig.to_html()))"
   ]
  },
  {
   "cell_type": "code",
   "execution_count": null,
   "id": "01bfd000-17d8-4a45-b63e-22a384ed259c",
   "metadata": {},
   "outputs": [],
   "source": [
    "dateax, timeax = lyza._get_time_axis()"
   ]
  },
  {
   "cell_type": "code",
   "execution_count": null,
   "id": "2c9c8165-c950-49c7-a007-317063c3009b",
   "metadata": {},
   "outputs": [],
   "source": [
    "lyza.psds.shape[0]/24"
   ]
  },
  {
   "cell_type": "code",
   "execution_count": null,
   "id": "03072aaf-f744-4604-a489-6dab732f7a61",
   "metadata": {},
   "outputs": [],
   "source": [
    "timeax"
   ]
  },
  {
   "cell_type": "code",
   "execution_count": null,
   "id": "8941a997-eaf0-41ee-b8c2-b31326c1138c",
   "metadata": {},
   "outputs": [],
   "source": [
    "adata = analyzer.get_data([\"amplitudes\", \"psds\"], \n",
    "                        # stime=\"00:00\", etime=\"23:00\"\n",
    "                        stime=\"19:00\", etime=\"05:00\")"
   ]
  },
  {
   "cell_type": "code",
   "execution_count": null,
   "id": "141d1da7-ac69-45e5-9ecc-05dc6c96a67b",
   "metadata": {},
   "outputs": [],
   "source": [
    "analyzer.plot_amplitudes()"
   ]
  },
  {
   "cell_type": "code",
   "execution_count": null,
   "id": "80e25fdd-8253-46af-b3f6-ed2bff06e336",
   "metadata": {},
   "outputs": [],
   "source": [
    "analyzer.plot_psds(np.log)"
   ]
  },
  {
   "cell_type": "code",
   "execution_count": null,
   "id": "e2908c7b-0e57-4fbb-80e2-e8c34a556db5",
   "metadata": {},
   "outputs": [],
   "source": [
    "r = 2\n",
    "h = 0.8\n",
    "print(np.pi*r**2*h)"
   ]
  },
  {
   "cell_type": "code",
   "execution_count": null,
   "id": "8c482bf1-d3d8-4305-8f09-1ba56b4161cb",
   "metadata": {},
   "outputs": [],
   "source": []
  }
 ],
 "metadata": {
  "language_info": {
   "name": "python",
   "pygments_lexer": "ipython3"
  }
 },
 "nbformat": 4,
 "nbformat_minor": 5
}

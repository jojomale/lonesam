{
 "cells": [
  {
   "cell_type": "code",
   "execution_count": null,
   "id": "3bee6889-6d2a-45c9-95e0-e0331b3dd3f1",
   "metadata": {},
   "outputs": [],
   "source": [
    "from importlib import reload\n",
    "from datetime import timedelta, time\n",
    "#from glob import glob\n",
    "from pathlib import Path\n",
    "import numpy as np\n",
    "\n",
    "from obspy.core import UTCDateTime as UTC\n",
    "\n",
    "import plotly.graph_objects as go\n",
    "\n",
    "#import h5py\n",
    "\n",
    "#from data_quality_control import processing\n",
    "#from data_quality_control import sds_db\n",
    "from data_quality_control import analysis, dqclogging, timelist #, util\n",
    "\n",
    "#logger = sds_db.logger\n",
    "\n",
    "# Only for display in documentation!\n",
    "from IPython.core.display import display, HTML \n",
    "\n",
    "import matplotlib.pyplot as plt\n",
    "plt.style.use('tableau-colorblind10')\n",
    "#%matplotlib widget"
   ]
  },
  {
   "cell_type": "markdown",
   "id": "e39866c9-efb2-4419-a5d8-2b7bab4f7ca1",
   "metadata": {},
   "source": [
    "# Seismic data"
   ]
  },
  {
   "cell_type": "code",
   "execution_count": null,
   "id": "b7337ff5-5bf5-411e-ac72-0f141c0b2139",
   "metadata": {},
   "outputs": [],
   "source": [
    "starttime = UTC(\"2020-12-20\")\n",
    "endtime = UTC(\"2021-01-12\")\n",
    "#starttime = UTC(\"2020-01-01\")\n",
    "#endtime = UTC(\"2021-12-31\")"
   ]
  },
  {
   "cell_type": "code",
   "execution_count": null,
   "id": "72228fab-2b41-499b-84d5-8e9a19caee11",
   "metadata": {},
   "outputs": [],
   "source": [
    "network = 'GR'\n",
    "station = 'BFO'\n",
    "location = ''\n",
    "channel = 'BHZ'\n",
    "datadir = Path('../../sample_output/run_processing/')\n",
    "#datadir = \"/home/lehr/Projects/data_quality_control/processed/\"\n",
    "#datadir = \"../data/\"\n",
    "stationcode = \"{}.{}.{}.{}\".format(network, station, \n",
    "                                   location, channel)\n",
    "\n",
    "winddatafile = Path(\"../../testing/winddata_bfo.txt\")"
   ]
  },
  {
   "cell_type": "code",
   "execution_count": null,
   "id": "2e0b280f-2860-475f-b516-32f4ae1640b5",
   "metadata": {},
   "outputs": [],
   "source": [
    "logfilename = datadir.joinpath(\"log/read_winddata.log\")\n",
    "dqclogging.configure_handlers(analysis.logger, \"INFO\", \"DEBUG\", logfilename)"
   ]
  },
  {
   "cell_type": "code",
   "execution_count": null,
   "id": "90dc4a2e-dca1-46ed-8fae-85961449a326",
   "metadata": {},
   "outputs": [],
   "source": [
    "#reload(sds_db)\n",
    "#reload(base)\n",
    "reload(analysis)\n",
    "lyza = analysis.Analyzer(datadir, stationcode,\n",
    "                            fileunit=\"year\")"
   ]
  },
  {
   "cell_type": "code",
   "execution_count": null,
   "id": "bf67749b-eb40-4190-819e-475b02b08031",
   "metadata": {},
   "outputs": [],
   "source": [
    "print(lyza)"
   ]
  },
  {
   "cell_type": "code",
   "execution_count": null,
   "id": "d2d7a735-5d9e-4e2a-ba93-70c2c4c61900",
   "metadata": {},
   "outputs": [],
   "source": [
    "files = lyza.get_available_datafiles()\n",
    "print(files)"
   ]
  },
  {
   "cell_type": "code",
   "execution_count": null,
   "id": "a2534a61-cc3c-4eb0-81b8-a7e485cb99aa",
   "metadata": {},
   "outputs": [],
   "source": [
    "sdate, edate = lyza.get_available_timerange()\n",
    "print(sdate, edate)"
   ]
  },
  {
   "cell_type": "code",
   "execution_count": null,
   "id": "5320d2ee-15b7-4dcc-abaa-13d13f49dba2",
   "metadata": {},
   "outputs": [],
   "source": [
    "DATA = lyza.get_data(starttime, endtime)"
   ]
  },
  {
   "cell_type": "code",
   "execution_count": null,
   "id": "9d32a252-27d7-4673-a968-2cfef9e0a736",
   "metadata": {},
   "outputs": [],
   "source": [
    "DATA"
   ]
  },
  {
   "cell_type": "code",
   "execution_count": null,
   "id": "53fa0e91-c299-4e36-b280-0b526ce46914",
   "metadata": {},
   "outputs": [],
   "source": [
    "lyza.psds.shape"
   ]
  },
  {
   "cell_type": "code",
   "execution_count": null,
   "id": "56c8f6e7-9393-4593-9848-e2c38d646ff5",
   "metadata": {},
   "outputs": [],
   "source": [
    "fig = lyza.plot_spectrogram()"
   ]
  },
  {
   "cell_type": "code",
   "execution_count": null,
   "id": "caf0e4c3-911c-4ad3-acb2-566614f51beb",
   "metadata": {},
   "outputs": [],
   "source": [
    "DATA"
   ]
  },
  {
   "cell_type": "markdown",
   "id": "b1f4945e-9d48-451c-bb98-9dbbf758b06e",
   "metadata": {},
   "source": [
    "# Get time list from wind data"
   ]
  },
  {
   "cell_type": "code",
   "execution_count": null,
   "id": "59c1faf0-f368-40a1-9fab-79336aae4e18",
   "metadata": {},
   "outputs": [],
   "source": [
    "def read_interp_winddata(fname, stime, etime, delta):\n",
    "    awind = read_winddata(fname)\n",
    "    return interpolate_windarray(awind, stime, etime, delta)\n",
    "    \n",
    "def read_winddata(fname):\n",
    "    winddata = []\n",
    "    with open(fname, \"r\") as f:\n",
    "        f.readline()\n",
    "        for l in f.readlines():\n",
    "            l = l.strip()\n",
    "            date, time, speed = l.split()\n",
    "            #datetime = UTC(\"{}T{}\".format(date, time))\n",
    "            datetime = \"{}T{}\".format(date, time)\n",
    "            winddata.append([UTC(datetime), float(speed)])\n",
    "\n",
    "    return np.array(winddata)\n",
    "\n",
    "def interpolate_windarray(awind, stime, etime, delta):\n",
    "    xp = np.asarray([t.timestamp for \n",
    "                    t in awind[:,0]])#, dtype=np.float_)\n",
    "    fp = np.asarray(awind[:,1], dtype=np.float_)\n",
    "\n",
    "    x = np.arange(stime.timestamp,\n",
    "                 etime.timestamp+1,\n",
    "                 delta)\n",
    "\n",
    "    f = np.interp(x, xp, fp, )\n",
    "    return x, f"
   ]
  },
  {
   "cell_type": "markdown",
   "id": "07bf0f27-b6ab-4cef-a1c6-a3b286e749dd",
   "metadata": {},
   "source": [
    "## Read wind data"
   ]
  },
  {
   "cell_type": "code",
   "execution_count": null,
   "id": "24d82e82-e342-44f4-b529-9887d0309537",
   "metadata": {},
   "outputs": [],
   "source": [
    "reload(timelist)\n",
    "awind = timelist.read_winddata(winddatafile)"
   ]
  },
  {
   "cell_type": "markdown",
   "id": "f02efdc7-3e51-4ef3-98c8-55a9ceb7c69f",
   "metadata": {},
   "source": [
    "##  Interpolate wind data\n",
    "\n",
    "Wind speed is available about every 6 hours. The power spectral densities are available\n",
    "every 1 hour. We want to filter the PSDs for times when wind speed is in a specific range.\n",
    "To do so, we interpolate the wind speed to the finer grid."
   ]
  },
  {
   "cell_type": "code",
   "execution_count": null,
   "id": "cf095776-789a-4cf6-a239-a5546023485f",
   "metadata": {},
   "outputs": [],
   "source": [
    "timedelta_wind = np.ediff1d(awind[:,0])\n",
    "print(\"Report interval of wind speed is approx. {:.0f} h\".format(np.mean(timedelta_wind) / 3600))"
   ]
  },
  {
   "cell_type": "code",
   "execution_count": null,
   "id": "2c674a35-1a83-4826-8585-47d36f344435",
   "metadata": {},
   "outputs": [],
   "source": [
    "x, f = read_interp_winddata(winddatafile, starttime, endtime, lyza.winlen_seconds)"
   ]
  },
  {
   "cell_type": "raw",
   "id": "f5bf74f6-9c76-413d-b1f3-ba9e6e988805",
   "metadata": {},
   "source": [
    "x, f = timelist.read_interp_winddata(winddatafile, sdate, edate, lyza.winlen_seconds)"
   ]
  },
  {
   "cell_type": "code",
   "execution_count": null,
   "id": "42080011-1971-4082-894e-43ee150e0260",
   "metadata": {},
   "outputs": [],
   "source": [
    "timedelta_wind = np.ediff1d(x)\n",
    "print(\"New interval of wind speed is {:.1f} h\".format(np.mean(timedelta_wind) / 3600))"
   ]
  },
  {
   "cell_type": "markdown",
   "id": "0da69723-f72a-4ac1-b9e4-009aceaaf654",
   "metadata": {},
   "source": [
    "## Filter wind speed"
   ]
  },
  {
   "cell_type": "code",
   "execution_count": null,
   "id": "862b5303-0c9b-425c-aec3-c517d0741173",
   "metadata": {},
   "outputs": [],
   "source": [
    "# Extract times with certain wind speed\n",
    "cmin = 3\n",
    "cmax = 6\n",
    "xsel = x[np.logical_and(f >= cmin, f <= cmax)]\n",
    "tlist = [UTC(xi) for xi in xsel]\n",
    "print(\"For {:d} samples of {} is wind speed between {:g} and {:g} m/s\".format(\n",
    "    len(tlist), len(x), cmin, cmax))"
   ]
  },
  {
   "cell_type": "code",
   "execution_count": null,
   "id": "cf017865-313d-4dec-8caa-e154a7ad38e7",
   "metadata": {},
   "outputs": [],
   "source": [
    "#reload(sds_db)\n",
    "#reload(base)\n",
    "reload(analysis)\n",
    "lyza = analysis.Analyzer(datadir, stationcode,\n",
    "                            fileunit=\"year\")"
   ]
  },
  {
   "cell_type": "code",
   "execution_count": null,
   "id": "ec1b9708-d462-4aa3-ad85-71acde438290",
   "metadata": {},
   "outputs": [],
   "source": [
    "DATA = lyza.get_data(tlist)\n",
    "print(lyza.starttime, lyza.endtime)\n",
    "print(lyza.amps.shape)\n",
    "print(\"PSD shape:\", lyza.psds.shape)\n",
    "print(\"len(tlist):\", len(tlist))\n",
    "\n",
    "fig = lyza.plot_spectrogram()#cmap=plt.cm.gist_heat, vmin=-0.7, vmax=2.4)\n",
    "#fig_cont.savefig(datadir.joinpath(\"spectrogram_wind_{:g}-{:g}mps.png\"))"
   ]
  },
  {
   "cell_type": "code",
   "execution_count": null,
   "id": "879a56df-b4bb-4de1-8c80-b10266148c0a",
   "metadata": {},
   "outputs": [],
   "source": []
  },
  {
   "cell_type": "code",
   "execution_count": null,
   "id": "514d44b5-0b4b-47ae-b09e-5307d2d288de",
   "metadata": {},
   "outputs": [],
   "source": []
  },
  {
   "cell_type": "code",
   "execution_count": null,
   "id": "df194fb8-886d-4f45-b588-02a23e661303",
   "metadata": {},
   "outputs": [],
   "source": []
  },
  {
   "cell_type": "code",
   "execution_count": null,
   "id": "2f92f781-05c4-4f51-bbe1-536b6d8bfaa5",
   "metadata": {},
   "outputs": [],
   "source": []
  },
  {
   "cell_type": "code",
   "execution_count": null,
   "id": "0582d921-9d59-4082-8a70-426fd791e022",
   "metadata": {},
   "outputs": [],
   "source": [
    "fname = \"../../testing/winddata_bfo.txt\"\n",
    "winddata = []\n",
    "with open(fname, \"r\") as f:\n",
    "    f.readline()\n",
    "    for l in f.readlines():\n",
    "        l = l.strip()\n",
    "        date, time, speed = l.split()\n",
    "        #datetime = UTC(\"{}T{}\".format(date, time))\n",
    "        datetime = \"{}T{}\".format(date, time)\n",
    "        if UTC(datetime) < UTC(\"2020-01-01\"): continue\n",
    "        #winddata.append([datetime, float(speed)])\n",
    "        winddata.append([UTC(datetime), float(speed)])"
   ]
  },
  {
   "cell_type": "code",
   "execution_count": null,
   "id": "dd880aa1-aa5b-4097-bc17-02ced7a135dc",
   "metadata": {},
   "outputs": [],
   "source": [
    "awind = np.array(winddata)"
   ]
  },
  {
   "cell_type": "markdown",
   "id": "d733f976-e457-4bc1-ab28-47d12616089d",
   "metadata": {},
   "source": [
    "## Simple\n",
    "\n",
    "No interpolation, just extract times with\n",
    "dates as is."
   ]
  },
  {
   "cell_type": "code",
   "execution_count": null,
   "id": "85bac158-b010-4157-a16d-09b96eea4b59",
   "metadata": {},
   "outputs": [],
   "source": [
    "#speed = np.asarray(awind[:,1], dtype=np.float64)\n",
    "#idx = np.where(speed <= 2)[0]\n",
    "#selected_wind = awind[idx, :]\n",
    "selected_wind = awind[awind[:,1] >= 4.0]"
   ]
  },
  {
   "cell_type": "code",
   "execution_count": null,
   "id": "d2e89d95-4192-473b-a44f-529eb84c1bf2",
   "metadata": {},
   "outputs": [],
   "source": [
    "selected_wind.shape"
   ]
  },
  {
   "cell_type": "code",
   "execution_count": null,
   "id": "af8f448d-a94e-414a-bac7-eba009db2c9f",
   "metadata": {},
   "outputs": [],
   "source": [
    "selected_wind"
   ]
  },
  {
   "cell_type": "code",
   "execution_count": null,
   "id": "33aa70d4-f779-462b-a9c4-71e55f8691a9",
   "metadata": {},
   "outputs": [],
   "source": [
    "reload(analysis)\n",
    "lyza = analysis.Analyzer(datadir, stationcode,\n",
    "                            fileunit=\"year\")\n",
    "tlist = selected_wind[:,0]\n",
    "DATA = lyza.get_data(tlist)\n",
    "\n",
    "print(lyza.starttime, lyza.endtime)\n",
    "print(lyza.amps.shape)\n",
    "print(\"PSD shape:\", lyza.psds.shape)\n",
    "print(\"len(tlist):\", len(tlist))"
   ]
  },
  {
   "cell_type": "code",
   "execution_count": null,
   "id": "aa118e90-c26e-4ea8-ac88-b159d8b118d8",
   "metadata": {},
   "outputs": [],
   "source": [
    "lyza.starttime, lyza.endtime"
   ]
  },
  {
   "cell_type": "code",
   "execution_count": null,
   "id": "4ae886bd-c6b5-4e2e-82ca-2ad8c9093619",
   "metadata": {},
   "outputs": [],
   "source": [
    "iamps, ipsds = util._get_data_indices(DATA, tlist)"
   ]
  },
  {
   "cell_type": "code",
   "execution_count": null,
   "id": "b084c172-204c-47ed-b41d-d5ed89589b95",
   "metadata": {},
   "outputs": [],
   "source": [
    "len(ipsds) "
   ]
  },
  {
   "cell_type": "code",
   "execution_count": null,
   "id": "d6a6be8a-c560-416a-a174-732e16a18bf1",
   "metadata": {},
   "outputs": [],
   "source": [
    "fig = lyza.plot_spectrogram()"
   ]
  },
  {
   "cell_type": "code",
   "execution_count": null,
   "id": "0f718aaa-f139-4860-8fcb-1b1d417e224a",
   "metadata": {},
   "outputs": [],
   "source": [
    "lyza.psds.shape"
   ]
  },
  {
   "cell_type": "markdown",
   "id": "68c74775-5935-4229-a605-4ca165cf99b9",
   "metadata": {},
   "source": [
    "## Interpolated\n",
    "\n",
    "The wind data is only available every 6 hours \n",
    "whereas the seismic data is processed every 1 hour.\n",
    "In order to not loose information, we interpolate\n",
    "the windspeeds to the time grid of the seismic data\n",
    "before extracting the times of the targeted wind\n",
    "ranges."
   ]
  },
  {
   "cell_type": "code",
   "execution_count": null,
   "id": "de1924e1-1609-4844-a51e-5ff47a634de6",
   "metadata": {},
   "outputs": [],
   "source": [
    "#awind_tstamps = awind.copy()\n",
    "xp = np.asarray([t.timestamp for \n",
    "                t in awind[:,0]])#, dtype=np.float_)\n",
    "fp = np.asarray(awind[:,1], dtype=np.float_)"
   ]
  },
  {
   "cell_type": "code",
   "execution_count": null,
   "id": "92b51eb2-2b77-4e10-8bf4-8ca980f9ea9a",
   "metadata": {},
   "outputs": [],
   "source": [
    "stime = starttime #UTC(\"2020-01-01\")\n",
    "etime = endtime #UTC(\"2021-12-31\")\n",
    "x = np.arange(stime.timestamp,\n",
    "             etime.timestamp+1,\n",
    "             lyza.winlen_seconds)\n",
    "print(x.shape)"
   ]
  },
  {
   "cell_type": "code",
   "execution_count": null,
   "id": "3829af6d-cc4f-4be3-91de-c8c2be53c388",
   "metadata": {},
   "outputs": [],
   "source": [
    "x.dtype, fp.dtype, xp.dtype"
   ]
  },
  {
   "cell_type": "code",
   "execution_count": null,
   "id": "5c980726-e542-4559-8fa2-f1c2addafa8d",
   "metadata": {},
   "outputs": [],
   "source": [
    "f = np.interp(x, xp, fp, )"
   ]
  },
  {
   "cell_type": "code",
   "execution_count": null,
   "id": "4ffb30c7-ada1-4fd9-bd9d-f59897a8fe42",
   "metadata": {},
   "outputs": [],
   "source": [
    "xsel = x[f >= 3]\n",
    "tlist = [UTC(xi) for xi in xsel]"
   ]
  },
  {
   "cell_type": "code",
   "execution_count": null,
   "id": "ebd8c097-d754-4b42-827d-0f2ae23b0248",
   "metadata": {},
   "outputs": [],
   "source": [
    "DATA = lyza.get_data(tlist)\n",
    "\n",
    "print(lyza.starttime, lyza.endtime)\n",
    "print(lyza.amps.shape)\n",
    "print(\"PSD shape:\", lyza.psds.shape)\n",
    "print(\"len(tlist):\", len(tlist))"
   ]
  },
  {
   "cell_type": "code",
   "execution_count": null,
   "id": "2f30413c-7226-47ad-b6c8-bf7b556302ba",
   "metadata": {},
   "outputs": [],
   "source": [
    "fig = lyza.plot_spectrogram()"
   ]
  },
  {
   "cell_type": "code",
   "execution_count": null,
   "id": "8922b306-f5bc-4978-8e08-59052030d4de",
   "metadata": {},
   "outputs": [],
   "source": []
  },
  {
   "cell_type": "code",
   "execution_count": null,
   "id": "54ffcb81-0d32-4a40-a436-446ed45b3967",
   "metadata": {},
   "outputs": [],
   "source": []
  },
  {
   "cell_type": "code",
   "execution_count": null,
   "id": "c8ad5948-db67-4b24-9fdc-e71c146dd4aa",
   "metadata": {},
   "outputs": [],
   "source": [
    "tstr = \"2022-12-01T00:12:00\""
   ]
  },
  {
   "cell_type": "code",
   "execution_count": null,
   "id": "4fffee87-acb7-4f19-a586-3eb5af2e0a06",
   "metadata": {},
   "outputs": [],
   "source": [
    "tnp = np.datetime64(tstr)\n",
    "print(tnp)\n",
    "tutc = UTC(tstr)\n",
    "print(tutc)"
   ]
  },
  {
   "cell_type": "code",
   "execution_count": null,
   "id": "55f62f12-ec2b-4c94-9bd6-2e7b5145f1b5",
   "metadata": {},
   "outputs": [],
   "source": [
    "str(tutc.datetime)"
   ]
  },
  {
   "cell_type": "code",
   "execution_count": null,
   "id": "ff4de12a-8187-417b-a128-1b3ef474fa77",
   "metadata": {},
   "outputs": [],
   "source": [
    "np.datetime64(str(tutc.datetime))"
   ]
  },
  {
   "cell_type": "code",
   "execution_count": null,
   "id": "73ebbc53-f5c4-4b7f-8f50-1dd47c9d615a",
   "metadata": {},
   "outputs": [],
   "source": [
    "UTC(str(tnp))"
   ]
  },
  {
   "cell_type": "code",
   "execution_count": null,
   "id": "be2684cf-c42d-420b-b887-1f9604f831b0",
   "metadata": {},
   "outputs": [],
   "source": [
    "tstamp = tutc.timestamp\n",
    "np.datetime64(int(tstamp), \"s\")"
   ]
  },
  {
   "cell_type": "code",
   "execution_count": null,
   "id": "ced6a680-44f9-4e54-bde5-377e54d46766",
   "metadata": {},
   "outputs": [],
   "source": [
    "t = np.datetime64(awind[0,0])"
   ]
  },
  {
   "cell_type": "code",
   "execution_count": null,
   "id": "a1460ff1-171f-41a7-8744-7d1cd3ce5957",
   "metadata": {},
   "outputs": [],
   "source": [
    "tax = np.arange(np.datetime64(awind[0,0]),\n",
    "                np.datetime64(awind[-1,0]), 3600, \"datetime64[s]\")\n",
    "#tax = np.array([t])"
   ]
  },
  {
   "cell_type": "code",
   "execution_count": null,
   "id": "5d7f05f7-08ae-4bc2-8ab7-c74c68099931",
   "metadata": {},
   "outputs": [],
   "source": [
    "tax.shape[0]"
   ]
  },
  {
   "cell_type": "code",
   "execution_count": null,
   "id": "59b13473-3262-49fd-9e2d-c9fab2cea4db",
   "metadata": {},
   "outputs": [],
   "source": [
    "tax.shape"
   ]
  },
  {
   "cell_type": "code",
   "execution_count": null,
   "id": "8455919f-8c42-40d3-a3cb-641445eb951b",
   "metadata": {},
   "outputs": [],
   "source": [
    "np.float64(tax)"
   ]
  },
  {
   "cell_type": "code",
   "execution_count": null,
   "id": "ca7c5c85-8ec1-49b2-ad80-74e7bad98247",
   "metadata": {},
   "outputs": [],
   "source": [
    "np.float_(awind[:,0])"
   ]
  },
  {
   "cell_type": "code",
   "execution_count": null,
   "id": "f62bdf8c-46a7-4e82-a1b6-9cef2674a4bf",
   "metadata": {},
   "outputs": [],
   "source": [
    "np.float_(awind[:,0])"
   ]
  },
  {
   "cell_type": "code",
   "execution_count": null,
   "id": "74ecb317-be27-4084-a210-6e767a209468",
   "metadata": {},
   "outputs": [],
   "source": [
    "t = tax[0]"
   ]
  },
  {
   "cell_type": "code",
   "execution_count": null,
   "id": "333bfa9f-170e-4f09-a016-2627cb3637d5",
   "metadata": {},
   "outputs": [],
   "source": []
  },
  {
   "cell_type": "code",
   "execution_count": null,
   "id": "6b27fb5b-4e9e-4da8-847f-e8e101a441de",
   "metadata": {},
   "outputs": [],
   "source": [
    "y = np.interp(np.float_(tax), np.float_(awind[:,0]), \n",
    "              np.float_(awind[:,1]), )"
   ]
  },
  {
   "cell_type": "code",
   "execution_count": null,
   "id": "30203975-a465-4474-ac63-fdb8e4c3a771",
   "metadata": {},
   "outputs": [],
   "source": [
    "y.shape"
   ]
  },
  {
   "cell_type": "code",
   "execution_count": null,
   "id": "1d3b329b-f513-4b72-af67-f1bb877a51fb",
   "metadata": {},
   "outputs": [],
   "source": [
    "np.asarray(awind[:,0], dtype=np.datetime64)"
   ]
  },
  {
   "cell_type": "code",
   "execution_count": null,
   "id": "be8cdbeb-0f1c-48a1-aa19-7fa7d6e4ac4b",
   "metadata": {},
   "outputs": [],
   "source": [
    "np.asarray(awind[:,1], np.float64)"
   ]
  },
  {
   "cell_type": "code",
   "execution_count": null,
   "id": "0ec36369-3b79-4987-b846-26618e8ff576",
   "metadata": {},
   "outputs": [],
   "source": [
    "plt.plot([np.datetime64(t) for t in awind[:,0]], speed)\n",
    "plt.plot([np.datetime64(t) for t in selected_wind[:,0]], \n",
    "            np.asarray(selected_wind[:,1], np.float64))"
   ]
  },
  {
   "cell_type": "code",
   "execution_count": null,
   "id": "f1ad09bb-da59-4cbd-815a-5c6bc190ba67",
   "metadata": {},
   "outputs": [],
   "source": [
    "tlist = selected_wind[:,0]"
   ]
  },
  {
   "cell_type": "code",
   "execution_count": null,
   "id": "6b38237b-ff31-4f21-a7a5-4be9c1d8bdc8",
   "metadata": {},
   "outputs": [],
   "source": [
    "awind = np.array(winddata)\n",
    "windtime = np.array([np.datetime64(t) for t, v in winddata])\n",
    "\n",
    "#speed = np.asarray(awind[:,1], dtype=np.float64)\n",
    "#idx = np.where(speed <= 2)[0]\n",
    "#selected_wind = awind[idx, :]"
   ]
  },
  {
   "cell_type": "code",
   "execution_count": null,
   "id": "cf5a9d28-24e5-4171-a08e-71a2aee40f42",
   "metadata": {},
   "outputs": [],
   "source": []
  },
  {
   "cell_type": "code",
   "execution_count": null,
   "id": "4fbf5753-320e-4d9d-82d0-21419ee95b09",
   "metadata": {},
   "outputs": [],
   "source": [
    "plt.plot([np.datetime64(t) for t in awind[:,0]], speed)\n",
    "plt.plot([np.datetime64(t) for t in selected_wind[:,0]], \n",
    "            np.asarray(selected_wind[:,1], np.float64))"
   ]
  },
  {
   "cell_type": "code",
   "execution_count": null,
   "id": "b6d541a0-9f40-4ae4-9296-38f83389b0b9",
   "metadata": {},
   "outputs": [],
   "source": [
    "tlist = selected_wind[:,0]"
   ]
  },
  {
   "cell_type": "code",
   "execution_count": null,
   "id": "1fc4a7ba-28b7-42cc-82ea-4728582235a5",
   "metadata": {},
   "outputs": [],
   "source": [
    "tlist_utc = [UTC(t) for t in tlist]"
   ]
  },
  {
   "cell_type": "code",
   "execution_count": null,
   "id": "0ca98282-d488-45db-8b1c-9cd2050f9a43",
   "metadata": {},
   "outputs": [],
   "source": [
    "DATA = lyza.get_data(tlist_utc) #, stime=\"18:00\", etime=\"05:00\")\n",
    "\n",
    "print(lyza.starttime, lyza.endtime)\n",
    "print(lyza.amps.shape)\n",
    "print(lyza.psds.shape)"
   ]
  },
  {
   "cell_type": "code",
   "execution_count": null,
   "id": "109974fb-3dad-4e73-822a-a5001a2a270a",
   "metadata": {},
   "outputs": [],
   "source": [
    "fig = lyza.plot_spectrogram(cmap=plt.cm.gist_heat)\n",
    "plt.ylim(0.5, 8)"
   ]
  },
  {
   "cell_type": "code",
   "execution_count": null,
   "id": "9e7202af-f81d-471a-8de6-6f9019fd373f",
   "metadata": {},
   "outputs": [],
   "source": [
    "tax = np.array(lyza.timeax_psd)"
   ]
  },
  {
   "cell_type": "code",
   "execution_count": null,
   "id": "656db6eb-5139-47a9-9013-fc17d7b6cfd4",
   "metadata": {},
   "outputs": [],
   "source": [
    "t"
   ]
  },
  {
   "cell_type": "code",
   "execution_count": null,
   "id": "bac28952-eef3-433a-b72d-a03d37e12d24",
   "metadata": {},
   "outputs": [],
   "source": [
    "np.interp()"
   ]
  },
  {
   "cell_type": "code",
   "execution_count": null,
   "id": "38aaf3b7-ea76-418e-8420-33f665ff569b",
   "metadata": {},
   "outputs": [],
   "source": [
    "type(tax)"
   ]
  },
  {
   "cell_type": "code",
   "execution_count": null,
   "id": "60c41ebe-685a-4851-98db-82f3b9a84f9e",
   "metadata": {},
   "outputs": [],
   "source": []
  },
  {
   "cell_type": "code",
   "execution_count": null,
   "id": "19b6838c-291d-4fbf-8847-06e06d6b0244",
   "metadata": {},
   "outputs": [],
   "source": []
  }
 ],
 "metadata": {
  "language_info": {
   "name": "python",
   "pygments_lexer": "ipython3"
  }
 },
 "nbformat": 4,
 "nbformat_minor": 5
}

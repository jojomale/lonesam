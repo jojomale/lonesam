{
 "cells": [
  {
   "cell_type": "code",
   "execution_count": null,
   "id": "8889bcf4-b5b7-4e7e-9177-d552a0756a23",
   "metadata": {},
   "outputs": [],
   "source": []
  },
  {
   "cell_type": "code",
   "execution_count": null,
   "id": "b8530311-1158-4638-916f-3937ebf383f0",
   "metadata": {},
   "outputs": [],
   "source": [
    "from importlib import reload\n",
    "import os\n",
    "\n",
    "from obspy.clients.filesystem.sds import Client as SDSClient\n",
    "from obspy.clients.fdsn import RoutingClient, Client\n",
    "from obspy.core import UTCDateTime as UTC\n",
    "from obspy import read_inventory\n",
    "from obspy.signal import util\n",
    "\n",
    "import numpy as np\n",
    "import matplotlib.pyplot as plt\n",
    "plt.style.use('tableau-colorblind10')\n",
    "\n",
    "from data_quality_control import sds_db, base"
   ]
  },
  {
   "cell_type": "markdown",
   "id": "dcf3b6ac-8aa9-4a21-bbf7-c6a84dd608b3",
   "metadata": {},
   "source": [
    "## Define parameters"
   ]
  },
  {
   "cell_type": "code",
   "execution_count": null,
   "id": "0704d15e-4098-4b82-a893-ba6a8e991c9f",
   "metadata": {},
   "outputs": [],
   "source": [
    "nslc_code = \"GR.BFO..BHZ\"\n",
    "\n",
    "overlap = 60 #3600\n",
    "fmin, fmax = (4, 14)\n",
    "nperseg = 2048\n",
    "winlen_in_s = 3600\n",
    "proclen = 24*3600\n",
    "\n",
    "outdir = 'output'\n",
    "\n",
    "sds_root = os.path.abspath('../../sample_sds/')\n",
    "#inventory_routing_type = \"eida-routing\"\n",
    "inventory_routing_type = read_inventory(\"../../sample_sds/GR.BFO..BHZ.xml\")"
   ]
  },
  {
   "cell_type": "code",
   "execution_count": null,
   "id": "994c6da1-bc11-47d7-a047-5ef14c03c8d9",
   "metadata": {},
   "outputs": [],
   "source": [
    "startdate = UTC(\"2020-12-24\")\n",
    "enddate = UTC(\"2021-01-15\")"
   ]
  },
  {
   "cell_type": "code",
   "execution_count": null,
   "id": "4d114787-5954-494c-9df9-9b62a1387188",
   "metadata": {},
   "outputs": [],
   "source": [
    "sdsclient = SDSClient(sds_root)\n",
    "\n",
    "if isinstance(inventory_routing_type, str):\n",
    "    invclient = RoutingClient(inventory_routing_type)\n",
    "else:\n",
    "    invclient = inventory_routing_type\n",
    "sdsclient.get_all_nslc()"
   ]
  },
  {
   "cell_type": "markdown",
   "id": "bd3fb8ba-da49-4675-8397-f3beed707417",
   "metadata": {},
   "source": [
    "# NSCProcessor"
   ]
  },
  {
   "cell_type": "code",
   "execution_count": null,
   "id": "b9fbe4a1-5021-4c94-81bf-bb4f61d393ef",
   "metadata": {},
   "outputs": [],
   "source": [
    "reload(base)\n",
    "nscproc = base.NSCProcessor(*nslc_code.split(\".\"), sdsclient, invclient )\n",
    "\n",
    "output = nscproc.process(startdate, enddate)"
   ]
  },
  {
   "cell_type": "code",
   "execution_count": null,
   "id": "86ddce7b-3103-41fc-8314-a8062da932ca",
   "metadata": {},
   "outputs": [],
   "source": [
    "plt.imshow(np.log10(output.psds.T), aspect=\"auto\")"
   ]
  },
  {
   "cell_type": "code",
   "execution_count": null,
   "id": "2bcf0ad0-b606-4ede-a377-107c7e1d8442",
   "metadata": {},
   "outputs": [],
   "source": [
    "plt.plot(output.amplitudes)"
   ]
  },
  {
   "cell_type": "code",
   "execution_count": null,
   "id": "da871363-65b1-4afa-adcf-e2810a5fab96",
   "metadata": {},
   "outputs": [],
   "source": [
    "output"
   ]
  },
  {
   "cell_type": "code",
   "execution_count": null,
   "id": "ed2bffeb-2a38-4e0b-8bf2-472a049d7b39",
   "metadata": {},
   "outputs": [],
   "source": [
    "output.trim_nan()"
   ]
  },
  {
   "cell_type": "code",
   "execution_count": null,
   "id": "fd351ce2-69cd-4f2c-a09f-30a342efb055",
   "metadata": {},
   "outputs": [],
   "source": [
    "output"
   ]
  },
  {
   "cell_type": "markdown",
   "id": "53b8d3b4-94a1-4e92-b504-5374443cc78e",
   "metadata": {},
   "source": [
    "# SDSProcessor\n",
    "\n",
    "i.e. processing of multiple years, writing to files"
   ]
  },
  {
   "cell_type": "code",
   "execution_count": null,
   "id": "5de11275-4025-4543-8037-364179cec7d1",
   "metadata": {},
   "outputs": [],
   "source": [
    "startdate"
   ]
  },
  {
   "cell_type": "code",
   "execution_count": null,
   "id": "cf50ae27-b623-482c-8249-50b34263e6a9",
   "metadata": {},
   "outputs": [],
   "source": [
    "reload(sds_db)\n",
    "reload(base)\n",
    "proc_params = base.ProcessingParameters(proclen_seconds=proclen)\n",
    "sdsp = sds_db.SDSProcessor(nslc_code,\n",
    "                                    inventory_routing_type, sds_root, \n",
    "                                        outdir=outdir, **proc_params.get_dict())\n",
    "#print(sdsp)\n",
    "\n",
    "sdsp.process(UTC(\"2020-12-20\"), UTC(\"2020-12-31\"))"
   ]
  },
  {
   "cell_type": "code",
   "execution_count": null,
   "id": "f1eed489-967a-4571-aab8-280e75c98149",
   "metadata": {},
   "outputs": [],
   "source": [
    "(UTC(\"2021-01-10T22:00:00.000000\") - UTC(\"2021-01-01T00:00:00.000000Z\")) / 3600"
   ]
  },
  {
   "cell_type": "code",
   "execution_count": null,
   "id": "cf956767-c0e4-4b97-be57-11e71dd0c6a9",
   "metadata": {},
   "outputs": [],
   "source": [
    "215-192"
   ]
  },
  {
   "cell_type": "code",
   "execution_count": null,
   "id": "8fd16f5a-4b1e-4242-9066-7681b500dfbc",
   "metadata": {},
   "outputs": [],
   "source": [
    "sdsp.endtime"
   ]
  },
  {
   "cell_type": "code",
   "execution_count": null,
   "id": "889beb0f-3264-462a-9f12-0e80646a9f39",
   "metadata": {},
   "outputs": [],
   "source": [
    "reload(base)\n",
    "nscproc = base.NSCProcessor(*nslc_code.split(\".\"), sdsclient, inventory_routing_type )\n",
    "\n",
    "output = nscproc.process(UTC(\"2021-01-01\"), enddate)"
   ]
  },
  {
   "cell_type": "code",
   "execution_count": null,
   "id": "a8ef5703-82a9-4eb2-9a58-3a1bd71fe416",
   "metadata": {},
   "outputs": [],
   "source": [
    "output"
   ]
  },
  {
   "cell_type": "code",
   "execution_count": null,
   "id": "0b256b97-91a3-4256-99c6-973878685e66",
   "metadata": {},
   "outputs": [],
   "source": [
    "output.psds.shape"
   ]
  },
  {
   "cell_type": "markdown",
   "id": "d0588063-6457-4655-932e-31a52b058248",
   "metadata": {},
   "source": [
    "# Test assertion in BaseProcessedData\n",
    "\n",
    "We manipulate the data arrays so that they contain one value/row more than expected from the set times."
   ]
  },
  {
   "cell_type": "code",
   "execution_count": null,
   "id": "f8fa7eef-1468-48f2-a126-7ee6000c1762",
   "metadata": {},
   "outputs": [],
   "source": [
    "output.psds = np.append(output.psds, output.psds[-1,:][None,:], axis=0)\n",
    "output.amplitudes = np.append(output.amplitudes, 0)"
   ]
  },
  {
   "cell_type": "code",
   "execution_count": null,
   "id": "9386aee9-01a1-49f5-93f1-e5ab28dd84b8",
   "metadata": {},
   "outputs": [],
   "source": [
    "output.amplitudes.shape, output.psds.shape"
   ]
  },
  {
   "cell_type": "code",
   "execution_count": null,
   "id": "5290ba00-a00c-4970-8eb3-67025f98e7d9",
   "metadata": {},
   "outputs": [],
   "source": [
    "output._check_shape_vs_time()"
   ]
  },
  {
   "cell_type": "markdown",
   "id": "6b50d5d0-1504-4db6-865e-72a3da0ab698",
   "metadata": {},
   "source": [
    "# Extend output objects"
   ]
  },
  {
   "cell_type": "code",
   "execution_count": null,
   "id": "42c58811-04d4-4667-bc79-51110416a322",
   "metadata": {},
   "outputs": [],
   "source": [
    "reload(base)\n",
    "nscproc = base.NSCProcessor(*nslc_code.split(\".\"), sdsclient, inventory_routing_type )\n",
    "\n",
    "output = nscproc.process(UTC(\"2020-12-20\"), UTC(\"2020-12-31\"))\n",
    "output += nscproc.process(UTC(\"2021-01-01\"), enddate)"
   ]
  },
  {
   "cell_type": "code",
   "execution_count": null,
   "id": "f3ab01d8-526c-44e7-bb79-f96fe968cd05",
   "metadata": {},
   "outputs": [],
   "source": [
    "output"
   ]
  },
  {
   "cell_type": "code",
   "execution_count": null,
   "id": "02f5d6d8-706b-43d6-9e25-ac2f031d861d",
   "metadata": {},
   "outputs": [],
   "source": [
    "enddate"
   ]
  },
  {
   "cell_type": "code",
   "execution_count": null,
   "id": "eb4c7335-9c0f-447c-86b9-a283059392dd",
   "metadata": {},
   "outputs": [],
   "source": [
    "output.N_windows"
   ]
  },
  {
   "cell_type": "code",
   "execution_count": null,
   "id": "4a74fcc2-8507-46f1-aa3a-397577a09ab6",
   "metadata": {},
   "outputs": [],
   "source": [
    "output.enddate-145*output.seconds_per_window"
   ]
  },
  {
   "cell_type": "code",
   "execution_count": null,
   "id": "a5692384-26fb-4544-924a-b95bcb588a4e",
   "metadata": {},
   "outputs": [],
   "source": [
    "l = np.arange(10)"
   ]
  },
  {
   "cell_type": "code",
   "execution_count": null,
   "id": "5f6aabd7-d2f0-4384-bc4b-ea4c7150d3eb",
   "metadata": {},
   "outputs": [],
   "source": [
    "l[:]"
   ]
  },
  {
   "cell_type": "code",
   "execution_count": null,
   "id": "2635655d-dd9b-499b-b4ad-a05c373d59b5",
   "metadata": {},
   "outputs": [],
   "source": [
    "plt.imshow(np.log10(output.psds.T), aspect=\"auto\")"
   ]
  },
  {
   "cell_type": "code",
   "execution_count": null,
   "id": "247ced48-6f88-4cda-946f-d25563169e01",
   "metadata": {},
   "outputs": [],
   "source": [
    "output.trim_nan()"
   ]
  },
  {
   "cell_type": "code",
   "execution_count": null,
   "id": "d0fd2559-d54f-49eb-b9dc-99ff8677f7c3",
   "metadata": {},
   "outputs": [],
   "source": [
    "output.N_windows"
   ]
  },
  {
   "cell_type": "code",
   "execution_count": null,
   "id": "f7694528-b773-4eee-93c2-9fdd258a6bac",
   "metadata": {},
   "outputs": [],
   "source": [
    "output.enddate"
   ]
  },
  {
   "cell_type": "code",
   "execution_count": null,
   "id": "c6f0e7b9-7548-4812-a9db-f988b4e125dd",
   "metadata": {},
   "outputs": [],
   "source": [
    "(output.enddate - output.startdate) / output.seconds_per_window"
   ]
  },
  {
   "cell_type": "code",
   "execution_count": null,
   "id": "b010eaab-5e4d-4f10-8972-1dd41888a4bd",
   "metadata": {},
   "outputs": [],
   "source": [
    "360-145"
   ]
  },
  {
   "cell_type": "code",
   "execution_count": null,
   "id": "ff2efc66-170b-4be3-a009-02f4c396edcc",
   "metadata": {},
   "outputs": [],
   "source": [
    "output"
   ]
  },
  {
   "cell_type": "code",
   "execution_count": null,
   "id": "18523f8a-c0ef-427b-80a6-46bed3ce9a25",
   "metadata": {},
   "outputs": [],
   "source": [
    "output.startdate + 215*3600"
   ]
  },
  {
   "cell_type": "code",
   "execution_count": null,
   "id": "14d2a933-2959-4916-981f-a0d252206fa0",
   "metadata": {},
   "outputs": [],
   "source": [
    "215/24"
   ]
  },
  {
   "cell_type": "code",
   "execution_count": null,
   "id": "1fa740e7-3b73-4a57-8ed3-9f52e37613b1",
   "metadata": {},
   "outputs": [],
   "source": [
    "inventory_routing_type"
   ]
  },
  {
   "cell_type": "code",
   "execution_count": null,
   "id": "a79c9b5a-8177-4a3d-abfa-50587a2bdecf",
   "metadata": {},
   "outputs": [],
   "source": []
  }
 ],
 "metadata": {
  "language_info": {
   "name": "python",
   "pygments_lexer": "ipython3"
  }
 },
 "nbformat": 4,
 "nbformat_minor": 5
}

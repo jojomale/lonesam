{
 "cells": [
  {
   "cell_type": "code",
   "execution_count": null,
   "id": "8889bcf4-b5b7-4e7e-9177-d552a0756a23",
   "metadata": {},
   "outputs": [],
   "source": []
  },
  {
   "cell_type": "code",
   "execution_count": null,
   "id": "b8530311-1158-4638-916f-3937ebf383f0",
   "metadata": {},
   "outputs": [],
   "source": [
    "from importlib import reload\n",
    "import os\n",
    "\n",
    "from obspy.clients.filesystem.sds import Client as SDSClient\n",
    "from obspy.clients.fdsn import RoutingClient, Client\n",
    "from obspy.core import UTCDateTime as UTC\n",
    "from obspy import read_inventory\n",
    "#from obspy.signal import util\n",
    "\n",
    "import numpy as np\n",
    "import matplotlib.pyplot as plt\n",
    "plt.style.use('tableau-colorblind10')\n",
    "\n",
    "from data_quality_control import sds_db, base, util, analysis"
   ]
  },
  {
   "cell_type": "markdown",
   "id": "dcf3b6ac-8aa9-4a21-bbf7-c6a84dd608b3",
   "metadata": {},
   "source": [
    "## Define parameters"
   ]
  },
  {
   "cell_type": "code",
   "execution_count": null,
   "id": "0704d15e-4098-4b82-a893-ba6a8e991c9f",
   "metadata": {},
   "outputs": [],
   "source": [
    "nslc_code = \"GR.BFO..BHZ\"\n",
    "\n",
    "overlap = 60 #3600\n",
    "fmin, fmax = (4, 14)\n",
    "nperseg = 2048\n",
    "winlen_in_s = 3600\n",
    "proclen = 24*3600\n",
    "\n",
    "outdir = 'output'\n",
    "\n",
    "sds_root = os.path.abspath('../../sample_sds/')\n",
    "#inventory_routing_type = \"eida-routing\"\n",
    "inventory_routing_type = read_inventory(\"../../sample_sds/GR.BFO..BHZ.xml\")"
   ]
  },
  {
   "cell_type": "code",
   "execution_count": null,
   "id": "994c6da1-bc11-47d7-a047-5ef14c03c8d9",
   "metadata": {},
   "outputs": [],
   "source": [
    "startdate = UTC(\"2020-12-24\")\n",
    "enddate = UTC(\"2021-01-15\")"
   ]
  },
  {
   "cell_type": "code",
   "execution_count": null,
   "id": "4d114787-5954-494c-9df9-9b62a1387188",
   "metadata": {},
   "outputs": [],
   "source": [
    "sdsclient = SDSClient(sds_root)\n",
    "\n",
    "if isinstance(inventory_routing_type, str):\n",
    "    invclient = RoutingClient(inventory_routing_type)\n",
    "else:\n",
    "    invclient = inventory_routing_type\n",
    "sdsclient.get_all_nslc()"
   ]
  },
  {
   "cell_type": "markdown",
   "id": "eadcce0c-ba4a-495f-bb4b-bf75d66ab2fd",
   "metadata": {},
   "source": [
    "# Times in data"
   ]
  },
  {
   "cell_type": "code",
   "execution_count": null,
   "id": "45935af7-4799-4dfa-8a89-c165e7d88f84",
   "metadata": {},
   "outputs": [],
   "source": [
    "startdate.julday"
   ]
  },
  {
   "cell_type": "code",
   "execution_count": null,
   "id": "a4c389c5-c484-42f1-98ea-4674c0b26d5a",
   "metadata": {},
   "outputs": [],
   "source": [
    "sdsclient.get_waveforms(*nslc_code.split(\".\"), a\n",
    "                       )"
   ]
  },
  {
   "cell_type": "markdown",
   "id": "bd3fb8ba-da49-4675-8397-f3beed707417",
   "metadata": {},
   "source": [
    "# NSCProcessor"
   ]
  },
  {
   "cell_type": "code",
   "execution_count": null,
   "id": "b9fbe4a1-5021-4c94-81bf-bb4f61d393ef",
   "metadata": {},
   "outputs": [],
   "source": [
    "reload(base)\n",
    "nscproc = base.NSCProcessor(*nslc_code.split(\".\"), sdsclient, invclient )\n",
    "\n",
    "output = nscproc.process(startdate, enddate)"
   ]
  },
  {
   "cell_type": "code",
   "execution_count": null,
   "id": "86ddce7b-3103-41fc-8314-a8062da932ca",
   "metadata": {},
   "outputs": [],
   "source": [
    "plt.imshow(np.log10(output.psds.T), aspect=\"auto\")"
   ]
  },
  {
   "cell_type": "code",
   "execution_count": null,
   "id": "2bcf0ad0-b606-4ede-a377-107c7e1d8442",
   "metadata": {},
   "outputs": [],
   "source": [
    "plt.plot(output.amplitudes)"
   ]
  },
  {
   "cell_type": "code",
   "execution_count": null,
   "id": "da871363-65b1-4afa-adcf-e2810a5fab96",
   "metadata": {},
   "outputs": [],
   "source": [
    "output"
   ]
  },
  {
   "cell_type": "code",
   "execution_count": null,
   "id": "ed2bffeb-2a38-4e0b-8bf2-472a049d7b39",
   "metadata": {},
   "outputs": [],
   "source": [
    "output.trim_nan()"
   ]
  },
  {
   "cell_type": "code",
   "execution_count": null,
   "id": "fd351ce2-69cd-4f2c-a09f-30a342efb055",
   "metadata": {},
   "outputs": [],
   "source": [
    "output"
   ]
  },
  {
   "cell_type": "markdown",
   "id": "53b8d3b4-94a1-4e92-b504-5374443cc78e",
   "metadata": {},
   "source": [
    "# SDSProcessor\n",
    "\n",
    "i.e. processing of multiple years, writing to files"
   ]
  },
  {
   "cell_type": "code",
   "execution_count": null,
   "id": "5de11275-4025-4543-8037-364179cec7d1",
   "metadata": {},
   "outputs": [],
   "source": [
    "startdate"
   ]
  },
  {
   "cell_type": "code",
   "execution_count": null,
   "id": "cf50ae27-b623-482c-8249-50b34263e6a9",
   "metadata": {},
   "outputs": [],
   "source": [
    "reload(sds_db)\n",
    "reload(base)\n",
    "proc_params = base.ProcessingParameters(proclen_seconds=proclen)\n",
    "sdsp = sds_db.SDSProcessor(nslc_code,\n",
    "                                    inventory_routing_type, sds_root, \n",
    "                                        outdir=outdir, **proc_params.get_dict())\n",
    "#print(sdsp)\n",
    "\n",
    "sdsp.process(UTC(\"2020-12-20\"), UTC(\"2020-12-31\"))"
   ]
  },
  {
   "cell_type": "code",
   "execution_count": null,
   "id": "f1eed489-967a-4571-aab8-280e75c98149",
   "metadata": {},
   "outputs": [],
   "source": [
    "(UTC(\"2021-01-10T22:00:00.000000\") - UTC(\"2021-01-01T00:00:00.000000Z\")) / 3600"
   ]
  },
  {
   "cell_type": "code",
   "execution_count": null,
   "id": "cf956767-c0e4-4b97-be57-11e71dd0c6a9",
   "metadata": {},
   "outputs": [],
   "source": [
    "215-192"
   ]
  },
  {
   "cell_type": "code",
   "execution_count": null,
   "id": "8fd16f5a-4b1e-4242-9066-7681b500dfbc",
   "metadata": {},
   "outputs": [],
   "source": [
    "sdsp.endtime"
   ]
  },
  {
   "cell_type": "code",
   "execution_count": null,
   "id": "889beb0f-3264-462a-9f12-0e80646a9f39",
   "metadata": {},
   "outputs": [],
   "source": [
    "reload(base)\n",
    "nscproc = base.NSCProcessor(*nslc_code.split(\".\"), sdsclient, inventory_routing_type )\n",
    "\n",
    "output = nscproc.process(UTC(\"2021-01-01\"), enddate)"
   ]
  },
  {
   "cell_type": "code",
   "execution_count": null,
   "id": "a8ef5703-82a9-4eb2-9a58-3a1bd71fe416",
   "metadata": {},
   "outputs": [],
   "source": [
    "output"
   ]
  },
  {
   "cell_type": "code",
   "execution_count": null,
   "id": "0b256b97-91a3-4256-99c6-973878685e66",
   "metadata": {},
   "outputs": [],
   "source": [
    "output.psds.shape"
   ]
  },
  {
   "cell_type": "markdown",
   "id": "d0588063-6457-4655-932e-31a52b058248",
   "metadata": {},
   "source": [
    "# Test assertion in BaseProcessedData\n",
    "\n",
    "We manipulate the data arrays so that they contain one value/row more than expected from the set times."
   ]
  },
  {
   "cell_type": "code",
   "execution_count": null,
   "id": "f8fa7eef-1468-48f2-a126-7ee6000c1762",
   "metadata": {},
   "outputs": [],
   "source": [
    "output.psds = np.append(output.psds, output.psds[-1,:][None,:], axis=0)\n",
    "output.amplitudes = np.append(output.amplitudes, 0)"
   ]
  },
  {
   "cell_type": "code",
   "execution_count": null,
   "id": "9386aee9-01a1-49f5-93f1-e5ab28dd84b8",
   "metadata": {},
   "outputs": [],
   "source": [
    "output.amplitudes.shape, output.psds.shape"
   ]
  },
  {
   "cell_type": "code",
   "execution_count": null,
   "id": "5290ba00-a00c-4970-8eb3-67025f98e7d9",
   "metadata": {},
   "outputs": [],
   "source": [
    "output._check_shape_vs_time()"
   ]
  },
  {
   "cell_type": "markdown",
   "id": "6b50d5d0-1504-4db6-865e-72a3da0ab698",
   "metadata": {},
   "source": [
    "# Extend output objects"
   ]
  },
  {
   "cell_type": "code",
   "execution_count": null,
   "id": "42c58811-04d4-4667-bc79-51110416a322",
   "metadata": {},
   "outputs": [],
   "source": [
    "reload(base)\n",
    "nscproc = base.NSCProcessor(*nslc_code.split(\".\"), sdsclient, inventory_routing_type )\n",
    "\n",
    "output = nscproc.process(UTC(\"2020-12-20\"), UTC(\"2020-12-31\"))\n",
    "output += nscproc.process(UTC(\"2021-01-01\"), enddate)"
   ]
  },
  {
   "cell_type": "markdown",
   "id": "b4adb21e-28f7-466b-bfc9-323fef8ef8c7",
   "metadata": {},
   "source": [
    "# Plotting"
   ]
  },
  {
   "cell_type": "code",
   "execution_count": null,
   "id": "7906c2c9-bd95-4256-95e8-05d75a2b61c3",
   "metadata": {},
   "outputs": [],
   "source": [
    "reload(base)\n",
    "nscproc = base.NSCProcessor(*nslc_code.split(\".\"), sdsclient, inventory_routing_type )\n",
    "\n",
    "output = nscproc.process(UTC(\"2020-12-20\"), UTC(\"2020-12-31\"))\n",
    "output += nscproc.process(UTC(\"2021-01-01\"), enddate)"
   ]
  },
  {
   "cell_type": "code",
   "execution_count": null,
   "id": "5389c116-dd30-4b45-a441-aa21802860ba",
   "metadata": {},
   "outputs": [],
   "source": [
    "print(output)"
   ]
  },
  {
   "cell_type": "code",
   "execution_count": null,
   "id": "ab706dc4-6255-49b4-b3c4-2f0db4956562",
   "metadata": {},
   "outputs": [],
   "source": [
    "output.plot_amplitudes()"
   ]
  },
  {
   "cell_type": "code",
   "execution_count": null,
   "id": "5e1f8eaf-acc0-4568-b4ac-e238a3de8683",
   "metadata": {},
   "outputs": [],
   "source": [
    "print(output)"
   ]
  },
  {
   "cell_type": "code",
   "execution_count": null,
   "id": "86a08387-9d11-4d60-b069-ca19b93d7b36",
   "metadata": {},
   "outputs": [],
   "source": [
    "output.plot_psds(np.log10)"
   ]
  },
  {
   "cell_type": "markdown",
   "id": "64faed17-3dd0-4465-9b5f-0341ad7975b1",
   "metadata": {},
   "source": [
    "## Reshaping of flat array"
   ]
  },
  {
   "cell_type": "code",
   "execution_count": null,
   "id": "a79c9b5a-8177-4a3d-abfa-50587a2bdecf",
   "metadata": {},
   "outputs": [],
   "source": [
    "X = np.array([np.arange(24) for i in range(16)]).ravel()"
   ]
  },
  {
   "cell_type": "code",
   "execution_count": null,
   "id": "8ea60016-23ce-4d26-b1c6-2654af85b827",
   "metadata": {},
   "outputs": [],
   "source": [
    "X.reshape(16, 24)"
   ]
  },
  {
   "cell_type": "code",
   "execution_count": null,
   "id": "dc5759a4-232d-4ad4-862b-d00c97144501",
   "metadata": {},
   "outputs": [],
   "source": [
    "plt.imshow(X.reshape(16, 24).T, aspect=\"auto\")"
   ]
  },
  {
   "cell_type": "markdown",
   "id": "14abdc63-8488-4dc0-980c-9871730c8e01",
   "metadata": {},
   "source": [
    "# Analysis module"
   ]
  },
  {
   "cell_type": "code",
   "execution_count": null,
   "id": "149ba3a9-0940-475a-b64b-f1e9e28f2146",
   "metadata": {},
   "outputs": [],
   "source": [
    "from IPython.core.display import display, HTML"
   ]
  },
  {
   "cell_type": "code",
   "execution_count": null,
   "id": "0af50130-c2fa-4d23-844f-197bb95ff244",
   "metadata": {},
   "outputs": [],
   "source": [
    "reload(analysis)\n",
    "reload(base)\n",
    "lyza = analysis.Analyzer(outdir, nslc_code)\n",
    "\n",
    "lyza.get_data(startdate, enddate)"
   ]
  },
  {
   "cell_type": "code",
   "execution_count": null,
   "id": "59c9808d-233e-4500-b0cc-c7c4a51faf03",
   "metadata": {},
   "outputs": [],
   "source": [
    "lyza.plot_spectrogram();"
   ]
  },
  {
   "cell_type": "code",
   "execution_count": null,
   "id": "a3a713d3-921a-401e-a404-38fb32360875",
   "metadata": {},
   "outputs": [],
   "source": [
    "amp3d, psd3d = lyza.plot3d()"
   ]
  },
  {
   "cell_type": "code",
   "execution_count": null,
   "id": "3c19bd46-0a9e-41f6-b6b7-a43f2a9f3be0",
   "metadata": {},
   "outputs": [],
   "source": [
    "display(HTML(amp3d.to_html()))"
   ]
  },
  {
   "cell_type": "code",
   "execution_count": null,
   "id": "b1606cd1-017c-49e6-855b-984847f56936",
   "metadata": {},
   "outputs": [],
   "source": [
    "display(HTML(psd3d.to_html()))"
   ]
  },
  {
   "cell_type": "markdown",
   "id": "57940758-b04d-4476-97f5-8d5f55235afd",
   "metadata": {},
   "source": [
    "# New Analzyer"
   ]
  },
  {
   "cell_type": "code",
   "execution_count": null,
   "id": "f2b3a7ab-31a9-40ec-aff8-8474494c2422",
   "metadata": {},
   "outputs": [],
   "source": [
    "reload(analysis)\n",
    "lyza = analysis.Analyzer2(outdir, nslc_code)"
   ]
  },
  {
   "cell_type": "code",
   "execution_count": null,
   "id": "cd8a192a-cdee-4fba-a74e-cddcb3f8bdf7",
   "metadata": {},
   "outputs": [],
   "source": [
    "lyza.get_available_datafiles()"
   ]
  },
  {
   "cell_type": "code",
   "execution_count": null,
   "id": "96e3ef5f-19d0-4cef-95dc-53c76511945f",
   "metadata": {},
   "outputs": [],
   "source": [
    "lyza.get_available_timerange()"
   ]
  },
  {
   "cell_type": "code",
   "execution_count": null,
   "id": "a99179ec-63ee-424f-9be1-614659469f80",
   "metadata": {},
   "outputs": [],
   "source": [
    "lyza.get_data(startdate, enddate)"
   ]
  },
  {
   "cell_type": "code",
   "execution_count": null,
   "id": "94a69d1e-9f42-40bb-b02a-f3fe37db74d9",
   "metadata": {},
   "outputs": [],
   "source": [
    "lyza"
   ]
  },
  {
   "cell_type": "code",
   "execution_count": null,
   "id": "40b298a4-c4c2-474b-ac5b-92acfb004c3b",
   "metadata": {},
   "outputs": [],
   "source": [
    "lyza.plot_amplitudes()"
   ]
  },
  {
   "cell_type": "code",
   "execution_count": null,
   "id": "dae017bc-02c9-47e3-b7fc-43087fa917e2",
   "metadata": {},
   "outputs": [],
   "source": []
  }
 ],
 "metadata": {
  "language_info": {
   "name": "python",
   "pygments_lexer": "ipython3"
  }
 },
 "nbformat": 4,
 "nbformat_minor": 5
}

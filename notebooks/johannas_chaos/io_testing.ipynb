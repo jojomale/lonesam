{
 "cells": [
  {
   "cell_type": "code",
   "execution_count": null,
   "id": "f2e5b1b8-beb6-49c3-8297-9cb0b4f023ac",
   "metadata": {},
   "outputs": [],
   "source": []
  },
  {
   "cell_type": "code",
   "execution_count": null,
   "id": "bcfb6237-6298-439c-93f6-4584b120a8a1",
   "metadata": {},
   "outputs": [],
   "source": [
    "from importlib import reload\n",
    "\n",
    "import numpy as np\n",
    "\n",
    "from glob import glob\n",
    "import os\n",
    "from datetime import timedelta\n",
    "from obspy.core import UTCDateTime as UTC\n",
    "\n",
    "import matplotlib.pyplot as plt\n",
    "plt.style.use('tableau-colorblind10')\n",
    "#%matplotlib widget\n",
    "\n",
    "from data_quality_control import processing\n",
    "logger = processing.logger\n",
    "\n",
    "import plotly.graph_objects as go"
   ]
  },
  {
   "cell_type": "code",
   "execution_count": null,
   "id": "77ddca81-8cf3-43f5-85bb-e4feba60aa6c",
   "metadata": {},
   "outputs": [],
   "source": [
    "fname1 = '../data/GR.BFO..HHZ_2020-12-25_2020-12-31.hdf5'\n",
    "fname2 = '../data/GR.BFO..HHZ_2021-01-01_2021-01-09.hdf5'"
   ]
  },
  {
   "cell_type": "code",
   "execution_count": null,
   "id": "bdeba321-1f2c-4cc8-8b02-cc80ac27e495",
   "metadata": {},
   "outputs": [],
   "source": [
    "reload(processing)\n",
    "data = processing.BaseProcessedData().from_file(fname1)\n",
    "\n",
    "print(data)"
   ]
  },
  {
   "cell_type": "code",
   "execution_count": null,
   "id": "f8d5f3b3-b239-42c2-9a86-e139e1e81e44",
   "metadata": {},
   "outputs": [],
   "source": [
    "data.extend_from_file(fname2)\n",
    "print(data)"
   ]
  },
  {
   "cell_type": "markdown",
   "id": "93db6463-7856-47a5-861d-2936f5d4f9c4",
   "metadata": {},
   "source": [
    "# __iadd__()\n",
    "\n",
    "Test adding data using += notation."
   ]
  },
  {
   "cell_type": "code",
   "execution_count": null,
   "id": "608f0134-dd91-479c-8c15-322e0be78b9e",
   "metadata": {},
   "outputs": [],
   "source": [
    "data1 = processing.BaseProcessedData().from_file(fname1)\n",
    "print(data1)\n",
    "\n",
    "data2 = processing.BaseProcessedData().from_file(fname2)\n",
    "print(data2)\n",
    "\n",
    "data1 += data2\n",
    "print(data1)"
   ]
  },
  {
   "cell_type": "code",
   "execution_count": null,
   "id": "a86fe309-f602-45c1-883f-c1c3a217a52f",
   "metadata": {},
   "outputs": [],
   "source": []
  },
  {
   "cell_type": "code",
   "execution_count": null,
   "id": "b684575f-4a77-4f8f-a262-66b00b7eba14",
   "metadata": {},
   "outputs": [],
   "source": []
  }
 ],
 "metadata": {
  "language_info": {
   "name": "python",
   "pygments_lexer": "ipython3"
  }
 },
 "nbformat": 4,
 "nbformat_minor": 5
}

{
 "cells": [
  {
   "cell_type": "markdown",
   "id": "7998d1b0-7289-4d8a-b80e-818f123376ad",
   "metadata": {},
   "source": [
    "# Handling of data gaps within files"
   ]
  },
  {
   "cell_type": "code",
   "execution_count": null,
   "id": "b787fb9d-77f3-45c7-b06c-c4d6f002b036",
   "metadata": {},
   "outputs": [],
   "source": [
    "import numpy as np\n",
    "\n",
    "from scipy.signal import welch\n",
    "from obspy.signal.filter import bandpass"
   ]
  },
  {
   "cell_type": "code",
   "execution_count": null,
   "id": "fbed7f84-408f-49d9-9a29-f859196d3d7b",
   "metadata": {},
   "outputs": [],
   "source": [
    "from obspy.clients.filesystem.sds import Client\n",
    "from obspy.clients.fdsn import RoutingClient\n",
    "from obspy.core import UTCDateTime as UTC"
   ]
  },
  {
   "cell_type": "code",
   "execution_count": null,
   "id": "8233ca5e-960d-4cb6-a567-a6ae8e55f3fd",
   "metadata": {},
   "outputs": [],
   "source": [
    "import matplotlib.pyplot as plt\n",
    "plt.style.use('tableau-colorblind10')"
   ]
  },
  {
   "cell_type": "code",
   "execution_count": null,
   "id": "f0ac9ee5-fba8-4cc8-a141-18c8bfff1276",
   "metadata": {},
   "outputs": [],
   "source": [
    "from data_quality_control import base, util"
   ]
  },
  {
   "cell_type": "code",
   "execution_count": null,
   "id": "0abb46ec-0126-4430-8ddc-776c4657f731",
   "metadata": {},
   "outputs": [],
   "source": [
    "from importlib import reload"
   ]
  },
  {
   "cell_type": "code",
   "execution_count": null,
   "id": "1ae6974a-2c9f-47ac-9088-037956792f46",
   "metadata": {},
   "outputs": [],
   "source": [
    "network = 'GR'\n",
    "station = 'BFO'\n",
    "location = ''\n",
    "channel = 'HHZ'\n",
    "overlap = 60 #3600\n",
    "\n",
    "fmin, fmax = (4, 14)\n",
    "nperseg = 2048\n",
    "winlen_in_s = 3600\n",
    "proclen = 24*3600\n",
    "\n",
    "sds_root = '/home/lehr/sds/data'\n",
    "inventory_routing_type = 'eida-routing'\n",
    "\n",
    "sdsclient = Client(sds_root)\n",
    "invclient = RoutingClient(inventory_routing_type)"
   ]
  },
  {
   "cell_type": "code",
   "execution_count": null,
   "id": "5387e60c-cc84-40fa-98f0-2dc24418a6e7",
   "metadata": {},
   "outputs": [],
   "source": [
    "starttime = UTC(\"2020-336\")\n",
    "#overlap = 600"
   ]
  },
  {
   "cell_type": "code",
   "execution_count": null,
   "id": "2045c32e-14ca-42e2-87fa-70a42ec0bfd0",
   "metadata": {},
   "outputs": [],
   "source": [
    "#reload(processing)\n",
    "processor = base.NSCProcessor(\n",
    "        network, \n",
    "        station,\n",
    "        channel,\n",
    "        location,\n",
    "        dataclient=sdsclient,\n",
    "        invclient=invclient,)"
   ]
  },
  {
   "cell_type": "code",
   "execution_count": null,
   "id": "700e0337-3ea4-46ba-9b84-69ab2c611e9e",
   "metadata": {},
   "outputs": [],
   "source": [
    "starttime = starttime - overlap\n",
    "endtime = starttime + proclen + 2*overlap\n",
    "st = sdsclient.get_waveforms(starttime=starttime, \n",
    "                             endtime=endtime,\n",
    "                    **processor.nsc_as_dict())"
   ]
  },
  {
   "cell_type": "code",
   "execution_count": null,
   "id": "08696d86-2afd-423a-92d2-ffc16b249451",
   "metadata": {},
   "outputs": [],
   "source": [
    "processor.nsc_as_dict()"
   ]
  },
  {
   "cell_type": "code",
   "execution_count": null,
   "id": "1eec6833-183e-4fdc-8d6c-feed21e3578f",
   "metadata": {},
   "outputs": [],
   "source": [
    "inv = invclient.get_stations(starttime=starttime, \n",
    "                        endtime=endtime, level='response',\n",
    "                        **processor.nsc_as_dict())\n"
   ]
  },
  {
   "cell_type": "code",
   "execution_count": null,
   "id": "e508053b-00ab-497b-9814-22c4dbc94e55",
   "metadata": {},
   "outputs": [],
   "source": [
    "tr = util.process_stream(st, inv, \n",
    "            starttime, endtime)"
   ]
  },
  {
   "cell_type": "code",
   "execution_count": null,
   "id": "6f434307-0d55-4dff-8ccc-4895d2547145",
   "metadata": {},
   "outputs": [],
   "source": [
    "tr.plot(show=False)"
   ]
  },
  {
   "cell_type": "markdown",
   "id": "9ee4b4f7-369c-4cb0-aa3e-322da77847fe",
   "metadata": {},
   "source": [
    "Obviously the trace contains a large data gap-"
   ]
  },
  {
   "cell_type": "code",
   "execution_count": null,
   "id": "076b245b-abb2-4237-88a8-a5bb58c6bb62",
   "metadata": {},
   "outputs": [],
   "source": [
    "np.where(np.isnan(tr.data))"
   ]
  },
  {
   "cell_type": "markdown",
   "id": "25352c7f-494d-46cc-a6f4-54f86f0a477a",
   "metadata": {},
   "source": [
    "Now, let's go through the routine that extracts the \n",
    "spectra and amplitudes step by step."
   ]
  },
  {
   "cell_type": "code",
   "execution_count": null,
   "id": "798c701e-948b-47b9-ad54-0c1e3bf72b4b",
   "metadata": {},
   "outputs": [],
   "source": [
    "# Get some numbers\n",
    "sr = tr.stats.sampling_rate\n",
    "nf = int(proclen/winlen_in_s)\n",
    "#proclen_samples = proclen * sr\n",
    "winlen_samples = int(winlen_in_s * sr)"
   ]
  },
  {
   "cell_type": "code",
   "execution_count": null,
   "id": "bd81c54f-ee3b-482c-8978-decc07491558",
   "metadata": {},
   "outputs": [],
   "source": [
    "nf*winlen_samples"
   ]
  },
  {
   "cell_type": "markdown",
   "id": "32542127-94f9-4c68-8ffc-939787f02113",
   "metadata": {},
   "source": [
    "For the spectra, we can simply reshape the data\n",
    "within the time which we want to analyse. It's\n",
    "the time window minus the overlaps at the end, so\n",
    "`starttime+overlap` and `endtime-overlap`. "
   ]
  },
  {
   "cell_type": "code",
   "execution_count": null,
   "id": "a7e3538b-d80d-497d-ac6f-797b0e98007a",
   "metadata": {},
   "outputs": [],
   "source": [
    "# Data for spectra computation\n",
    "data = util.get_adjacent_frames(tr, \n",
    "        starttime+overlap, nf, winlen_samples)"
   ]
  },
  {
   "cell_type": "markdown",
   "id": "553c2196-9b60-4b66-8c45-d4701959bd96",
   "metadata": {},
   "source": [
    "Let's take a look at the data matrix:\n",
    "\n",
    "Rows show 1 h of data.\n",
    "\n",
    "Between 5:00 and 10:00 is a data gap in which data is Nan."
   ]
  },
  {
   "cell_type": "code",
   "execution_count": null,
   "id": "c4aea7cf-7c9b-4c7b-bf4c-cbcb294b959c",
   "metadata": {},
   "outputs": [],
   "source": [
    "plt.imshow(data, aspect='auto')\n",
    "plt.ylabel('hours')\n",
    "plt.xlabel('npts');"
   ]
  },
  {
   "cell_type": "code",
   "execution_count": null,
   "id": "3d234ffd-0cd8-4432-9432-3cafa61ca06a",
   "metadata": {},
   "outputs": [],
   "source": [
    "scale = 1e6\n",
    "for i, row in enumerate(data):\n",
    "    plt.plot(row*scale + i)\n",
    "plt.ylabel('hours')\n",
    "plt.xlabel('npts');"
   ]
  },
  {
   "cell_type": "markdown",
   "id": "2acf2d98-a297-4226-8181-daef3a6a3bad",
   "metadata": {},
   "source": [
    "Spectra are only computed for rows without Nans. So the resulting array with the spectral data looks like this:"
   ]
  },
  {
   "cell_type": "code",
   "execution_count": null,
   "id": "bb9880fa-7b20-4592-b851-6f966f654808",
   "metadata": {},
   "outputs": [],
   "source": [
    "freq, P = welch(data, fs=sr, nperseg=nperseg, axis=1)"
   ]
  },
  {
   "cell_type": "code",
   "execution_count": null,
   "id": "207e6009-2f27-4032-851b-643bda2d1d6f",
   "metadata": {},
   "outputs": [],
   "source": [
    "plt.imshow(np.log(P), aspect='auto')\n",
    "plt.ylabel('hours')\n",
    "plt.xlabel('npts');"
   ]
  },
  {
   "cell_type": "code",
   "execution_count": null,
   "id": "21aaba56-08e9-431b-8957-bfdabb829d20",
   "metadata": {},
   "outputs": [],
   "source": [
    "i, j = np.where(np.isnan(P))\n",
    "print(np.unique(i))"
   ]
  },
  {
   "cell_type": "markdown",
   "id": "40dcfc33-1035-4c5c-896f-9ac367961b26",
   "metadata": {},
   "source": [
    "For the amplitudes, we want to get the $p$-th percentile of each time frame (e.g. 1 h) in the data.\n",
    "We use `np.percentile`. In principle, we need the data again as a 2d-array with rows corresponding to \n",
    "each time frame, as it was the case for the spectral computation."
   ]
  },
  {
   "cell_type": "markdown",
   "id": "85619706-1605-490f-b1e2-219e9f05d9a8",
   "metadata": {},
   "source": [
    "However, for the extraction of amplitude informations, the situation is a little more complicated because we want to filter the data.\n",
    "\n",
    "To avoid edge effects from filtering affecting the amplitude extraction, we need want the data to be a little bit longer than needed. This is why we add some `overlap` to the ends of the requested time window.\n",
    "\n",
    "For contiguous data, we can simply filter the entire trace at once, cut off the overlap and reshape the data vector into a 2d array as for the \n",
    "spectral computation.\n",
    "\n",
    "Unfortunately, the filter function stops at the first occurrence of Nans. So in the example, we\n",
    "would only get amplitudes for the first 4 hours, even though later, several complete hours are left, that could be analysed.\n",
    "\n",
    "Thus, if Nans are present, we filter the data frame-wise. However, to accomodate the edge effects, we need some overlap between the frames as\n",
    "well. The overlap gets tapered by multiplying each frame with a Tukey window. Then, we filter each\n",
    "row and for the amplitude analysis, we then just use the inner, non-tapered part.\n",
    "\n",
    "The decision, which workflow to use, is made by \n",
    "`processing.get_amplitude`.\n",
    "\n",
    "Let's take a look at these steps:"
   ]
  },
  {
   "cell_type": "markdown",
   "id": "58ca0b2f-aedd-493f-81ec-60c9bb6841cb",
   "metadata": {},
   "source": [
    "First, we take a look at what happens, if we use \n",
    "simple, adjacent frames and filter them."
   ]
  },
  {
   "cell_type": "code",
   "execution_count": null,
   "id": "c95edd68-39de-42dd-a024-198a9b0f3f50",
   "metadata": {},
   "outputs": [],
   "source": [
    "# Reshape into frames\n",
    "data = util.get_adjacent_frames(tr, \n",
    "        starttime+overlap, nf, winlen_samples)\n",
    "\n",
    "# Filter row-wise\n",
    "filtered1 = bandpass(data.copy(), fmin, fmax, sr)"
   ]
  },
  {
   "cell_type": "markdown",
   "id": "75875a58-9823-4874-80f6-5ee7036762b5",
   "metadata": {},
   "source": [
    "The next plot demonstrates, how the filter function\n",
    "`bandpass` reacts if Nans are in a row:\n",
    "\n",
    "The row at 5:00 is processed until the first \n",
    "occurrence of Nans after around 250000 samples.\n",
    "\n",
    "The row at 9:00 is not processed at all, although\n",
    "we know from the figures above of the unfiltered\n",
    "data that the data returns later in that hour."
   ]
  },
  {
   "cell_type": "code",
   "execution_count": null,
   "id": "1c8189b6-cd9b-4061-a7f1-11037f15d20e",
   "metadata": {},
   "outputs": [],
   "source": [
    "scale = 5e6\n",
    "for i, row in enumerate(filtered1):\n",
    "    plt.plot(row*scale + i)\n",
    "plt.ylabel('hours')\n",
    "plt.xlabel('npts');\n",
    "#plt.xlim(-10, 100)"
   ]
  },
  {
   "cell_type": "markdown",
   "id": "3848d50d-8275-408c-922b-5df40943300a",
   "metadata": {},
   "source": [
    "If we zoom in at the beginning of the rows, we \n",
    "see the edge effects of the filter. That's the\n",
    "high amplitude wiggle at the beginning."
   ]
  },
  {
   "cell_type": "code",
   "execution_count": null,
   "id": "abec8d84-e040-459b-bae1-a4f4b51c5e12",
   "metadata": {},
   "outputs": [],
   "source": [
    "scale = 1e8\n",
    "for i, row in enumerate(filtered1):\n",
    "    plt.plot(row*scale + i, lw=1)\n",
    "plt.ylabel('hours')\n",
    "plt.xlabel('npts');\n",
    "plt.xlim(-100, 10000)\n",
    "plt.ylim(0, 25);"
   ]
  },
  {
   "cell_type": "markdown",
   "id": "4ecc557b-011d-4414-b7c0-d4f1310d5897",
   "metadata": {},
   "source": [
    "Compare it with the unfiltered beginnings. There\n",
    "is no such overshoot in the data."
   ]
  },
  {
   "cell_type": "code",
   "execution_count": null,
   "id": "a7dfe578-debc-4a1d-9520-058844533834",
   "metadata": {},
   "outputs": [],
   "source": [
    "scale = 1e6\n",
    "for i, row in enumerate(data):\n",
    "    plt.plot(row*scale + i)\n",
    "plt.ylabel('hours')\n",
    "plt.xlabel('npts');\n",
    "plt.xlim(-100, 10000)\n",
    "plt.ylim(0, 25);"
   ]
  },
  {
   "cell_type": "markdown",
   "id": "71d8e8aa-32c9-4de3-9d28-19b3655bce89",
   "metadata": {},
   "source": [
    "So for the amplitude analysis, we want to exclude \n",
    "this early part. But if we do this now, we could\n",
    "only analyse slightly less than our desired frame\n",
    "length of 1 hour. \n",
    "\n",
    "This is why we here need overlapping frames."
   ]
  },
  {
   "cell_type": "code",
   "execution_count": null,
   "id": "532775a6-0439-41e6-b88f-cb95c70bea4f",
   "metadata": {},
   "outputs": [],
   "source": [
    "taper_samples = int(overlap*sr)\n",
    "data2, taper = util.get_overlapping_tapered_frames(\n",
    "        tr.copy(), starttime+overlap, nf, winlen_samples, \n",
    "        taper_samples)"
   ]
  },
  {
   "cell_type": "markdown",
   "id": "690af6ef-6dac-4a4f-abab-bb9747df8e85",
   "metadata": {},
   "source": [
    "Note that the data matrix is now slightly bigger\n",
    "than for the simple, adjacent framing, namely twice\n",
    "the taper length."
   ]
  },
  {
   "cell_type": "code",
   "execution_count": null,
   "id": "133d4ee0-d63c-4bae-82bc-0d9ea43e3976",
   "metadata": {},
   "outputs": [],
   "source": [
    "print('simple frames', data.shape)\n",
    "print('overlapping frames', data2.shape)"
   ]
  },
  {
   "cell_type": "markdown",
   "id": "6725142d-c580-4362-a241-b295ec79baa0",
   "metadata": {},
   "source": [
    "If we now apply the filter row-wise, the edge \n",
    "effects are suppressed by the taper. The frame\n",
    "that we actually want to use, starts after the \n",
    "fade-in. The same occurs of course at the other end."
   ]
  },
  {
   "cell_type": "code",
   "execution_count": null,
   "id": "a41a1385-459f-40a7-a067-c77b887a00a4",
   "metadata": {},
   "outputs": [],
   "source": [
    "# Filter row-wise\n",
    "filtered2 = bandpass(data2.copy(), fmin, fmax, sr)"
   ]
  },
  {
   "cell_type": "code",
   "execution_count": null,
   "id": "8c65837d-cb60-47c6-b463-eec6a42d49df",
   "metadata": {},
   "outputs": [],
   "source": [
    "scale = 1e8\n",
    "for i, row in enumerate(filtered2):\n",
    "    plt.plot(row*scale + i)\n",
    "plt.vlines(taper, -1, 25, 'k')\n",
    "plt.text(taper, 26, 'actual frame start', \n",
    "         ha='center')\n",
    "plt.ylabel('hours')\n",
    "plt.xlabel('npts');\n",
    "plt.xlim(-100, 10000)\n",
    "plt.ylim(-1, 25);\n"
   ]
  },
  {
   "cell_type": "markdown",
   "id": "99b691bd-ad62-4f10-a8a8-c668fb4aa260",
   "metadata": {},
   "source": [
    "`util.get_overlapping_tapered_frames` also\n",
    "sets all rows containing any Nans to Nan entirely."
   ]
  },
  {
   "cell_type": "code",
   "execution_count": null,
   "id": "ba379cf2-94c4-4c95-86cd-cf7cb500e4a2",
   "metadata": {},
   "outputs": [],
   "source": [
    "scale = 1e7\n",
    "for i, row in enumerate(filtered2):\n",
    "    plt.plot(row*scale + i)\n",
    "plt.vlines([taper, filtered2.shape[1]-taper], \n",
    "           -1, 25, 'k')\n",
    "plt.text(taper, 26, 'actual frame start', \n",
    "         ha='center')\n",
    "plt.ylabel('hours')\n",
    "plt.xlabel('npts');\n",
    "#plt.xlim(-10, 1000)\n",
    "plt.ylim(-1, 25);\n"
   ]
  },
  {
   "cell_type": "markdown",
   "id": "f78baa23-1b18-4191-95cd-cd25bb4f50df",
   "metadata": {},
   "source": [
    "Thus, we can apply `np.percentile` to the targeted\n",
    "section `filtered2[:,taper:-taper]` to get es"
   ]
  },
  {
   "cell_type": "code",
   "execution_count": null,
   "id": "ccd73d52-0c6c-49d0-bd83-38d58ee1a128",
   "metadata": {},
   "outputs": [],
   "source": [
    "perc = 75"
   ]
  },
  {
   "cell_type": "code",
   "execution_count": null,
   "id": "312746d2-5b81-4d3e-b3d3-52d15daeda80",
   "metadata": {},
   "outputs": [],
   "source": [
    "prctl = np.percentile(filtered2[:,taper:-taper],\n",
    "                      perc, axis=1)"
   ]
  },
  {
   "cell_type": "markdown",
   "id": "42230d34-ba87-4657-82cb-73cc3ec782d8",
   "metadata": {},
   "source": [
    "and compare it with the result of\n",
    "`util.get_amplitude` which summarizes the\n",
    "previous steps."
   ]
  },
  {
   "cell_type": "code",
   "execution_count": null,
   "id": "e93f041d-76c2-4836-9673-c5b3450dc891",
   "metadata": {},
   "outputs": [],
   "source": [
    "prctl_direct = util.get_amplitude(\n",
    "        tr, starttime+overlap, \n",
    "            fmin, fmax, overlap, winlen_samples, nf)"
   ]
  },
  {
   "cell_type": "code",
   "execution_count": null,
   "id": "655cec7e-554c-4f21-8b29-bc5660069ea4",
   "metadata": {},
   "outputs": [],
   "source": [
    "plt.plot(prctl, 'o:', ms=10,\n",
    "         label='prctl (step by step)')\n",
    "plt.plot(prctl_direct, 's:', ms=5, \n",
    "         label='prctl_direct (processing.get_amplitudes()')"
   ]
  },
  {
   "cell_type": "markdown",
   "id": "17da5b70-75c6-4ddd-bec5-31a5d1fd6412",
   "metadata": {},
   "source": [
    "Difference:"
   ]
  },
  {
   "cell_type": "code",
   "execution_count": null,
   "id": "e4f7b7a1-6770-444f-91c9-226bf8108d96",
   "metadata": {},
   "outputs": [],
   "source": [
    "prctl-prctl_direct"
   ]
  },
  {
   "cell_type": "markdown",
   "id": "6d93f9d0-5e74-4765-b126-cf76d0c9fce7",
   "metadata": {},
   "source": [
    "## Note on tr.slice / tr.trim\n",
    "\n",
    "However, using time objects at both ends can result\n",
    "in a bad number of samples. This is because the demanded times may not fall exactly at the samples in the trace. In this case obspy has to choose where to set the cut. As a result, the number of samples in a trace can vary by 1 or 2 for the same time length. \n",
    "\n",
    "Since we want to apply `np.reshape` we need the total number of samples in the vector (our data) to be exactly $n_{tot} = n_{frames} \\times n_{win}$ with $n_{win}$ being the number of samples per frame, so length of frame in seconds $l$ times sampling rate $f$: \n",
    "$n_{win} = l \\times f$\n",
    "\n",
    "Therefore, we just use the starttime and then select $n_{tot}$ samples."
   ]
  },
  {
   "cell_type": "code",
   "execution_count": null,
   "id": "e5be53b3-d512-4396-8015-987a1bb5c7bd",
   "metadata": {},
   "outputs": [],
   "source": []
  }
 ],
 "metadata": {
  "language_info": {
   "name": "python",
   "pygments_lexer": "ipython3"
  }
 },
 "nbformat": 4,
 "nbformat_minor": 5
}

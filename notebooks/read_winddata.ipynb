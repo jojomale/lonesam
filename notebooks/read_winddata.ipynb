{
 "cells": [
  {
   "cell_type": "markdown",
   "id": "1877e96c-5a61-47fa-84c1-73a0c55e5bb1",
   "metadata": {},
   "source": [
    "# Filter PSDs for wind speed"
   ]
  },
  {
   "cell_type": "code",
   "execution_count": null,
   "id": "3bee6889-6d2a-45c9-95e0-e0331b3dd3f1",
   "metadata": {},
   "outputs": [],
   "source": [
    "from pathlib import Path\n",
    "import numpy as np\n",
    "\n",
    "from obspy.core import UTCDateTime as UTC\n",
    "\n",
    "from data_quality_control import analysis, dqclogging, timelist \n",
    "\n",
    "# Only for display in documentation!\n",
    "from IPython.core.display import display, HTML "
   ]
  },
  {
   "cell_type": "markdown",
   "id": "76aad292-2eb4-45e3-8be6-1b320c69f8c5",
   "metadata": {},
   "source": [
    "## Input parameters"
   ]
  },
  {
   "cell_type": "code",
   "execution_count": null,
   "id": "b7337ff5-5bf5-411e-ac72-0f141c0b2139",
   "metadata": {},
   "outputs": [],
   "source": [
    "starttime = UTC(\"2020-12-20\")\n",
    "endtime = UTC(\"2021-01-12\")\n",
    "#starttime = UTC(\"2020-01-01\")\n",
    "#endtime = UTC(\"2021-12-31\")"
   ]
  },
  {
   "cell_type": "code",
   "execution_count": null,
   "id": "72228fab-2b41-499b-84d5-8e9a19caee11",
   "metadata": {},
   "outputs": [],
   "source": [
    "# NSLC\n",
    "nslc_code = \"GR.BFO..BHZ\"\n",
    "datadir = Path('../sample_output/show_processing/')\n",
    "\n",
    "winddatafile = Path(\"../testing/winddata_bfo.txt\")"
   ]
  },
  {
   "cell_type": "markdown",
   "id": "58e05f84-1b29-4a0f-8bc2-82b08e051639",
   "metadata": {},
   "source": [
    "## Set logger"
   ]
  },
  {
   "cell_type": "code",
   "execution_count": null,
   "id": "2e0b280f-2860-475f-b516-32f4ae1640b5",
   "metadata": {},
   "outputs": [],
   "source": [
    "logfilename = datadir.joinpath(\"read_winddata.log\")\n",
    "dqclogging.configure_handlers(analysis.logger, \"INFO\", \"DEBUG\", logfilename)"
   ]
  },
  {
   "cell_type": "markdown",
   "id": "7c63b947-303a-46a4-87bc-a70e4a581891",
   "metadata": {},
   "source": [
    "## Get infos on data availability"
   ]
  },
  {
   "cell_type": "code",
   "execution_count": null,
   "id": "90dc4a2e-dca1-46ed-8fae-85961449a326",
   "metadata": {},
   "outputs": [],
   "source": [
    "lyza = analysis.Analyzer(datadir, nslc_code,\n",
    "                            fileunit=\"year\")"
   ]
  },
  {
   "cell_type": "code",
   "execution_count": null,
   "id": "bf67749b-eb40-4190-819e-475b02b08031",
   "metadata": {},
   "outputs": [],
   "source": [
    "print(lyza)"
   ]
  },
  {
   "cell_type": "code",
   "execution_count": null,
   "id": "d2d7a735-5d9e-4e2a-ba93-70c2c4c61900",
   "metadata": {},
   "outputs": [],
   "source": [
    "files = lyza.get_available_datafiles()\n",
    "print(files)"
   ]
  },
  {
   "cell_type": "code",
   "execution_count": null,
   "id": "a2534a61-cc3c-4eb0-81b8-a7e485cb99aa",
   "metadata": {},
   "outputs": [],
   "source": [
    "sdate, edate = lyza.get_available_timerange()\n",
    "print(sdate, edate)"
   ]
  },
  {
   "cell_type": "markdown",
   "id": "b1f4945e-9d48-451c-bb98-9dbbf758b06e",
   "metadata": {},
   "source": [
    "## Get wind data"
   ]
  },
  {
   "cell_type": "markdown",
   "id": "07bf0f27-b6ab-4cef-a1c6-a3b286e749dd",
   "metadata": {},
   "source": [
    "### Read wind data\n",
    "\n",
    "First, we read the raw wind speed data from the text file."
   ]
  },
  {
   "cell_type": "code",
   "execution_count": null,
   "id": "24d82e82-e342-44f4-b529-9887d0309537",
   "metadata": {},
   "outputs": [],
   "source": [
    "#reload(timelist)\n",
    "awind = timelist.read_winddata(winddatafile)"
   ]
  },
  {
   "cell_type": "markdown",
   "id": "f02efdc7-3e51-4ef3-98c8-55a9ceb7c69f",
   "metadata": {},
   "source": [
    "###  Interpolate wind data\n",
    "\n",
    "Wind speed is available about every 6 hours. The power spectral densities are available\n",
    "every 1 hour. We want to filter the PSDs for times when wind speed is in a specific range.\n",
    "To do so, we interpolate the wind speed to the finer grid."
   ]
  },
  {
   "cell_type": "code",
   "execution_count": null,
   "id": "cf095776-789a-4cf6-a239-a5546023485f",
   "metadata": {},
   "outputs": [],
   "source": [
    "timedelta_wind = np.ediff1d(awind[:,0])\n",
    "print(\"Report interval of wind speed is approx. {:.0f} h\".format(np.mean(timedelta_wind) / 3600))"
   ]
  },
  {
   "cell_type": "code",
   "execution_count": null,
   "id": "2c674a35-1a83-4826-8585-47d36f344435",
   "metadata": {},
   "outputs": [],
   "source": [
    "x, f = timelist.read_interp_winddata(winddatafile, starttime, endtime, 3600)"
   ]
  },
  {
   "cell_type": "code",
   "execution_count": null,
   "id": "42080011-1971-4082-894e-43ee150e0260",
   "metadata": {},
   "outputs": [],
   "source": [
    "timedelta_wind = np.ediff1d(x)\n",
    "print(\"New interval of wind speed is {:.1f} h\".format(np.mean(timedelta_wind) / 3600))"
   ]
  },
  {
   "cell_type": "markdown",
   "id": "0da69723-f72a-4ac1-b9e4-009aceaaf654",
   "metadata": {},
   "source": [
    "## Filter wind speed\n",
    "\n",
    "From the regularly sampled wind data, we can extract those times \n",
    "when windspeed is e.g. $3 \\leq c \\leq 6$ m/s."
   ]
  },
  {
   "cell_type": "code",
   "execution_count": null,
   "id": "862b5303-0c9b-425c-aec3-c517d0741173",
   "metadata": {},
   "outputs": [],
   "source": [
    "# Extract times with certain wind speed\n",
    "cmin = 3\n",
    "cmax = 6\n",
    "xsel = x[np.logical_and(f >= cmin, f <= cmax)]\n",
    "tlist = [UTC(xi) for xi in xsel]\n",
    "print(\"For {:d} samples of {} is wind speed between {:g} and {:g} m/s\".format(\n",
    "    len(tlist), len(x), cmin, cmax))"
   ]
  },
  {
   "cell_type": "code",
   "execution_count": null,
   "id": "ec1b9708-d462-4aa3-ad85-71acde438290",
   "metadata": {},
   "outputs": [],
   "source": [
    "DATA = lyza.get_data(tlist)\n",
    "print(lyza.starttime, lyza.endtime)\n",
    "print(lyza.amps.shape)\n",
    "print(\"PSD shape:\", lyza.psds.shape)\n",
    "print(\"len(tlist):\", len(tlist))\n",
    "\n",
    "fig = lyza.plot_spectrogram()#cmap=plt.cm.gist_heat, vmin=-0.7, vmax=2.4)\n",
    "#fig_cont.savefig(datadir.joinpath(\"spectrogram_wind_{:g}-{:g}mps.png\"))"
   ]
  },
  {
   "cell_type": "code",
   "execution_count": null,
   "id": "50575306-55e7-4ed1-8314-11114d8ed4e2",
   "metadata": {},
   "outputs": [],
   "source": [
    "fig_psd = lyza.plot3d_psds()\n",
    "display(HTML(fig_psd.to_html(include_mathjax=\"cdn\")))"
   ]
  },
  {
   "cell_type": "markdown",
   "id": "7a6992cc-df6f-4dab-a543-4a623815dcd8",
   "metadata": {},
   "source": [
    "Note, that the plotting currently uses the time list as axis. Therefore pixels are not equally wide but\n",
    "stretched/squeezed until the next timestamp."
   ]
  },
  {
   "cell_type": "markdown",
   "id": "ef6c043d-df28-42ff-ac6d-7285bb635acd",
   "metadata": {},
   "source": [
    "## Continuous time range\n",
    "\n",
    "For comparison, let's see how the spectrogram looks like when\n",
    "we use the full available time range."
   ]
  },
  {
   "cell_type": "code",
   "execution_count": null,
   "id": "5320d2ee-15b7-4dcc-abaa-13d13f49dba2",
   "metadata": {},
   "outputs": [],
   "source": [
    "DATA = lyza.get_data(starttime, endtime)"
   ]
  },
  {
   "cell_type": "code",
   "execution_count": null,
   "id": "9d32a252-27d7-4673-a968-2cfef9e0a736",
   "metadata": {},
   "outputs": [],
   "source": [
    "print(DATA)"
   ]
  },
  {
   "cell_type": "code",
   "execution_count": null,
   "id": "56c8f6e7-9393-4593-9848-e2c38d646ff5",
   "metadata": {},
   "outputs": [],
   "source": [
    "fig = lyza.plot_spectrogram()"
   ]
  },
  {
   "cell_type": "code",
   "execution_count": null,
   "id": "68d11fa9-b019-41a9-80f0-18f0a82d0ac9",
   "metadata": {},
   "outputs": [],
   "source": [
    "fig_psd = lyza.plot3d_psds()\n",
    "display(HTML(fig_psd.to_html(include_mathjax=\"cdn\")))"
   ]
  }
 ],
 "metadata": {
  "language_info": {
   "name": "python",
   "pygments_lexer": "ipython3"
  }
 },
 "nbformat": 4,
 "nbformat_minor": 5
}

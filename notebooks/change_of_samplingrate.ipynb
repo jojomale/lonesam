{
 "cells": [
  {
   "cell_type": "markdown",
   "id": "9b1ea9cf-f885-4e6a-8c9d-ed55148feea4",
   "metadata": {},
   "source": [
    "# Change of sampling rate\n",
    "\n",
    "The sampling rate of a station may change over the years. \n",
    "If that happens the mseed-file in the\n",
    "SDS contains multiple traces with different sampling rates. \n",
    "These can not be merged without\n",
    "resampling to a common rate. We choose to resample the \n",
    "stream to the highest rate. \n",
    "This happens in the routing `util.process_streams()` which calls \n",
    "`util.merge_different_samplingrates`."
   ]
  },
  {
   "cell_type": "code",
   "execution_count": null,
   "id": "5f4f3d36-9191-4af3-b116-be00828774db",
   "metadata": {},
   "outputs": [],
   "source": [
    "from importlib import reload\n",
    "import os\n",
    "\n",
    "import numpy as np\n",
    "from obspy.core import UTCDateTime as UTC, read, Stream\n",
    "\n",
    "from data_quality_control import sds_db, dqclogging, util"
   ]
  },
  {
   "cell_type": "markdown",
   "id": "e8324982-9a7a-4453-88e8-764ce08a3b7d",
   "metadata": {},
   "source": [
    "Set parameters for a station and time with known change in SR."
   ]
  },
  {
   "cell_type": "code",
   "execution_count": null,
   "id": "02ead2f7-ecfa-4b49-9830-fcf1cd81127a",
   "metadata": {},
   "outputs": [],
   "source": [
    "network = 'GR'\n",
    "station = 'BFO'\n",
    "location = ''\n",
    "channel = 'HHZ'\n",
    "\n",
    "overlap = 60 #3600\n",
    "fmin, fmax = (4, 14)\n",
    "nperseg = 2048\n",
    "winlen_in_s = 3600\n",
    "proclen = 24*3600\n",
    "\n",
    "outdir = 'output/'\n",
    "\n",
    "sds_root = os.path.abspath('/sds')\n",
    "inventory_routing_type = \"eida-routing\"\n",
    "\n",
    "\n",
    "startdate = UTC(\"2011-10-17\")\n",
    "enddate = UTC(\"2011-10-20\")\n",
    "\n",
    "# Set verbosity: \"ERROR\" < \"WARNING\" < \"INFO\" < \"DEBUG\"\n",
    "#sds_db.logger.setLevel(\"INFO\")\n",
    "#sds_db.base.logger.setLevel(\"INFO\")\n",
    "dqclogging.configure_handlers(sds_db.logger, \"DEBUG\", \"DEBUG\", \"dqc_processing_test.log\")"
   ]
  },
  {
   "cell_type": "markdown",
   "id": "b595c9bb-ee5e-467d-bc53-b6090b2a4984",
   "metadata": {},
   "source": [
    "Run implemented processing. Note the line\n",
    "\n",
    "    data_quality_control.util - INFO - Found different sampling rates. Resampling to highest (100 Hz).\n",
    "    \n",
    "in the log messages indicating a change in SR."
   ]
  },
  {
   "cell_type": "code",
   "execution_count": null,
   "id": "5e7fe31f-2186-40bb-8d08-87dc5163c95d",
   "metadata": {},
   "outputs": [],
   "source": [
    "reload(sds_db)\n",
    "reload(util)\n",
    "processor = sds_db.SDSProcessor(\n",
    "                network, station, channel, \n",
    "                inventory_routing_type, \n",
    "                sds_root, outdir=outdir, \n",
    "                overlap=overlap, nperseg=nperseg, \n",
    "                winlen_seconds=winlen_in_s, \n",
    "                proclen_seconds=proclen,\n",
    "                amplitude_frequencies=(fmin, fmax))\n",
    "\n",
    "print(processor)\n",
    "\n",
    "try:\n",
    "        processor.process(startdate, enddate, force_new_file=True)\n",
    "except Exception as e:\n",
    "        processor.logger.error(str(e))"
   ]
  },
  {
   "cell_type": "markdown",
   "id": "e8668bef-094d-4929-868c-38f4038ef732",
   "metadata": {},
   "source": [
    "To verify, we load the data of this day and find that there are\n",
    "1 trace with SR = 80 Hz and 2 with SR = 100 Hz."
   ]
  },
  {
   "cell_type": "code",
   "execution_count": null,
   "id": "e7e2062c-1bfe-4ab5-b758-83f4e5a63099",
   "metadata": {},
   "outputs": [],
   "source": [
    "time = UTC(\"2022-10-19\")\n",
    "st = read(\"/sds/2011/GR/BFO/HHZ.D/GR.BFO..HHZ.D.2011.{:d}\".format(time.julday))\n",
    "print(st)"
   ]
  },
  {
   "cell_type": "markdown",
   "id": "c79ea40a-cccc-488a-a570-0d8110319724",
   "metadata": {},
   "source": [
    "The function in which this problem occurs looks like this:\n",
    "\n",
    "```python\n",
    "    # %load -n util.merge_different_samplingrates\n",
    "    def merge_different_samplingrates(st):\n",
    "        \"\"\"\n",
    "        Merge stream, fill gaps with nans.\n",
    "        If traces have different sampling rates, resample to highest.\n",
    "        \"\"\"\n",
    "        try:\n",
    "            st.merge(fill_value=np.nan)\n",
    "        except Exception:\n",
    "            sr = max([tr.stats.sampling_rate for tr in st])\n",
    "            module_logger.info(\"Found different sampling rates. \" + \n",
    "                        \"Resampling to highest ({:g} Hz).\".format(sr))\n",
    "            st.resample(sr)\n",
    "            st.merge(fill_value=np.nan)\n",
    "```"
   ]
  },
  {
   "cell_type": "markdown",
   "id": "bf0a07cd-3843-4671-a25e-8433f62b45cd",
   "metadata": {},
   "source": [
    "First, let's view the Exception:"
   ]
  },
  {
   "cell_type": "code",
   "execution_count": null,
   "id": "9251539e-ca17-491f-bedd-723aa9f85eda",
   "metadata": {},
   "outputs": [],
   "source": [
    "st = read(\"/sds/2011/GR/BFO/HHZ.D/GR.BFO..HHZ.D.2011.{:d}\".format(time.julday))\n",
    "print(st)\n",
    "\n",
    "st.merge(fill_value=np.nan)"
   ]
  },
  {
   "cell_type": "markdown",
   "id": "42410b59-b194-4e0c-bfac-f1bccf91d4a2",
   "metadata": {},
   "source": [
    "So obspy complains that the ids are the same but traces have different sampling rates.\n",
    "If we resample to a common rate, as done in the `except` part of the routine, \n",
    "we can merge."
   ]
  },
  {
   "cell_type": "code",
   "execution_count": null,
   "id": "abbc7ea1-e2df-4695-9124-8368da69c4f9",
   "metadata": {},
   "outputs": [],
   "source": [
    "sr = max([tr.stats.sampling_rate for tr in st])\n",
    "st.resample(sr)\n",
    "st.merge(fill_value=np.nan)\n",
    "\n",
    "print(st)"
   ]
  },
  {
   "cell_type": "code",
   "execution_count": null,
   "id": "5ed3466d-fe96-4f63-87d1-1b3d4b6899cc",
   "metadata": {},
   "outputs": [],
   "source": []
  }
 ],
 "metadata": {
  "language_info": {
   "name": "python",
   "pygments_lexer": "ipython3"
  }
 },
 "nbformat": 4,
 "nbformat_minor": 5
}

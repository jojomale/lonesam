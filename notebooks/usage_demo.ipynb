{
 "cells": [
  {
   "cell_type": "markdown",
   "id": "aa592ded-292a-40dc-bb24-5c681bd1e5be",
   "metadata": {},
   "source": [
    "# Usage"
   ]
  },
  {
   "cell_type": "code",
   "execution_count": null,
   "id": "86317bc1-2f86-4b1a-b2e0-d4555a3e4895",
   "metadata": {},
   "outputs": [],
   "source": [
    "from importlib import reload  ## only for developping\n",
    "import os\n",
    "from pathlib import Path\n",
    "import numpy as np\n",
    "\n",
    "from obspy.clients.filesystem.sds import Client\n",
    "from obspy.core import UTCDateTime as UTC\n",
    "\n",
    "from data_quality_control import sds_db, dqclogging, util"
   ]
  },
  {
   "cell_type": "code",
   "execution_count": null,
   "id": "5b6998e9-cd0e-4a1b-8cda-fe363842a107",
   "metadata": {},
   "outputs": [],
   "source": [
    "#logger = sds_db.logger\n",
    "dqclogging.configure_handlers(sds_db.logger, \"INFO\", \"DEBUG\", \"usage_demo.log\")"
   ]
  },
  {
   "cell_type": "markdown",
   "id": "1c8f1b02-a1d8-4bf2-85a6-c1142289fea3",
   "metadata": {},
   "source": [
    "## Define parameters"
   ]
  },
  {
   "cell_type": "code",
   "execution_count": null,
   "id": "2d9e7ac4-c578-432a-8d0e-89d220a9cb50",
   "metadata": {},
   "outputs": [],
   "source": [
    "# NSLC\n",
    "nslc_code = \"GR.BFO..BHZ\"\n",
    "\n",
    "# Processing parameters\n",
    "overlap = 60 \n",
    "fmin, fmax = (4, 14)\n",
    "nperseg = 2048\n",
    "winlen_in_s = 3600\n",
    "proclen = 24*3600\n",
    "\n",
    "# Data sources\n",
    "#sds_root = os.path.abspath('../sample_sds/')\n",
    "sds_root = Path('../sample_sds/')\n",
    "inventory_routing_type = \"eida-routing\"\n",
    "\n",
    "# Output configuration\n",
    "outdir = Path('../sample_output/show_processing/')\n",
    "fileunit = \"year\" # period to store in 1 file"
   ]
  },
  {
   "cell_type": "markdown",
   "id": "27ca09f2-17a3-4fb4-80c3-79cd4ed46890",
   "metadata": {},
   "source": [
    "You can use the sds-Client directly to check the content\n",
    "of the database. Note though, that this can take some time\n",
    "if your database is large."
   ]
  },
  {
   "cell_type": "code",
   "execution_count": null,
   "id": "76e6e482-4a0d-4f8d-8101-3f3d6e53c234",
   "metadata": {},
   "outputs": [],
   "source": [
    "sdsclient = Client(sds_root)\n",
    "sdsclient.get_all_nslc()"
   ]
  },
  {
   "cell_type": "markdown",
   "id": "09535af1-d8fc-4e63-9604-c3ae69876652",
   "metadata": {},
   "source": [
    "## Process raw data\n",
    "\n",
    "Since we have an sds-database, we use the `sds_db` module to extract amplitudes and\n",
    "power spectral densities (PSD) from the raw seismic data."
   ]
  },
  {
   "cell_type": "code",
   "execution_count": null,
   "id": "60525c54-0848-445b-93cf-6ac9934cf200",
   "metadata": {},
   "outputs": [],
   "source": [
    "reload(sds_db)  # only for developping\n",
    "processor = sds_db.SDSProcessor(\n",
    "        nslc_code=nslc_code,\n",
    "        sds_root=sds_root,\n",
    "        inventory_routing_type=inventory_routing_type,\n",
    "        outdir=outdir, \n",
    "        fileunit=fileunit,\n",
    "        # Processing parameters\n",
    "        overlap=overlap, nperseg=nperseg, \n",
    "        winlen_seconds=winlen_in_s, \n",
    "        proclen_seconds=proclen,\n",
    "        amplitude_frequencies=(fmin, fmax))\n",
    "\n",
    "print(processor)\n",
    "#processor.logger.setLevel(\"INFO\")"
   ]
  },
  {
   "cell_type": "code",
   "execution_count": null,
   "id": "9ae3b957-6577-42b3-b71f-196d93858c7e",
   "metadata": {},
   "outputs": [],
   "source": [
    "startdate = UTC(\"2020-12-20\")\n",
    "enddate = UTC(\"2021-01-15\")"
   ]
  },
  {
   "cell_type": "code",
   "execution_count": null,
   "id": "14e62977-2260-4d0c-913e-5456f2f00528",
   "metadata": {},
   "outputs": [],
   "source": [
    "%%time\n",
    "#it -n1 -r7\n",
    "processor.process(startdate, enddate, force_new_file=True)"
   ]
  },
  {
   "cell_type": "markdown",
   "id": "5de45af7-7dc7-4fc9-a243-c2c88ab0111c",
   "metadata": {},
   "source": [
    "If we change the `fileunit` to `\"month\"`, we get different filenames, indicating\n",
    "also the month."
   ]
  },
  {
   "cell_type": "code",
   "execution_count": null,
   "id": "0492b6f3-103a-4bb9-8c59-135e47b082a1",
   "metadata": {},
   "outputs": [],
   "source": [
    "reload(sds_db)  # only for developping\n",
    "processor = sds_db.SDSProcessor(\n",
    "        nslc_code,\n",
    "        sds_root=sds_root,\n",
    "        inventory_routing_type=inventory_routing_type,\n",
    "        outdir=outdir, \n",
    "        fileunit=\"month\",\n",
    "        # Processing parameters\n",
    "        overlap=overlap, nperseg=nperseg, \n",
    "        winlen_seconds=winlen_in_s, \n",
    "        proclen_seconds=proclen,\n",
    "        amplitude_frequencies=(fmin, fmax))\n",
    "\n",
    "print(processor)"
   ]
  },
  {
   "cell_type": "code",
   "execution_count": null,
   "id": "bfbedea3-f29e-4b02-8aad-617bd3b48321",
   "metadata": {},
   "outputs": [],
   "source": [
    "startdate = UTC(\"2020-12-20\")\n",
    "enddate = UTC(\"2021-01-15\")"
   ]
  },
  {
   "cell_type": "code",
   "execution_count": null,
   "id": "e31a6fae-6283-4bed-845a-7cee86f8699f",
   "metadata": {},
   "outputs": [],
   "source": [
    "%%time\n",
    "#it -n1 -r7\n",
    "processor.process(startdate, enddate, force_new_file=True)"
   ]
  },
  {
   "cell_type": "markdown",
   "id": "215769f0-a321-422a-9892-818c67c63ba2",
   "metadata": {},
   "source": [
    "`filunit=\"month\"` produces output files with ending `YYYY-MM.hdf5`. Note that \n",
    "these files are only about 1/12 of the size of the yearly files, indicating\n",
    "that they cover only one month rather than 1 year of data."
   ]
  },
  {
   "cell_type": "code",
   "execution_count": null,
   "id": "570ee282-abfd-4397-b409-5cfc254da2e1",
   "metadata": {},
   "outputs": [],
   "source": [
    "%ls -lh ../sample_output/show_processing/"
   ]
  },
  {
   "cell_type": "code",
   "execution_count": null,
   "id": "2e709baf-4719-4a23-856b-16684d127d69",
   "metadata": {},
   "outputs": [],
   "source": [
    "f = Path(\"../sample_output/show_processing/GR.BFO..BHZ_2020-12.hdf5\")"
   ]
  },
  {
   "cell_type": "code",
   "execution_count": null,
   "id": "b9f30831-6420-4fb4-8629-1231964382a4",
   "metadata": {},
   "outputs": [],
   "source": [
    "f.stat().st_size"
   ]
  },
  {
   "cell_type": "markdown",
   "id": "ced56fc9-70e1-479e-bc8e-3ffdf5679189",
   "metadata": {},
   "source": [
    "## Analyze processed data\n",
    "\n",
    "With the `analysis` module, the processed data can be accessed \n",
    "and visualized."
   ]
  },
  {
   "cell_type": "code",
   "execution_count": null,
   "id": "6fcbd886-e9f4-4d24-8778-8501a881caef",
   "metadata": {},
   "outputs": [],
   "source": [
    "from data_quality_control import analysis #, util"
   ]
  },
  {
   "cell_type": "code",
   "execution_count": null,
   "id": "8a1f33e7-1c66-4386-810b-a70c1d3ea367",
   "metadata": {},
   "outputs": [],
   "source": [
    "#logger = sds_db.logger\n",
    "#dqclogging.configure_handlers(analysis.logger, \"INFO\", \"DEBUG\", \"usage_demo.log\")"
   ]
  },
  {
   "cell_type": "code",
   "execution_count": null,
   "id": "5b0e575a-4edd-4bf6-bc1c-6342d7d9fdc6",
   "metadata": {},
   "outputs": [],
   "source": [
    "# Only for display in documentation!\n",
    "from IPython.core.display import display, HTML "
   ]
  },
  {
   "cell_type": "code",
   "execution_count": null,
   "id": "a3db6bea-d90e-4d58-b7ae-df3620f8a6a8",
   "metadata": {},
   "outputs": [],
   "source": [
    "reload(analysis)\n",
    "#reload(util)\n",
    "lyza = analysis.Analyzer(outdir, nslc_code,\n",
    "                            fileunit=\"year\")"
   ]
  },
  {
   "cell_type": "code",
   "execution_count": null,
   "id": "d0d03275-5d98-480a-a001-da479b73598c",
   "metadata": {},
   "outputs": [],
   "source": [
    "print(lyza)"
   ]
  },
  {
   "cell_type": "code",
   "execution_count": null,
   "id": "e569359a-0b2a-4d31-9a5d-2de4dcc3a337",
   "metadata": {},
   "outputs": [],
   "source": [
    "files = lyza.get_available_datafiles()\n",
    "print(files)"
   ]
  },
  {
   "cell_type": "code",
   "execution_count": null,
   "id": "7e8a3d48-b7c3-464e-ad2d-2cf6840b0c33",
   "metadata": {},
   "outputs": [],
   "source": [
    "lyza.get_available_timerange()"
   ]
  },
  {
   "cell_type": "markdown",
   "id": "4000124d-eb7d-47b0-875a-61a288cb4162",
   "metadata": {},
   "source": [
    "## View data for time range"
   ]
  },
  {
   "cell_type": "code",
   "execution_count": null,
   "id": "9f1aaedb-688c-4376-9c66-993636effe65",
   "metadata": {},
   "outputs": [],
   "source": [
    "startdate = UTC(\"2020-12-25\")\n",
    "enddate = UTC(\"2021-01-15\")"
   ]
  },
  {
   "cell_type": "code",
   "execution_count": null,
   "id": "04908f49-968e-483e-a8ad-7519bcf03334",
   "metadata": {},
   "outputs": [],
   "source": [
    "DATA = lyza.get_data(startdate, enddate)"
   ]
  },
  {
   "cell_type": "code",
   "execution_count": null,
   "id": "a5b7a791-1521-44ca-ace0-7f599b3d836f",
   "metadata": {},
   "outputs": [],
   "source": [
    "print(DATA)"
   ]
  },
  {
   "cell_type": "code",
   "execution_count": null,
   "id": "e4284418-0f65-4121-93f5-60adf3c33eaf",
   "metadata": {},
   "outputs": [],
   "source": [
    "print(lyza)"
   ]
  },
  {
   "cell_type": "markdown",
   "id": "648948a7-e7ea-4f90-ac11-8a20743701ca",
   "metadata": {},
   "source": [
    "#### Spectrogram"
   ]
  },
  {
   "cell_type": "code",
   "execution_count": null,
   "id": "2f40683e-7ee6-4db3-a155-105d461c0317",
   "metadata": {},
   "outputs": [],
   "source": [
    "fig = lyza.plot_spectrogram()"
   ]
  },
  {
   "cell_type": "markdown",
   "id": "b21fbad7-ca75-45e4-9479-c872d869b538",
   "metadata": {},
   "source": [
    "#### 3D-Plots"
   ]
  },
  {
   "cell_type": "code",
   "execution_count": null,
   "id": "0905a277-9018-493b-9a84-3225c17b2044",
   "metadata": {},
   "outputs": [],
   "source": [
    "fig_amp, fig_psd = lyza.plot3d()"
   ]
  },
  {
   "cell_type": "code",
   "execution_count": null,
   "id": "3012c19c-bb15-4c20-af3a-7288b7abe3a3",
   "metadata": {},
   "outputs": [],
   "source": [
    "display(HTML(fig_psd.to_html(include_mathjax=\"cdn\")))"
   ]
  },
  {
   "cell_type": "code",
   "execution_count": null,
   "id": "888386dd-b650-47b7-8631-de10b779e95e",
   "metadata": {},
   "outputs": [],
   "source": [
    "display(HTML(fig_amp.to_html(include_mathjax=\"cdn\")))"
   ]
  },
  {
   "cell_type": "markdown",
   "id": "bf8ae994-dadd-42c6-a826-0417e1af3bb6",
   "metadata": {},
   "source": [
    "In a notebook or script you could simply run:\n",
    "\n",
    "```python\n",
    "fig.show()\n",
    "```"
   ]
  },
  {
   "cell_type": "markdown",
   "id": "7dfd8be3-6770-42db-9955-18dfb6adba5c",
   "metadata": {},
   "source": [
    "### View data for selected times\n",
    "\n",
    "For some use cases one might want to get only the power \n",
    "spectral densities for specific times. For example, one could\n",
    "filter a time series of wind speed data for times with a\n",
    "certain speed. \n",
    "\n",
    "The Analyzer extracts psds for specific times only if it\n",
    "receives a list of UTCDateTimes. \n",
    "\n",
    "#### Create random time list\n",
    "\n",
    "For demonstration, we create a list of 100 random times within\n",
    "the time range of the data."
   ]
  },
  {
   "cell_type": "code",
   "execution_count": null,
   "id": "7818e904-b1f2-40aa-9975-376f383a2adc",
   "metadata": {},
   "outputs": [],
   "source": [
    "starttime = UTC(\"2020-12-25\")\n",
    "endtime = UTC(\"2021-01-10\")\n",
    "times = np.arange(str(starttime.date), str(endtime.date),\n",
    "             dtype=\"datetime64[h]\")"
   ]
  },
  {
   "cell_type": "code",
   "execution_count": null,
   "id": "d12f2b62-1b78-4473-ac33-3320321cfb57",
   "metadata": {},
   "outputs": [],
   "source": [
    "tlist = np.sort(np.random.choice(times, 100, replace=False))\n",
    "\n",
    "tlist = [UTC(str(t)) for t in tlist]"
   ]
  },
  {
   "cell_type": "markdown",
   "id": "5c8d4eae-6367-4212-a456-48f2addd6aaf",
   "metadata": {},
   "source": [
    "#### Read data for times in list\n",
    "\n",
    "Since we used 100 datetimes, we get a PSD-Matrix which has\n",
    "100 entries along the time axis. The amplitude matrix remains\n",
    "unaffected."
   ]
  },
  {
   "cell_type": "code",
   "execution_count": null,
   "id": "384bdcac-8549-479b-9ce1-477e2c90390f",
   "metadata": {},
   "outputs": [],
   "source": [
    "DATA = lyza.get_data(tlist)\n",
    "\n",
    "print(lyza.starttime, lyza.endtime)\n",
    "print(lyza.amps.shape)\n",
    "print(\"PSD shape:\", lyza.psds.shape)\n",
    "print(\"len(tlist):\", len(tlist))"
   ]
  },
  {
   "cell_type": "code",
   "execution_count": null,
   "id": "58c1acb7-cbd9-435d-9d86-59203ad0d4b8",
   "metadata": {},
   "outputs": [],
   "source": [
    "fig = lyza.plot_spectrogram()"
   ]
  },
  {
   "cell_type": "markdown",
   "id": "f1d38b52-fcdd-4032-819e-c5a4764a0320",
   "metadata": {},
   "source": [
    "#### 3D-Plots"
   ]
  },
  {
   "cell_type": "code",
   "execution_count": null,
   "id": "e6529285-70eb-4a59-809b-18aad8a52f87",
   "metadata": {},
   "outputs": [],
   "source": [
    "lyza.psds.shape"
   ]
  },
  {
   "cell_type": "code",
   "execution_count": null,
   "id": "e7420ad0-3f4f-4127-bbbc-43a1d2de1337",
   "metadata": {},
   "outputs": [],
   "source": [
    "fig_amp, fig_psd = lyza.plot3d()"
   ]
  },
  {
   "cell_type": "code",
   "execution_count": null,
   "id": "00345284-5126-44ce-9c05-8b39a7d6bf56",
   "metadata": {},
   "outputs": [],
   "source": [
    "display(HTML(fig_psd.to_html(include_mathjax=\"cdn\")))"
   ]
  },
  {
   "cell_type": "code",
   "execution_count": null,
   "id": "9120aae6-2601-4add-971e-49370917e1d8",
   "metadata": {},
   "outputs": [],
   "source": [
    "display(HTML(fig_amp.to_html(include_mathjax=\"cdn\")))"
   ]
  },
  {
   "cell_type": "code",
   "execution_count": null,
   "id": "f8dca0b2-8f37-48ce-836d-6e886516b178",
   "metadata": {},
   "outputs": [],
   "source": []
  },
  {
   "cell_type": "code",
   "execution_count": null,
   "id": "18eb895b-8db8-45a9-8e96-b4a0ca34845c",
   "metadata": {},
   "outputs": [],
   "source": []
  }
 ],
 "metadata": {
  "language_info": {
   "name": "python",
   "pygments_lexer": "ipython3"
  }
 },
 "nbformat": 4,
 "nbformat_minor": 5
}

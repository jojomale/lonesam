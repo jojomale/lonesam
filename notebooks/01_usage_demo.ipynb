{
 "cells": [
  {
   "cell_type": "markdown",
   "id": "aa592ded-292a-40dc-bb24-5c681bd1e5be",
   "metadata": {},
   "source": [
    "# Usage"
   ]
  },
  {
   "cell_type": "code",
   "execution_count": null,
   "id": "e341576c-341c-46f5-b410-3e490fccc3d9",
   "metadata": {},
   "outputs": [],
   "source": [
    "from importlib import reload  ## only for developping\n",
    "from pathlib import Path\n",
    "import numpy as np\n",
    "\n",
    "import matplotlib.pyplot as plt\n",
    "plt.style.use('tableau-colorblind10')\n",
    "\n",
    "from obspy.clients.filesystem.sds import Client\n",
    "from obspy.core import UTCDateTime as UTC\n",
    "\n",
    "from data_quality_control import sds_db, dqclogging, util, analysis, base"
   ]
  },
  {
   "cell_type": "markdown",
   "id": "2d93103a-0f6d-4aa8-8456-393cf0ac563d",
   "metadata": {},
   "source": [
    "# Logger\n",
    "\n",
    "In a script or notebook, the logger can be set once at the\n",
    "beginning. The routine `dqclogging.configure_handlers` allows\n",
    "to set to different handler, one writing message to the console and\n",
    "optionally one that writes to a file.\n",
    "It is possible to set different levels for the two."
   ]
  },
  {
   "cell_type": "code",
   "execution_count": null,
   "id": "94003e66-a947-4519-be14-16c51b0c0aff",
   "metadata": {},
   "outputs": [],
   "source": [
    "reload(dqclogging)\n",
    "loglevel_console = \"INFO\"\n",
    "loglevel_file = None # No log file\n",
    "\n",
    "dqclogging.configure_handlers(loglevel_console, loglevel_file)"
   ]
  },
  {
   "cell_type": "markdown",
   "id": "1c8f1b02-a1d8-4bf2-85a6-c1142289fea3",
   "metadata": {},
   "source": [
    "## Define parameters"
   ]
  },
  {
   "cell_type": "code",
   "execution_count": null,
   "id": "2d9e7ac4-c578-432a-8d0e-89d220a9cb50",
   "metadata": {},
   "outputs": [],
   "source": [
    "# NSLC\n",
    "nslc_code = \"GR.BFO..BHZ\"\n",
    "\n",
    "# Processing parameters\n",
    "overlap = 60 \n",
    "fmin, fmax = (4, 14)\n",
    "nperseg = 2048\n",
    "winlen_in_s = 3600\n",
    "#proclen = 24*3600\n",
    "sampling_rate = 20\n",
    "\n",
    "# Data sources\n",
    "sds_root = Path('../sample_sds/').absolute()\n",
    "inventory_routing_type = \"eida-routing\"\n",
    "\n",
    "# Output configuration\n",
    "outdir = Path('output/usage_demo')\n",
    "fileunit = \"year\" # period to store in 1 file"
   ]
  },
  {
   "cell_type": "markdown",
   "id": "294498a8-25e4-4f6c-a936-79da47e2adaf",
   "metadata": {},
   "source": [
    "Create output directory:"
   ]
  },
  {
   "cell_type": "code",
   "execution_count": null,
   "id": "3d09fb5b-1222-401f-9dd9-27f42f2f6a9b",
   "metadata": {},
   "outputs": [],
   "source": [
    "outdir.mkdir(parents=True, exist_ok=True)"
   ]
  },
  {
   "cell_type": "markdown",
   "id": "27ca09f2-17a3-4fb4-80c3-79cd4ed46890",
   "metadata": {},
   "source": [
    "You can use the sds-Client directly to check the content\n",
    "of the database. Note though, that this can take some time\n",
    "if your database is large."
   ]
  },
  {
   "cell_type": "code",
   "execution_count": null,
   "id": "76e6e482-4a0d-4f8d-8101-3f3d6e53c234",
   "metadata": {},
   "outputs": [],
   "source": [
    "sdsclient = Client(str(sds_root))\n",
    "sdsclient.get_all_nslc()"
   ]
  },
  {
   "cell_type": "markdown",
   "id": "09535af1-d8fc-4e63-9604-c3ae69876652",
   "metadata": {},
   "source": [
    "## Process raw data\n",
    "\n",
    "Since we have an sds-database, we use the `sds_db` module to extract amplitudes and\n",
    "power spectral densities (PSD) from the raw seismic data."
   ]
  },
  {
   "cell_type": "code",
   "execution_count": null,
   "id": "60525c54-0848-445b-93cf-6ac9934cf200",
   "metadata": {},
   "outputs": [],
   "source": [
    "reload(sds_db)  # only for developping\n",
    "processor = sds_db.SDSProcessor(\n",
    "        nslc_code,\n",
    "        inventory_routing_type,\n",
    "        sds_root,\n",
    "        outdir=outdir, \n",
    "        fileunit=fileunit,\n",
    "        # Processing parameters\n",
    "        overlap=overlap, nperseg=nperseg, \n",
    "        winlen_seconds=winlen_in_s, \n",
    "        #proclen_seconds=proclen,\n",
    "        amplitude_frequencies=(fmin, fmax),\n",
    "        sampling_rate=sampling_rate)\n",
    "\n",
    "print(processor)\n",
    "#processor.logger.setLevel(\"INFO\")"
   ]
  },
  {
   "cell_type": "code",
   "execution_count": null,
   "id": "9ae3b957-6577-42b3-b71f-196d93858c7e",
   "metadata": {},
   "outputs": [],
   "source": [
    "startdate = UTC(\"2020-12-20\")\n",
    "enddate = UTC(\"2021-01-15\")"
   ]
  },
  {
   "cell_type": "code",
   "execution_count": null,
   "id": "14e62977-2260-4d0c-913e-5456f2f00528",
   "metadata": {},
   "outputs": [],
   "source": [
    "%%time\n",
    "#it -n1 -r7\n",
    "processor.process(startdate, enddate, force_new_file=True)"
   ]
  },
  {
   "cell_type": "markdown",
   "id": "5de45af7-7dc7-4fc9-a243-c2c88ab0111c",
   "metadata": {},
   "source": [
    "If we change the `fileunit` to `\"month\"`, we get different filenames, indicating\n",
    "also the month."
   ]
  },
  {
   "cell_type": "code",
   "execution_count": null,
   "id": "0492b6f3-103a-4bb9-8c59-135e47b082a1",
   "metadata": {},
   "outputs": [],
   "source": [
    "reload(sds_db)  # only for developping\n",
    "processor = sds_db.SDSProcessor(\n",
    "        nslc_code,\n",
    "        inventory_routing_type,\n",
    "        sds_root,\n",
    "        outdir=outdir, \n",
    "        fileunit=\"month\",\n",
    "        # Processing parameters\n",
    "        overlap=overlap, nperseg=nperseg, \n",
    "        winlen_seconds=winlen_in_s, \n",
    "        #proclen_seconds=proclen,\n",
    "        amplitude_frequencies=(fmin, fmax))\n",
    "\n",
    "print(processor)"
   ]
  },
  {
   "cell_type": "code",
   "execution_count": null,
   "id": "bfbedea3-f29e-4b02-8aad-617bd3b48321",
   "metadata": {},
   "outputs": [],
   "source": [
    "startdate = UTC(\"2020-12-20\")\n",
    "enddate = UTC(\"2021-01-15\")"
   ]
  },
  {
   "cell_type": "code",
   "execution_count": null,
   "id": "e31a6fae-6283-4bed-845a-7cee86f8699f",
   "metadata": {},
   "outputs": [],
   "source": [
    "%%time\n",
    "#it -n1 -r7\n",
    "processor.process(startdate, enddate, force_new_file=True)"
   ]
  },
  {
   "cell_type": "markdown",
   "id": "215769f0-a321-422a-9892-818c67c63ba2",
   "metadata": {},
   "source": [
    "`filunit=\"month\"` produces output files with ending `YYYY-MM.hdf5`. Note that \n",
    "these files are only about 1/12 of the size of the yearly files, indicating\n",
    "that they cover only one month rather than 1 year of data."
   ]
  },
  {
   "cell_type": "code",
   "execution_count": null,
   "id": "570ee282-abfd-4397-b409-5cfc254da2e1",
   "metadata": {},
   "outputs": [],
   "source": [
    "%ls -lh ../sample_output/show_processing/"
   ]
  },
  {
   "cell_type": "code",
   "execution_count": null,
   "id": "9ba1970e-b4e7-40d1-9780-c2360a78da44",
   "metadata": {},
   "outputs": [],
   "source": [
    "f = Path(\"../sample_output/show_processing/GR.BFO..BHZ_2020-12.hdf5\")\n",
    "print(f.stat().st_size)"
   ]
  },
  {
   "cell_type": "code",
   "execution_count": null,
   "id": "a21696a7-44de-49d3-8141-4c815a4f769b",
   "metadata": {},
   "outputs": [],
   "source": [
    "f = Path(\"../sample_output/show_processing/GR.BFO..BHZ_2020.hdf5\")\n",
    "print(f.stat().st_size)"
   ]
  },
  {
   "cell_type": "markdown",
   "id": "ced56fc9-70e1-479e-bc8e-3ffdf5679189",
   "metadata": {},
   "source": [
    "## Analyze processed data\n",
    "\n",
    "With the `analysis` module, the processed data can be accessed \n",
    "and visualized."
   ]
  },
  {
   "cell_type": "code",
   "execution_count": null,
   "id": "6fcbd886-e9f4-4d24-8778-8501a881caef",
   "metadata": {},
   "outputs": [],
   "source": [
    "from data_quality_control import analysis #, util"
   ]
  },
  {
   "cell_type": "code",
   "execution_count": null,
   "id": "5b0e575a-4edd-4bf6-bc1c-6342d7d9fdc6",
   "metadata": {},
   "outputs": [],
   "source": [
    "# Only for display in documentation!\n",
    "from IPython.core.display import display, HTML "
   ]
  },
  {
   "cell_type": "markdown",
   "id": "530503f7-ca86-4599-9ad0-e9c4b0318df1",
   "metadata": {},
   "source": [
    "First, we initialize an Analyzer by setting the path to the \n",
    "HDF5-data (`outdir`), a station code and the `fileunit`, i.e.\n",
    "which name format the HDF5-files have, that we want to analyze.\n",
    "\n",
    "The initial object does not have any data yet."
   ]
  },
  {
   "cell_type": "code",
   "execution_count": null,
   "id": "a3db6bea-d90e-4d58-b7ae-df3620f8a6a8",
   "metadata": {},
   "outputs": [],
   "source": [
    "reload(analysis)\n",
    "#reload(util)\n",
    "lyza = analysis.Analyzer(outdir, nslc_code,\n",
    "                            fileunit=\"year\")"
   ]
  },
  {
   "cell_type": "code",
   "execution_count": null,
   "id": "d0d03275-5d98-480a-a001-da479b73598c",
   "metadata": {},
   "outputs": [],
   "source": [
    "print(lyza)"
   ]
  },
  {
   "cell_type": "markdown",
   "id": "790ddd43-9373-48b1-a738-46c53188bfab",
   "metadata": {},
   "source": [
    "We can inquire which files and time ranges are available for\n",
    "the given code, location and fileunit."
   ]
  },
  {
   "cell_type": "code",
   "execution_count": null,
   "id": "e569359a-0b2a-4d31-9a5d-2de4dcc3a337",
   "metadata": {},
   "outputs": [],
   "source": [
    "files = lyza.get_available_datafiles()\n",
    "print(files)"
   ]
  },
  {
   "cell_type": "code",
   "execution_count": null,
   "id": "7e8a3d48-b7c3-464e-ad2d-2cf6840b0c33",
   "metadata": {},
   "outputs": [],
   "source": [
    "print(lyza.get_available_timerange())"
   ]
  },
  {
   "cell_type": "markdown",
   "id": "4000124d-eb7d-47b0-875a-61a288cb4162",
   "metadata": {},
   "source": [
    "## View data for time range\n",
    "\n",
    "In order to view the data, the amplitudes and spectra are treated differently.\n",
    "Amplitudes are loaded as they are in the HDF5-file. Thus, we obtain an array of\n",
    "shape `N_proclen x N_winlen`. The sample data covers 16 days and we used \n",
    "`proclen_seconds = 86400`, i.e. 1 day, so the first dimension is 16. \n",
    "The `winlen_seconds = 3600`, thus 24 windows per day which gives the second dimension\n",
    "of the amplitude array.\n",
    "\n",
    "For the spectra, there are two options:\n",
    "1. load all spectra within a specific time range\n",
    "2. load spectra for selected times given as list\n",
    "\n",
    "The spectra are stored in the HDF5-files as 3D arrays. The\n",
    "first two dimensions correspond to those of the amplitude\n",
    "array; the third dimension is the frequency axis.\n",
    "In contrast, the Analyzer flattens the first to dimensions,\n",
    "i.e. the resulting array is basically a spectrogram, thus\n",
    "a sequence of spectra over time.\n",
    "\n",
    "This allows to select spectra only for specific times.\n",
    "For example, one may want to select only those hours\n",
    "where the wind speed is in a specific range."
   ]
  },
  {
   "cell_type": "code",
   "execution_count": null,
   "id": "9f1aaedb-688c-4376-9c66-993636effe65",
   "metadata": {},
   "outputs": [],
   "source": [
    "startdate = UTC(\"2020-12-25\")\n",
    "enddate = UTC(\"2021-01-15\")"
   ]
  },
  {
   "cell_type": "code",
   "execution_count": null,
   "id": "04908f49-968e-483e-a8ad-7519bcf03334",
   "metadata": {},
   "outputs": [],
   "source": [
    "lyza.get_data(startdate, enddate)"
   ]
  },
  {
   "cell_type": "code",
   "execution_count": null,
   "id": "e4284418-0f65-4121-93f5-60adf3c33eaf",
   "metadata": {},
   "outputs": [],
   "source": [
    "print(lyza)\n",
    "print(\"lyza is of type\", type(lyza))"
   ]
  },
  {
   "cell_type": "markdown",
   "id": "648948a7-e7ea-4f90-ac11-8a20743701ca",
   "metadata": {},
   "source": [
    "#### Spectrogram"
   ]
  },
  {
   "cell_type": "code",
   "execution_count": null,
   "id": "2f40683e-7ee6-4db3-a155-105d461c0317",
   "metadata": {},
   "outputs": [],
   "source": [
    "fig = lyza.plot_spectrogram()"
   ]
  },
  {
   "cell_type": "markdown",
   "id": "f1ea1f77-a2cc-4c81-9eb6-ff69313934e5",
   "metadata": {},
   "source": [
    "#### Amplitudes\n",
    "\n",
    "Amplitude values are visualized in a matrix covering\n",
    "date vs time of day (at least if you use appropriate \n",
    "processing and window length)."
   ]
  },
  {
   "cell_type": "code",
   "execution_count": null,
   "id": "5707bd6a-0aa4-4aa0-967a-f7a6b836a9e7",
   "metadata": {},
   "outputs": [],
   "source": [
    "lyza.plot_amplitudes();"
   ]
  },
  {
   "cell_type": "markdown",
   "id": "b21fbad7-ca75-45e4-9479-c872d869b538",
   "metadata": {},
   "source": [
    "#### 3D-Plots\n",
    "\n",
    "Interactive 3D plots are created using plotly. The figures are \n",
    "HTML-code, heavily loaded with Javascript, which can be stored and\n",
    "viewed in a browser.\n",
    "\n",
    "**Careful!!!** For large data sets, the files can become extremly large\n",
    "and your browser might not be able to handle it. So use with care."
   ]
  },
  {
   "cell_type": "code",
   "execution_count": null,
   "id": "0905a277-9018-493b-9a84-3225c17b2044",
   "metadata": {},
   "outputs": [],
   "source": [
    "fig_amp, fig_psd = lyza.plot3d()"
   ]
  },
  {
   "cell_type": "code",
   "execution_count": null,
   "id": "3012c19c-bb15-4c20-af3a-7288b7abe3a3",
   "metadata": {},
   "outputs": [],
   "source": [
    "display(HTML(fig_psd.to_html(include_mathjax=\"cdn\")))"
   ]
  },
  {
   "cell_type": "code",
   "execution_count": null,
   "id": "888386dd-b650-47b7-8631-de10b779e95e",
   "metadata": {},
   "outputs": [],
   "source": [
    "display(HTML(fig_amp.to_html(include_mathjax=\"cdn\")))"
   ]
  },
  {
   "cell_type": "markdown",
   "id": "bf8ae994-dadd-42c6-a826-0417e1af3bb6",
   "metadata": {},
   "source": [
    "In a notebook or script you could simply run:\n",
    "\n",
    "```python\n",
    "fig.show()\n",
    "```"
   ]
  },
  {
   "cell_type": "markdown",
   "id": "7dfd8be3-6770-42db-9955-18dfb6adba5c",
   "metadata": {},
   "source": [
    "### View data for selected times\n",
    "\n",
    "For some use cases one might want to get only the power \n",
    "spectral densities for specific times. For example, one could\n",
    "filter a time series of wind speed data for times with a\n",
    "certain speed. \n",
    "\n",
    "The Analyzer extracts psds for specific times only if it\n",
    "receives a list of UTCDateTimes. \n",
    "\n",
    "**Note that for time lists the time axis in the spectral plots is only approximate!**\n",
    "\n",
    "#### Create random time list\n",
    "\n",
    "For demonstration, we create a list of 100 random times within\n",
    "the time range of the data."
   ]
  },
  {
   "cell_type": "code",
   "execution_count": null,
   "id": "7818e904-b1f2-40aa-9975-376f383a2adc",
   "metadata": {},
   "outputs": [],
   "source": [
    "starttime = UTC(\"2020-12-25\")\n",
    "endtime = UTC(\"2021-01-10\")\n",
    "times = np.arange(str(starttime.date), str(endtime.date),\n",
    "             dtype=\"datetime64[h]\")"
   ]
  },
  {
   "cell_type": "code",
   "execution_count": null,
   "id": "d12f2b62-1b78-4473-ac33-3320321cfb57",
   "metadata": {},
   "outputs": [],
   "source": [
    "tlist = np.sort(np.random.choice(times, 100, replace=False))\n",
    "\n",
    "tlist = [UTC(str(t)) for t in tlist]"
   ]
  },
  {
   "cell_type": "markdown",
   "id": "5c8d4eae-6367-4212-a456-48f2addd6aaf",
   "metadata": {},
   "source": [
    "#### Read data for times in list\n",
    "\n",
    "Since we used 100 datetimes, we get a PSD-Matrix which has\n",
    "100 entries along the time axis. The amplitude matrix remains\n",
    "unaffected."
   ]
  },
  {
   "cell_type": "code",
   "execution_count": null,
   "id": "384bdcac-8549-479b-9ce1-477e2c90390f",
   "metadata": {},
   "outputs": [],
   "source": [
    "lyza.get_data(tlist)\n",
    "\n",
    "print(lyza.startdate, lyza.enddate)\n",
    "print(lyza.amplitudes.shape)\n",
    "print(\"PSD shape:\", lyza.psds.shape)\n",
    "print(\"len(tlist):\", len(tlist))"
   ]
  },
  {
   "cell_type": "code",
   "execution_count": null,
   "id": "58c1acb7-cbd9-435d-9d86-59203ad0d4b8",
   "metadata": {},
   "outputs": [],
   "source": [
    "fig = lyza.plot_spectrogram()"
   ]
  },
  {
   "cell_type": "markdown",
   "id": "f1d38b52-fcdd-4032-819e-c5a4764a0320",
   "metadata": {},
   "source": [
    "#### 3D-Plots"
   ]
  },
  {
   "cell_type": "code",
   "execution_count": null,
   "id": "e7420ad0-3f4f-4127-bbbc-43a1d2de1337",
   "metadata": {},
   "outputs": [],
   "source": [
    "fig_amp, fig_psd = lyza.plot3d()"
   ]
  },
  {
   "cell_type": "code",
   "execution_count": null,
   "id": "00345284-5126-44ce-9c05-8b39a7d6bf56",
   "metadata": {},
   "outputs": [],
   "source": [
    "display(HTML(fig_psd.to_html(include_mathjax=\"cdn\")))"
   ]
  },
  {
   "cell_type": "code",
   "execution_count": null,
   "id": "9120aae6-2601-4add-971e-49370917e1d8",
   "metadata": {},
   "outputs": [],
   "source": [
    "display(HTML(fig_amp.to_html(include_mathjax=\"cdn\")))"
   ]
  },
  {
   "cell_type": "markdown",
   "id": "d805eb10-6ef8-4922-9da7-3ad860d1fe6b",
   "metadata": {},
   "source": [
    "# Smooting & Data reduction\n",
    "\n",
    "In some cases it might be desirable or even recommended to smooth \n",
    "and/or reduce the amount of data. For example, you computed PSDs and \n",
    "amplitude levels over 1h from the seismic data. If you tried to \n",
    "plot several years or even decades of data however, this would be still \n",
    "an enormeous amount of data which has to be plotted. (From experience, \n",
    "in a Jupyter notebook, even the matplotlib-figure (2D-plots) will freeze\n",
    "the browser; the 3D-figures can reach Gigabytes in size, so you probably\n",
    "won't be able to open that either.)\n",
    "\n",
    "Thus, at such a time range it is neither advisable not necessary to have\n",
    "such a time resolution. In that case, you can further reduce the \n",
    "already computed data using the `SmoothOperator`. It is build on top\n",
    "of the `Analyzer` which we used before, but applies a median filter\n",
    "operation on the data arrays. The filter operator is defined by 2 \n",
    "parameters. The `kernel_size` determines over how many samples the median\n",
    "is computed. The `kernel_shift` determines by how many samples the \n",
    "filter operator is shifted to compute the next median. Thus if \n",
    "`kernel_shift=1` the data is just smoothed at the same resolution; if\n",
    "`kernel_shift>1` the data is downsampled. \n",
    "\n",
    "The result of this operation is a similar output file as from the original\n",
    "processing and is stored in the same way. You need to make sure to\n",
    "give a different directory, otherwise you existing data may be overwritten.\n"
   ]
  },
  {
   "cell_type": "markdown",
   "id": "e2ecc4d3-210a-48e4-936e-f3835ce9e5fe",
   "metadata": {},
   "source": [
    "We create a new output directory for the smoothed data."
   ]
  },
  {
   "cell_type": "code",
   "execution_count": null,
   "id": "1a817657-6908-4c0d-82da-911273426a61",
   "metadata": {},
   "outputs": [],
   "source": [
    "smoothdir = outdir.joinpath(\"smoothed\")\n",
    "smoothdir.mkdir(exist_ok=True)"
   ]
  },
  {
   "cell_type": "markdown",
   "id": "6f3bd0e2-7af7-40b4-b9db-4106da2816d0",
   "metadata": {},
   "source": [
    "Now we initiate the operator. Note that the `outdir` from\n",
    "before becomes the data directory here. We set a \n",
    "kernel size of 6 samples, thus effectively 6h because the original \n",
    "data was processed over 3600s = 1h. The kernel is shift by 3 samples, thus\n",
    "in the end, we get a value per every 3 hours."
   ]
  },
  {
   "cell_type": "code",
   "execution_count": null,
   "id": "cbae653a-d2b8-40c7-8c30-5256c15cc90e",
   "metadata": {},
   "outputs": [],
   "source": [
    "reload(base)\n",
    "reload(analysis)\n",
    "polly = analysis.SmoothOperator(outdir, nslc_code, \n",
    "                                kernel_size=6, kernel_shift=3)"
   ]
  },
  {
   "cell_type": "markdown",
   "id": "b5beb122-c2bd-45b5-b4c9-87914e960769",
   "metadata": {},
   "source": [
    "Now we start the actual filtering."
   ]
  },
  {
   "cell_type": "code",
   "execution_count": null,
   "id": "021f6f07-0f62-47aa-a622-13f96d1dc32e",
   "metadata": {},
   "outputs": [],
   "source": [
    "%%time \n",
    "polly.smooth(smoothdir, force_new_file=True)"
   ]
  },
  {
   "cell_type": "markdown",
   "id": "e2ee2a2d-5796-4350-b073-5025d21afa09",
   "metadata": {},
   "source": [
    "## View smoothed data"
   ]
  },
  {
   "cell_type": "code",
   "execution_count": null,
   "id": "73cd1d3b-c58a-45da-981f-12374f357f72",
   "metadata": {},
   "outputs": [],
   "source": [
    "%%time\n",
    "lyza = analysis.Analyzer(smoothdir, nslc_code, fileunit=\"year\")\n",
    "\n",
    "lyza.get_data(*lyza.get_available_timerange())"
   ]
  },
  {
   "cell_type": "code",
   "execution_count": null,
   "id": "dfa341e7-3b21-4106-94d2-07bbca853c25",
   "metadata": {},
   "outputs": [],
   "source": [
    "print(lyza)"
   ]
  },
  {
   "cell_type": "markdown",
   "id": "c5ef151d-60b5-4aa2-b6de-a38f96fa9b31",
   "metadata": {},
   "source": [
    "The spectrogram from the new data looks coarser then\n",
    "the first one."
   ]
  },
  {
   "cell_type": "code",
   "execution_count": null,
   "id": "f3a420a1-decb-4b6f-a8d4-0e38e16ba923",
   "metadata": {},
   "outputs": [],
   "source": [
    "lyza.plot_spectrogram();"
   ]
  },
  {
   "cell_type": "code",
   "execution_count": null,
   "id": "750e37ca-207e-48dc-b95c-6673e25d47f7",
   "metadata": {},
   "outputs": [],
   "source": [
    "lyza.plot_amplitudes();"
   ]
  },
  {
   "cell_type": "code",
   "execution_count": null,
   "id": "9113414f-c101-45fd-bf80-d72ebbf273a6",
   "metadata": {},
   "outputs": [],
   "source": []
  }
 ],
 "metadata": {
  "language_info": {
   "name": "python",
   "pygments_lexer": "ipython3"
  }
 },
 "nbformat": 4,
 "nbformat_minor": 5
}
